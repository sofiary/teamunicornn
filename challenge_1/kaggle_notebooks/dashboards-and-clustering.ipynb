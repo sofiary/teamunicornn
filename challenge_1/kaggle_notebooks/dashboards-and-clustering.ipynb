{
 "cells": [
  {
   "cell_type": "code",
   "execution_count": 1,
   "metadata": {
    "_cell_guid": "874e2e5f-5f2e-454d-a963-81786ddce7b8",
    "_uuid": "98f592caba57c3244b7e8a5c55ed1cb060605424",
    "collapsed": true
   },
   "outputs": [],
   "source": [
    "#Import libraries\n",
    "import pandas as pd\n",
    "import numpy as np\n",
    "import glob, os   "
   ]
  },
  {
   "cell_type": "markdown",
   "metadata": {
    "_cell_guid": "6252f16e-1aec-4030-922f-afbf0b5cdbcb",
    "_uuid": "e4b584d8708a32a01457c7c9743f339fc752b1c7"
   },
   "source": [
    "### Block data"
   ]
  },
  {
   "cell_type": "code",
   "execution_count": 2,
   "metadata": {
    "_cell_guid": "3f11bec9-7acf-4c09-a19b-6e3e1c6e7ac8",
    "_uuid": "2aebe3e94a7cc29501818537aaf652e32cb8e6d3",
    "collapsed": true
   },
   "outputs": [
    {
     "data": {
      "text/html": [
       "<div>\n",
       "<style scoped>\n",
       "    .dataframe tbody tr th:only-of-type {\n",
       "        vertical-align: middle;\n",
       "    }\n",
       "\n",
       "    .dataframe tbody tr th {\n",
       "        vertical-align: top;\n",
       "    }\n",
       "\n",
       "    .dataframe thead th {\n",
       "        text-align: right;\n",
       "    }\n",
       "</style>\n",
       "<table border=\"1\" class=\"dataframe\">\n",
       "  <thead>\n",
       "    <tr style=\"text-align: right;\">\n",
       "      <th></th>\n",
       "      <th>LCLid</th>\n",
       "      <th>day</th>\n",
       "      <th>hh_0</th>\n",
       "      <th>hh_1</th>\n",
       "      <th>hh_2</th>\n",
       "      <th>hh_3</th>\n",
       "      <th>hh_4</th>\n",
       "      <th>hh_5</th>\n",
       "      <th>hh_6</th>\n",
       "      <th>hh_7</th>\n",
       "      <th>...</th>\n",
       "      <th>hh_38</th>\n",
       "      <th>hh_39</th>\n",
       "      <th>hh_40</th>\n",
       "      <th>hh_41</th>\n",
       "      <th>hh_42</th>\n",
       "      <th>hh_43</th>\n",
       "      <th>hh_44</th>\n",
       "      <th>hh_45</th>\n",
       "      <th>hh_46</th>\n",
       "      <th>hh_47</th>\n",
       "    </tr>\n",
       "  </thead>\n",
       "  <tbody>\n",
       "    <tr>\n",
       "      <th>0</th>\n",
       "      <td>MAC000041</td>\n",
       "      <td>2011-12-09</td>\n",
       "      <td>0.070</td>\n",
       "      <td>0.062</td>\n",
       "      <td>0.063</td>\n",
       "      <td>0.062</td>\n",
       "      <td>0.062</td>\n",
       "      <td>0.062</td>\n",
       "      <td>0.062</td>\n",
       "      <td>0.061</td>\n",
       "      <td>...</td>\n",
       "      <td>0.313</td>\n",
       "      <td>0.424</td>\n",
       "      <td>0.361</td>\n",
       "      <td>0.324</td>\n",
       "      <td>0.389</td>\n",
       "      <td>0.331</td>\n",
       "      <td>0.309</td>\n",
       "      <td>0.292</td>\n",
       "      <td>0.297</td>\n",
       "      <td>0.283</td>\n",
       "    </tr>\n",
       "    <tr>\n",
       "      <th>1</th>\n",
       "      <td>MAC000041</td>\n",
       "      <td>2011-12-10</td>\n",
       "      <td>0.178</td>\n",
       "      <td>0.082</td>\n",
       "      <td>0.063</td>\n",
       "      <td>0.063</td>\n",
       "      <td>0.062</td>\n",
       "      <td>0.063</td>\n",
       "      <td>0.062</td>\n",
       "      <td>0.062</td>\n",
       "      <td>...</td>\n",
       "      <td>0.440</td>\n",
       "      <td>0.317</td>\n",
       "      <td>0.383</td>\n",
       "      <td>0.347</td>\n",
       "      <td>0.403</td>\n",
       "      <td>0.216</td>\n",
       "      <td>0.212</td>\n",
       "      <td>0.223</td>\n",
       "      <td>0.186</td>\n",
       "      <td>0.189</td>\n",
       "    </tr>\n",
       "    <tr>\n",
       "      <th>2</th>\n",
       "      <td>MAC000041</td>\n",
       "      <td>2011-12-11</td>\n",
       "      <td>0.169</td>\n",
       "      <td>0.093</td>\n",
       "      <td>0.065</td>\n",
       "      <td>0.065</td>\n",
       "      <td>0.064</td>\n",
       "      <td>0.068</td>\n",
       "      <td>0.064</td>\n",
       "      <td>0.064</td>\n",
       "      <td>...</td>\n",
       "      <td>0.381</td>\n",
       "      <td>0.291</td>\n",
       "      <td>0.330</td>\n",
       "      <td>0.330</td>\n",
       "      <td>0.256</td>\n",
       "      <td>0.254</td>\n",
       "      <td>0.361</td>\n",
       "      <td>0.321</td>\n",
       "      <td>0.320</td>\n",
       "      <td>0.127</td>\n",
       "    </tr>\n",
       "    <tr>\n",
       "      <th>3</th>\n",
       "      <td>MAC000041</td>\n",
       "      <td>2011-12-12</td>\n",
       "      <td>0.063</td>\n",
       "      <td>0.062</td>\n",
       "      <td>0.063</td>\n",
       "      <td>0.063</td>\n",
       "      <td>0.063</td>\n",
       "      <td>0.063</td>\n",
       "      <td>0.062</td>\n",
       "      <td>0.062</td>\n",
       "      <td>...</td>\n",
       "      <td>0.256</td>\n",
       "      <td>0.281</td>\n",
       "      <td>0.277</td>\n",
       "      <td>0.199</td>\n",
       "      <td>0.311</td>\n",
       "      <td>0.284</td>\n",
       "      <td>0.330</td>\n",
       "      <td>0.189</td>\n",
       "      <td>0.304</td>\n",
       "      <td>0.282</td>\n",
       "    </tr>\n",
       "    <tr>\n",
       "      <th>4</th>\n",
       "      <td>MAC000041</td>\n",
       "      <td>2011-12-13</td>\n",
       "      <td>0.282</td>\n",
       "      <td>0.274</td>\n",
       "      <td>0.104</td>\n",
       "      <td>0.061</td>\n",
       "      <td>0.061</td>\n",
       "      <td>0.061</td>\n",
       "      <td>0.061</td>\n",
       "      <td>0.061</td>\n",
       "      <td>...</td>\n",
       "      <td>0.203</td>\n",
       "      <td>0.327</td>\n",
       "      <td>0.326</td>\n",
       "      <td>0.408</td>\n",
       "      <td>0.264</td>\n",
       "      <td>0.200</td>\n",
       "      <td>0.662</td>\n",
       "      <td>0.335</td>\n",
       "      <td>0.245</td>\n",
       "      <td>0.248</td>\n",
       "    </tr>\n",
       "  </tbody>\n",
       "</table>\n",
       "<p>5 rows × 50 columns</p>\n",
       "</div>"
      ],
      "text/plain": [
       "       LCLid         day   hh_0   hh_1   hh_2   hh_3   hh_4   hh_5   hh_6  \\\n",
       "0  MAC000041  2011-12-09  0.070  0.062  0.063  0.062  0.062  0.062  0.062   \n",
       "1  MAC000041  2011-12-10  0.178  0.082  0.063  0.063  0.062  0.063  0.062   \n",
       "2  MAC000041  2011-12-11  0.169  0.093  0.065  0.065  0.064  0.068  0.064   \n",
       "3  MAC000041  2011-12-12  0.063  0.062  0.063  0.063  0.063  0.063  0.062   \n",
       "4  MAC000041  2011-12-13  0.282  0.274  0.104  0.061  0.061  0.061  0.061   \n",
       "\n",
       "    hh_7  ...    hh_38  hh_39  hh_40  hh_41  hh_42  hh_43  hh_44  hh_45  \\\n",
       "0  0.061  ...    0.313  0.424  0.361  0.324  0.389  0.331  0.309  0.292   \n",
       "1  0.062  ...    0.440  0.317  0.383  0.347  0.403  0.216  0.212  0.223   \n",
       "2  0.064  ...    0.381  0.291  0.330  0.330  0.256  0.254  0.361  0.321   \n",
       "3  0.062  ...    0.256  0.281  0.277  0.199  0.311  0.284  0.330  0.189   \n",
       "4  0.061  ...    0.203  0.327  0.326  0.408  0.264  0.200  0.662  0.335   \n",
       "\n",
       "   hh_46  hh_47  \n",
       "0  0.297  0.283  \n",
       "1  0.186  0.189  \n",
       "2  0.320  0.127  \n",
       "3  0.304  0.282  \n",
       "4  0.245  0.248  \n",
       "\n",
       "[5 rows x 50 columns]"
      ]
     },
     "execution_count": 2,
     "metadata": {},
     "output_type": "execute_result"
    }
   ],
   "source": [
    "df = pd.concat(map(pd.read_csv, glob.glob(os.path.join('../input/hhblock_dataset/', \"block_*.csv\"))))\n",
    "\n",
    "df.head()"
   ]
  },
  {
   "cell_type": "markdown",
   "metadata": {},
   "source": [
    "### Daily data"
   ]
  },
  {
   "cell_type": "code",
   "execution_count": 3,
   "metadata": {},
   "outputs": [],
   "source": [
    "files = ['block_0.csv']\n",
    "daily_0 = pd.concat([pd.read_csv(\"../input/daily_dataset/\" + f, dtype=str) for f in files])\n",
    "house_info = pd.read_csv('../input/informations_households.csv')"
   ]
  },
  {
   "cell_type": "markdown",
   "metadata": {},
   "source": [
    "### Half hourly data"
   ]
  },
  {
   "cell_type": "code",
   "execution_count": 4,
   "metadata": {},
   "outputs": [],
   "source": [
    "#Import block & house info data, rename columns\n",
    "files = ['block_0.csv']\n",
    "block_0 = pd.concat([pd.read_csv(\"../input/halfhourly_dataset/\" + f, dtype=str) for f in files])\n",
    "block_0.columns = ['LCLid','DateTime','KWh']"
   ]
  },
  {
   "cell_type": "markdown",
   "metadata": {
    "_cell_guid": "53903bed-0413-4700-868e-291cfae68c3b",
    "_uuid": "e41a247e61bc164e26f08008b33fc64855a1d4a5"
   },
   "source": [
    "First block (Block_0): 39786 30min recordings of energy consumption in KWh across 390 homes"
   ]
  },
  {
   "cell_type": "code",
   "execution_count": 5,
   "metadata": {},
   "outputs": [
    {
     "data": {
      "text/html": [
       "<div>\n",
       "<style scoped>\n",
       "    .dataframe tbody tr th:only-of-type {\n",
       "        vertical-align: middle;\n",
       "    }\n",
       "\n",
       "    .dataframe tbody tr th {\n",
       "        vertical-align: top;\n",
       "    }\n",
       "\n",
       "    .dataframe thead th {\n",
       "        text-align: right;\n",
       "    }\n",
       "</style>\n",
       "<table border=\"1\" class=\"dataframe\">\n",
       "  <thead>\n",
       "    <tr style=\"text-align: right;\">\n",
       "      <th></th>\n",
       "      <th>LCLid</th>\n",
       "      <th>DateTime</th>\n",
       "      <th>KWh</th>\n",
       "    </tr>\n",
       "  </thead>\n",
       "  <tbody>\n",
       "    <tr>\n",
       "      <th>0</th>\n",
       "      <td>MAC000002</td>\n",
       "      <td>2012-10-12 00:30:00.0000000</td>\n",
       "      <td>0</td>\n",
       "    </tr>\n",
       "    <tr>\n",
       "      <th>1</th>\n",
       "      <td>MAC000002</td>\n",
       "      <td>2012-10-12 01:00:00.0000000</td>\n",
       "      <td>0</td>\n",
       "    </tr>\n",
       "    <tr>\n",
       "      <th>2</th>\n",
       "      <td>MAC000002</td>\n",
       "      <td>2012-10-12 01:30:00.0000000</td>\n",
       "      <td>0</td>\n",
       "    </tr>\n",
       "    <tr>\n",
       "      <th>3</th>\n",
       "      <td>MAC000002</td>\n",
       "      <td>2012-10-12 02:00:00.0000000</td>\n",
       "      <td>0</td>\n",
       "    </tr>\n",
       "    <tr>\n",
       "      <th>4</th>\n",
       "      <td>MAC000002</td>\n",
       "      <td>2012-10-12 02:30:00.0000000</td>\n",
       "      <td>0</td>\n",
       "    </tr>\n",
       "  </tbody>\n",
       "</table>\n",
       "</div>"
      ],
      "text/plain": [
       "       LCLid                     DateTime  KWh\n",
       "0  MAC000002  2012-10-12 00:30:00.0000000   0 \n",
       "1  MAC000002  2012-10-12 01:00:00.0000000   0 \n",
       "2  MAC000002  2012-10-12 01:30:00.0000000   0 \n",
       "3  MAC000002  2012-10-12 02:00:00.0000000   0 \n",
       "4  MAC000002  2012-10-12 02:30:00.0000000   0 "
      ]
     },
     "execution_count": 5,
     "metadata": {},
     "output_type": "execute_result"
    }
   ],
   "source": [
    "block_0.head()"
   ]
  },
  {
   "cell_type": "markdown",
   "metadata": {},
   "source": [
    "### Housing information"
   ]
  },
  {
   "cell_type": "code",
   "execution_count": 6,
   "metadata": {},
   "outputs": [
    {
     "data": {
      "text/html": [
       "<div>\n",
       "<style scoped>\n",
       "    .dataframe tbody tr th:only-of-type {\n",
       "        vertical-align: middle;\n",
       "    }\n",
       "\n",
       "    .dataframe tbody tr th {\n",
       "        vertical-align: top;\n",
       "    }\n",
       "\n",
       "    .dataframe thead th {\n",
       "        text-align: right;\n",
       "    }\n",
       "</style>\n",
       "<table border=\"1\" class=\"dataframe\">\n",
       "  <thead>\n",
       "    <tr style=\"text-align: right;\">\n",
       "      <th></th>\n",
       "      <th>LCLid</th>\n",
       "      <th>stdorToU</th>\n",
       "      <th>Acorn</th>\n",
       "      <th>Acorn_grouped</th>\n",
       "      <th>file</th>\n",
       "    </tr>\n",
       "  </thead>\n",
       "  <tbody>\n",
       "    <tr>\n",
       "      <th>0</th>\n",
       "      <td>MAC005492</td>\n",
       "      <td>ToU</td>\n",
       "      <td>ACORN-</td>\n",
       "      <td>ACORN-</td>\n",
       "      <td>block_0</td>\n",
       "    </tr>\n",
       "    <tr>\n",
       "      <th>1</th>\n",
       "      <td>MAC001074</td>\n",
       "      <td>ToU</td>\n",
       "      <td>ACORN-</td>\n",
       "      <td>ACORN-</td>\n",
       "      <td>block_0</td>\n",
       "    </tr>\n",
       "    <tr>\n",
       "      <th>2</th>\n",
       "      <td>MAC000002</td>\n",
       "      <td>Std</td>\n",
       "      <td>ACORN-A</td>\n",
       "      <td>Affluent</td>\n",
       "      <td>block_0</td>\n",
       "    </tr>\n",
       "    <tr>\n",
       "      <th>3</th>\n",
       "      <td>MAC003613</td>\n",
       "      <td>Std</td>\n",
       "      <td>ACORN-A</td>\n",
       "      <td>Affluent</td>\n",
       "      <td>block_0</td>\n",
       "    </tr>\n",
       "    <tr>\n",
       "      <th>4</th>\n",
       "      <td>MAC003597</td>\n",
       "      <td>Std</td>\n",
       "      <td>ACORN-A</td>\n",
       "      <td>Affluent</td>\n",
       "      <td>block_0</td>\n",
       "    </tr>\n",
       "  </tbody>\n",
       "</table>\n",
       "</div>"
      ],
      "text/plain": [
       "       LCLid stdorToU    Acorn Acorn_grouped     file\n",
       "0  MAC005492      ToU   ACORN-        ACORN-  block_0\n",
       "1  MAC001074      ToU   ACORN-        ACORN-  block_0\n",
       "2  MAC000002      Std  ACORN-A      Affluent  block_0\n",
       "3  MAC003613      Std  ACORN-A      Affluent  block_0\n",
       "4  MAC003597      Std  ACORN-A      Affluent  block_0"
      ]
     },
     "execution_count": 6,
     "metadata": {},
     "output_type": "execute_result"
    }
   ],
   "source": [
    "house_info = pd.read_csv('../input/informations_households.csv')\n",
    "house_info.head()"
   ]
  },
  {
   "cell_type": "markdown",
   "metadata": {},
   "source": [
    "### Acorn details"
   ]
  },
  {
   "cell_type": "code",
   "execution_count": 7,
   "metadata": {},
   "outputs": [
    {
     "data": {
      "text/html": [
       "<div>\n",
       "<style scoped>\n",
       "    .dataframe tbody tr th:only-of-type {\n",
       "        vertical-align: middle;\n",
       "    }\n",
       "\n",
       "    .dataframe tbody tr th {\n",
       "        vertical-align: top;\n",
       "    }\n",
       "\n",
       "    .dataframe thead th {\n",
       "        text-align: right;\n",
       "    }\n",
       "</style>\n",
       "<table border=\"1\" class=\"dataframe\">\n",
       "  <thead>\n",
       "    <tr style=\"text-align: right;\">\n",
       "      <th></th>\n",
       "      <th>MAIN CATEGORIES</th>\n",
       "      <th>CATEGORIES</th>\n",
       "      <th>REFERENCE</th>\n",
       "      <th>ACORN-A</th>\n",
       "      <th>ACORN-B</th>\n",
       "      <th>ACORN-C</th>\n",
       "      <th>ACORN-D</th>\n",
       "      <th>ACORN-E</th>\n",
       "      <th>ACORN-F</th>\n",
       "      <th>ACORN-G</th>\n",
       "      <th>ACORN-H</th>\n",
       "      <th>ACORN-I</th>\n",
       "      <th>ACORN-J</th>\n",
       "      <th>ACORN-K</th>\n",
       "      <th>ACORN-L</th>\n",
       "      <th>ACORN-M</th>\n",
       "      <th>ACORN-N</th>\n",
       "      <th>ACORN-O</th>\n",
       "      <th>ACORN-P</th>\n",
       "      <th>ACORN-Q</th>\n",
       "    </tr>\n",
       "  </thead>\n",
       "  <tbody>\n",
       "    <tr>\n",
       "      <th>0</th>\n",
       "      <td>POPULATION</td>\n",
       "      <td>Age</td>\n",
       "      <td>Age 0-4</td>\n",
       "      <td>77.0</td>\n",
       "      <td>83.0</td>\n",
       "      <td>72.0</td>\n",
       "      <td>100.0</td>\n",
       "      <td>120.0</td>\n",
       "      <td>77.0</td>\n",
       "      <td>97.0</td>\n",
       "      <td>97.0</td>\n",
       "      <td>63.0</td>\n",
       "      <td>119.0</td>\n",
       "      <td>67.0</td>\n",
       "      <td>114.0</td>\n",
       "      <td>113.0</td>\n",
       "      <td>89.0</td>\n",
       "      <td>123.0</td>\n",
       "      <td>138.0</td>\n",
       "      <td>133.0</td>\n",
       "    </tr>\n",
       "    <tr>\n",
       "      <th>1</th>\n",
       "      <td>POPULATION</td>\n",
       "      <td>Age</td>\n",
       "      <td>Age 5-17</td>\n",
       "      <td>117.0</td>\n",
       "      <td>109.0</td>\n",
       "      <td>87.0</td>\n",
       "      <td>69.0</td>\n",
       "      <td>94.0</td>\n",
       "      <td>95.0</td>\n",
       "      <td>102.0</td>\n",
       "      <td>106.0</td>\n",
       "      <td>67.0</td>\n",
       "      <td>95.0</td>\n",
       "      <td>64.0</td>\n",
       "      <td>108.0</td>\n",
       "      <td>116.0</td>\n",
       "      <td>86.0</td>\n",
       "      <td>89.0</td>\n",
       "      <td>136.0</td>\n",
       "      <td>106.0</td>\n",
       "    </tr>\n",
       "    <tr>\n",
       "      <th>2</th>\n",
       "      <td>POPULATION</td>\n",
       "      <td>Age</td>\n",
       "      <td>Age 18-24</td>\n",
       "      <td>64.0</td>\n",
       "      <td>73.0</td>\n",
       "      <td>67.0</td>\n",
       "      <td>107.0</td>\n",
       "      <td>100.0</td>\n",
       "      <td>71.0</td>\n",
       "      <td>83.0</td>\n",
       "      <td>89.0</td>\n",
       "      <td>62.0</td>\n",
       "      <td>104.0</td>\n",
       "      <td>459.0</td>\n",
       "      <td>97.0</td>\n",
       "      <td>96.0</td>\n",
       "      <td>86.0</td>\n",
       "      <td>117.0</td>\n",
       "      <td>109.0</td>\n",
       "      <td>110.0</td>\n",
       "    </tr>\n",
       "    <tr>\n",
       "      <th>3</th>\n",
       "      <td>POPULATION</td>\n",
       "      <td>Age</td>\n",
       "      <td>Age 25-34</td>\n",
       "      <td>52.0</td>\n",
       "      <td>63.0</td>\n",
       "      <td>62.0</td>\n",
       "      <td>197.0</td>\n",
       "      <td>151.0</td>\n",
       "      <td>66.0</td>\n",
       "      <td>90.0</td>\n",
       "      <td>88.0</td>\n",
       "      <td>63.0</td>\n",
       "      <td>132.0</td>\n",
       "      <td>145.0</td>\n",
       "      <td>109.0</td>\n",
       "      <td>96.0</td>\n",
       "      <td>90.0</td>\n",
       "      <td>140.0</td>\n",
       "      <td>120.0</td>\n",
       "      <td>120.0</td>\n",
       "    </tr>\n",
       "    <tr>\n",
       "      <th>4</th>\n",
       "      <td>POPULATION</td>\n",
       "      <td>Age</td>\n",
       "      <td>Age 35-49</td>\n",
       "      <td>102.0</td>\n",
       "      <td>105.0</td>\n",
       "      <td>91.0</td>\n",
       "      <td>124.0</td>\n",
       "      <td>118.0</td>\n",
       "      <td>93.0</td>\n",
       "      <td>102.0</td>\n",
       "      <td>103.0</td>\n",
       "      <td>76.0</td>\n",
       "      <td>111.0</td>\n",
       "      <td>67.0</td>\n",
       "      <td>99.0</td>\n",
       "      <td>98.0</td>\n",
       "      <td>90.0</td>\n",
       "      <td>102.0</td>\n",
       "      <td>103.0</td>\n",
       "      <td>100.0</td>\n",
       "    </tr>\n",
       "  </tbody>\n",
       "</table>\n",
       "</div>"
      ],
      "text/plain": [
       "  MAIN CATEGORIES CATEGORIES  REFERENCE  ACORN-A  ACORN-B  ACORN-C  ACORN-D  \\\n",
       "0      POPULATION        Age    Age 0-4     77.0     83.0     72.0    100.0   \n",
       "1      POPULATION        Age   Age 5-17    117.0    109.0     87.0     69.0   \n",
       "2      POPULATION        Age  Age 18-24     64.0     73.0     67.0    107.0   \n",
       "3      POPULATION        Age  Age 25-34     52.0     63.0     62.0    197.0   \n",
       "4      POPULATION        Age  Age 35-49    102.0    105.0     91.0    124.0   \n",
       "\n",
       "   ACORN-E  ACORN-F  ACORN-G  ACORN-H  ACORN-I  ACORN-J  ACORN-K  ACORN-L  \\\n",
       "0    120.0     77.0     97.0     97.0     63.0    119.0     67.0    114.0   \n",
       "1     94.0     95.0    102.0    106.0     67.0     95.0     64.0    108.0   \n",
       "2    100.0     71.0     83.0     89.0     62.0    104.0    459.0     97.0   \n",
       "3    151.0     66.0     90.0     88.0     63.0    132.0    145.0    109.0   \n",
       "4    118.0     93.0    102.0    103.0     76.0    111.0     67.0     99.0   \n",
       "\n",
       "   ACORN-M  ACORN-N  ACORN-O  ACORN-P  ACORN-Q  \n",
       "0    113.0     89.0    123.0    138.0    133.0  \n",
       "1    116.0     86.0     89.0    136.0    106.0  \n",
       "2     96.0     86.0    117.0    109.0    110.0  \n",
       "3     96.0     90.0    140.0    120.0    120.0  \n",
       "4     98.0     90.0    102.0    103.0    100.0  "
      ]
     },
     "execution_count": 7,
     "metadata": {},
     "output_type": "execute_result"
    }
   ],
   "source": [
    "acorn_details = pd.read_csv('../input/acorn_details.csv')\n",
    "acorn_details.head()"
   ]
  },
  {
   "cell_type": "markdown",
   "metadata": {},
   "source": [
    "### UK bank holidays"
   ]
  },
  {
   "cell_type": "code",
   "execution_count": 8,
   "metadata": {},
   "outputs": [
    {
     "data": {
      "text/html": [
       "<div>\n",
       "<style scoped>\n",
       "    .dataframe tbody tr th:only-of-type {\n",
       "        vertical-align: middle;\n",
       "    }\n",
       "\n",
       "    .dataframe tbody tr th {\n",
       "        vertical-align: top;\n",
       "    }\n",
       "\n",
       "    .dataframe thead th {\n",
       "        text-align: right;\n",
       "    }\n",
       "</style>\n",
       "<table border=\"1\" class=\"dataframe\">\n",
       "  <thead>\n",
       "    <tr style=\"text-align: right;\">\n",
       "      <th></th>\n",
       "      <th>Bank holidays</th>\n",
       "      <th>Type</th>\n",
       "    </tr>\n",
       "  </thead>\n",
       "  <tbody>\n",
       "    <tr>\n",
       "      <th>0</th>\n",
       "      <td>2012-12-26</td>\n",
       "      <td>Boxing Day</td>\n",
       "    </tr>\n",
       "    <tr>\n",
       "      <th>1</th>\n",
       "      <td>2012-12-25</td>\n",
       "      <td>Christmas Day</td>\n",
       "    </tr>\n",
       "    <tr>\n",
       "      <th>2</th>\n",
       "      <td>2012-08-27</td>\n",
       "      <td>Summer bank holiday</td>\n",
       "    </tr>\n",
       "    <tr>\n",
       "      <th>3</th>\n",
       "      <td>2012-05-06</td>\n",
       "      <td>Queen?s Diamond Jubilee (extra bank holiday)</td>\n",
       "    </tr>\n",
       "    <tr>\n",
       "      <th>4</th>\n",
       "      <td>2012-04-06</td>\n",
       "      <td>Spring bank holiday (substitute day)</td>\n",
       "    </tr>\n",
       "  </tbody>\n",
       "</table>\n",
       "</div>"
      ],
      "text/plain": [
       "  Bank holidays                                          Type\n",
       "0    2012-12-26                                    Boxing Day\n",
       "1    2012-12-25                                 Christmas Day\n",
       "2    2012-08-27                           Summer bank holiday\n",
       "3    2012-05-06  Queen?s Diamond Jubilee (extra bank holiday)\n",
       "4    2012-04-06          Spring bank holiday (substitute day)"
      ]
     },
     "execution_count": 8,
     "metadata": {},
     "output_type": "execute_result"
    }
   ],
   "source": [
    "bank_holidays = pd.read_csv('../input/uk_bank_holidays.csv')\n",
    "bank_holidays.head()"
   ]
  },
  {
   "cell_type": "markdown",
   "metadata": {},
   "source": [
    "### Weather data"
   ]
  },
  {
   "cell_type": "code",
   "execution_count": 9,
   "metadata": {},
   "outputs": [
    {
     "data": {
      "text/html": [
       "<div>\n",
       "<style scoped>\n",
       "    .dataframe tbody tr th:only-of-type {\n",
       "        vertical-align: middle;\n",
       "    }\n",
       "\n",
       "    .dataframe tbody tr th {\n",
       "        vertical-align: top;\n",
       "    }\n",
       "\n",
       "    .dataframe thead th {\n",
       "        text-align: right;\n",
       "    }\n",
       "</style>\n",
       "<table border=\"1\" class=\"dataframe\">\n",
       "  <thead>\n",
       "    <tr style=\"text-align: right;\">\n",
       "      <th></th>\n",
       "      <th>temperatureMax</th>\n",
       "      <th>temperatureMaxTime</th>\n",
       "      <th>windBearing</th>\n",
       "      <th>icon</th>\n",
       "      <th>dewPoint</th>\n",
       "      <th>temperatureMinTime</th>\n",
       "      <th>cloudCover</th>\n",
       "      <th>windSpeed</th>\n",
       "      <th>pressure</th>\n",
       "      <th>apparentTemperatureMinTime</th>\n",
       "      <th>...</th>\n",
       "      <th>temperatureHigh</th>\n",
       "      <th>sunriseTime</th>\n",
       "      <th>temperatureHighTime</th>\n",
       "      <th>uvIndexTime</th>\n",
       "      <th>summary</th>\n",
       "      <th>temperatureLowTime</th>\n",
       "      <th>apparentTemperatureMin</th>\n",
       "      <th>apparentTemperatureMaxTime</th>\n",
       "      <th>apparentTemperatureLowTime</th>\n",
       "      <th>moonPhase</th>\n",
       "    </tr>\n",
       "  </thead>\n",
       "  <tbody>\n",
       "    <tr>\n",
       "      <th>0</th>\n",
       "      <td>11.96</td>\n",
       "      <td>2011-11-11 23:00:00</td>\n",
       "      <td>123</td>\n",
       "      <td>fog</td>\n",
       "      <td>9.40</td>\n",
       "      <td>2011-11-11 07:00:00</td>\n",
       "      <td>0.79</td>\n",
       "      <td>3.88</td>\n",
       "      <td>1016.08</td>\n",
       "      <td>2011-11-11 07:00:00</td>\n",
       "      <td>...</td>\n",
       "      <td>10.87</td>\n",
       "      <td>2011-11-11 07:12:14</td>\n",
       "      <td>2011-11-11 19:00:00</td>\n",
       "      <td>2011-11-11 11:00:00</td>\n",
       "      <td>Foggy until afternoon.</td>\n",
       "      <td>2011-11-11 19:00:00</td>\n",
       "      <td>6.48</td>\n",
       "      <td>2011-11-11 23:00:00</td>\n",
       "      <td>2011-11-11 19:00:00</td>\n",
       "      <td>0.52</td>\n",
       "    </tr>\n",
       "    <tr>\n",
       "      <th>1</th>\n",
       "      <td>8.59</td>\n",
       "      <td>2011-12-11 14:00:00</td>\n",
       "      <td>198</td>\n",
       "      <td>partly-cloudy-day</td>\n",
       "      <td>4.49</td>\n",
       "      <td>2011-12-11 01:00:00</td>\n",
       "      <td>0.56</td>\n",
       "      <td>3.94</td>\n",
       "      <td>1007.71</td>\n",
       "      <td>2011-12-11 02:00:00</td>\n",
       "      <td>...</td>\n",
       "      <td>8.59</td>\n",
       "      <td>2011-12-11 07:57:02</td>\n",
       "      <td>2011-12-11 14:00:00</td>\n",
       "      <td>2011-12-11 12:00:00</td>\n",
       "      <td>Partly cloudy throughout the day.</td>\n",
       "      <td>2011-12-12 07:00:00</td>\n",
       "      <td>0.11</td>\n",
       "      <td>2011-12-11 20:00:00</td>\n",
       "      <td>2011-12-12 08:00:00</td>\n",
       "      <td>0.53</td>\n",
       "    </tr>\n",
       "    <tr>\n",
       "      <th>2</th>\n",
       "      <td>10.33</td>\n",
       "      <td>2011-12-27 02:00:00</td>\n",
       "      <td>225</td>\n",
       "      <td>partly-cloudy-day</td>\n",
       "      <td>5.47</td>\n",
       "      <td>2011-12-27 23:00:00</td>\n",
       "      <td>0.85</td>\n",
       "      <td>3.54</td>\n",
       "      <td>1032.76</td>\n",
       "      <td>2011-12-27 22:00:00</td>\n",
       "      <td>...</td>\n",
       "      <td>10.33</td>\n",
       "      <td>2011-12-27 08:07:06</td>\n",
       "      <td>2011-12-27 14:00:00</td>\n",
       "      <td>2011-12-27 00:00:00</td>\n",
       "      <td>Mostly cloudy throughout the day.</td>\n",
       "      <td>2011-12-27 23:00:00</td>\n",
       "      <td>5.59</td>\n",
       "      <td>2011-12-27 02:00:00</td>\n",
       "      <td>2011-12-28 00:00:00</td>\n",
       "      <td>0.10</td>\n",
       "    </tr>\n",
       "    <tr>\n",
       "      <th>3</th>\n",
       "      <td>8.07</td>\n",
       "      <td>2011-12-02 23:00:00</td>\n",
       "      <td>232</td>\n",
       "      <td>wind</td>\n",
       "      <td>3.69</td>\n",
       "      <td>2011-12-02 07:00:00</td>\n",
       "      <td>0.32</td>\n",
       "      <td>3.00</td>\n",
       "      <td>1012.12</td>\n",
       "      <td>2011-12-02 07:00:00</td>\n",
       "      <td>...</td>\n",
       "      <td>7.36</td>\n",
       "      <td>2011-12-02 07:46:09</td>\n",
       "      <td>2011-12-02 12:00:00</td>\n",
       "      <td>2011-12-02 10:00:00</td>\n",
       "      <td>Partly cloudy throughout the day and breezy ov...</td>\n",
       "      <td>2011-12-02 19:00:00</td>\n",
       "      <td>0.46</td>\n",
       "      <td>2011-12-02 12:00:00</td>\n",
       "      <td>2011-12-02 19:00:00</td>\n",
       "      <td>0.25</td>\n",
       "    </tr>\n",
       "    <tr>\n",
       "      <th>4</th>\n",
       "      <td>8.22</td>\n",
       "      <td>2011-12-24 23:00:00</td>\n",
       "      <td>252</td>\n",
       "      <td>partly-cloudy-night</td>\n",
       "      <td>2.79</td>\n",
       "      <td>2011-12-24 07:00:00</td>\n",
       "      <td>0.37</td>\n",
       "      <td>4.46</td>\n",
       "      <td>1028.17</td>\n",
       "      <td>2011-12-24 07:00:00</td>\n",
       "      <td>...</td>\n",
       "      <td>7.93</td>\n",
       "      <td>2011-12-24 08:06:15</td>\n",
       "      <td>2011-12-24 15:00:00</td>\n",
       "      <td>2011-12-24 13:00:00</td>\n",
       "      <td>Mostly cloudy throughout the day.</td>\n",
       "      <td>2011-12-24 19:00:00</td>\n",
       "      <td>-0.51</td>\n",
       "      <td>2011-12-24 23:00:00</td>\n",
       "      <td>2011-12-24 20:00:00</td>\n",
       "      <td>0.99</td>\n",
       "    </tr>\n",
       "  </tbody>\n",
       "</table>\n",
       "<p>5 rows × 32 columns</p>\n",
       "</div>"
      ],
      "text/plain": [
       "   temperatureMax   temperatureMaxTime  windBearing                 icon  \\\n",
       "0           11.96  2011-11-11 23:00:00          123                  fog   \n",
       "1            8.59  2011-12-11 14:00:00          198    partly-cloudy-day   \n",
       "2           10.33  2011-12-27 02:00:00          225    partly-cloudy-day   \n",
       "3            8.07  2011-12-02 23:00:00          232                 wind   \n",
       "4            8.22  2011-12-24 23:00:00          252  partly-cloudy-night   \n",
       "\n",
       "   dewPoint   temperatureMinTime  cloudCover  windSpeed  pressure  \\\n",
       "0      9.40  2011-11-11 07:00:00        0.79       3.88   1016.08   \n",
       "1      4.49  2011-12-11 01:00:00        0.56       3.94   1007.71   \n",
       "2      5.47  2011-12-27 23:00:00        0.85       3.54   1032.76   \n",
       "3      3.69  2011-12-02 07:00:00        0.32       3.00   1012.12   \n",
       "4      2.79  2011-12-24 07:00:00        0.37       4.46   1028.17   \n",
       "\n",
       "  apparentTemperatureMinTime    ...     temperatureHigh          sunriseTime  \\\n",
       "0        2011-11-11 07:00:00    ...               10.87  2011-11-11 07:12:14   \n",
       "1        2011-12-11 02:00:00    ...                8.59  2011-12-11 07:57:02   \n",
       "2        2011-12-27 22:00:00    ...               10.33  2011-12-27 08:07:06   \n",
       "3        2011-12-02 07:00:00    ...                7.36  2011-12-02 07:46:09   \n",
       "4        2011-12-24 07:00:00    ...                7.93  2011-12-24 08:06:15   \n",
       "\n",
       "   temperatureHighTime          uvIndexTime  \\\n",
       "0  2011-11-11 19:00:00  2011-11-11 11:00:00   \n",
       "1  2011-12-11 14:00:00  2011-12-11 12:00:00   \n",
       "2  2011-12-27 14:00:00  2011-12-27 00:00:00   \n",
       "3  2011-12-02 12:00:00  2011-12-02 10:00:00   \n",
       "4  2011-12-24 15:00:00  2011-12-24 13:00:00   \n",
       "\n",
       "                                             summary   temperatureLowTime  \\\n",
       "0                             Foggy until afternoon.  2011-11-11 19:00:00   \n",
       "1                  Partly cloudy throughout the day.  2011-12-12 07:00:00   \n",
       "2                  Mostly cloudy throughout the day.  2011-12-27 23:00:00   \n",
       "3  Partly cloudy throughout the day and breezy ov...  2011-12-02 19:00:00   \n",
       "4                  Mostly cloudy throughout the day.  2011-12-24 19:00:00   \n",
       "\n",
       "   apparentTemperatureMin  apparentTemperatureMaxTime  \\\n",
       "0                    6.48         2011-11-11 23:00:00   \n",
       "1                    0.11         2011-12-11 20:00:00   \n",
       "2                    5.59         2011-12-27 02:00:00   \n",
       "3                    0.46         2011-12-02 12:00:00   \n",
       "4                   -0.51         2011-12-24 23:00:00   \n",
       "\n",
       "  apparentTemperatureLowTime moonPhase  \n",
       "0        2011-11-11 19:00:00      0.52  \n",
       "1        2011-12-12 08:00:00      0.53  \n",
       "2        2011-12-28 00:00:00      0.10  \n",
       "3        2011-12-02 19:00:00      0.25  \n",
       "4        2011-12-24 20:00:00      0.99  \n",
       "\n",
       "[5 rows x 32 columns]"
      ]
     },
     "execution_count": 9,
     "metadata": {},
     "output_type": "execute_result"
    }
   ],
   "source": [
    "weather_daily = pd.read_csv('../input/weather_daily_darksky.csv')\n",
    "weather_daily.head()"
   ]
  },
  {
   "cell_type": "code",
   "execution_count": 10,
   "metadata": {},
   "outputs": [
    {
     "data": {
      "text/html": [
       "<div>\n",
       "<style scoped>\n",
       "    .dataframe tbody tr th:only-of-type {\n",
       "        vertical-align: middle;\n",
       "    }\n",
       "\n",
       "    .dataframe tbody tr th {\n",
       "        vertical-align: top;\n",
       "    }\n",
       "\n",
       "    .dataframe thead th {\n",
       "        text-align: right;\n",
       "    }\n",
       "</style>\n",
       "<table border=\"1\" class=\"dataframe\">\n",
       "  <thead>\n",
       "    <tr style=\"text-align: right;\">\n",
       "      <th></th>\n",
       "      <th>visibility</th>\n",
       "      <th>windBearing</th>\n",
       "      <th>temperature</th>\n",
       "      <th>time</th>\n",
       "      <th>dewPoint</th>\n",
       "      <th>pressure</th>\n",
       "      <th>apparentTemperature</th>\n",
       "      <th>windSpeed</th>\n",
       "      <th>precipType</th>\n",
       "      <th>icon</th>\n",
       "      <th>humidity</th>\n",
       "      <th>summary</th>\n",
       "    </tr>\n",
       "  </thead>\n",
       "  <tbody>\n",
       "    <tr>\n",
       "      <th>0</th>\n",
       "      <td>5.97</td>\n",
       "      <td>104</td>\n",
       "      <td>10.24</td>\n",
       "      <td>2011-11-11 00:00:00</td>\n",
       "      <td>8.86</td>\n",
       "      <td>1016.76</td>\n",
       "      <td>10.24</td>\n",
       "      <td>2.77</td>\n",
       "      <td>rain</td>\n",
       "      <td>partly-cloudy-night</td>\n",
       "      <td>0.91</td>\n",
       "      <td>Partly Cloudy</td>\n",
       "    </tr>\n",
       "    <tr>\n",
       "      <th>1</th>\n",
       "      <td>4.88</td>\n",
       "      <td>99</td>\n",
       "      <td>9.76</td>\n",
       "      <td>2011-11-11 01:00:00</td>\n",
       "      <td>8.83</td>\n",
       "      <td>1016.63</td>\n",
       "      <td>8.24</td>\n",
       "      <td>2.95</td>\n",
       "      <td>rain</td>\n",
       "      <td>partly-cloudy-night</td>\n",
       "      <td>0.94</td>\n",
       "      <td>Partly Cloudy</td>\n",
       "    </tr>\n",
       "    <tr>\n",
       "      <th>2</th>\n",
       "      <td>3.70</td>\n",
       "      <td>98</td>\n",
       "      <td>9.46</td>\n",
       "      <td>2011-11-11 02:00:00</td>\n",
       "      <td>8.79</td>\n",
       "      <td>1016.36</td>\n",
       "      <td>7.76</td>\n",
       "      <td>3.17</td>\n",
       "      <td>rain</td>\n",
       "      <td>partly-cloudy-night</td>\n",
       "      <td>0.96</td>\n",
       "      <td>Partly Cloudy</td>\n",
       "    </tr>\n",
       "    <tr>\n",
       "      <th>3</th>\n",
       "      <td>3.12</td>\n",
       "      <td>99</td>\n",
       "      <td>9.23</td>\n",
       "      <td>2011-11-11 03:00:00</td>\n",
       "      <td>8.63</td>\n",
       "      <td>1016.28</td>\n",
       "      <td>7.44</td>\n",
       "      <td>3.25</td>\n",
       "      <td>rain</td>\n",
       "      <td>fog</td>\n",
       "      <td>0.96</td>\n",
       "      <td>Foggy</td>\n",
       "    </tr>\n",
       "    <tr>\n",
       "      <th>4</th>\n",
       "      <td>1.85</td>\n",
       "      <td>111</td>\n",
       "      <td>9.26</td>\n",
       "      <td>2011-11-11 04:00:00</td>\n",
       "      <td>9.21</td>\n",
       "      <td>1015.98</td>\n",
       "      <td>7.24</td>\n",
       "      <td>3.70</td>\n",
       "      <td>rain</td>\n",
       "      <td>fog</td>\n",
       "      <td>1.00</td>\n",
       "      <td>Foggy</td>\n",
       "    </tr>\n",
       "  </tbody>\n",
       "</table>\n",
       "</div>"
      ],
      "text/plain": [
       "   visibility  windBearing  temperature                 time  dewPoint  \\\n",
       "0        5.97          104        10.24  2011-11-11 00:00:00      8.86   \n",
       "1        4.88           99         9.76  2011-11-11 01:00:00      8.83   \n",
       "2        3.70           98         9.46  2011-11-11 02:00:00      8.79   \n",
       "3        3.12           99         9.23  2011-11-11 03:00:00      8.63   \n",
       "4        1.85          111         9.26  2011-11-11 04:00:00      9.21   \n",
       "\n",
       "   pressure  apparentTemperature  windSpeed precipType                 icon  \\\n",
       "0   1016.76                10.24       2.77       rain  partly-cloudy-night   \n",
       "1   1016.63                 8.24       2.95       rain  partly-cloudy-night   \n",
       "2   1016.36                 7.76       3.17       rain  partly-cloudy-night   \n",
       "3   1016.28                 7.44       3.25       rain                  fog   \n",
       "4   1015.98                 7.24       3.70       rain                  fog   \n",
       "\n",
       "   humidity        summary  \n",
       "0      0.91  Partly Cloudy  \n",
       "1      0.94  Partly Cloudy  \n",
       "2      0.96  Partly Cloudy  \n",
       "3      0.96          Foggy  \n",
       "4      1.00          Foggy  "
      ]
     },
     "execution_count": 10,
     "metadata": {},
     "output_type": "execute_result"
    }
   ],
   "source": [
    "weather_hourly = pd.read_csv('../input/weather_hourly_darksky.csv')\n",
    "weather_hourly.head()"
   ]
  },
  {
   "cell_type": "markdown",
   "metadata": {
    "_cell_guid": "381170bb-0dcb-4dbc-9cea-5b636b07531d",
    "_uuid": "8bfd9154611bac18bb2d9a4dc44663524916e5ad"
   },
   "source": [
    "# 1. Data Clean&Merge\n",
    "## 1.1 KWh Nulls\n",
    "There are 'Null' values in the KWh column, there are 390 of them in Block_0 and as such appears assigned one null value per household. The time of the null value is in-between each 30min recording and is constant over groupings of houses. Suspect this was the smart meters resetting. Do not know if this invalidates a recording before or after. Quick check below shows that it appears not to have impacted recordings, however we should keep this in mind. Soln to the Null recordings is to delete all records with a Null in the KWh column (390 records in total) "
   ]
  },
  {
   "cell_type": "code",
   "execution_count": 11,
   "metadata": {
    "_cell_guid": "f6b30117-adaa-4709-ad24-01ad8509a1c6",
    "_uuid": "b5358ff785daafe62d7700ac1d99222ddc56c8aa",
    "collapsed": true
   },
   "outputs": [],
   "source": [
    "block_0 = block_0[block_0.KWh != 'Null']\n",
    "block_0['KWh'] = block_0['KWh'].astype(float)"
   ]
  },
  {
   "cell_type": "markdown",
   "metadata": {
    "_cell_guid": "3a35fd8f-eab3-4838-ba6d-8f2f6a31473b",
    "_uuid": "59315b1b6c3b67b9c82d213626a12142d141a11c"
   },
   "source": [
    "## 1.2 DateTime reformat\n",
    "Reformatting the DateTime column to make it easier to manage"
   ]
  },
  {
   "cell_type": "code",
   "execution_count": 12,
   "metadata": {
    "_cell_guid": "e82e5290-4806-400b-b6c7-ec71c79c47b9",
    "_uuid": "541bfa37a0f8057a458ca64af561bb799aa0faf6",
    "collapsed": true
   },
   "outputs": [],
   "source": [
    "DateTime = block_0.iloc[:, 1].values\n",
    "Year = np.zeros(len(DateTime), dtype=int)\n",
    "Month = np.zeros(len(DateTime), dtype=int)\n",
    "Day = np.zeros(len(DateTime), dtype=int)\n",
    "Hour = np.zeros(len(DateTime), dtype=float)\n",
    "for i in range(0,len(DateTime)):\n",
    "    Year[i] = (DateTime[i][0:4])\n",
    "    Month[i] = (DateTime[i][5:7])\n",
    "    Day[i] = (DateTime[i][8:10])\n",
    "    if DateTime[i][14:16]=='00':\n",
    "        Hour[i] = DateTime[i][11:13]\n",
    "    else: \n",
    "        Hour[i] = DateTime[i][11:13]\n",
    "        Hour[i] += 0.5\n",
    "        \n",
    "block_0.loc[:,'Day']=Day\n",
    "block_0.loc[:,'Month']=Month\n",
    "block_0.loc[:,'Year']=Year\n",
    "block_0.loc[:,'Hour']=Hour\n",
    "block_0 = block_0.drop('DateTime',1)"
   ]
  },
  {
   "cell_type": "markdown",
   "metadata": {
    "_cell_guid": "f78ca35e-2788-43ba-90ea-fd8ea38b1df6",
    "_uuid": "1e2df96826074f84ff43d9be1cd59572651ab14d"
   },
   "source": [
    "## 1.3 Check for Acorn labelling errors \n",
    "There is one error type: 'ACORN-' instead of 'ACORN-*' which occur for two houses, therefore delete these from analysis"
   ]
  },
  {
   "cell_type": "code",
   "execution_count": 13,
   "metadata": {
    "_cell_guid": "9527c764-636d-4a47-a103-899c664e0016",
    "_uuid": "98e47df7402d43f03219afa7342837062caed50b"
   },
   "outputs": [
    {
     "data": {
      "text/plain": [
       "array(['MAC005492', 'MAC001074'], dtype=object)"
      ]
     },
     "execution_count": 13,
     "metadata": {},
     "output_type": "execute_result"
    }
   ],
   "source": [
    "#LCLids where a miss catagorisation has occured i.e. when Acorn == ACORN- in this insatnce\n",
    "LCLids_del = house_info.loc[house_info.Acorn == 'ACORN-'].LCLid.values\n",
    "LCLids_del"
   ]
  },
  {
   "cell_type": "code",
   "execution_count": 14,
   "metadata": {
    "_cell_guid": "43806212-e192-4d65-b045-22fca697ca6f",
    "_uuid": "52d374b3c3f35e98797617d893e85d27e649ba0d",
    "collapsed": true
   },
   "outputs": [
    {
     "name": "stdout",
     "output_type": "stream",
     "text": [
      "0\n",
      "1\n"
     ]
    }
   ],
   "source": [
    "#Delete these houses from the current block being analysed\n",
    "for i in range (0,len(LCLids_del)): \n",
    "    if any(block_0.LCLid == LCLids_del[i]):\n",
    "        block_0 = block_0.loc [block_0.LCLid != LCLids_del[i]]\n",
    "        print(i)"
   ]
  },
  {
   "cell_type": "markdown",
   "metadata": {
    "_cell_guid": "9be52c9c-c12f-4eef-b4e7-266afc482c51",
    "_uuid": "2367bb4d891b8f959bd84fc987189c4e33710fe2"
   },
   "source": [
    "## 1.4 Merging data\n",
    "Many to one merge, remove 'ACORN-' string in acorn classification "
   ]
  },
  {
   "cell_type": "code",
   "execution_count": 15,
   "metadata": {
    "_cell_guid": "4ea8acae-9a73-4bd9-b5f7-a21260ec6a58",
    "_uuid": "95b651bc526f3a0f96fd5269dd82d165932c15cf",
    "collapsed": true
   },
   "outputs": [],
   "source": [
    "block_0_info = pd.merge(block_0,house_info)\n",
    "block_0_info = block_0_info.drop('Acorn_grouped',1)\n",
    "block_0_info = block_0_info.drop('file',1)\n",
    "block_0_info.Acorn = block_0_info.Acorn.str.replace('ACORN-',\"\")"
   ]
  },
  {
   "cell_type": "markdown",
   "metadata": {
    "_cell_guid": "449c9aed-ee20-430c-a1a8-634ef7889cc8",
    "_uuid": "f45201af558e4ab98e4a69085886e68378f670f3"
   },
   "source": [
    "## 1.4 What data do we have? \n",
    "Apears that only 2012 and 2013 are complete years"
   ]
  },
  {
   "cell_type": "code",
   "execution_count": 16,
   "metadata": {
    "_cell_guid": "0989d1f3-9e1c-4f8a-a593-69e001989f16",
    "_uuid": "d1fb12d473741006b5000cdf0b47d7b433313c81"
   },
   "outputs": [
    {
     "name": "stdout",
     "output_type": "stream",
     "text": [
      "2011 :\n",
      " Acorn    1\n",
      "Year     1\n",
      "Month    1\n",
      "KWh      1\n",
      "dtype: int64\n",
      "2012 :\n",
      " Acorn    12\n",
      "Year     12\n",
      "Month    12\n",
      "KWh      12\n",
      "dtype: int64\n",
      "2013 :\n",
      " Acorn    12\n",
      "Year     12\n",
      "Month    12\n",
      "KWh      12\n",
      "dtype: int64\n",
      "2014 :\n",
      " Acorn    2\n",
      "Year     2\n",
      "Month    2\n",
      "KWh      2\n",
      "dtype: int64\n"
     ]
    }
   ],
   "source": [
    "test_1 = block_0_info.groupby(['Acorn','Year','Month']).mean().drop(['Day','Hour'],1).reset_index()\n",
    "Years = test_1.Year.unique()\n",
    "Months = test_1.Month.unique()\n",
    "for yr in Years: print(yr,':\\n',(test_1.loc[test_1.Year == yr]).count())"
   ]
  },
  {
   "cell_type": "code",
   "execution_count": 17,
   "metadata": {
    "_cell_guid": "e6ac1dc2-bcf6-4ad3-8132-948fa89df5f3",
    "_uuid": "fd12970372beaf84097fd389dcf0f6a94057a824",
    "collapsed": true
   },
   "outputs": [],
   "source": [
    "#keep 2012 and 2013, reset index with drop=False\n",
    "block_0_info_2012_2013 = block_0_info.loc[(block_0_info.Year == 2012) | (block_0_info.Year == 2013)].reset_index(drop=False)"
   ]
  },
  {
   "cell_type": "markdown",
   "metadata": {
    "_cell_guid": "2c1dccc4-d614-45f6-b03d-f94ac428d318",
    "_uuid": "79e78bf97ca19b1082f53fae9f6a68275b934c2f"
   },
   "source": [
    "## 1.4 Include a weekend flag and acorn description for analysis purposes\n",
    "**THINK I COULD HAVE DONE THIS EASIER BY JUST USING ORIGINAL DATETIME COLUMN IN TABLEAU**"
   ]
  },
  {
   "cell_type": "code",
   "execution_count": 18,
   "metadata": {
    "_cell_guid": "825e8e67-55bf-4f31-a143-814ae118ff3c",
    "_uuid": "4595a8e08fb7b88b5ee1a69859bec3d9f8f40bab"
   },
   "outputs": [
    {
     "name": "stderr",
     "output_type": "stream",
     "text": [
      "/home/walle/.virtualenvs/pytorch_ts_py36/lib/python3.6/site-packages/ipykernel_launcher.py:20: SettingWithCopyWarning: \n",
      "A value is trying to be set on a copy of a slice from a DataFrame\n",
      "\n",
      "See the caveats in the documentation: http://pandas.pydata.org/pandas-docs/stable/indexing.html#indexing-view-versus-copy\n",
      "/home/walle/.virtualenvs/pytorch_ts_py36/lib/python3.6/site-packages/ipykernel_launcher.py:22: SettingWithCopyWarning: \n",
      "A value is trying to be set on a copy of a slice from a DataFrame\n",
      "\n",
      "See the caveats in the documentation: http://pandas.pydata.org/pandas-docs/stable/indexing.html#indexing-view-versus-copy\n"
     ]
    }
   ],
   "source": [
    "import datetime\n",
    "\n",
    "\n",
    "DayOfWeek = []\n",
    "DayOfYear = []\n",
    "for i in range(0,len(block_0_info_2012_2013)):\n",
    "    DayOfWeek.append(datetime.datetime(block_0_info_2012_2013.Year[i], \n",
    "                                       block_0_info_2012_2013.Month[i], \n",
    "                                       block_0_info_2012_2013.Day[i]).weekday())\n",
    "    DayOfYear.append(datetime.date(block_0_info_2012_2013.Year[i], \n",
    "                                       block_0_info_2012_2013.Month[i], \n",
    "                                       block_0_info_2012_2013.Day[i]).timetuple()[7])\n",
    "#put in new column\n",
    "block_0_info_2012_2013['DayOfWeek'] = DayOfWeek\n",
    "block_0_info_2012_2013['DayOfYear'] = DayOfYear\n",
    "\n",
    "#create weekend flag, days 5 and 6 are Sat and Sun\n",
    "block_0_info_2012_2013['Weekend'] = \"\"\n",
    "tmp = block_0_info_2012_2013[(block_0_info_2012_2013.DayOfWeek == 5) | (block_0_info_2012_2013.DayOfWeek == 6)].index\n",
    "block_0_info_2012_2013['Weekend'][tmp] = 1\n",
    "tmp = block_0_info_2012_2013[block_0_info_2012_2013.Weekend != 1] .index\n",
    "block_0_info_2012_2013['Weekend'][tmp] = 0"
   ]
  },
  {
   "cell_type": "code",
   "execution_count": 19,
   "metadata": {
    "_cell_guid": "526a3ebc-0665-4247-b302-350a272cf86c",
    "_uuid": "e15325550d077c7659a5eccf3caf71cebe2158dc",
    "collapsed": true
   },
   "outputs": [
    {
     "ename": "MergeError",
     "evalue": "No common columns to perform merge on. Merge options: left_on=None, right_on=None, left_index=False, right_index=False",
     "output_type": "error",
     "traceback": [
      "\u001b[0;31m---------------------------------------------------------------------------\u001b[0m",
      "\u001b[0;31mMergeError\u001b[0m                                Traceback (most recent call last)",
      "\u001b[0;32m<ipython-input-19-c1e6926fdebe>\u001b[0m in \u001b[0;36m<module>\u001b[0;34m()\u001b[0m\n\u001b[1;32m      8\u001b[0m                                         ' Difficult Circumstances','Unknown']})\n\u001b[1;32m      9\u001b[0m \u001b[0mAcornDesc\u001b[0m \u001b[0;34m=\u001b[0m \u001b[0mpd\u001b[0m\u001b[0;34m.\u001b[0m\u001b[0mread_csv\u001b[0m\u001b[0;34m(\u001b[0m\u001b[0;34m'../input/acorn_details.csv'\u001b[0m\u001b[0;34m)\u001b[0m\u001b[0;34m\u001b[0m\u001b[0m\n\u001b[0;32m---> 10\u001b[0;31m \u001b[0mAcornDesc\u001b[0m \u001b[0;34m=\u001b[0m \u001b[0mpd\u001b[0m\u001b[0;34m.\u001b[0m\u001b[0mmerge\u001b[0m\u001b[0;34m(\u001b[0m\u001b[0mAcornName\u001b[0m\u001b[0;34m,\u001b[0m\u001b[0mAcornDesc\u001b[0m\u001b[0;34m)\u001b[0m\u001b[0;34m\u001b[0m\u001b[0m\n\u001b[0m\u001b[1;32m     11\u001b[0m \u001b[0mblock_0_info_2012_2013_wkend_desc\u001b[0m \u001b[0;34m=\u001b[0m \u001b[0mpd\u001b[0m\u001b[0;34m.\u001b[0m\u001b[0mmerge\u001b[0m\u001b[0;34m(\u001b[0m\u001b[0mblock_0_info_2012_2013\u001b[0m\u001b[0;34m,\u001b[0m\u001b[0mAcornDesc\u001b[0m\u001b[0;34m)\u001b[0m\u001b[0;34m\u001b[0m\u001b[0m\n",
      "\u001b[0;32m~/.virtualenvs/pytorch_ts_py36/lib/python3.6/site-packages/pandas/core/reshape/merge.py\u001b[0m in \u001b[0;36mmerge\u001b[0;34m(left, right, how, on, left_on, right_on, left_index, right_index, sort, suffixes, copy, indicator, validate)\u001b[0m\n\u001b[1;32m     59\u001b[0m                          \u001b[0mright_index\u001b[0m\u001b[0;34m=\u001b[0m\u001b[0mright_index\u001b[0m\u001b[0;34m,\u001b[0m \u001b[0msort\u001b[0m\u001b[0;34m=\u001b[0m\u001b[0msort\u001b[0m\u001b[0;34m,\u001b[0m \u001b[0msuffixes\u001b[0m\u001b[0;34m=\u001b[0m\u001b[0msuffixes\u001b[0m\u001b[0;34m,\u001b[0m\u001b[0;34m\u001b[0m\u001b[0m\n\u001b[1;32m     60\u001b[0m                          \u001b[0mcopy\u001b[0m\u001b[0;34m=\u001b[0m\u001b[0mcopy\u001b[0m\u001b[0;34m,\u001b[0m \u001b[0mindicator\u001b[0m\u001b[0;34m=\u001b[0m\u001b[0mindicator\u001b[0m\u001b[0;34m,\u001b[0m\u001b[0;34m\u001b[0m\u001b[0m\n\u001b[0;32m---> 61\u001b[0;31m                          validate=validate)\n\u001b[0m\u001b[1;32m     62\u001b[0m     \u001b[0;32mreturn\u001b[0m \u001b[0mop\u001b[0m\u001b[0;34m.\u001b[0m\u001b[0mget_result\u001b[0m\u001b[0;34m(\u001b[0m\u001b[0;34m)\u001b[0m\u001b[0;34m\u001b[0m\u001b[0m\n\u001b[1;32m     63\u001b[0m \u001b[0;34m\u001b[0m\u001b[0m\n",
      "\u001b[0;32m~/.virtualenvs/pytorch_ts_py36/lib/python3.6/site-packages/pandas/core/reshape/merge.py\u001b[0m in \u001b[0;36m__init__\u001b[0;34m(self, left, right, how, on, left_on, right_on, axis, left_index, right_index, sort, suffixes, copy, indicator, validate)\u001b[0m\n\u001b[1;32m    544\u001b[0m             \u001b[0mwarnings\u001b[0m\u001b[0;34m.\u001b[0m\u001b[0mwarn\u001b[0m\u001b[0;34m(\u001b[0m\u001b[0mmsg\u001b[0m\u001b[0;34m,\u001b[0m \u001b[0mUserWarning\u001b[0m\u001b[0;34m)\u001b[0m\u001b[0;34m\u001b[0m\u001b[0m\n\u001b[1;32m    545\u001b[0m \u001b[0;34m\u001b[0m\u001b[0m\n\u001b[0;32m--> 546\u001b[0;31m         \u001b[0mself\u001b[0m\u001b[0;34m.\u001b[0m\u001b[0m_validate_specification\u001b[0m\u001b[0;34m(\u001b[0m\u001b[0;34m)\u001b[0m\u001b[0;34m\u001b[0m\u001b[0m\n\u001b[0m\u001b[1;32m    547\u001b[0m \u001b[0;34m\u001b[0m\u001b[0m\n\u001b[1;32m    548\u001b[0m         \u001b[0;31m# note this function has side effects\u001b[0m\u001b[0;34m\u001b[0m\u001b[0;34m\u001b[0m\u001b[0m\n",
      "\u001b[0;32m~/.virtualenvs/pytorch_ts_py36/lib/python3.6/site-packages/pandas/core/reshape/merge.py\u001b[0m in \u001b[0;36m_validate_specification\u001b[0;34m(self)\u001b[0m\n\u001b[1;32m   1033\u001b[0m                         \u001b[0;34m'left_index={lidx}, right_index={ridx}'\u001b[0m\u001b[0;34m\u001b[0m\u001b[0m\n\u001b[1;32m   1034\u001b[0m                         .format(lon=self.left_on, ron=self.right_on,\n\u001b[0;32m-> 1035\u001b[0;31m                                 lidx=self.left_index, ridx=self.right_index))\n\u001b[0m\u001b[1;32m   1036\u001b[0m                 \u001b[0;32mif\u001b[0m \u001b[0;32mnot\u001b[0m \u001b[0mcommon_cols\u001b[0m\u001b[0;34m.\u001b[0m\u001b[0mis_unique\u001b[0m\u001b[0;34m:\u001b[0m\u001b[0;34m\u001b[0m\u001b[0m\n\u001b[1;32m   1037\u001b[0m                     raise MergeError(\"Data columns not unique: {common!r}\"\n",
      "\u001b[0;31mMergeError\u001b[0m: No common columns to perform merge on. Merge options: left_on=None, right_on=None, left_index=False, right_index=False"
     ]
    }
   ],
   "source": [
    "block_0_info_2012_2013['AcornDescription'] = \"\"\n",
    "AcornName = pd.DataFrame({'Acorn':['A','B','C','D','E','F','G','H','I','J','K','L','M','N','O','P','Q','U'],\n",
    "                           'AcornName':['Lavish Lifestyles','Executive Wealth','Mature Money',\n",
    "                                        'City Sophisticates','Career Climbers','Countryside Communities',\n",
    "                                        'Successful Suburbs','Steady Neighbourhoods','Comfortable Seniors',\n",
    "                                        'Starting Out','Student Life','Modest Means','Striving Families',\n",
    "                                        'Poorer Pensioners','Young Hardship','Struggling Estates',\n",
    "                                        ' Difficult Circumstances','Unknown']})\n",
    "AcornDesc = pd.read_csv('../input/acorn_details.csv')\n",
    "AcornDesc = pd.merge(AcornName,AcornDesc)\n",
    "block_0_info_2012_2013_wkend_desc = pd.merge(block_0_info_2012_2013,AcornDesc)"
   ]
  },
  {
   "cell_type": "markdown",
   "metadata": {
    "_cell_guid": "2f432b59-0475-4ea8-9b1a-04dac10b6af1",
    "_uuid": "eceab57fe4fbe24d0c88ba8a3d83268dc633a48d"
   },
   "source": [
    "## 1.5 Extract to txt file for analysis in Tableau"
   ]
  },
  {
   "cell_type": "code",
   "execution_count": null,
   "metadata": {
    "_cell_guid": "ff9e922c-3252-44f2-8e2c-fee301a2f2b5",
    "_uuid": "d9c0abbf66df4b64e62365091168d9a2e3cfaed5",
    "collapsed": true
   },
   "outputs": [],
   "source": [
    "#block_0_info_2012_2013_wkend_desc.to_csv('../results/SmMe block_0_2012_2013_weekend_desc.txt')"
   ]
  },
  {
   "cell_type": "markdown",
   "metadata": {
    "_cell_guid": "8b588bc0-f27a-46b5-93d9-bd1108ae2e7f",
    "_uuid": "115dc034211f64450383b62debb094a6bd09cad2"
   },
   "source": [
    "# 2. Analysis in Tableau\n",
    "Below are two Dashboards created based on the above data in Tableau\n",
    "As there are many ways in which the data can be viewed, for example by Acorn class, household,  day, weekend, month etc. a Tableau dashboard is convenient to do some exploration of the data.\n",
    "I have provided the HTML and link to the dashboards (please open fullscreen), some conclusions based on what I have seen from the dashboards has been given below."
   ]
  },
  {
   "cell_type": "markdown",
   "metadata": {
    "_cell_guid": "60b2567c-5f6b-4213-a235-6167266ab11c",
    "_uuid": "bee0f1cfe54b8cdc8a851af4e465d95c25df698a"
   },
   "source": [
    "## 2.1 Overview Dashboard\n",
    "Displayed in the horizontal plot on the left is the average energy consumed broken down by acorn classification & the week or weekend flag. Displayed in the horizontal plot on the right is the average energy consumed per hour for each acorn classification (the size of the circles are proportional to the energy consumption). All filters on the right apply to all the figures."
   ]
  },
  {
   "cell_type": "markdown",
   "metadata": {
    "_cell_guid": "f379cb39-f992-4f09-a90f-5f37211479ea",
    "_uuid": "3450c835352162fb2ce4fc7aa73231f9611d934a"
   },
   "source": [
    "<img src=\"images/dashboards_clustering_1.png\">"
   ]
  },
  {
   "cell_type": "markdown",
   "metadata": {
    "_cell_guid": "ce6ae084-f0d7-4743-8663-4a4e87da813a",
    "_uuid": "ecf19a78278dcb7e5b3636a94d781c8d310b6980"
   },
   "source": [
    "link: https://public.tableau.com/views/SmartMeters_1/Overview?:embed=y&:display_count=yes&publish=yes"
   ]
  },
  {
   "cell_type": "markdown",
   "metadata": {
    "_cell_guid": "b483cadd-72f7-4f3c-ad34-ae43b40dc6c5",
    "_uuid": "0c5a761659a7f9c30d59937748c9f7ffc8e37a12"
   },
   "source": [
    "## 2.2 Uncertainty in the mean energy consumption within each Acorn class\n",
    "Displayed in this dashboard are the mean and standard deviation of the energy consumption over time for a particular month, year and weekend flag. The left figure shows the breakdown by acorn classification. The figure on the right shows the breakdown by household. The filters in the middle of the pane apply to the left figure and the filters on the right of the pane apply to the right figure."
   ]
  },
  {
   "cell_type": "markdown",
   "metadata": {
    "_cell_guid": "a795391d-dd46-4731-9984-363cf9cb96e3",
    "_uuid": "eaa94672614729996e22d7c2d14015b132788fcc"
   },
   "source": [
    "<img src=\"images/dashboards_clustering_2.png\">"
   ]
  },
  {
   "cell_type": "markdown",
   "metadata": {
    "_cell_guid": "76dfcfa0-f43c-4db2-99cb-cf0291f03aed",
    "_uuid": "24be84f654ce9b8dc80d10f25c4e0b7faa43c58a"
   },
   "source": [
    "link:\n",
    "https://public.tableau.com/views/SmartMeters_1_2/Uncertainty?:embed=y&:display_count=yes&publish=yes"
   ]
  },
  {
   "cell_type": "markdown",
   "metadata": {
    "_cell_guid": "dfc6b8d0-2ab0-42e4-8b2a-80ffa9db4699",
    "_uuid": "026d72784ffe189ec19667ae6dbe775a600d8633"
   },
   "source": [
    "## 2.3 Hourly ave. energy consumption as a function of day of year\n",
    "Displayed in this dashboard is a nice view of mean of the energy consumption for a particular time of day and for a particular day. Filters are available for Acorn classifcation and House ID. The image displays nicely changes in patterns due to variations in seasons and time of day."
   ]
  },
  {
   "cell_type": "code",
   "execution_count": null,
   "metadata": {
    "_cell_guid": "a47498bf-1210-4107-99aa-6b6a6739be90",
    "_uuid": "13025e941cd41a247950226268092a8b84ca3e33"
   },
   "outputs": [],
   "source": [
    "<img src=\"images/dashboards_clustering_3.png\">"
   ]
  },
  {
   "cell_type": "markdown",
   "metadata": {
    "_cell_guid": "2d8a364f-a2ac-479a-9ad3-297354b8729d",
    "_uuid": "d3580bfaa4585f96d23f7148ef73368353720bfb"
   },
   "source": [
    "Link:\n",
    "https://public.tableau.com/views/SmartMeters_1_3/TimeOfDayandDayOfYear?:embed=y&:display_count=yes&publish=yes"
   ]
  },
  {
   "cell_type": "markdown",
   "metadata": {
    "_cell_guid": "9487f212-91d0-4f78-ab69-8ff138966bdd",
    "_uuid": "974483e93d1599a8037c6844d03eb026c3c52734"
   },
   "source": [
    "## 2.4 Some conclusions:\n",
    "Some of the things I saw when building and playing around with this data\n",
    "* The mean energy consumption does not align perfectly with the acorn classification order (A -> Q) i.e. it does not align with the premise that A consumes more than B, B consumes more than C etc. The premise is true from A to F, however after F (countryside communities), energy consumption no longer correlates with acorn class. O (Young Hardship) consumes the least and M (Striving Families) consume an amount similar to D (City Sophisticates).\n",
    "\n",
    "* During the week almost all acorn households show clear morning and evening peaks in energy consumption, reflecting the expected classical electricity demand curve. For M (Striving Families) the difference between average and peak demand is exaggerated especially in the morning. \n",
    "\n",
    "* Night time use of energy is very low except for some households (MAC000003 for example) in acorn class P (Struggling Estates) during winter months. Although according to the data these households still have standard use tariffs one would assume they must be using electrical storage heaters. If standard they are using standard tariffs and storage heaters this would have been very expensive.\n",
    "\n",
    "* The variance of energy use is very large even within a particular acorn class, month and weekend flag. This indicates the large amount of individual behavior occurring within acorn classifications even on comparable days\n"
   ]
  },
  {
   "cell_type": "markdown",
   "metadata": {
    "_cell_guid": "01e85401-c090-4c3d-a768-a09cac167a34",
    "_uuid": "2c8cac2f26bab314b141eb6a344e5dd0c377d4ea"
   },
   "source": [
    "## 2.5 Some interesting questions:\n",
    "* For a given month can we cluster the electricity demand patterns of these households into distinct groupings and do those groupings align with acorn classifications?\n",
    "* ... is there a difference in energy consumption behaviour between different tariff types within a certain acorn classification and month?\n"
   ]
  },
  {
   "cell_type": "markdown",
   "metadata": {
    "_cell_guid": "17eaeec2-1b80-4d41-a06f-342f4a2b4331",
    "_uuid": "46e35f8696edb6801019f7c88bcb7d969ae8c2d7"
   },
   "source": [
    "## 2.6 Plan\n",
    "* Run unsupervised learning algorithms on data... \n",
    "    * For this make use of the preprepared daily_dataset.zip folder created by Jean-Michel D. on Kaggle.\n",
    "    * This data contains summary stats of each day for each household. Summary stats inc. mean, std.dev, max, min, sum..."
   ]
  },
  {
   "cell_type": "markdown",
   "metadata": {
    "_cell_guid": "69469fd6-6bbf-4b3f-a7e7-b0168a731119",
    "_uuid": "f92aa0b39a50603cde8bdcb58c3ef44e0c1b8019"
   },
   "source": [
    "# 3. Daily Dataset\n",
    "## 3.1 Importing data, cleaning and exporting "
   ]
  },
  {
   "cell_type": "code",
   "execution_count": null,
   "metadata": {
    "_cell_guid": "4ed5b9d4-80c9-4afb-80ca-b8456edd2902",
    "_uuid": "368ae553f2bc6319b776573bea62d786bba3bc92",
    "collapsed": true
   },
   "outputs": [],
   "source": [
    "#import data, files from 0 to 111 blocks\n",
    "MAX_FILES = 112\n",
    "files = [('block_'+str(i)+'.csv') for i in range (0,MAX_FILES)]\n",
    "\n",
    "block_Daily = pd.concat([pd.read_csv(\"../input/smart-meters-in-london/daily_dataset/daily_dataset/\" + f, dtype={'LCLid': np.str, 'day': np.str, \n",
    "                                                                          'energy_median': np.float64,\n",
    "                                                                          'energy_mean': np.float64, 'energy_max': np.float64,\n",
    "                                                                          'energy_cou10nt': np.float64, 'energy_std': np.float64,\n",
    "                                                                          'energy_sum': np.float64,'energy_min': np.float64}) \\\n",
    "                         for f in files])\n",
    "\n",
    "house_info = pd.read_csv('../input/archived-smartmeter-data/informations_households.csv')"
   ]
  },
  {
   "cell_type": "code",
   "execution_count": null,
   "metadata": {
    "_cell_guid": "4afdcb90-5107-4594-b0fb-7108b10f2953",
    "_uuid": "b7ef235fd8581d3f146561696c558f9d94427f2e"
   },
   "outputs": [],
   "source": [
    "print('Percentage of days when no. of energy readings was less than 47 is: ',\n",
    "      round(100*len(block_Daily[block_Daily.energy_count < 47])/len(block_Daily),2)\n",
    "     ,'%')"
   ]
  },
  {
   "cell_type": "markdown",
   "metadata": {
    "_cell_guid": "49d96902-db5c-4c16-ac26-6c2a1a9b48c7",
    "_uuid": "850acfcc92567092ed618c54b92316c209dec72f"
   },
   "source": [
    "Remove these days to avoid invalid summary statistics where maximums and minimums etc. have been missed by the recording equipment. From now on we can be confident that the summary stats per day apply for recordings where 47 out of 48 potetnial recordings each day have been captured"
   ]
  },
  {
   "cell_type": "code",
   "execution_count": null,
   "metadata": {
    "_cell_guid": "dfd90c2f-097e-4fa6-b3fc-cd51ed306828",
    "_uuid": "12d8974bbecff5b3ad3eb38b081f791b655b5c54"
   },
   "outputs": [],
   "source": [
    "LCLids_del = house_info.loc[house_info.Acorn == 'ACORN-'].LCLid.values\n",
    "LCLids_del"
   ]
  },
  {
   "cell_type": "code",
   "execution_count": null,
   "metadata": {
    "_cell_guid": "4dac3252-3bef-4fb5-a45d-0c9cc1d76236",
    "_uuid": "b82406728d855eb4dbed761e7c147820233a6388"
   },
   "outputs": [],
   "source": [
    "#Delete these houses from the current block being analysed\n",
    "for i in range (0,len(LCLids_del)): \n",
    "    if any(block_Daily.LCLid == LCLids_del[i]):\n",
    "        block_Daily = block_Daily.loc [block_Daily.LCLid != LCLids_del[i]]\n",
    "        print(i)"
   ]
  },
  {
   "cell_type": "code",
   "execution_count": null,
   "metadata": {
    "_cell_guid": "ed5649df-7d37-41cf-bd23-f2c9e0632031",
    "_uuid": "267e7615b6f1e41593ed8be062af45a092bdfd62",
    "scrolled": true
   },
   "outputs": [],
   "source": [
    "block_Daily.drop(block_Daily.index[block_Daily.energy_count < 47], axis=0)\n",
    "\n",
    "block_Daily_info = pd.merge(block_Daily,house_info)\n",
    "block_Daily_info = block_Daily_info.drop(['Acorn_grouped','file'],1)\n",
    "block_Daily_info.Acorn = block_Daily_info.Acorn.str.replace('ACORN-',\"\")\n",
    "block_Daily_info.Acorn.unique()"
   ]
  },
  {
   "cell_type": "code",
   "execution_count": null,
   "metadata": {
    "_cell_guid": "471b4dd1-7c98-4f37-b21b-8f62baedd563",
    "_uuid": "d0985fa5993cf3889550510be81fa28f89765bae"
   },
   "outputs": [],
   "source": [
    "block_Daily_info.head()"
   ]
  },
  {
   "cell_type": "markdown",
   "metadata": {
    "_cell_guid": "2c2668b9-6bb7-45c2-8f49-f4910d8763d0",
    "_uuid": "eb80b5be2ea2f33777f5dcfc94c754736d37238b"
   },
   "source": [
    "Extract this data for cluster analysis in Tableau ... "
   ]
  },
  {
   "cell_type": "code",
   "execution_count": null,
   "metadata": {
    "_cell_guid": "3df1257f-283b-4770-8eff-07c51e96fd15",
    "_uuid": "7dcd7f034894bee77dc2704197ba3fe5226e3dd5",
    "collapsed": true
   },
   "outputs": [],
   "source": [
    "#block_Daily_info.to_csv('../results/SmMe block_Daily_info.txt')"
   ]
  },
  {
   "cell_type": "markdown",
   "metadata": {
    "_cell_guid": "6aa3d349-4706-480a-a0a9-367361a5828f",
    "_uuid": "8c063064ab73fdf60000d7020e8be486b1f8d29f"
   },
   "source": [
    "## 3.2 Standard (Std) and Time of Use (ToU) tariff behaviour\n",
    "Dashboard below shows the average energy consumption on a daily basis aggregated over acorn classifications and months. As observed in most months and acorn catagories ToU tariff users consume less energy. Acorn catagories which are not consumming less energy appear to be F, O, N and Q"
   ]
  },
  {
   "cell_type": "markdown",
   "metadata": {
    "_cell_guid": "858c9f51-4a9a-4acb-8878-d6830bef9bcc",
    "_uuid": "9384751acf99673a9781d714eb00c6d45cf4d218"
   },
   "source": [
    "<img src=\"images/dashboards_clustering_4.png\">"
   ]
  },
  {
   "cell_type": "markdown",
   "metadata": {
    "_cell_guid": "53709930-f294-490c-ba06-6532a5cf4a15",
    "_uuid": "73dfccc9f003a05d669e3f1c8ed1e26ed85c2208"
   },
   "source": [
    "link: \n",
    "https://public.tableau.com/views/SmartMeters_2/StdorToU?:embed=y&:display_count=yes"
   ]
  },
  {
   "cell_type": "markdown",
   "metadata": {
    "_cell_guid": "2f984ab6-8f1c-461d-842c-7bb94d20e32f",
    "_uuid": "2411deade366db3e0edd13039aced061f00e3104"
   },
   "source": [
    "## 3.3 Cluster analysis based on daily summary stats\n",
    "k-means++, with Calinski-Harabasz criterion to assess the number of clusters, was performed on the daily data for each house. Data included: Ave.Energy_sum, Ave.Energy_mean, Ave.Energy_max, Ave.Energy_min and Ave.Energy_median. The analysis returned 3 clusters which are not very well correlated with acorn calssification, highlighting the large amount of variability in the data across households. The 'shape' of the energy consumption curve may provide an additional insight for the cluster analysis and show return more clusters."
   ]
  },
  {
   "cell_type": "markdown",
   "metadata": {
    "_cell_guid": "c7f22b98-2344-483b-91f6-1db84e2ef47a",
    "_uuid": "a3d0d425fad3d7a87541d7297a210db90d3e06a8"
   },
   "source": [
    "<img src=\"images/dashboards_clustering_5.png\">"
   ]
  },
  {
   "cell_type": "markdown",
   "metadata": {
    "_cell_guid": "95856ad1-22d9-49f9-bb8b-3accfedf0f9f",
    "_uuid": "f80273bdd6ac2d89153db8300b3153840b91d7d0"
   },
   "source": [
    "link:\n",
    "https://public.tableau.com/views/SmartMeters_2_2/ClusteringDayData?:embed=y&:display_count=yes&publish=yes"
   ]
  },
  {
   "cell_type": "markdown",
   "metadata": {
    "_cell_guid": "c9fb2e3f-cab1-4d5b-928a-b1268ba8cc4a",
    "_uuid": "0c00e68e751d6974e1fb705d381d7d2356d4df1e"
   },
   "source": [
    "*I would like to do more analysis on this dataset. I struggled with regard to running speed and memory when trying to download and analyse the 30min energy consumption data across all households. There may be a way around the memory issue. I think if we could get a sumarised view of the hourly usage behaviour for every house then then some additional insights would be avaiable re. the shape of the energy consumption curve and how that may characterise various behaviours across acron classifications.*"
   ]
  },
  {
   "cell_type": "code",
   "execution_count": null,
   "metadata": {
    "_cell_guid": "af3198e1-f651-487e-95fd-e64c2189df51",
    "_uuid": "93d1b2f3c830d7dbdfd7e58cb63464b190f3f36d",
    "collapsed": true
   },
   "outputs": [],
   "source": []
  }
 ],
 "metadata": {
  "kernelspec": {
   "display_name": "Python 3",
   "language": "python",
   "name": "python3"
  },
  "language_info": {
   "codemirror_mode": {
    "name": "ipython",
    "version": 3
   },
   "file_extension": ".py",
   "mimetype": "text/x-python",
   "name": "python",
   "nbconvert_exporter": "python",
   "pygments_lexer": "ipython3",
   "version": "3.6.6"
  }
 },
 "nbformat": 4,
 "nbformat_minor": 2
}
