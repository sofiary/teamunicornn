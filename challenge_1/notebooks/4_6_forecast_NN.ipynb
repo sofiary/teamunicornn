{
 "cells": [
  {
   "cell_type": "markdown",
   "metadata": {},
   "source": [
    "# Structured and time series data "
   ]
  },
  {
   "cell_type": "markdown",
   "metadata": {},
   "source": [
    "Based on the methodology taken by the third place result in the Rossman Kaggle competition as detailed in Guo/Berkhahn's [Entity Embeddings of Categorical Variables](https://arxiv.org/abs/1604.06737). See fastai rossman.ipynb\n",
    "\n",
    "The motivation behind exploring this architecture is it's relevance to real-world application. Most data used for decision making day-to-day in industry is structured and/or time-series data. Here we explore the end-to-end process of using neural networks with practical structured data problems.\n",
    "\n",
    "As per the Kaggle competition we will use Root Mean Square Percentage Error (RMSPE). The RMSPE is calculated as\n",
    "\n",
    "![title](../images/RMSPE.png)\n",
    "\n",
    "where y_i denotes the energy used for a single household on a single day and yhat_i denotes the corresponding prediction. Any day and household with 0 energy use is ignored in scoring.\n"
   ]
  },
  {
   "cell_type": "code",
   "execution_count": 1,
   "metadata": {
    "collapsed": true
   },
   "outputs": [],
   "source": [
    "%matplotlib inline\n",
    "%reload_ext autoreload\n",
    "%autoreload 2"
   ]
  },
  {
   "cell_type": "code",
   "execution_count": 2,
   "metadata": {
    "collapsed": true
   },
   "outputs": [],
   "source": [
    "from fastai.structured import *\n",
    "from fastai.column_data import *\n"
   ]
  },
  {
   "cell_type": "code",
   "execution_count": 3,
   "metadata": {},
   "outputs": [],
   "source": [
    "pd.set_option('display.max_columns', None)"
   ]
  },
  {
   "cell_type": "code",
   "execution_count": 4,
   "metadata": {},
   "outputs": [],
   "source": [
    "PATH='../input/merged_data/'"
   ]
  },
  {
   "cell_type": "code",
   "execution_count": 5,
   "metadata": {
    "collapsed": true,
    "hidden": true
   },
   "outputs": [],
   "source": [
    "from IPython.display import HTML, display"
   ]
  },
  {
   "cell_type": "markdown",
   "metadata": {
    "hidden": true
   },
   "source": [
    "\n",
    "The following returns summarized aggregate information to each table accross each field."
   ]
  },
  {
   "cell_type": "code",
   "execution_count": 10,
   "metadata": {},
   "outputs": [],
   "source": [
    "daily_48hh = pd.read_csv(f'{PATH}daily_all_48hh.csv')"
   ]
  },
  {
   "cell_type": "markdown",
   "metadata": {},
   "source": [
    "Here we read in only daly data where a household has 48 half hourly measurements"
   ]
  },
  {
   "cell_type": "code",
   "execution_count": 11,
   "metadata": {},
   "outputs": [
    {
     "data": {
      "text/html": [
       "<div>\n",
       "<style scoped>\n",
       "    .dataframe tbody tr th:only-of-type {\n",
       "        vertical-align: middle;\n",
       "    }\n",
       "\n",
       "    .dataframe tbody tr th {\n",
       "        vertical-align: top;\n",
       "    }\n",
       "\n",
       "    .dataframe thead th {\n",
       "        text-align: right;\n",
       "    }\n",
       "</style>\n",
       "<table border=\"1\" class=\"dataframe\">\n",
       "  <thead>\n",
       "    <tr style=\"text-align: right;\">\n",
       "      <th></th>\n",
       "      <th>Unnamed: 0</th>\n",
       "      <th>LCLid</th>\n",
       "      <th>day</th>\n",
       "      <th>energy_median</th>\n",
       "      <th>energy_mean</th>\n",
       "      <th>energy_max</th>\n",
       "      <th>energy_count</th>\n",
       "      <th>energy_std</th>\n",
       "      <th>energy_sum</th>\n",
       "      <th>energy_min</th>\n",
       "    </tr>\n",
       "  </thead>\n",
       "  <tbody>\n",
       "    <tr>\n",
       "      <th>0</th>\n",
       "      <td>1</td>\n",
       "      <td>MAC000118</td>\n",
       "      <td>2011-12-15</td>\n",
       "      <td>0.1140</td>\n",
       "      <td>0.183542</td>\n",
       "      <td>0.641</td>\n",
       "      <td>48</td>\n",
       "      <td>0.156322</td>\n",
       "      <td>8.810</td>\n",
       "      <td>0.061</td>\n",
       "    </tr>\n",
       "    <tr>\n",
       "      <th>1</th>\n",
       "      <td>2</td>\n",
       "      <td>MAC000118</td>\n",
       "      <td>2011-12-16</td>\n",
       "      <td>0.1510</td>\n",
       "      <td>0.206750</td>\n",
       "      <td>1.029</td>\n",
       "      <td>48</td>\n",
       "      <td>0.190122</td>\n",
       "      <td>9.924</td>\n",
       "      <td>0.061</td>\n",
       "    </tr>\n",
       "    <tr>\n",
       "      <th>2</th>\n",
       "      <td>3</td>\n",
       "      <td>MAC000118</td>\n",
       "      <td>2011-12-17</td>\n",
       "      <td>0.1460</td>\n",
       "      <td>0.218854</td>\n",
       "      <td>0.677</td>\n",
       "      <td>48</td>\n",
       "      <td>0.174688</td>\n",
       "      <td>10.505</td>\n",
       "      <td>0.056</td>\n",
       "    </tr>\n",
       "    <tr>\n",
       "      <th>3</th>\n",
       "      <td>4</td>\n",
       "      <td>MAC000118</td>\n",
       "      <td>2011-12-18</td>\n",
       "      <td>0.1820</td>\n",
       "      <td>0.274417</td>\n",
       "      <td>1.012</td>\n",
       "      <td>48</td>\n",
       "      <td>0.235795</td>\n",
       "      <td>13.172</td>\n",
       "      <td>0.061</td>\n",
       "    </tr>\n",
       "    <tr>\n",
       "      <th>4</th>\n",
       "      <td>5</td>\n",
       "      <td>MAC000118</td>\n",
       "      <td>2011-12-19</td>\n",
       "      <td>0.1175</td>\n",
       "      <td>0.194750</td>\n",
       "      <td>0.695</td>\n",
       "      <td>48</td>\n",
       "      <td>0.164503</td>\n",
       "      <td>9.348</td>\n",
       "      <td>0.057</td>\n",
       "    </tr>\n",
       "  </tbody>\n",
       "</table>\n",
       "</div>"
      ],
      "text/plain": [
       "   Unnamed: 0      LCLid         day  energy_median  energy_mean  energy_max  \\\n",
       "0           1  MAC000118  2011-12-15         0.1140     0.183542       0.641   \n",
       "1           2  MAC000118  2011-12-16         0.1510     0.206750       1.029   \n",
       "2           3  MAC000118  2011-12-17         0.1460     0.218854       0.677   \n",
       "3           4  MAC000118  2011-12-18         0.1820     0.274417       1.012   \n",
       "4           5  MAC000118  2011-12-19         0.1175     0.194750       0.695   \n",
       "\n",
       "   energy_count  energy_std  energy_sum  energy_min  \n",
       "0            48    0.156322       8.810       0.061  \n",
       "1            48    0.190122       9.924       0.061  \n",
       "2            48    0.174688      10.505       0.056  \n",
       "3            48    0.235795      13.172       0.061  \n",
       "4            48    0.164503       9.348       0.057  "
      ]
     },
     "execution_count": 11,
     "metadata": {},
     "output_type": "execute_result"
    }
   ],
   "source": [
    "daily_48hh.head()"
   ]
  },
  {
   "cell_type": "code",
   "execution_count": 13,
   "metadata": {},
   "outputs": [],
   "source": [
    "daily_48hh.drop(columns=['Unnamed: 0'],inplace=True)"
   ]
  },
  {
   "cell_type": "code",
   "execution_count": 14,
   "metadata": {},
   "outputs": [
    {
     "data": {
      "text/html": [
       "<div>\n",
       "<style scoped>\n",
       "    .dataframe tbody tr th:only-of-type {\n",
       "        vertical-align: middle;\n",
       "    }\n",
       "\n",
       "    .dataframe tbody tr th {\n",
       "        vertical-align: top;\n",
       "    }\n",
       "\n",
       "    .dataframe thead th {\n",
       "        text-align: right;\n",
       "    }\n",
       "</style>\n",
       "<table border=\"1\" class=\"dataframe\">\n",
       "  <thead>\n",
       "    <tr style=\"text-align: right;\">\n",
       "      <th></th>\n",
       "      <th>LCLid</th>\n",
       "      <th>day</th>\n",
       "      <th>energy_median</th>\n",
       "      <th>energy_mean</th>\n",
       "      <th>energy_max</th>\n",
       "      <th>energy_count</th>\n",
       "      <th>energy_std</th>\n",
       "      <th>energy_sum</th>\n",
       "      <th>energy_min</th>\n",
       "    </tr>\n",
       "  </thead>\n",
       "  <tbody>\n",
       "    <tr>\n",
       "      <th>count</th>\n",
       "      <td>NaN</td>\n",
       "      <td>NaN</td>\n",
       "      <td>3.46935e+06</td>\n",
       "      <td>3.46935e+06</td>\n",
       "      <td>3.46935e+06</td>\n",
       "      <td>3.46935e+06</td>\n",
       "      <td>3.46935e+06</td>\n",
       "      <td>3.46935e+06</td>\n",
       "      <td>3.46935e+06</td>\n",
       "    </tr>\n",
       "    <tr>\n",
       "      <th>mean</th>\n",
       "      <td>NaN</td>\n",
       "      <td>NaN</td>\n",
       "      <td>0.158577</td>\n",
       "      <td>0.211765</td>\n",
       "      <td>0.836838</td>\n",
       "      <td>48</td>\n",
       "      <td>0.172691</td>\n",
       "      <td>10.1647</td>\n",
       "      <td>0.0592012</td>\n",
       "    </tr>\n",
       "    <tr>\n",
       "      <th>std</th>\n",
       "      <td>NaN</td>\n",
       "      <td>NaN</td>\n",
       "      <td>0.169372</td>\n",
       "      <td>0.190229</td>\n",
       "      <td>0.668409</td>\n",
       "      <td>0</td>\n",
       "      <td>0.153189</td>\n",
       "      <td>9.13101</td>\n",
       "      <td>0.0849863</td>\n",
       "    </tr>\n",
       "    <tr>\n",
       "      <th>min</th>\n",
       "      <td>NaN</td>\n",
       "      <td>NaN</td>\n",
       "      <td>0</td>\n",
       "      <td>0</td>\n",
       "      <td>0</td>\n",
       "      <td>48</td>\n",
       "      <td>0</td>\n",
       "      <td>0</td>\n",
       "      <td>0</td>\n",
       "    </tr>\n",
       "    <tr>\n",
       "      <th>25%</th>\n",
       "      <td>NaN</td>\n",
       "      <td>NaN</td>\n",
       "      <td>0.067</td>\n",
       "      <td>0.0982292</td>\n",
       "      <td>0.348</td>\n",
       "      <td>48</td>\n",
       "      <td>0.0691159</td>\n",
       "      <td>4.715</td>\n",
       "      <td>0.02</td>\n",
       "    </tr>\n",
       "    <tr>\n",
       "      <th>50%</th>\n",
       "      <td>NaN</td>\n",
       "      <td>NaN</td>\n",
       "      <td>0.1145</td>\n",
       "      <td>0.163417</td>\n",
       "      <td>0.691</td>\n",
       "      <td>48</td>\n",
       "      <td>0.132795</td>\n",
       "      <td>7.844</td>\n",
       "      <td>0.039</td>\n",
       "    </tr>\n",
       "    <tr>\n",
       "      <th>75%</th>\n",
       "      <td>NaN</td>\n",
       "      <td>NaN</td>\n",
       "      <td>0.191</td>\n",
       "      <td>0.262542</td>\n",
       "      <td>1.13</td>\n",
       "      <td>48</td>\n",
       "      <td>0.229319</td>\n",
       "      <td>12.602</td>\n",
       "      <td>0.071</td>\n",
       "    </tr>\n",
       "    <tr>\n",
       "      <th>max</th>\n",
       "      <td>NaN</td>\n",
       "      <td>NaN</td>\n",
       "      <td>6.9055</td>\n",
       "      <td>6.92825</td>\n",
       "      <td>10.761</td>\n",
       "      <td>48</td>\n",
       "      <td>3.34731</td>\n",
       "      <td>332.556</td>\n",
       "      <td>6.394</td>\n",
       "    </tr>\n",
       "    <tr>\n",
       "      <th>counts</th>\n",
       "      <td>3469352</td>\n",
       "      <td>3469352</td>\n",
       "      <td>3469352</td>\n",
       "      <td>3469352</td>\n",
       "      <td>3469352</td>\n",
       "      <td>3469352</td>\n",
       "      <td>3469352</td>\n",
       "      <td>3469352</td>\n",
       "      <td>3469352</td>\n",
       "    </tr>\n",
       "    <tr>\n",
       "      <th>uniques</th>\n",
       "      <td>5560</td>\n",
       "      <td>827</td>\n",
       "      <td>10337</td>\n",
       "      <td>396529</td>\n",
       "      <td>6419</td>\n",
       "      <td>1</td>\n",
       "      <td>3245602</td>\n",
       "      <td>399606</td>\n",
       "      <td>2078</td>\n",
       "    </tr>\n",
       "    <tr>\n",
       "      <th>missing</th>\n",
       "      <td>0</td>\n",
       "      <td>0</td>\n",
       "      <td>0</td>\n",
       "      <td>0</td>\n",
       "      <td>0</td>\n",
       "      <td>0</td>\n",
       "      <td>0</td>\n",
       "      <td>0</td>\n",
       "      <td>0</td>\n",
       "    </tr>\n",
       "    <tr>\n",
       "      <th>missing_perc</th>\n",
       "      <td>0%</td>\n",
       "      <td>0%</td>\n",
       "      <td>0%</td>\n",
       "      <td>0%</td>\n",
       "      <td>0%</td>\n",
       "      <td>0%</td>\n",
       "      <td>0%</td>\n",
       "      <td>0%</td>\n",
       "      <td>0%</td>\n",
       "    </tr>\n",
       "    <tr>\n",
       "      <th>types</th>\n",
       "      <td>categorical</td>\n",
       "      <td>categorical</td>\n",
       "      <td>numeric</td>\n",
       "      <td>numeric</td>\n",
       "      <td>numeric</td>\n",
       "      <td>constant</td>\n",
       "      <td>numeric</td>\n",
       "      <td>numeric</td>\n",
       "      <td>numeric</td>\n",
       "    </tr>\n",
       "  </tbody>\n",
       "</table>\n",
       "</div>"
      ],
      "text/plain": [
       "                    LCLid          day energy_median  energy_mean  \\\n",
       "count                 NaN          NaN   3.46935e+06  3.46935e+06   \n",
       "mean                  NaN          NaN      0.158577     0.211765   \n",
       "std                   NaN          NaN      0.169372     0.190229   \n",
       "min                   NaN          NaN             0            0   \n",
       "25%                   NaN          NaN         0.067    0.0982292   \n",
       "50%                   NaN          NaN        0.1145     0.163417   \n",
       "75%                   NaN          NaN         0.191     0.262542   \n",
       "max                   NaN          NaN        6.9055      6.92825   \n",
       "counts            3469352      3469352       3469352      3469352   \n",
       "uniques              5560          827         10337       396529   \n",
       "missing                 0            0             0            0   \n",
       "missing_perc           0%           0%            0%           0%   \n",
       "types         categorical  categorical       numeric      numeric   \n",
       "\n",
       "               energy_max energy_count   energy_std   energy_sum   energy_min  \n",
       "count         3.46935e+06  3.46935e+06  3.46935e+06  3.46935e+06  3.46935e+06  \n",
       "mean             0.836838           48     0.172691      10.1647    0.0592012  \n",
       "std              0.668409            0     0.153189      9.13101    0.0849863  \n",
       "min                     0           48            0            0            0  \n",
       "25%                 0.348           48    0.0691159        4.715         0.02  \n",
       "50%                 0.691           48     0.132795        7.844        0.039  \n",
       "75%                  1.13           48     0.229319       12.602        0.071  \n",
       "max                10.761           48      3.34731      332.556        6.394  \n",
       "counts            3469352      3469352      3469352      3469352      3469352  \n",
       "uniques              6419            1      3245602       399606         2078  \n",
       "missing                 0            0            0            0            0  \n",
       "missing_perc           0%           0%           0%           0%           0%  \n",
       "types             numeric     constant      numeric      numeric      numeric  "
      ]
     },
     "metadata": {},
     "output_type": "display_data"
    }
   ],
   "source": [
    "display(DataFrameSummary(daily_48hh).summary())"
   ]
  },
  {
   "cell_type": "code",
   "execution_count": 16,
   "metadata": {},
   "outputs": [],
   "source": [
    "weather = pd.read_csv(f'{PATH}weather_daily_darksky.csv')"
   ]
  },
  {
   "cell_type": "code",
   "execution_count": 27,
   "metadata": {},
   "outputs": [],
   "source": [
    "weather[['day', 'time']] = weather['sunriseTime'].str.split(' ', n=1, expand=True)"
   ]
  },
  {
   "cell_type": "code",
   "execution_count": 30,
   "metadata": {},
   "outputs": [
    {
     "data": {
      "text/html": [
       "<div>\n",
       "<style scoped>\n",
       "    .dataframe tbody tr th:only-of-type {\n",
       "        vertical-align: middle;\n",
       "    }\n",
       "\n",
       "    .dataframe tbody tr th {\n",
       "        vertical-align: top;\n",
       "    }\n",
       "\n",
       "    .dataframe thead th {\n",
       "        text-align: right;\n",
       "    }\n",
       "</style>\n",
       "<table border=\"1\" class=\"dataframe\">\n",
       "  <thead>\n",
       "    <tr style=\"text-align: right;\">\n",
       "      <th></th>\n",
       "      <th>temperatureMax</th>\n",
       "      <th>temperatureMaxTime</th>\n",
       "      <th>windBearing</th>\n",
       "      <th>icon</th>\n",
       "      <th>dewPoint</th>\n",
       "      <th>temperatureMinTime</th>\n",
       "      <th>cloudCover</th>\n",
       "      <th>windSpeed</th>\n",
       "      <th>pressure</th>\n",
       "      <th>apparentTemperatureMinTime</th>\n",
       "      <th>apparentTemperatureHigh</th>\n",
       "      <th>precipType</th>\n",
       "      <th>visibility</th>\n",
       "      <th>humidity</th>\n",
       "      <th>apparentTemperatureHighTime</th>\n",
       "      <th>apparentTemperatureLow</th>\n",
       "      <th>apparentTemperatureMax</th>\n",
       "      <th>uvIndex</th>\n",
       "      <th>time</th>\n",
       "      <th>sunsetTime</th>\n",
       "      <th>temperatureLow</th>\n",
       "      <th>temperatureMin</th>\n",
       "      <th>temperatureHigh</th>\n",
       "      <th>sunriseTime</th>\n",
       "      <th>temperatureHighTime</th>\n",
       "      <th>uvIndexTime</th>\n",
       "      <th>summary</th>\n",
       "      <th>temperatureLowTime</th>\n",
       "      <th>apparentTemperatureMin</th>\n",
       "      <th>apparentTemperatureMaxTime</th>\n",
       "      <th>apparentTemperatureLowTime</th>\n",
       "      <th>moonPhase</th>\n",
       "      <th>day</th>\n",
       "    </tr>\n",
       "  </thead>\n",
       "  <tbody>\n",
       "    <tr>\n",
       "      <th>0</th>\n",
       "      <td>11.96</td>\n",
       "      <td>2011-11-11 23:00:00</td>\n",
       "      <td>123</td>\n",
       "      <td>fog</td>\n",
       "      <td>9.40</td>\n",
       "      <td>2011-11-11 07:00:00</td>\n",
       "      <td>0.79</td>\n",
       "      <td>3.88</td>\n",
       "      <td>1016.08</td>\n",
       "      <td>2011-11-11 07:00:00</td>\n",
       "      <td>10.87</td>\n",
       "      <td>rain</td>\n",
       "      <td>3.30</td>\n",
       "      <td>0.95</td>\n",
       "      <td>2011-11-11 19:00:00</td>\n",
       "      <td>10.87</td>\n",
       "      <td>11.96</td>\n",
       "      <td>1.0</td>\n",
       "      <td>07:12:14</td>\n",
       "      <td>2011-11-11 16:19:21</td>\n",
       "      <td>10.87</td>\n",
       "      <td>8.85</td>\n",
       "      <td>10.87</td>\n",
       "      <td>2011-11-11 07:12:14</td>\n",
       "      <td>2011-11-11 19:00:00</td>\n",
       "      <td>2011-11-11 11:00:00</td>\n",
       "      <td>Foggy until afternoon.</td>\n",
       "      <td>2011-11-11 19:00:00</td>\n",
       "      <td>6.48</td>\n",
       "      <td>2011-11-11 23:00:00</td>\n",
       "      <td>2011-11-11 19:00:00</td>\n",
       "      <td>0.52</td>\n",
       "      <td>2011-11-11</td>\n",
       "    </tr>\n",
       "    <tr>\n",
       "      <th>1</th>\n",
       "      <td>8.59</td>\n",
       "      <td>2011-12-11 14:00:00</td>\n",
       "      <td>198</td>\n",
       "      <td>partly-cloudy-day</td>\n",
       "      <td>4.49</td>\n",
       "      <td>2011-12-11 01:00:00</td>\n",
       "      <td>0.56</td>\n",
       "      <td>3.94</td>\n",
       "      <td>1007.71</td>\n",
       "      <td>2011-12-11 02:00:00</td>\n",
       "      <td>5.62</td>\n",
       "      <td>rain</td>\n",
       "      <td>12.09</td>\n",
       "      <td>0.88</td>\n",
       "      <td>2011-12-11 19:00:00</td>\n",
       "      <td>-0.64</td>\n",
       "      <td>5.72</td>\n",
       "      <td>1.0</td>\n",
       "      <td>07:57:02</td>\n",
       "      <td>2011-12-11 15:52:53</td>\n",
       "      <td>3.09</td>\n",
       "      <td>2.48</td>\n",
       "      <td>8.59</td>\n",
       "      <td>2011-12-11 07:57:02</td>\n",
       "      <td>2011-12-11 14:00:00</td>\n",
       "      <td>2011-12-11 12:00:00</td>\n",
       "      <td>Partly cloudy throughout the day.</td>\n",
       "      <td>2011-12-12 07:00:00</td>\n",
       "      <td>0.11</td>\n",
       "      <td>2011-12-11 20:00:00</td>\n",
       "      <td>2011-12-12 08:00:00</td>\n",
       "      <td>0.53</td>\n",
       "      <td>2011-12-11</td>\n",
       "    </tr>\n",
       "  </tbody>\n",
       "</table>\n",
       "</div>"
      ],
      "text/plain": [
       "   temperatureMax   temperatureMaxTime  windBearing               icon  \\\n",
       "0           11.96  2011-11-11 23:00:00          123                fog   \n",
       "1            8.59  2011-12-11 14:00:00          198  partly-cloudy-day   \n",
       "\n",
       "   dewPoint   temperatureMinTime  cloudCover  windSpeed  pressure  \\\n",
       "0      9.40  2011-11-11 07:00:00        0.79       3.88   1016.08   \n",
       "1      4.49  2011-12-11 01:00:00        0.56       3.94   1007.71   \n",
       "\n",
       "  apparentTemperatureMinTime  apparentTemperatureHigh precipType  visibility  \\\n",
       "0        2011-11-11 07:00:00                    10.87       rain        3.30   \n",
       "1        2011-12-11 02:00:00                     5.62       rain       12.09   \n",
       "\n",
       "   humidity apparentTemperatureHighTime  apparentTemperatureLow  \\\n",
       "0      0.95         2011-11-11 19:00:00                   10.87   \n",
       "1      0.88         2011-12-11 19:00:00                   -0.64   \n",
       "\n",
       "   apparentTemperatureMax  uvIndex      time           sunsetTime  \\\n",
       "0                   11.96      1.0  07:12:14  2011-11-11 16:19:21   \n",
       "1                    5.72      1.0  07:57:02  2011-12-11 15:52:53   \n",
       "\n",
       "   temperatureLow  temperatureMin  temperatureHigh          sunriseTime  \\\n",
       "0           10.87            8.85            10.87  2011-11-11 07:12:14   \n",
       "1            3.09            2.48             8.59  2011-12-11 07:57:02   \n",
       "\n",
       "   temperatureHighTime          uvIndexTime  \\\n",
       "0  2011-11-11 19:00:00  2011-11-11 11:00:00   \n",
       "1  2011-12-11 14:00:00  2011-12-11 12:00:00   \n",
       "\n",
       "                             summary   temperatureLowTime  \\\n",
       "0             Foggy until afternoon.  2011-11-11 19:00:00   \n",
       "1  Partly cloudy throughout the day.  2011-12-12 07:00:00   \n",
       "\n",
       "   apparentTemperatureMin apparentTemperatureMaxTime  \\\n",
       "0                    6.48        2011-11-11 23:00:00   \n",
       "1                    0.11        2011-12-11 20:00:00   \n",
       "\n",
       "  apparentTemperatureLowTime  moonPhase         day  \n",
       "0        2011-11-11 19:00:00       0.52  2011-11-11  \n",
       "1        2011-12-12 08:00:00       0.53  2011-12-11  "
      ]
     },
     "execution_count": 30,
     "metadata": {},
     "output_type": "execute_result"
    }
   ],
   "source": [
    "weather.head(n=2)"
   ]
  },
  {
   "cell_type": "code",
   "execution_count": null,
   "metadata": {},
   "outputs": [],
   "source": [
    "#convert time string to timestamp\n",
    "hh_weather['time'] = pd.to_timedelta(hh_weather['time'])"
   ]
  },
  {
   "cell_type": "markdown",
   "metadata": {},
   "source": [
    "Bank Holidays"
   ]
  },
  {
   "cell_type": "code",
   "execution_count": 23,
   "metadata": {},
   "outputs": [],
   "source": [
    "bank_holidays = pd.read_csv(f'{PATH}uk_bank_holidays.csv')"
   ]
  },
  {
   "cell_type": "code",
   "execution_count": 24,
   "metadata": {},
   "outputs": [],
   "source": [
    "bank_holidays = bank_holidays.rename(columns={'Bank holidays': 'day'})\n"
   ]
  },
  {
   "cell_type": "code",
   "execution_count": 25,
   "metadata": {},
   "outputs": [
    {
     "data": {
      "text/html": [
       "<div>\n",
       "<style scoped>\n",
       "    .dataframe tbody tr th:only-of-type {\n",
       "        vertical-align: middle;\n",
       "    }\n",
       "\n",
       "    .dataframe tbody tr th {\n",
       "        vertical-align: top;\n",
       "    }\n",
       "\n",
       "    .dataframe thead th {\n",
       "        text-align: right;\n",
       "    }\n",
       "</style>\n",
       "<table border=\"1\" class=\"dataframe\">\n",
       "  <thead>\n",
       "    <tr style=\"text-align: right;\">\n",
       "      <th></th>\n",
       "      <th>day</th>\n",
       "      <th>Type</th>\n",
       "    </tr>\n",
       "  </thead>\n",
       "  <tbody>\n",
       "    <tr>\n",
       "      <th>0</th>\n",
       "      <td>2012-12-26</td>\n",
       "      <td>Boxing Day</td>\n",
       "    </tr>\n",
       "    <tr>\n",
       "      <th>1</th>\n",
       "      <td>2012-12-25</td>\n",
       "      <td>Christmas Day</td>\n",
       "    </tr>\n",
       "    <tr>\n",
       "      <th>2</th>\n",
       "      <td>2012-08-27</td>\n",
       "      <td>Summer bank holiday</td>\n",
       "    </tr>\n",
       "    <tr>\n",
       "      <th>3</th>\n",
       "      <td>2012-05-06</td>\n",
       "      <td>Queen?s Diamond Jubilee (extra bank holiday)</td>\n",
       "    </tr>\n",
       "    <tr>\n",
       "      <th>4</th>\n",
       "      <td>2012-04-06</td>\n",
       "      <td>Spring bank holiday (substitute day)</td>\n",
       "    </tr>\n",
       "  </tbody>\n",
       "</table>\n",
       "</div>"
      ],
      "text/plain": [
       "          day                                          Type\n",
       "0  2012-12-26                                    Boxing Day\n",
       "1  2012-12-25                                 Christmas Day\n",
       "2  2012-08-27                           Summer bank holiday\n",
       "3  2012-05-06  Queen?s Diamond Jubilee (extra bank holiday)\n",
       "4  2012-04-06          Spring bank holiday (substitute day)"
      ]
     },
     "execution_count": 25,
     "metadata": {},
     "output_type": "execute_result"
    }
   ],
   "source": [
    "bank_holidays.head()"
   ]
  },
  {
   "cell_type": "code",
   "execution_count": 18,
   "metadata": {},
   "outputs": [],
   "source": [
    "acorn_details = pd.read_csv(f'{PATH}acorn_details.csv')"
   ]
  },
  {
   "cell_type": "code",
   "execution_count": 19,
   "metadata": {},
   "outputs": [
    {
     "data": {
      "text/html": [
       "<div>\n",
       "<style scoped>\n",
       "    .dataframe tbody tr th:only-of-type {\n",
       "        vertical-align: middle;\n",
       "    }\n",
       "\n",
       "    .dataframe tbody tr th {\n",
       "        vertical-align: top;\n",
       "    }\n",
       "\n",
       "    .dataframe thead th {\n",
       "        text-align: right;\n",
       "    }\n",
       "</style>\n",
       "<table border=\"1\" class=\"dataframe\">\n",
       "  <thead>\n",
       "    <tr style=\"text-align: right;\">\n",
       "      <th></th>\n",
       "      <th>MAIN CATEGORIES</th>\n",
       "      <th>CATEGORIES</th>\n",
       "      <th>REFERENCE</th>\n",
       "      <th>ACORN-A</th>\n",
       "      <th>ACORN-B</th>\n",
       "      <th>ACORN-C</th>\n",
       "      <th>ACORN-D</th>\n",
       "      <th>ACORN-E</th>\n",
       "      <th>ACORN-F</th>\n",
       "      <th>ACORN-G</th>\n",
       "      <th>ACORN-H</th>\n",
       "      <th>ACORN-I</th>\n",
       "      <th>ACORN-J</th>\n",
       "      <th>ACORN-K</th>\n",
       "      <th>ACORN-L</th>\n",
       "      <th>ACORN-M</th>\n",
       "      <th>ACORN-N</th>\n",
       "      <th>ACORN-O</th>\n",
       "      <th>ACORN-P</th>\n",
       "      <th>ACORN-Q</th>\n",
       "    </tr>\n",
       "  </thead>\n",
       "  <tbody>\n",
       "    <tr>\n",
       "      <th>0</th>\n",
       "      <td>POPULATION</td>\n",
       "      <td>Age</td>\n",
       "      <td>Age 0-4</td>\n",
       "      <td>77.0</td>\n",
       "      <td>83.0</td>\n",
       "      <td>72.0</td>\n",
       "      <td>100.0</td>\n",
       "      <td>120.0</td>\n",
       "      <td>77.0</td>\n",
       "      <td>97.0</td>\n",
       "      <td>97.0</td>\n",
       "      <td>63.0</td>\n",
       "      <td>119.0</td>\n",
       "      <td>67.0</td>\n",
       "      <td>114.0</td>\n",
       "      <td>113.0</td>\n",
       "      <td>89.0</td>\n",
       "      <td>123.0</td>\n",
       "      <td>138.0</td>\n",
       "      <td>133.0</td>\n",
       "    </tr>\n",
       "    <tr>\n",
       "      <th>1</th>\n",
       "      <td>POPULATION</td>\n",
       "      <td>Age</td>\n",
       "      <td>Age 5-17</td>\n",
       "      <td>117.0</td>\n",
       "      <td>109.0</td>\n",
       "      <td>87.0</td>\n",
       "      <td>69.0</td>\n",
       "      <td>94.0</td>\n",
       "      <td>95.0</td>\n",
       "      <td>102.0</td>\n",
       "      <td>106.0</td>\n",
       "      <td>67.0</td>\n",
       "      <td>95.0</td>\n",
       "      <td>64.0</td>\n",
       "      <td>108.0</td>\n",
       "      <td>116.0</td>\n",
       "      <td>86.0</td>\n",
       "      <td>89.0</td>\n",
       "      <td>136.0</td>\n",
       "      <td>106.0</td>\n",
       "    </tr>\n",
       "    <tr>\n",
       "      <th>2</th>\n",
       "      <td>POPULATION</td>\n",
       "      <td>Age</td>\n",
       "      <td>Age 18-24</td>\n",
       "      <td>64.0</td>\n",
       "      <td>73.0</td>\n",
       "      <td>67.0</td>\n",
       "      <td>107.0</td>\n",
       "      <td>100.0</td>\n",
       "      <td>71.0</td>\n",
       "      <td>83.0</td>\n",
       "      <td>89.0</td>\n",
       "      <td>62.0</td>\n",
       "      <td>104.0</td>\n",
       "      <td>459.0</td>\n",
       "      <td>97.0</td>\n",
       "      <td>96.0</td>\n",
       "      <td>86.0</td>\n",
       "      <td>117.0</td>\n",
       "      <td>109.0</td>\n",
       "      <td>110.0</td>\n",
       "    </tr>\n",
       "    <tr>\n",
       "      <th>3</th>\n",
       "      <td>POPULATION</td>\n",
       "      <td>Age</td>\n",
       "      <td>Age 25-34</td>\n",
       "      <td>52.0</td>\n",
       "      <td>63.0</td>\n",
       "      <td>62.0</td>\n",
       "      <td>197.0</td>\n",
       "      <td>151.0</td>\n",
       "      <td>66.0</td>\n",
       "      <td>90.0</td>\n",
       "      <td>88.0</td>\n",
       "      <td>63.0</td>\n",
       "      <td>132.0</td>\n",
       "      <td>145.0</td>\n",
       "      <td>109.0</td>\n",
       "      <td>96.0</td>\n",
       "      <td>90.0</td>\n",
       "      <td>140.0</td>\n",
       "      <td>120.0</td>\n",
       "      <td>120.0</td>\n",
       "    </tr>\n",
       "    <tr>\n",
       "      <th>4</th>\n",
       "      <td>POPULATION</td>\n",
       "      <td>Age</td>\n",
       "      <td>Age 35-49</td>\n",
       "      <td>102.0</td>\n",
       "      <td>105.0</td>\n",
       "      <td>91.0</td>\n",
       "      <td>124.0</td>\n",
       "      <td>118.0</td>\n",
       "      <td>93.0</td>\n",
       "      <td>102.0</td>\n",
       "      <td>103.0</td>\n",
       "      <td>76.0</td>\n",
       "      <td>111.0</td>\n",
       "      <td>67.0</td>\n",
       "      <td>99.0</td>\n",
       "      <td>98.0</td>\n",
       "      <td>90.0</td>\n",
       "      <td>102.0</td>\n",
       "      <td>103.0</td>\n",
       "      <td>100.0</td>\n",
       "    </tr>\n",
       "  </tbody>\n",
       "</table>\n",
       "</div>"
      ],
      "text/plain": [
       "  MAIN CATEGORIES CATEGORIES  REFERENCE  ACORN-A  ACORN-B  ACORN-C  ACORN-D  \\\n",
       "0      POPULATION        Age    Age 0-4     77.0     83.0     72.0    100.0   \n",
       "1      POPULATION        Age   Age 5-17    117.0    109.0     87.0     69.0   \n",
       "2      POPULATION        Age  Age 18-24     64.0     73.0     67.0    107.0   \n",
       "3      POPULATION        Age  Age 25-34     52.0     63.0     62.0    197.0   \n",
       "4      POPULATION        Age  Age 35-49    102.0    105.0     91.0    124.0   \n",
       "\n",
       "   ACORN-E  ACORN-F  ACORN-G  ACORN-H  ACORN-I  ACORN-J  ACORN-K  ACORN-L  \\\n",
       "0    120.0     77.0     97.0     97.0     63.0    119.0     67.0    114.0   \n",
       "1     94.0     95.0    102.0    106.0     67.0     95.0     64.0    108.0   \n",
       "2    100.0     71.0     83.0     89.0     62.0    104.0    459.0     97.0   \n",
       "3    151.0     66.0     90.0     88.0     63.0    132.0    145.0    109.0   \n",
       "4    118.0     93.0    102.0    103.0     76.0    111.0     67.0     99.0   \n",
       "\n",
       "   ACORN-M  ACORN-N  ACORN-O  ACORN-P  ACORN-Q  \n",
       "0    113.0     89.0    123.0    138.0    133.0  \n",
       "1    116.0     86.0     89.0    136.0    106.0  \n",
       "2     96.0     86.0    117.0    109.0    110.0  \n",
       "3     96.0     90.0    140.0    120.0    120.0  \n",
       "4     98.0     90.0    102.0    103.0    100.0  "
      ]
     },
     "execution_count": 19,
     "metadata": {},
     "output_type": "execute_result"
    }
   ],
   "source": [
    "acorn_details.head()"
   ]
  },
  {
   "cell_type": "code",
   "execution_count": 21,
   "metadata": {},
   "outputs": [],
   "source": [
    "informations_households = pd.read_csv(f'{PATH}informations_households.csv')"
   ]
  },
  {
   "cell_type": "code",
   "execution_count": 22,
   "metadata": {},
   "outputs": [
    {
     "data": {
      "text/html": [
       "<div>\n",
       "<style scoped>\n",
       "    .dataframe tbody tr th:only-of-type {\n",
       "        vertical-align: middle;\n",
       "    }\n",
       "\n",
       "    .dataframe tbody tr th {\n",
       "        vertical-align: top;\n",
       "    }\n",
       "\n",
       "    .dataframe thead th {\n",
       "        text-align: right;\n",
       "    }\n",
       "</style>\n",
       "<table border=\"1\" class=\"dataframe\">\n",
       "  <thead>\n",
       "    <tr style=\"text-align: right;\">\n",
       "      <th></th>\n",
       "      <th>LCLid</th>\n",
       "      <th>stdorToU</th>\n",
       "      <th>Acorn</th>\n",
       "      <th>Acorn_grouped</th>\n",
       "      <th>file</th>\n",
       "    </tr>\n",
       "  </thead>\n",
       "  <tbody>\n",
       "    <tr>\n",
       "      <th>0</th>\n",
       "      <td>MAC005492</td>\n",
       "      <td>ToU</td>\n",
       "      <td>ACORN-</td>\n",
       "      <td>ACORN-</td>\n",
       "      <td>block_0</td>\n",
       "    </tr>\n",
       "    <tr>\n",
       "      <th>1</th>\n",
       "      <td>MAC001074</td>\n",
       "      <td>ToU</td>\n",
       "      <td>ACORN-</td>\n",
       "      <td>ACORN-</td>\n",
       "      <td>block_0</td>\n",
       "    </tr>\n",
       "    <tr>\n",
       "      <th>2</th>\n",
       "      <td>MAC000002</td>\n",
       "      <td>Std</td>\n",
       "      <td>ACORN-A</td>\n",
       "      <td>Affluent</td>\n",
       "      <td>block_0</td>\n",
       "    </tr>\n",
       "    <tr>\n",
       "      <th>3</th>\n",
       "      <td>MAC003613</td>\n",
       "      <td>Std</td>\n",
       "      <td>ACORN-A</td>\n",
       "      <td>Affluent</td>\n",
       "      <td>block_0</td>\n",
       "    </tr>\n",
       "    <tr>\n",
       "      <th>4</th>\n",
       "      <td>MAC003597</td>\n",
       "      <td>Std</td>\n",
       "      <td>ACORN-A</td>\n",
       "      <td>Affluent</td>\n",
       "      <td>block_0</td>\n",
       "    </tr>\n",
       "  </tbody>\n",
       "</table>\n",
       "</div>"
      ],
      "text/plain": [
       "       LCLid stdorToU    Acorn Acorn_grouped     file\n",
       "0  MAC005492      ToU   ACORN-        ACORN-  block_0\n",
       "1  MAC001074      ToU   ACORN-        ACORN-  block_0\n",
       "2  MAC000002      Std  ACORN-A      Affluent  block_0\n",
       "3  MAC003613      Std  ACORN-A      Affluent  block_0\n",
       "4  MAC003597      Std  ACORN-A      Affluent  block_0"
      ]
     },
     "execution_count": 22,
     "metadata": {},
     "output_type": "execute_result"
    }
   ],
   "source": [
    "informations_households.head()"
   ]
  },
  {
   "cell_type": "markdown",
   "metadata": {},
   "source": [
    "## Data Cleaning / Feature Engineering"
   ]
  },
  {
   "cell_type": "code",
   "execution_count": 15,
   "metadata": {},
   "outputs": [
    {
     "data": {
      "text/plain": [
       "3469352"
      ]
     },
     "execution_count": 15,
     "metadata": {},
     "output_type": "execute_result"
    }
   ],
   "source": [
    "len(daily_48hh)"
   ]
  },
  {
   "cell_type": "markdown",
   "metadata": {},
   "source": [
    "`join_df` is a function for joining tables on specific fields. By default, we'll be doing a left outer join of `right` on the `left` argument using the given fields for each table.\n",
    "\n",
    "Pandas does joins using the `merge` method. The `suffixes` argument describes the naming convention for duplicate fields. We've elected to leave the duplicate field names on the left untouched, and append a \"\\_y\" to those on the right."
   ]
  },
  {
   "cell_type": "code",
   "execution_count": 32,
   "metadata": {
    "collapsed": true
   },
   "outputs": [],
   "source": [
    "def join_df(left, right, left_on, right_on=None, suffix='_y'):\n",
    "    if right_on is None: right_on = left_on\n",
    "    return left.merge(right, how='left', left_on=left_on, right_on=right_on, \n",
    "                      suffixes=(\"\", suffix))"
   ]
  },
  {
   "cell_type": "markdown",
   "metadata": {},
   "source": [
    "Join weather/state names."
   ]
  },
  {
   "cell_type": "code",
   "execution_count": 33,
   "metadata": {
    "collapsed": true
   },
   "outputs": [],
   "source": [
    "df = join_df(daily_48hh, informations_households, \"LCLid\")"
   ]
  },
  {
   "cell_type": "code",
   "execution_count": 34,
   "metadata": {},
   "outputs": [
    {
     "data": {
      "text/html": [
       "<div>\n",
       "<style scoped>\n",
       "    .dataframe tbody tr th:only-of-type {\n",
       "        vertical-align: middle;\n",
       "    }\n",
       "\n",
       "    .dataframe tbody tr th {\n",
       "        vertical-align: top;\n",
       "    }\n",
       "\n",
       "    .dataframe thead th {\n",
       "        text-align: right;\n",
       "    }\n",
       "</style>\n",
       "<table border=\"1\" class=\"dataframe\">\n",
       "  <thead>\n",
       "    <tr style=\"text-align: right;\">\n",
       "      <th></th>\n",
       "      <th>LCLid</th>\n",
       "      <th>day</th>\n",
       "      <th>energy_median</th>\n",
       "      <th>energy_mean</th>\n",
       "      <th>energy_max</th>\n",
       "      <th>energy_count</th>\n",
       "      <th>energy_std</th>\n",
       "      <th>energy_sum</th>\n",
       "      <th>energy_min</th>\n",
       "      <th>stdorToU</th>\n",
       "      <th>Acorn</th>\n",
       "      <th>Acorn_grouped</th>\n",
       "      <th>file</th>\n",
       "    </tr>\n",
       "  </thead>\n",
       "  <tbody>\n",
       "    <tr>\n",
       "      <th>0</th>\n",
       "      <td>MAC000118</td>\n",
       "      <td>2011-12-15</td>\n",
       "      <td>0.114</td>\n",
       "      <td>0.183542</td>\n",
       "      <td>0.641</td>\n",
       "      <td>48</td>\n",
       "      <td>0.156322</td>\n",
       "      <td>8.810</td>\n",
       "      <td>0.061</td>\n",
       "      <td>Std</td>\n",
       "      <td>ACORN-G</td>\n",
       "      <td>Comfortable</td>\n",
       "      <td>block_60</td>\n",
       "    </tr>\n",
       "    <tr>\n",
       "      <th>1</th>\n",
       "      <td>MAC000118</td>\n",
       "      <td>2011-12-16</td>\n",
       "      <td>0.151</td>\n",
       "      <td>0.206750</td>\n",
       "      <td>1.029</td>\n",
       "      <td>48</td>\n",
       "      <td>0.190122</td>\n",
       "      <td>9.924</td>\n",
       "      <td>0.061</td>\n",
       "      <td>Std</td>\n",
       "      <td>ACORN-G</td>\n",
       "      <td>Comfortable</td>\n",
       "      <td>block_60</td>\n",
       "    </tr>\n",
       "  </tbody>\n",
       "</table>\n",
       "</div>"
      ],
      "text/plain": [
       "       LCLid         day  energy_median  energy_mean  energy_max  \\\n",
       "0  MAC000118  2011-12-15          0.114     0.183542       0.641   \n",
       "1  MAC000118  2011-12-16          0.151     0.206750       1.029   \n",
       "\n",
       "   energy_count  energy_std  energy_sum  energy_min stdorToU    Acorn  \\\n",
       "0            48    0.156322       8.810       0.061      Std  ACORN-G   \n",
       "1            48    0.190122       9.924       0.061      Std  ACORN-G   \n",
       "\n",
       "  Acorn_grouped      file  \n",
       "0   Comfortable  block_60  \n",
       "1   Comfortable  block_60  "
      ]
     },
     "execution_count": 34,
     "metadata": {},
     "output_type": "execute_result"
    }
   ],
   "source": [
    "df.head(n=2)"
   ]
  },
  {
   "cell_type": "code",
   "execution_count": 35,
   "metadata": {},
   "outputs": [],
   "source": [
    "df.drop(columns=['file'],inplace=True)"
   ]
  },
  {
   "cell_type": "code",
   "execution_count": 36,
   "metadata": {},
   "outputs": [],
   "source": [
    "df = join_df(df, weather, \"day\")"
   ]
  },
  {
   "cell_type": "code",
   "execution_count": 37,
   "metadata": {},
   "outputs": [],
   "source": [
    "df = join_df(df, bank_holidays, \"day\")"
   ]
  },
  {
   "cell_type": "code",
   "execution_count": 38,
   "metadata": {},
   "outputs": [
    {
     "data": {
      "text/html": [
       "<div>\n",
       "<style scoped>\n",
       "    .dataframe tbody tr th:only-of-type {\n",
       "        vertical-align: middle;\n",
       "    }\n",
       "\n",
       "    .dataframe tbody tr th {\n",
       "        vertical-align: top;\n",
       "    }\n",
       "\n",
       "    .dataframe thead th {\n",
       "        text-align: right;\n",
       "    }\n",
       "</style>\n",
       "<table border=\"1\" class=\"dataframe\">\n",
       "  <thead>\n",
       "    <tr style=\"text-align: right;\">\n",
       "      <th></th>\n",
       "      <th>LCLid</th>\n",
       "      <th>day</th>\n",
       "      <th>energy_median</th>\n",
       "      <th>energy_mean</th>\n",
       "      <th>energy_max</th>\n",
       "      <th>energy_count</th>\n",
       "      <th>energy_std</th>\n",
       "      <th>energy_sum</th>\n",
       "      <th>energy_min</th>\n",
       "      <th>stdorToU</th>\n",
       "      <th>Acorn</th>\n",
       "      <th>Acorn_grouped</th>\n",
       "      <th>temperatureMax</th>\n",
       "      <th>temperatureMaxTime</th>\n",
       "      <th>windBearing</th>\n",
       "      <th>icon</th>\n",
       "      <th>dewPoint</th>\n",
       "      <th>temperatureMinTime</th>\n",
       "      <th>cloudCover</th>\n",
       "      <th>windSpeed</th>\n",
       "      <th>pressure</th>\n",
       "      <th>apparentTemperatureMinTime</th>\n",
       "      <th>apparentTemperatureHigh</th>\n",
       "      <th>precipType</th>\n",
       "      <th>visibility</th>\n",
       "      <th>humidity</th>\n",
       "      <th>apparentTemperatureHighTime</th>\n",
       "      <th>apparentTemperatureLow</th>\n",
       "      <th>apparentTemperatureMax</th>\n",
       "      <th>uvIndex</th>\n",
       "      <th>time</th>\n",
       "      <th>sunsetTime</th>\n",
       "      <th>temperatureLow</th>\n",
       "      <th>temperatureMin</th>\n",
       "      <th>temperatureHigh</th>\n",
       "      <th>sunriseTime</th>\n",
       "      <th>temperatureHighTime</th>\n",
       "      <th>uvIndexTime</th>\n",
       "      <th>summary</th>\n",
       "      <th>temperatureLowTime</th>\n",
       "      <th>apparentTemperatureMin</th>\n",
       "      <th>apparentTemperatureMaxTime</th>\n",
       "      <th>apparentTemperatureLowTime</th>\n",
       "      <th>moonPhase</th>\n",
       "      <th>Type</th>\n",
       "    </tr>\n",
       "  </thead>\n",
       "  <tbody>\n",
       "    <tr>\n",
       "      <th>0</th>\n",
       "      <td>MAC000118</td>\n",
       "      <td>2011-12-15</td>\n",
       "      <td>0.114</td>\n",
       "      <td>0.183542</td>\n",
       "      <td>0.641</td>\n",
       "      <td>48</td>\n",
       "      <td>0.156322</td>\n",
       "      <td>8.810</td>\n",
       "      <td>0.061</td>\n",
       "      <td>Std</td>\n",
       "      <td>ACORN-G</td>\n",
       "      <td>Comfortable</td>\n",
       "      <td>7.97</td>\n",
       "      <td>2011-12-15 14:00:00</td>\n",
       "      <td>234</td>\n",
       "      <td>wind</td>\n",
       "      <td>2.41</td>\n",
       "      <td>2011-12-15 00:00:00</td>\n",
       "      <td>0.42</td>\n",
       "      <td>4.71</td>\n",
       "      <td>996.75</td>\n",
       "      <td>2011-12-15 00:00:00</td>\n",
       "      <td>4.25</td>\n",
       "      <td>rain</td>\n",
       "      <td>12.79</td>\n",
       "      <td>0.77</td>\n",
       "      <td>2011-12-15 14:00:00</td>\n",
       "      <td>-2.58</td>\n",
       "      <td>4.38</td>\n",
       "      <td>1.0</td>\n",
       "      <td>08:00:46</td>\n",
       "      <td>2011-12-15 15:52:48</td>\n",
       "      <td>1.80</td>\n",
       "      <td>4.08</td>\n",
       "      <td>7.97</td>\n",
       "      <td>2011-12-15 08:00:46</td>\n",
       "      <td>2011-12-15 14:00:00</td>\n",
       "      <td>2011-12-15 11:00:00</td>\n",
       "      <td>Partly cloudy throughout the day and breezy in...</td>\n",
       "      <td>2011-12-16 08:00:00</td>\n",
       "      <td>1.07</td>\n",
       "      <td>2011-12-15 21:00:00</td>\n",
       "      <td>2011-12-16 08:00:00</td>\n",
       "      <td>0.66</td>\n",
       "      <td>NaN</td>\n",
       "    </tr>\n",
       "    <tr>\n",
       "      <th>1</th>\n",
       "      <td>MAC000118</td>\n",
       "      <td>2011-12-16</td>\n",
       "      <td>0.151</td>\n",
       "      <td>0.206750</td>\n",
       "      <td>1.029</td>\n",
       "      <td>48</td>\n",
       "      <td>0.190122</td>\n",
       "      <td>9.924</td>\n",
       "      <td>0.061</td>\n",
       "      <td>Std</td>\n",
       "      <td>ACORN-G</td>\n",
       "      <td>Comfortable</td>\n",
       "      <td>4.68</td>\n",
       "      <td>2011-12-16 00:00:00</td>\n",
       "      <td>315</td>\n",
       "      <td>partly-cloudy-day</td>\n",
       "      <td>1.60</td>\n",
       "      <td>2011-12-16 08:00:00</td>\n",
       "      <td>0.70</td>\n",
       "      <td>3.71</td>\n",
       "      <td>988.10</td>\n",
       "      <td>2011-12-16 10:00:00</td>\n",
       "      <td>0.23</td>\n",
       "      <td>rain</td>\n",
       "      <td>10.96</td>\n",
       "      <td>0.88</td>\n",
       "      <td>2011-12-16 15:00:00</td>\n",
       "      <td>-3.56</td>\n",
       "      <td>0.99</td>\n",
       "      <td>1.0</td>\n",
       "      <td>08:01:35</td>\n",
       "      <td>2011-12-16 15:52:56</td>\n",
       "      <td>0.24</td>\n",
       "      <td>1.80</td>\n",
       "      <td>4.53</td>\n",
       "      <td>2011-12-16 08:01:35</td>\n",
       "      <td>2011-12-16 15:00:00</td>\n",
       "      <td>2011-12-16 11:00:00</td>\n",
       "      <td>Mostly cloudy throughout the day.</td>\n",
       "      <td>2011-12-17 08:00:00</td>\n",
       "      <td>-2.65</td>\n",
       "      <td>2011-12-16 00:00:00</td>\n",
       "      <td>2011-12-17 08:00:00</td>\n",
       "      <td>0.70</td>\n",
       "      <td>NaN</td>\n",
       "    </tr>\n",
       "  </tbody>\n",
       "</table>\n",
       "</div>"
      ],
      "text/plain": [
       "       LCLid         day  energy_median  energy_mean  energy_max  \\\n",
       "0  MAC000118  2011-12-15          0.114     0.183542       0.641   \n",
       "1  MAC000118  2011-12-16          0.151     0.206750       1.029   \n",
       "\n",
       "   energy_count  energy_std  energy_sum  energy_min stdorToU    Acorn  \\\n",
       "0            48    0.156322       8.810       0.061      Std  ACORN-G   \n",
       "1            48    0.190122       9.924       0.061      Std  ACORN-G   \n",
       "\n",
       "  Acorn_grouped  temperatureMax   temperatureMaxTime  windBearing  \\\n",
       "0   Comfortable            7.97  2011-12-15 14:00:00          234   \n",
       "1   Comfortable            4.68  2011-12-16 00:00:00          315   \n",
       "\n",
       "                icon  dewPoint   temperatureMinTime  cloudCover  windSpeed  \\\n",
       "0               wind      2.41  2011-12-15 00:00:00        0.42       4.71   \n",
       "1  partly-cloudy-day      1.60  2011-12-16 08:00:00        0.70       3.71   \n",
       "\n",
       "   pressure apparentTemperatureMinTime  apparentTemperatureHigh precipType  \\\n",
       "0    996.75        2011-12-15 00:00:00                     4.25       rain   \n",
       "1    988.10        2011-12-16 10:00:00                     0.23       rain   \n",
       "\n",
       "   visibility  humidity apparentTemperatureHighTime  apparentTemperatureLow  \\\n",
       "0       12.79      0.77         2011-12-15 14:00:00                   -2.58   \n",
       "1       10.96      0.88         2011-12-16 15:00:00                   -3.56   \n",
       "\n",
       "   apparentTemperatureMax  uvIndex      time           sunsetTime  \\\n",
       "0                    4.38      1.0  08:00:46  2011-12-15 15:52:48   \n",
       "1                    0.99      1.0  08:01:35  2011-12-16 15:52:56   \n",
       "\n",
       "   temperatureLow  temperatureMin  temperatureHigh          sunriseTime  \\\n",
       "0            1.80            4.08             7.97  2011-12-15 08:00:46   \n",
       "1            0.24            1.80             4.53  2011-12-16 08:01:35   \n",
       "\n",
       "   temperatureHighTime          uvIndexTime  \\\n",
       "0  2011-12-15 14:00:00  2011-12-15 11:00:00   \n",
       "1  2011-12-16 15:00:00  2011-12-16 11:00:00   \n",
       "\n",
       "                                             summary   temperatureLowTime  \\\n",
       "0  Partly cloudy throughout the day and breezy in...  2011-12-16 08:00:00   \n",
       "1                  Mostly cloudy throughout the day.  2011-12-17 08:00:00   \n",
       "\n",
       "   apparentTemperatureMin apparentTemperatureMaxTime  \\\n",
       "0                    1.07        2011-12-15 21:00:00   \n",
       "1                   -2.65        2011-12-16 00:00:00   \n",
       "\n",
       "  apparentTemperatureLowTime  moonPhase Type  \n",
       "0        2011-12-16 08:00:00       0.66  NaN  \n",
       "1        2011-12-17 08:00:00       0.70  NaN  "
      ]
     },
     "execution_count": 38,
     "metadata": {},
     "output_type": "execute_result"
    }
   ],
   "source": [
    "df.head(n=2)"
   ]
  },
  {
   "cell_type": "code",
   "execution_count": 39,
   "metadata": {},
   "outputs": [],
   "source": [
    "df = df.rename(columns={'Type': 'bankHoliday'})"
   ]
  },
  {
   "cell_type": "markdown",
   "metadata": {},
   "source": [
    "The following extracts particular date fields from a complete datetime for the purpose of constructing categoricals.\n",
    "\n",
    "You should *always* consider this feature extraction step when working with date-time. Without expanding your date-time into these additional fields, you can't capture any trend/cyclical behavior as a function of time at any of these granularities. We'll add to every table with a date field."
   ]
  },
  {
   "cell_type": "code",
   "execution_count": 40,
   "metadata": {
    "collapsed": true
   },
   "outputs": [],
   "source": [
    "add_datepart(df, \"day\", drop=False)"
   ]
  },
  {
   "cell_type": "code",
   "execution_count": 41,
   "metadata": {},
   "outputs": [
    {
     "data": {
      "text/html": [
       "<div>\n",
       "<style scoped>\n",
       "    .dataframe tbody tr th:only-of-type {\n",
       "        vertical-align: middle;\n",
       "    }\n",
       "\n",
       "    .dataframe tbody tr th {\n",
       "        vertical-align: top;\n",
       "    }\n",
       "\n",
       "    .dataframe thead th {\n",
       "        text-align: right;\n",
       "    }\n",
       "</style>\n",
       "<table border=\"1\" class=\"dataframe\">\n",
       "  <thead>\n",
       "    <tr style=\"text-align: right;\">\n",
       "      <th></th>\n",
       "      <th>LCLid</th>\n",
       "      <th>day</th>\n",
       "      <th>energy_median</th>\n",
       "      <th>energy_mean</th>\n",
       "      <th>energy_max</th>\n",
       "      <th>energy_count</th>\n",
       "      <th>energy_std</th>\n",
       "      <th>energy_sum</th>\n",
       "      <th>energy_min</th>\n",
       "      <th>stdorToU</th>\n",
       "      <th>Acorn</th>\n",
       "      <th>Acorn_grouped</th>\n",
       "      <th>temperatureMax</th>\n",
       "      <th>temperatureMaxTime</th>\n",
       "      <th>windBearing</th>\n",
       "      <th>icon</th>\n",
       "      <th>dewPoint</th>\n",
       "      <th>temperatureMinTime</th>\n",
       "      <th>cloudCover</th>\n",
       "      <th>windSpeed</th>\n",
       "      <th>pressure</th>\n",
       "      <th>apparentTemperatureMinTime</th>\n",
       "      <th>apparentTemperatureHigh</th>\n",
       "      <th>precipType</th>\n",
       "      <th>visibility</th>\n",
       "      <th>humidity</th>\n",
       "      <th>apparentTemperatureHighTime</th>\n",
       "      <th>apparentTemperatureLow</th>\n",
       "      <th>apparentTemperatureMax</th>\n",
       "      <th>uvIndex</th>\n",
       "      <th>time</th>\n",
       "      <th>sunsetTime</th>\n",
       "      <th>temperatureLow</th>\n",
       "      <th>temperatureMin</th>\n",
       "      <th>temperatureHigh</th>\n",
       "      <th>sunriseTime</th>\n",
       "      <th>temperatureHighTime</th>\n",
       "      <th>uvIndexTime</th>\n",
       "      <th>summary</th>\n",
       "      <th>temperatureLowTime</th>\n",
       "      <th>apparentTemperatureMin</th>\n",
       "      <th>apparentTemperatureMaxTime</th>\n",
       "      <th>apparentTemperatureLowTime</th>\n",
       "      <th>moonPhase</th>\n",
       "      <th>bankHoliday</th>\n",
       "      <th>dayYear</th>\n",
       "      <th>dayMonth</th>\n",
       "      <th>dayWeek</th>\n",
       "      <th>dayDay</th>\n",
       "      <th>dayDayofweek</th>\n",
       "      <th>dayDayofyear</th>\n",
       "      <th>dayIs_month_end</th>\n",
       "      <th>dayIs_month_start</th>\n",
       "      <th>dayIs_quarter_end</th>\n",
       "      <th>dayIs_quarter_start</th>\n",
       "      <th>dayIs_year_end</th>\n",
       "      <th>dayIs_year_start</th>\n",
       "      <th>dayElapsed</th>\n",
       "    </tr>\n",
       "  </thead>\n",
       "  <tbody>\n",
       "    <tr>\n",
       "      <th>0</th>\n",
       "      <td>MAC000118</td>\n",
       "      <td>2011-12-15</td>\n",
       "      <td>0.114</td>\n",
       "      <td>0.183542</td>\n",
       "      <td>0.641</td>\n",
       "      <td>48</td>\n",
       "      <td>0.156322</td>\n",
       "      <td>8.810</td>\n",
       "      <td>0.061</td>\n",
       "      <td>Std</td>\n",
       "      <td>ACORN-G</td>\n",
       "      <td>Comfortable</td>\n",
       "      <td>7.97</td>\n",
       "      <td>2011-12-15 14:00:00</td>\n",
       "      <td>234</td>\n",
       "      <td>wind</td>\n",
       "      <td>2.41</td>\n",
       "      <td>2011-12-15 00:00:00</td>\n",
       "      <td>0.42</td>\n",
       "      <td>4.71</td>\n",
       "      <td>996.75</td>\n",
       "      <td>2011-12-15 00:00:00</td>\n",
       "      <td>4.25</td>\n",
       "      <td>rain</td>\n",
       "      <td>12.79</td>\n",
       "      <td>0.77</td>\n",
       "      <td>2011-12-15 14:00:00</td>\n",
       "      <td>-2.58</td>\n",
       "      <td>4.38</td>\n",
       "      <td>1.0</td>\n",
       "      <td>08:00:46</td>\n",
       "      <td>2011-12-15 15:52:48</td>\n",
       "      <td>1.80</td>\n",
       "      <td>4.08</td>\n",
       "      <td>7.97</td>\n",
       "      <td>2011-12-15 08:00:46</td>\n",
       "      <td>2011-12-15 14:00:00</td>\n",
       "      <td>2011-12-15 11:00:00</td>\n",
       "      <td>Partly cloudy throughout the day and breezy in...</td>\n",
       "      <td>2011-12-16 08:00:00</td>\n",
       "      <td>1.07</td>\n",
       "      <td>2011-12-15 21:00:00</td>\n",
       "      <td>2011-12-16 08:00:00</td>\n",
       "      <td>0.66</td>\n",
       "      <td>NaN</td>\n",
       "      <td>2011</td>\n",
       "      <td>12</td>\n",
       "      <td>50</td>\n",
       "      <td>15</td>\n",
       "      <td>3</td>\n",
       "      <td>349</td>\n",
       "      <td>False</td>\n",
       "      <td>False</td>\n",
       "      <td>False</td>\n",
       "      <td>False</td>\n",
       "      <td>False</td>\n",
       "      <td>False</td>\n",
       "      <td>1323907200</td>\n",
       "    </tr>\n",
       "    <tr>\n",
       "      <th>1</th>\n",
       "      <td>MAC000118</td>\n",
       "      <td>2011-12-16</td>\n",
       "      <td>0.151</td>\n",
       "      <td>0.206750</td>\n",
       "      <td>1.029</td>\n",
       "      <td>48</td>\n",
       "      <td>0.190122</td>\n",
       "      <td>9.924</td>\n",
       "      <td>0.061</td>\n",
       "      <td>Std</td>\n",
       "      <td>ACORN-G</td>\n",
       "      <td>Comfortable</td>\n",
       "      <td>4.68</td>\n",
       "      <td>2011-12-16 00:00:00</td>\n",
       "      <td>315</td>\n",
       "      <td>partly-cloudy-day</td>\n",
       "      <td>1.60</td>\n",
       "      <td>2011-12-16 08:00:00</td>\n",
       "      <td>0.70</td>\n",
       "      <td>3.71</td>\n",
       "      <td>988.10</td>\n",
       "      <td>2011-12-16 10:00:00</td>\n",
       "      <td>0.23</td>\n",
       "      <td>rain</td>\n",
       "      <td>10.96</td>\n",
       "      <td>0.88</td>\n",
       "      <td>2011-12-16 15:00:00</td>\n",
       "      <td>-3.56</td>\n",
       "      <td>0.99</td>\n",
       "      <td>1.0</td>\n",
       "      <td>08:01:35</td>\n",
       "      <td>2011-12-16 15:52:56</td>\n",
       "      <td>0.24</td>\n",
       "      <td>1.80</td>\n",
       "      <td>4.53</td>\n",
       "      <td>2011-12-16 08:01:35</td>\n",
       "      <td>2011-12-16 15:00:00</td>\n",
       "      <td>2011-12-16 11:00:00</td>\n",
       "      <td>Mostly cloudy throughout the day.</td>\n",
       "      <td>2011-12-17 08:00:00</td>\n",
       "      <td>-2.65</td>\n",
       "      <td>2011-12-16 00:00:00</td>\n",
       "      <td>2011-12-17 08:00:00</td>\n",
       "      <td>0.70</td>\n",
       "      <td>NaN</td>\n",
       "      <td>2011</td>\n",
       "      <td>12</td>\n",
       "      <td>50</td>\n",
       "      <td>16</td>\n",
       "      <td>4</td>\n",
       "      <td>350</td>\n",
       "      <td>False</td>\n",
       "      <td>False</td>\n",
       "      <td>False</td>\n",
       "      <td>False</td>\n",
       "      <td>False</td>\n",
       "      <td>False</td>\n",
       "      <td>1323993600</td>\n",
       "    </tr>\n",
       "  </tbody>\n",
       "</table>\n",
       "</div>"
      ],
      "text/plain": [
       "       LCLid        day  energy_median  energy_mean  energy_max  energy_count  \\\n",
       "0  MAC000118 2011-12-15          0.114     0.183542       0.641            48   \n",
       "1  MAC000118 2011-12-16          0.151     0.206750       1.029            48   \n",
       "\n",
       "   energy_std  energy_sum  energy_min stdorToU    Acorn Acorn_grouped  \\\n",
       "0    0.156322       8.810       0.061      Std  ACORN-G   Comfortable   \n",
       "1    0.190122       9.924       0.061      Std  ACORN-G   Comfortable   \n",
       "\n",
       "   temperatureMax   temperatureMaxTime  windBearing               icon  \\\n",
       "0            7.97  2011-12-15 14:00:00          234               wind   \n",
       "1            4.68  2011-12-16 00:00:00          315  partly-cloudy-day   \n",
       "\n",
       "   dewPoint   temperatureMinTime  cloudCover  windSpeed  pressure  \\\n",
       "0      2.41  2011-12-15 00:00:00        0.42       4.71    996.75   \n",
       "1      1.60  2011-12-16 08:00:00        0.70       3.71    988.10   \n",
       "\n",
       "  apparentTemperatureMinTime  apparentTemperatureHigh precipType  visibility  \\\n",
       "0        2011-12-15 00:00:00                     4.25       rain       12.79   \n",
       "1        2011-12-16 10:00:00                     0.23       rain       10.96   \n",
       "\n",
       "   humidity apparentTemperatureHighTime  apparentTemperatureLow  \\\n",
       "0      0.77         2011-12-15 14:00:00                   -2.58   \n",
       "1      0.88         2011-12-16 15:00:00                   -3.56   \n",
       "\n",
       "   apparentTemperatureMax  uvIndex      time           sunsetTime  \\\n",
       "0                    4.38      1.0  08:00:46  2011-12-15 15:52:48   \n",
       "1                    0.99      1.0  08:01:35  2011-12-16 15:52:56   \n",
       "\n",
       "   temperatureLow  temperatureMin  temperatureHigh          sunriseTime  \\\n",
       "0            1.80            4.08             7.97  2011-12-15 08:00:46   \n",
       "1            0.24            1.80             4.53  2011-12-16 08:01:35   \n",
       "\n",
       "   temperatureHighTime          uvIndexTime  \\\n",
       "0  2011-12-15 14:00:00  2011-12-15 11:00:00   \n",
       "1  2011-12-16 15:00:00  2011-12-16 11:00:00   \n",
       "\n",
       "                                             summary   temperatureLowTime  \\\n",
       "0  Partly cloudy throughout the day and breezy in...  2011-12-16 08:00:00   \n",
       "1                  Mostly cloudy throughout the day.  2011-12-17 08:00:00   \n",
       "\n",
       "   apparentTemperatureMin apparentTemperatureMaxTime  \\\n",
       "0                    1.07        2011-12-15 21:00:00   \n",
       "1                   -2.65        2011-12-16 00:00:00   \n",
       "\n",
       "  apparentTemperatureLowTime  moonPhase bankHoliday  dayYear  dayMonth  \\\n",
       "0        2011-12-16 08:00:00       0.66         NaN     2011        12   \n",
       "1        2011-12-17 08:00:00       0.70         NaN     2011        12   \n",
       "\n",
       "   dayWeek  dayDay  dayDayofweek  dayDayofyear  dayIs_month_end  \\\n",
       "0       50      15             3           349            False   \n",
       "1       50      16             4           350            False   \n",
       "\n",
       "   dayIs_month_start  dayIs_quarter_end  dayIs_quarter_start  dayIs_year_end  \\\n",
       "0              False              False                False           False   \n",
       "1              False              False                False           False   \n",
       "\n",
       "   dayIs_year_start  dayElapsed  \n",
       "0             False  1323907200  \n",
       "1             False  1323993600  "
      ]
     },
     "execution_count": 41,
     "metadata": {},
     "output_type": "execute_result"
    }
   ],
   "source": [
    "df.head(n=2)"
   ]
  },
  {
   "cell_type": "code",
   "execution_count": 44,
   "metadata": {},
   "outputs": [],
   "source": [
    "#convert time strings to timestamp\n",
    "df['sunsetTime'] = pd.to_datetime(df['sunsetTime'], format = '%Y-%m-%d %H:%M:%S')\n",
    "df['sunriseTime'] = pd.to_datetime(df['sunriseTime'], format = '%Y-%m-%d %H:%M:%S')"
   ]
  },
  {
   "cell_type": "code",
   "execution_count": 46,
   "metadata": {},
   "outputs": [],
   "source": [
    "df['daylightMins'] =(df['sunsetTime']-df['sunriseTime']).astype('timedelta64[m]')"
   ]
  },
  {
   "cell_type": "code",
   "execution_count": 47,
   "metadata": {},
   "outputs": [
    {
     "data": {
      "text/html": [
       "<div>\n",
       "<style scoped>\n",
       "    .dataframe tbody tr th:only-of-type {\n",
       "        vertical-align: middle;\n",
       "    }\n",
       "\n",
       "    .dataframe tbody tr th {\n",
       "        vertical-align: top;\n",
       "    }\n",
       "\n",
       "    .dataframe thead th {\n",
       "        text-align: right;\n",
       "    }\n",
       "</style>\n",
       "<table border=\"1\" class=\"dataframe\">\n",
       "  <thead>\n",
       "    <tr style=\"text-align: right;\">\n",
       "      <th></th>\n",
       "      <th>LCLid</th>\n",
       "      <th>day</th>\n",
       "      <th>energy_median</th>\n",
       "      <th>energy_mean</th>\n",
       "      <th>energy_max</th>\n",
       "      <th>energy_count</th>\n",
       "      <th>energy_std</th>\n",
       "      <th>energy_sum</th>\n",
       "      <th>energy_min</th>\n",
       "      <th>stdorToU</th>\n",
       "      <th>Acorn</th>\n",
       "      <th>Acorn_grouped</th>\n",
       "      <th>temperatureMax</th>\n",
       "      <th>temperatureMaxTime</th>\n",
       "      <th>windBearing</th>\n",
       "      <th>icon</th>\n",
       "      <th>dewPoint</th>\n",
       "      <th>temperatureMinTime</th>\n",
       "      <th>cloudCover</th>\n",
       "      <th>windSpeed</th>\n",
       "      <th>pressure</th>\n",
       "      <th>apparentTemperatureMinTime</th>\n",
       "      <th>apparentTemperatureHigh</th>\n",
       "      <th>precipType</th>\n",
       "      <th>visibility</th>\n",
       "      <th>humidity</th>\n",
       "      <th>apparentTemperatureHighTime</th>\n",
       "      <th>apparentTemperatureLow</th>\n",
       "      <th>apparentTemperatureMax</th>\n",
       "      <th>uvIndex</th>\n",
       "      <th>sunsetTime</th>\n",
       "      <th>temperatureLow</th>\n",
       "      <th>temperatureMin</th>\n",
       "      <th>temperatureHigh</th>\n",
       "      <th>sunriseTime</th>\n",
       "      <th>temperatureHighTime</th>\n",
       "      <th>uvIndexTime</th>\n",
       "      <th>summary</th>\n",
       "      <th>temperatureLowTime</th>\n",
       "      <th>apparentTemperatureMin</th>\n",
       "      <th>apparentTemperatureMaxTime</th>\n",
       "      <th>apparentTemperatureLowTime</th>\n",
       "      <th>moonPhase</th>\n",
       "      <th>bankHoliday</th>\n",
       "      <th>dayYear</th>\n",
       "      <th>dayMonth</th>\n",
       "      <th>dayWeek</th>\n",
       "      <th>dayDay</th>\n",
       "      <th>dayDayofweek</th>\n",
       "      <th>dayDayofyear</th>\n",
       "      <th>dayIs_month_end</th>\n",
       "      <th>dayIs_month_start</th>\n",
       "      <th>dayIs_quarter_end</th>\n",
       "      <th>dayIs_quarter_start</th>\n",
       "      <th>dayIs_year_end</th>\n",
       "      <th>dayIs_year_start</th>\n",
       "      <th>dayElapsed</th>\n",
       "      <th>daylightMins</th>\n",
       "    </tr>\n",
       "  </thead>\n",
       "  <tbody>\n",
       "    <tr>\n",
       "      <th>0</th>\n",
       "      <td>MAC000118</td>\n",
       "      <td>2011-12-15</td>\n",
       "      <td>0.114</td>\n",
       "      <td>0.183542</td>\n",
       "      <td>0.641</td>\n",
       "      <td>48</td>\n",
       "      <td>0.156322</td>\n",
       "      <td>8.810</td>\n",
       "      <td>0.061</td>\n",
       "      <td>Std</td>\n",
       "      <td>ACORN-G</td>\n",
       "      <td>Comfortable</td>\n",
       "      <td>7.97</td>\n",
       "      <td>2011-12-15 14:00:00</td>\n",
       "      <td>234</td>\n",
       "      <td>wind</td>\n",
       "      <td>2.41</td>\n",
       "      <td>2011-12-15 00:00:00</td>\n",
       "      <td>0.42</td>\n",
       "      <td>4.71</td>\n",
       "      <td>996.75</td>\n",
       "      <td>2011-12-15 00:00:00</td>\n",
       "      <td>4.25</td>\n",
       "      <td>rain</td>\n",
       "      <td>12.79</td>\n",
       "      <td>0.77</td>\n",
       "      <td>2011-12-15 14:00:00</td>\n",
       "      <td>-2.58</td>\n",
       "      <td>4.38</td>\n",
       "      <td>1.0</td>\n",
       "      <td>2011-12-15 15:52:48</td>\n",
       "      <td>1.80</td>\n",
       "      <td>4.08</td>\n",
       "      <td>7.97</td>\n",
       "      <td>2011-12-15 08:00:46</td>\n",
       "      <td>2011-12-15 14:00:00</td>\n",
       "      <td>2011-12-15 11:00:00</td>\n",
       "      <td>Partly cloudy throughout the day and breezy in...</td>\n",
       "      <td>2011-12-16 08:00:00</td>\n",
       "      <td>1.07</td>\n",
       "      <td>2011-12-15 21:00:00</td>\n",
       "      <td>2011-12-16 08:00:00</td>\n",
       "      <td>0.66</td>\n",
       "      <td>NaN</td>\n",
       "      <td>2011</td>\n",
       "      <td>12</td>\n",
       "      <td>50</td>\n",
       "      <td>15</td>\n",
       "      <td>3</td>\n",
       "      <td>349</td>\n",
       "      <td>False</td>\n",
       "      <td>False</td>\n",
       "      <td>False</td>\n",
       "      <td>False</td>\n",
       "      <td>False</td>\n",
       "      <td>False</td>\n",
       "      <td>1323907200</td>\n",
       "      <td>472.0</td>\n",
       "    </tr>\n",
       "    <tr>\n",
       "      <th>1</th>\n",
       "      <td>MAC000118</td>\n",
       "      <td>2011-12-16</td>\n",
       "      <td>0.151</td>\n",
       "      <td>0.206750</td>\n",
       "      <td>1.029</td>\n",
       "      <td>48</td>\n",
       "      <td>0.190122</td>\n",
       "      <td>9.924</td>\n",
       "      <td>0.061</td>\n",
       "      <td>Std</td>\n",
       "      <td>ACORN-G</td>\n",
       "      <td>Comfortable</td>\n",
       "      <td>4.68</td>\n",
       "      <td>2011-12-16 00:00:00</td>\n",
       "      <td>315</td>\n",
       "      <td>partly-cloudy-day</td>\n",
       "      <td>1.60</td>\n",
       "      <td>2011-12-16 08:00:00</td>\n",
       "      <td>0.70</td>\n",
       "      <td>3.71</td>\n",
       "      <td>988.10</td>\n",
       "      <td>2011-12-16 10:00:00</td>\n",
       "      <td>0.23</td>\n",
       "      <td>rain</td>\n",
       "      <td>10.96</td>\n",
       "      <td>0.88</td>\n",
       "      <td>2011-12-16 15:00:00</td>\n",
       "      <td>-3.56</td>\n",
       "      <td>0.99</td>\n",
       "      <td>1.0</td>\n",
       "      <td>2011-12-16 15:52:56</td>\n",
       "      <td>0.24</td>\n",
       "      <td>1.80</td>\n",
       "      <td>4.53</td>\n",
       "      <td>2011-12-16 08:01:35</td>\n",
       "      <td>2011-12-16 15:00:00</td>\n",
       "      <td>2011-12-16 11:00:00</td>\n",
       "      <td>Mostly cloudy throughout the day.</td>\n",
       "      <td>2011-12-17 08:00:00</td>\n",
       "      <td>-2.65</td>\n",
       "      <td>2011-12-16 00:00:00</td>\n",
       "      <td>2011-12-17 08:00:00</td>\n",
       "      <td>0.70</td>\n",
       "      <td>NaN</td>\n",
       "      <td>2011</td>\n",
       "      <td>12</td>\n",
       "      <td>50</td>\n",
       "      <td>16</td>\n",
       "      <td>4</td>\n",
       "      <td>350</td>\n",
       "      <td>False</td>\n",
       "      <td>False</td>\n",
       "      <td>False</td>\n",
       "      <td>False</td>\n",
       "      <td>False</td>\n",
       "      <td>False</td>\n",
       "      <td>1323993600</td>\n",
       "      <td>471.0</td>\n",
       "    </tr>\n",
       "  </tbody>\n",
       "</table>\n",
       "</div>"
      ],
      "text/plain": [
       "       LCLid        day  energy_median  energy_mean  energy_max  energy_count  \\\n",
       "0  MAC000118 2011-12-15          0.114     0.183542       0.641            48   \n",
       "1  MAC000118 2011-12-16          0.151     0.206750       1.029            48   \n",
       "\n",
       "   energy_std  energy_sum  energy_min stdorToU    Acorn Acorn_grouped  \\\n",
       "0    0.156322       8.810       0.061      Std  ACORN-G   Comfortable   \n",
       "1    0.190122       9.924       0.061      Std  ACORN-G   Comfortable   \n",
       "\n",
       "   temperatureMax   temperatureMaxTime  windBearing               icon  \\\n",
       "0            7.97  2011-12-15 14:00:00          234               wind   \n",
       "1            4.68  2011-12-16 00:00:00          315  partly-cloudy-day   \n",
       "\n",
       "   dewPoint   temperatureMinTime  cloudCover  windSpeed  pressure  \\\n",
       "0      2.41  2011-12-15 00:00:00        0.42       4.71    996.75   \n",
       "1      1.60  2011-12-16 08:00:00        0.70       3.71    988.10   \n",
       "\n",
       "  apparentTemperatureMinTime  apparentTemperatureHigh precipType  visibility  \\\n",
       "0        2011-12-15 00:00:00                     4.25       rain       12.79   \n",
       "1        2011-12-16 10:00:00                     0.23       rain       10.96   \n",
       "\n",
       "   humidity apparentTemperatureHighTime  apparentTemperatureLow  \\\n",
       "0      0.77         2011-12-15 14:00:00                   -2.58   \n",
       "1      0.88         2011-12-16 15:00:00                   -3.56   \n",
       "\n",
       "   apparentTemperatureMax  uvIndex          sunsetTime  temperatureLow  \\\n",
       "0                    4.38      1.0 2011-12-15 15:52:48            1.80   \n",
       "1                    0.99      1.0 2011-12-16 15:52:56            0.24   \n",
       "\n",
       "   temperatureMin  temperatureHigh         sunriseTime  temperatureHighTime  \\\n",
       "0            4.08             7.97 2011-12-15 08:00:46  2011-12-15 14:00:00   \n",
       "1            1.80             4.53 2011-12-16 08:01:35  2011-12-16 15:00:00   \n",
       "\n",
       "           uvIndexTime                                            summary  \\\n",
       "0  2011-12-15 11:00:00  Partly cloudy throughout the day and breezy in...   \n",
       "1  2011-12-16 11:00:00                  Mostly cloudy throughout the day.   \n",
       "\n",
       "    temperatureLowTime  apparentTemperatureMin apparentTemperatureMaxTime  \\\n",
       "0  2011-12-16 08:00:00                    1.07        2011-12-15 21:00:00   \n",
       "1  2011-12-17 08:00:00                   -2.65        2011-12-16 00:00:00   \n",
       "\n",
       "  apparentTemperatureLowTime  moonPhase bankHoliday  dayYear  dayMonth  \\\n",
       "0        2011-12-16 08:00:00       0.66         NaN     2011        12   \n",
       "1        2011-12-17 08:00:00       0.70         NaN     2011        12   \n",
       "\n",
       "   dayWeek  dayDay  dayDayofweek  dayDayofyear  dayIs_month_end  \\\n",
       "0       50      15             3           349            False   \n",
       "1       50      16             4           350            False   \n",
       "\n",
       "   dayIs_month_start  dayIs_quarter_end  dayIs_quarter_start  dayIs_year_end  \\\n",
       "0              False              False                False           False   \n",
       "1              False              False                False           False   \n",
       "\n",
       "   dayIs_year_start  dayElapsed  daylightMins  \n",
       "0             False  1323907200         472.0  \n",
       "1             False  1323993600         471.0  "
      ]
     },
     "execution_count": 47,
     "metadata": {},
     "output_type": "execute_result"
    }
   ],
   "source": [
    "df.drop(columns=['time'],inplace=True)\n",
    "df.head(n=2)"
   ]
  },
  {
   "cell_type": "markdown",
   "metadata": {},
   "source": [
    "Next we'll fill in missing values to avoid complications with `NA`'s. `NA` (not available) is how Pandas indicates missing values; many models have problems when missing values are present, so it's always important to think about how to deal with them. In these cases, we are picking an arbitrary *signal value* that doesn't otherwise appear in the data."
   ]
  },
  {
   "cell_type": "code",
   "execution_count": 32,
   "metadata": {
    "collapsed": true
   },
   "outputs": [],
   "source": [
    "#df['nn'] = df.nn.fillna(1900).astype(np.int32)\n"
   ]
  },
  {
   "cell_type": "code",
   "execution_count": 39,
   "metadata": {
    "collapsed": true
   },
   "outputs": [],
   "source": [
    "joined.to_feather(f'{PATH}joined')\n",
    "joined_test.to_feather(f'{PATH}joined_test')"
   ]
  },
  {
   "cell_type": "markdown",
   "metadata": {},
   "source": [
    "## Durations"
   ]
  },
  {
   "cell_type": "markdown",
   "metadata": {},
   "source": [
    "It is common when working with time series data to extract data that explains relationships across rows as opposed to columns, e.g.:\n",
    "* Running averages\n",
    "* Time until next event\n",
    "* Time since last event\n",
    "\n",
    "This is often difficult to do with most table manipulation frameworks, since they are designed to work with relationships across columns. As such, we've created a class to handle this type of data.\n",
    "\n",
    "We'll define a function `get_elapsed` for cumulative counting across a sorted dataframe. Given a particular field `fld` to monitor, this function will start tracking time since the last occurrence of that field. When the field is seen again, the counter is set to zero.\n",
    "\n",
    "Upon initialization, this will result in datetime na's until the field is encountered. This is reset every time a new store is seen. We'll see how to use this shortly."
   ]
  },
  {
   "cell_type": "code",
   "execution_count": 52,
   "metadata": {
    "collapsed": true
   },
   "outputs": [],
   "source": [
    "def get_elapsed(fld, pre):\n",
    "    day1 = np.timedelta64(1, 'D')\n",
    "    print(f'day1: {str(day1)}')\n",
    "    last_date = np.datetime64()\n",
    "    last_hh = 0\n",
    "    res = []\n",
    "\n",
    "    for s,v,d in zip(df.LCLid.values,df[fld].values, df.day.values):\n",
    "        if s != last_hh:\n",
    "            last_date = np.datetime64()\n",
    "            last_hh = s\n",
    "        if v: last_date = d\n",
    "        res.append(((d-last_date).astype('timedelta64[D]') / day1))\n",
    "    df[pre+fld] = res"
   ]
  },
  {
   "cell_type": "markdown",
   "metadata": {},
   "source": [
    "We'll be applying this to a subset of columns:"
   ]
  },
  {
   "cell_type": "code",
   "execution_count": 53,
   "metadata": {
    "collapsed": true
   },
   "outputs": [],
   "source": [
    "columns = [\"day\", \"LCLid\", \"bankHoliday\"]"
   ]
  },
  {
   "cell_type": "markdown",
   "metadata": {},
   "source": [
    "Let's walk through an example.\n",
    "\n",
    "Say we're looking at Bank Holiday. We'll first sort by LCLid, then day, and then call `add_elapsed('BankHoliday', 'After')`:\n",
    "This will apply to each row with Bank Holiday:\n",
    "* A applied to every row of the dataframe in order of LCLid and day\n",
    "* Will add to the dataframe the days since seeing a Bank Holiday\n",
    "* If we sort in the other direction, this will count the days until another holiday."
   ]
  },
  {
   "cell_type": "code",
   "execution_count": 55,
   "metadata": {
    "collapsed": true
   },
   "outputs": [
    {
     "name": "stdout",
     "output_type": "stream",
     "text": [
      "day1: 1 days\n",
      "day1: 1 days\n"
     ]
    }
   ],
   "source": [
    "fld = 'bankHoliday'\n",
    "df = df.sort_values(['LCLid', 'day'])\n",
    "get_elapsed(fld, 'After')\n",
    "df = df.sort_values(['LCLid', 'day'], ascending=[True, False])\n",
    "get_elapsed(fld, 'Before')"
   ]
  },
  {
   "cell_type": "code",
   "execution_count": null,
   "metadata": {},
   "outputs": [],
   "source": [
    "df.head(n=2)"
   ]
  },
  {
   "cell_type": "markdown",
   "metadata": {},
   "source": [
    "We'll do this for two more fields."
   ]
  },
  {
   "cell_type": "markdown",
   "metadata": {},
   "source": [
    "We're going to set the active index to Date."
   ]
  },
  {
   "cell_type": "code",
   "execution_count": 56,
   "metadata": {
    "collapsed": true
   },
   "outputs": [],
   "source": [
    "df = df.set_index(\"day\")"
   ]
  },
  {
   "cell_type": "markdown",
   "metadata": {},
   "source": [
    "Then set null values from elapsed field calculations to 0."
   ]
  },
  {
   "cell_type": "code",
   "execution_count": 57,
   "metadata": {
    "collapsed": true
   },
   "outputs": [],
   "source": [
    "columns = ['bankHoliday']"
   ]
  },
  {
   "cell_type": "code",
   "execution_count": 58,
   "metadata": {
    "collapsed": true
   },
   "outputs": [],
   "source": [
    "for o in ['Before', 'After']:\n",
    "    for p in columns:\n",
    "        a = o+p\n",
    "        df[a] = df[a].fillna(0).astype(int)"
   ]
  },
  {
   "cell_type": "code",
   "execution_count": 59,
   "metadata": {},
   "outputs": [
    {
     "data": {
      "text/html": [
       "<div>\n",
       "<style scoped>\n",
       "    .dataframe tbody tr th:only-of-type {\n",
       "        vertical-align: middle;\n",
       "    }\n",
       "\n",
       "    .dataframe tbody tr th {\n",
       "        vertical-align: top;\n",
       "    }\n",
       "\n",
       "    .dataframe thead th {\n",
       "        text-align: right;\n",
       "    }\n",
       "</style>\n",
       "<table border=\"1\" class=\"dataframe\">\n",
       "  <thead>\n",
       "    <tr style=\"text-align: right;\">\n",
       "      <th></th>\n",
       "      <th>LCLid</th>\n",
       "      <th>energy_median</th>\n",
       "      <th>energy_mean</th>\n",
       "      <th>energy_max</th>\n",
       "      <th>energy_count</th>\n",
       "      <th>energy_std</th>\n",
       "      <th>energy_sum</th>\n",
       "      <th>energy_min</th>\n",
       "      <th>stdorToU</th>\n",
       "      <th>Acorn</th>\n",
       "      <th>Acorn_grouped</th>\n",
       "      <th>temperatureMax</th>\n",
       "      <th>temperatureMaxTime</th>\n",
       "      <th>windBearing</th>\n",
       "      <th>icon</th>\n",
       "      <th>dewPoint</th>\n",
       "      <th>temperatureMinTime</th>\n",
       "      <th>cloudCover</th>\n",
       "      <th>windSpeed</th>\n",
       "      <th>pressure</th>\n",
       "      <th>apparentTemperatureMinTime</th>\n",
       "      <th>apparentTemperatureHigh</th>\n",
       "      <th>precipType</th>\n",
       "      <th>visibility</th>\n",
       "      <th>humidity</th>\n",
       "      <th>apparentTemperatureHighTime</th>\n",
       "      <th>apparentTemperatureLow</th>\n",
       "      <th>apparentTemperatureMax</th>\n",
       "      <th>uvIndex</th>\n",
       "      <th>sunsetTime</th>\n",
       "      <th>temperatureLow</th>\n",
       "      <th>temperatureMin</th>\n",
       "      <th>temperatureHigh</th>\n",
       "      <th>sunriseTime</th>\n",
       "      <th>temperatureHighTime</th>\n",
       "      <th>uvIndexTime</th>\n",
       "      <th>summary</th>\n",
       "      <th>temperatureLowTime</th>\n",
       "      <th>apparentTemperatureMin</th>\n",
       "      <th>apparentTemperatureMaxTime</th>\n",
       "      <th>apparentTemperatureLowTime</th>\n",
       "      <th>moonPhase</th>\n",
       "      <th>bankHoliday</th>\n",
       "      <th>dayYear</th>\n",
       "      <th>dayMonth</th>\n",
       "      <th>dayWeek</th>\n",
       "      <th>dayDay</th>\n",
       "      <th>dayDayofweek</th>\n",
       "      <th>dayDayofyear</th>\n",
       "      <th>dayIs_month_end</th>\n",
       "      <th>dayIs_month_start</th>\n",
       "      <th>dayIs_quarter_end</th>\n",
       "      <th>dayIs_quarter_start</th>\n",
       "      <th>dayIs_year_end</th>\n",
       "      <th>dayIs_year_start</th>\n",
       "      <th>dayElapsed</th>\n",
       "      <th>daylightMins</th>\n",
       "      <th>AfterbankHoliday</th>\n",
       "      <th>BeforebankHoliday</th>\n",
       "    </tr>\n",
       "    <tr>\n",
       "      <th>day</th>\n",
       "      <th></th>\n",
       "      <th></th>\n",
       "      <th></th>\n",
       "      <th></th>\n",
       "      <th></th>\n",
       "      <th></th>\n",
       "      <th></th>\n",
       "      <th></th>\n",
       "      <th></th>\n",
       "      <th></th>\n",
       "      <th></th>\n",
       "      <th></th>\n",
       "      <th></th>\n",
       "      <th></th>\n",
       "      <th></th>\n",
       "      <th></th>\n",
       "      <th></th>\n",
       "      <th></th>\n",
       "      <th></th>\n",
       "      <th></th>\n",
       "      <th></th>\n",
       "      <th></th>\n",
       "      <th></th>\n",
       "      <th></th>\n",
       "      <th></th>\n",
       "      <th></th>\n",
       "      <th></th>\n",
       "      <th></th>\n",
       "      <th></th>\n",
       "      <th></th>\n",
       "      <th></th>\n",
       "      <th></th>\n",
       "      <th></th>\n",
       "      <th></th>\n",
       "      <th></th>\n",
       "      <th></th>\n",
       "      <th></th>\n",
       "      <th></th>\n",
       "      <th></th>\n",
       "      <th></th>\n",
       "      <th></th>\n",
       "      <th></th>\n",
       "      <th></th>\n",
       "      <th></th>\n",
       "      <th></th>\n",
       "      <th></th>\n",
       "      <th></th>\n",
       "      <th></th>\n",
       "      <th></th>\n",
       "      <th></th>\n",
       "      <th></th>\n",
       "      <th></th>\n",
       "      <th></th>\n",
       "      <th></th>\n",
       "      <th></th>\n",
       "      <th></th>\n",
       "      <th></th>\n",
       "      <th></th>\n",
       "      <th></th>\n",
       "    </tr>\n",
       "  </thead>\n",
       "  <tbody>\n",
       "    <tr>\n",
       "      <th>2014-02-27</th>\n",
       "      <td>MAC000002</td>\n",
       "      <td>0.2180</td>\n",
       "      <td>0.427458</td>\n",
       "      <td>1.350</td>\n",
       "      <td>48</td>\n",
       "      <td>0.406681</td>\n",
       "      <td>20.518</td>\n",
       "      <td>0.080</td>\n",
       "      <td>Std</td>\n",
       "      <td>ACORN-A</td>\n",
       "      <td>Affluent</td>\n",
       "      <td>10.31</td>\n",
       "      <td>2014-02-27 14:00:00</td>\n",
       "      <td>224</td>\n",
       "      <td>partly-cloudy-day</td>\n",
       "      <td>3.08</td>\n",
       "      <td>2014-02-27 23:00:00</td>\n",
       "      <td>0.32</td>\n",
       "      <td>4.14</td>\n",
       "      <td>1007.02</td>\n",
       "      <td>2014-02-27 22:00:00</td>\n",
       "      <td>10.31</td>\n",
       "      <td>rain</td>\n",
       "      <td>12.04</td>\n",
       "      <td>0.74</td>\n",
       "      <td>2014-02-27 14:00:00</td>\n",
       "      <td>0.82</td>\n",
       "      <td>10.31</td>\n",
       "      <td>2.0</td>\n",
       "      <td>2014-02-27 17:37:35</td>\n",
       "      <td>3.43</td>\n",
       "      <td>3.93</td>\n",
       "      <td>10.31</td>\n",
       "      <td>2014-02-27 06:51:45</td>\n",
       "      <td>2014-02-27 14:00:00</td>\n",
       "      <td>2014-02-27 12:00:00</td>\n",
       "      <td>Partly cloudy until evening.</td>\n",
       "      <td>2014-02-28 02:00:00</td>\n",
       "      <td>1.41</td>\n",
       "      <td>2014-02-27 14:00:00</td>\n",
       "      <td>2014-02-28 02:00:00</td>\n",
       "      <td>0.93</td>\n",
       "      <td>NaN</td>\n",
       "      <td>2014</td>\n",
       "      <td>2</td>\n",
       "      <td>9</td>\n",
       "      <td>27</td>\n",
       "      <td>3</td>\n",
       "      <td>58</td>\n",
       "      <td>False</td>\n",
       "      <td>False</td>\n",
       "      <td>False</td>\n",
       "      <td>False</td>\n",
       "      <td>False</td>\n",
       "      <td>False</td>\n",
       "      <td>1393459200</td>\n",
       "      <td>645.0</td>\n",
       "      <td>0</td>\n",
       "      <td>0</td>\n",
       "    </tr>\n",
       "    <tr>\n",
       "      <th>2014-02-26</th>\n",
       "      <td>MAC000002</td>\n",
       "      <td>0.1515</td>\n",
       "      <td>0.256833</td>\n",
       "      <td>1.028</td>\n",
       "      <td>48</td>\n",
       "      <td>0.196095</td>\n",
       "      <td>12.328</td>\n",
       "      <td>0.076</td>\n",
       "      <td>Std</td>\n",
       "      <td>ACORN-A</td>\n",
       "      <td>Affluent</td>\n",
       "      <td>11.29</td>\n",
       "      <td>2014-02-26 13:00:00</td>\n",
       "      <td>227</td>\n",
       "      <td>partly-cloudy-day</td>\n",
       "      <td>2.74</td>\n",
       "      <td>2014-02-26 07:00:00</td>\n",
       "      <td>0.26</td>\n",
       "      <td>3.82</td>\n",
       "      <td>1012.73</td>\n",
       "      <td>2014-02-26 07:00:00</td>\n",
       "      <td>11.29</td>\n",
       "      <td>rain</td>\n",
       "      <td>13.00</td>\n",
       "      <td>0.73</td>\n",
       "      <td>2014-02-26 13:00:00</td>\n",
       "      <td>3.03</td>\n",
       "      <td>11.29</td>\n",
       "      <td>2.0</td>\n",
       "      <td>2014-02-26 17:35:49</td>\n",
       "      <td>6.01</td>\n",
       "      <td>4.17</td>\n",
       "      <td>11.29</td>\n",
       "      <td>2014-02-26 06:53:52</td>\n",
       "      <td>2014-02-26 13:00:00</td>\n",
       "      <td>2014-02-26 12:00:00</td>\n",
       "      <td>Partly cloudy throughout the day.</td>\n",
       "      <td>2014-02-27 00:00:00</td>\n",
       "      <td>1.67</td>\n",
       "      <td>2014-02-26 13:00:00</td>\n",
       "      <td>2014-02-27 00:00:00</td>\n",
       "      <td>0.90</td>\n",
       "      <td>NaN</td>\n",
       "      <td>2014</td>\n",
       "      <td>2</td>\n",
       "      <td>9</td>\n",
       "      <td>26</td>\n",
       "      <td>2</td>\n",
       "      <td>57</td>\n",
       "      <td>False</td>\n",
       "      <td>False</td>\n",
       "      <td>False</td>\n",
       "      <td>False</td>\n",
       "      <td>False</td>\n",
       "      <td>False</td>\n",
       "      <td>1393372800</td>\n",
       "      <td>641.0</td>\n",
       "      <td>0</td>\n",
       "      <td>0</td>\n",
       "    </tr>\n",
       "  </tbody>\n",
       "</table>\n",
       "</div>"
      ],
      "text/plain": [
       "                LCLid  energy_median  energy_mean  energy_max  energy_count  \\\n",
       "day                                                                           \n",
       "2014-02-27  MAC000002         0.2180     0.427458       1.350            48   \n",
       "2014-02-26  MAC000002         0.1515     0.256833       1.028            48   \n",
       "\n",
       "            energy_std  energy_sum  energy_min stdorToU    Acorn  \\\n",
       "day                                                                \n",
       "2014-02-27    0.406681      20.518       0.080      Std  ACORN-A   \n",
       "2014-02-26    0.196095      12.328       0.076      Std  ACORN-A   \n",
       "\n",
       "           Acorn_grouped  temperatureMax   temperatureMaxTime  windBearing  \\\n",
       "day                                                                          \n",
       "2014-02-27      Affluent           10.31  2014-02-27 14:00:00          224   \n",
       "2014-02-26      Affluent           11.29  2014-02-26 13:00:00          227   \n",
       "\n",
       "                         icon  dewPoint   temperatureMinTime  cloudCover  \\\n",
       "day                                                                        \n",
       "2014-02-27  partly-cloudy-day      3.08  2014-02-27 23:00:00        0.32   \n",
       "2014-02-26  partly-cloudy-day      2.74  2014-02-26 07:00:00        0.26   \n",
       "\n",
       "            windSpeed  pressure apparentTemperatureMinTime  \\\n",
       "day                                                          \n",
       "2014-02-27       4.14   1007.02        2014-02-27 22:00:00   \n",
       "2014-02-26       3.82   1012.73        2014-02-26 07:00:00   \n",
       "\n",
       "            apparentTemperatureHigh precipType  visibility  humidity  \\\n",
       "day                                                                    \n",
       "2014-02-27                    10.31       rain       12.04      0.74   \n",
       "2014-02-26                    11.29       rain       13.00      0.73   \n",
       "\n",
       "           apparentTemperatureHighTime  apparentTemperatureLow  \\\n",
       "day                                                              \n",
       "2014-02-27         2014-02-27 14:00:00                    0.82   \n",
       "2014-02-26         2014-02-26 13:00:00                    3.03   \n",
       "\n",
       "            apparentTemperatureMax  uvIndex          sunsetTime  \\\n",
       "day                                                               \n",
       "2014-02-27                   10.31      2.0 2014-02-27 17:37:35   \n",
       "2014-02-26                   11.29      2.0 2014-02-26 17:35:49   \n",
       "\n",
       "            temperatureLow  temperatureMin  temperatureHigh  \\\n",
       "day                                                           \n",
       "2014-02-27            3.43            3.93            10.31   \n",
       "2014-02-26            6.01            4.17            11.29   \n",
       "\n",
       "                   sunriseTime  temperatureHighTime          uvIndexTime  \\\n",
       "day                                                                        \n",
       "2014-02-27 2014-02-27 06:51:45  2014-02-27 14:00:00  2014-02-27 12:00:00   \n",
       "2014-02-26 2014-02-26 06:53:52  2014-02-26 13:00:00  2014-02-26 12:00:00   \n",
       "\n",
       "                                      summary   temperatureLowTime  \\\n",
       "day                                                                  \n",
       "2014-02-27       Partly cloudy until evening.  2014-02-28 02:00:00   \n",
       "2014-02-26  Partly cloudy throughout the day.  2014-02-27 00:00:00   \n",
       "\n",
       "            apparentTemperatureMin apparentTemperatureMaxTime  \\\n",
       "day                                                             \n",
       "2014-02-27                    1.41        2014-02-27 14:00:00   \n",
       "2014-02-26                    1.67        2014-02-26 13:00:00   \n",
       "\n",
       "           apparentTemperatureLowTime  moonPhase bankHoliday  dayYear  \\\n",
       "day                                                                     \n",
       "2014-02-27        2014-02-28 02:00:00       0.93         NaN     2014   \n",
       "2014-02-26        2014-02-27 00:00:00       0.90         NaN     2014   \n",
       "\n",
       "            dayMonth  dayWeek  dayDay  dayDayofweek  dayDayofyear  \\\n",
       "day                                                                 \n",
       "2014-02-27         2        9      27             3            58   \n",
       "2014-02-26         2        9      26             2            57   \n",
       "\n",
       "            dayIs_month_end  dayIs_month_start  dayIs_quarter_end  \\\n",
       "day                                                                 \n",
       "2014-02-27            False              False              False   \n",
       "2014-02-26            False              False              False   \n",
       "\n",
       "            dayIs_quarter_start  dayIs_year_end  dayIs_year_start  dayElapsed  \\\n",
       "day                                                                             \n",
       "2014-02-27                False           False             False  1393459200   \n",
       "2014-02-26                False           False             False  1393372800   \n",
       "\n",
       "            daylightMins  AfterbankHoliday  BeforebankHoliday  \n",
       "day                                                            \n",
       "2014-02-27         645.0                 0                  0  \n",
       "2014-02-26         641.0                 0                  0  "
      ]
     },
     "execution_count": 59,
     "metadata": {},
     "output_type": "execute_result"
    }
   ],
   "source": [
    "df.head(n=2)"
   ]
  },
  {
   "cell_type": "code",
   "execution_count": 61,
   "metadata": {},
   "outputs": [],
   "source": [
    "#replace characters in bank holiday\n",
    "df['bankHoliday'] = df['bankHoliday'].str.replace('?','')"
   ]
  },
  {
   "cell_type": "markdown",
   "metadata": {},
   "source": [
    "Next we'll demonstrate window functions in pandas to calculate rolling quantities.\n",
    "\n",
    "Here we're sorting by date (`sort_index()`) and counting the number of events of interest (`sum()`) defined in `columns` in the following week (`rolling()`), grouped by Store (`groupby()`). We do the same in the opposite direction."
   ]
  },
  {
   "cell_type": "markdown",
   "metadata": {},
   "source": [
    "For now lets just create a boolean for holiday or not, can revisit to refine later on"
   ]
  },
  {
   "cell_type": "code",
   "execution_count": 64,
   "metadata": {},
   "outputs": [],
   "source": [
    "df['bankHoliday'].fillna(False, inplace=True)"
   ]
  },
  {
   "cell_type": "code",
   "execution_count": 65,
   "metadata": {},
   "outputs": [],
   "source": [
    "mask = df.bankHoliday != False\n",
    "df.loc[mask, 'bankHoliday'] = True"
   ]
  },
  {
   "cell_type": "code",
   "execution_count": 66,
   "metadata": {
    "collapsed": true
   },
   "outputs": [],
   "source": [
    "bwd = df[['LCLid']+columns].sort_index().groupby(\"LCLid\").rolling(7, min_periods=1).sum()"
   ]
  },
  {
   "cell_type": "code",
   "execution_count": 67,
   "metadata": {
    "collapsed": true
   },
   "outputs": [],
   "source": [
    "fwd = df[['LCLid']+columns].sort_index(ascending=False\n",
    "                                      ).groupby(\"LCLid\").rolling(7, min_periods=1).sum()"
   ]
  },
  {
   "cell_type": "code",
   "execution_count": 68,
   "metadata": {},
   "outputs": [
    {
     "data": {
      "text/html": [
       "<div>\n",
       "<style scoped>\n",
       "    .dataframe tbody tr th:only-of-type {\n",
       "        vertical-align: middle;\n",
       "    }\n",
       "\n",
       "    .dataframe tbody tr th {\n",
       "        vertical-align: top;\n",
       "    }\n",
       "\n",
       "    .dataframe thead th {\n",
       "        text-align: right;\n",
       "    }\n",
       "</style>\n",
       "<table border=\"1\" class=\"dataframe\">\n",
       "  <thead>\n",
       "    <tr style=\"text-align: right;\">\n",
       "      <th></th>\n",
       "      <th></th>\n",
       "      <th>bankHoliday</th>\n",
       "    </tr>\n",
       "    <tr>\n",
       "      <th>LCLid</th>\n",
       "      <th>day</th>\n",
       "      <th></th>\n",
       "    </tr>\n",
       "  </thead>\n",
       "  <tbody>\n",
       "    <tr>\n",
       "      <th rowspan=\"2\" valign=\"top\">MAC000002</th>\n",
       "      <th>2014-02-27</th>\n",
       "      <td>0.0</td>\n",
       "    </tr>\n",
       "    <tr>\n",
       "      <th>2014-02-26</th>\n",
       "      <td>0.0</td>\n",
       "    </tr>\n",
       "  </tbody>\n",
       "</table>\n",
       "</div>"
      ],
      "text/plain": [
       "                      bankHoliday\n",
       "LCLid     day                    \n",
       "MAC000002 2014-02-27          0.0\n",
       "          2014-02-26          0.0"
      ]
     },
     "execution_count": 68,
     "metadata": {},
     "output_type": "execute_result"
    }
   ],
   "source": [
    "fwd.head(n=2)"
   ]
  },
  {
   "cell_type": "markdown",
   "metadata": {},
   "source": [
    "Next we want to drop the LCLid indices grouped together in the window function.\n",
    "\n",
    "Often in pandas, there is an option to do this in place. This is time and memory efficient when working with large datasets."
   ]
  },
  {
   "cell_type": "code",
   "execution_count": 72,
   "metadata": {
    "collapsed": true
   },
   "outputs": [],
   "source": [
    "#bwd.drop('LCLid',1,inplace=True)\n",
    "bwd.reset_index(inplace=True)"
   ]
  },
  {
   "cell_type": "code",
   "execution_count": 71,
   "metadata": {
    "collapsed": true
   },
   "outputs": [],
   "source": [
    "#fwd.drop('LCLid',1,inplace=True)\n",
    "fwd.reset_index(inplace=True)"
   ]
  },
  {
   "cell_type": "code",
   "execution_count": 73,
   "metadata": {},
   "outputs": [
    {
     "data": {
      "text/html": [
       "<div>\n",
       "<style scoped>\n",
       "    .dataframe tbody tr th:only-of-type {\n",
       "        vertical-align: middle;\n",
       "    }\n",
       "\n",
       "    .dataframe tbody tr th {\n",
       "        vertical-align: top;\n",
       "    }\n",
       "\n",
       "    .dataframe thead th {\n",
       "        text-align: right;\n",
       "    }\n",
       "</style>\n",
       "<table border=\"1\" class=\"dataframe\">\n",
       "  <thead>\n",
       "    <tr style=\"text-align: right;\">\n",
       "      <th></th>\n",
       "      <th>LCLid</th>\n",
       "      <th>day</th>\n",
       "      <th>bankHoliday</th>\n",
       "    </tr>\n",
       "  </thead>\n",
       "  <tbody>\n",
       "    <tr>\n",
       "      <th>0</th>\n",
       "      <td>MAC000002</td>\n",
       "      <td>2014-02-27</td>\n",
       "      <td>0.0</td>\n",
       "    </tr>\n",
       "    <tr>\n",
       "      <th>1</th>\n",
       "      <td>MAC000002</td>\n",
       "      <td>2014-02-26</td>\n",
       "      <td>0.0</td>\n",
       "    </tr>\n",
       "  </tbody>\n",
       "</table>\n",
       "</div>"
      ],
      "text/plain": [
       "       LCLid        day  bankHoliday\n",
       "0  MAC000002 2014-02-27          0.0\n",
       "1  MAC000002 2014-02-26          0.0"
      ]
     },
     "execution_count": 73,
     "metadata": {},
     "output_type": "execute_result"
    }
   ],
   "source": [
    "fwd.head(n=2)"
   ]
  },
  {
   "cell_type": "code",
   "execution_count": 74,
   "metadata": {
    "collapsed": true
   },
   "outputs": [],
   "source": [
    "df.reset_index(inplace=True)"
   ]
  },
  {
   "cell_type": "code",
   "execution_count": 75,
   "metadata": {},
   "outputs": [
    {
     "data": {
      "text/html": [
       "<div>\n",
       "<style scoped>\n",
       "    .dataframe tbody tr th:only-of-type {\n",
       "        vertical-align: middle;\n",
       "    }\n",
       "\n",
       "    .dataframe tbody tr th {\n",
       "        vertical-align: top;\n",
       "    }\n",
       "\n",
       "    .dataframe thead th {\n",
       "        text-align: right;\n",
       "    }\n",
       "</style>\n",
       "<table border=\"1\" class=\"dataframe\">\n",
       "  <thead>\n",
       "    <tr style=\"text-align: right;\">\n",
       "      <th></th>\n",
       "      <th>day</th>\n",
       "      <th>LCLid</th>\n",
       "      <th>energy_median</th>\n",
       "      <th>energy_mean</th>\n",
       "      <th>energy_max</th>\n",
       "      <th>energy_count</th>\n",
       "      <th>energy_std</th>\n",
       "      <th>energy_sum</th>\n",
       "      <th>energy_min</th>\n",
       "      <th>stdorToU</th>\n",
       "      <th>Acorn</th>\n",
       "      <th>Acorn_grouped</th>\n",
       "      <th>temperatureMax</th>\n",
       "      <th>temperatureMaxTime</th>\n",
       "      <th>windBearing</th>\n",
       "      <th>icon</th>\n",
       "      <th>dewPoint</th>\n",
       "      <th>temperatureMinTime</th>\n",
       "      <th>cloudCover</th>\n",
       "      <th>windSpeed</th>\n",
       "      <th>pressure</th>\n",
       "      <th>apparentTemperatureMinTime</th>\n",
       "      <th>apparentTemperatureHigh</th>\n",
       "      <th>precipType</th>\n",
       "      <th>visibility</th>\n",
       "      <th>humidity</th>\n",
       "      <th>apparentTemperatureHighTime</th>\n",
       "      <th>apparentTemperatureLow</th>\n",
       "      <th>apparentTemperatureMax</th>\n",
       "      <th>uvIndex</th>\n",
       "      <th>sunsetTime</th>\n",
       "      <th>temperatureLow</th>\n",
       "      <th>temperatureMin</th>\n",
       "      <th>temperatureHigh</th>\n",
       "      <th>sunriseTime</th>\n",
       "      <th>temperatureHighTime</th>\n",
       "      <th>uvIndexTime</th>\n",
       "      <th>summary</th>\n",
       "      <th>temperatureLowTime</th>\n",
       "      <th>apparentTemperatureMin</th>\n",
       "      <th>apparentTemperatureMaxTime</th>\n",
       "      <th>apparentTemperatureLowTime</th>\n",
       "      <th>moonPhase</th>\n",
       "      <th>bankHoliday</th>\n",
       "      <th>dayYear</th>\n",
       "      <th>dayMonth</th>\n",
       "      <th>dayWeek</th>\n",
       "      <th>dayDay</th>\n",
       "      <th>dayDayofweek</th>\n",
       "      <th>dayDayofyear</th>\n",
       "      <th>dayIs_month_end</th>\n",
       "      <th>dayIs_month_start</th>\n",
       "      <th>dayIs_quarter_end</th>\n",
       "      <th>dayIs_quarter_start</th>\n",
       "      <th>dayIs_year_end</th>\n",
       "      <th>dayIs_year_start</th>\n",
       "      <th>dayElapsed</th>\n",
       "      <th>daylightMins</th>\n",
       "      <th>AfterbankHoliday</th>\n",
       "      <th>BeforebankHoliday</th>\n",
       "    </tr>\n",
       "  </thead>\n",
       "  <tbody>\n",
       "    <tr>\n",
       "      <th>0</th>\n",
       "      <td>2014-02-27</td>\n",
       "      <td>MAC000002</td>\n",
       "      <td>0.2180</td>\n",
       "      <td>0.427458</td>\n",
       "      <td>1.350</td>\n",
       "      <td>48</td>\n",
       "      <td>0.406681</td>\n",
       "      <td>20.518</td>\n",
       "      <td>0.080</td>\n",
       "      <td>Std</td>\n",
       "      <td>ACORN-A</td>\n",
       "      <td>Affluent</td>\n",
       "      <td>10.31</td>\n",
       "      <td>2014-02-27 14:00:00</td>\n",
       "      <td>224</td>\n",
       "      <td>partly-cloudy-day</td>\n",
       "      <td>3.08</td>\n",
       "      <td>2014-02-27 23:00:00</td>\n",
       "      <td>0.32</td>\n",
       "      <td>4.14</td>\n",
       "      <td>1007.02</td>\n",
       "      <td>2014-02-27 22:00:00</td>\n",
       "      <td>10.31</td>\n",
       "      <td>rain</td>\n",
       "      <td>12.04</td>\n",
       "      <td>0.74</td>\n",
       "      <td>2014-02-27 14:00:00</td>\n",
       "      <td>0.82</td>\n",
       "      <td>10.31</td>\n",
       "      <td>2.0</td>\n",
       "      <td>2014-02-27 17:37:35</td>\n",
       "      <td>3.43</td>\n",
       "      <td>3.93</td>\n",
       "      <td>10.31</td>\n",
       "      <td>2014-02-27 06:51:45</td>\n",
       "      <td>2014-02-27 14:00:00</td>\n",
       "      <td>2014-02-27 12:00:00</td>\n",
       "      <td>Partly cloudy until evening.</td>\n",
       "      <td>2014-02-28 02:00:00</td>\n",
       "      <td>1.41</td>\n",
       "      <td>2014-02-27 14:00:00</td>\n",
       "      <td>2014-02-28 02:00:00</td>\n",
       "      <td>0.93</td>\n",
       "      <td>False</td>\n",
       "      <td>2014</td>\n",
       "      <td>2</td>\n",
       "      <td>9</td>\n",
       "      <td>27</td>\n",
       "      <td>3</td>\n",
       "      <td>58</td>\n",
       "      <td>False</td>\n",
       "      <td>False</td>\n",
       "      <td>False</td>\n",
       "      <td>False</td>\n",
       "      <td>False</td>\n",
       "      <td>False</td>\n",
       "      <td>1393459200</td>\n",
       "      <td>645.0</td>\n",
       "      <td>0</td>\n",
       "      <td>0</td>\n",
       "    </tr>\n",
       "    <tr>\n",
       "      <th>1</th>\n",
       "      <td>2014-02-26</td>\n",
       "      <td>MAC000002</td>\n",
       "      <td>0.1515</td>\n",
       "      <td>0.256833</td>\n",
       "      <td>1.028</td>\n",
       "      <td>48</td>\n",
       "      <td>0.196095</td>\n",
       "      <td>12.328</td>\n",
       "      <td>0.076</td>\n",
       "      <td>Std</td>\n",
       "      <td>ACORN-A</td>\n",
       "      <td>Affluent</td>\n",
       "      <td>11.29</td>\n",
       "      <td>2014-02-26 13:00:00</td>\n",
       "      <td>227</td>\n",
       "      <td>partly-cloudy-day</td>\n",
       "      <td>2.74</td>\n",
       "      <td>2014-02-26 07:00:00</td>\n",
       "      <td>0.26</td>\n",
       "      <td>3.82</td>\n",
       "      <td>1012.73</td>\n",
       "      <td>2014-02-26 07:00:00</td>\n",
       "      <td>11.29</td>\n",
       "      <td>rain</td>\n",
       "      <td>13.00</td>\n",
       "      <td>0.73</td>\n",
       "      <td>2014-02-26 13:00:00</td>\n",
       "      <td>3.03</td>\n",
       "      <td>11.29</td>\n",
       "      <td>2.0</td>\n",
       "      <td>2014-02-26 17:35:49</td>\n",
       "      <td>6.01</td>\n",
       "      <td>4.17</td>\n",
       "      <td>11.29</td>\n",
       "      <td>2014-02-26 06:53:52</td>\n",
       "      <td>2014-02-26 13:00:00</td>\n",
       "      <td>2014-02-26 12:00:00</td>\n",
       "      <td>Partly cloudy throughout the day.</td>\n",
       "      <td>2014-02-27 00:00:00</td>\n",
       "      <td>1.67</td>\n",
       "      <td>2014-02-26 13:00:00</td>\n",
       "      <td>2014-02-27 00:00:00</td>\n",
       "      <td>0.90</td>\n",
       "      <td>False</td>\n",
       "      <td>2014</td>\n",
       "      <td>2</td>\n",
       "      <td>9</td>\n",
       "      <td>26</td>\n",
       "      <td>2</td>\n",
       "      <td>57</td>\n",
       "      <td>False</td>\n",
       "      <td>False</td>\n",
       "      <td>False</td>\n",
       "      <td>False</td>\n",
       "      <td>False</td>\n",
       "      <td>False</td>\n",
       "      <td>1393372800</td>\n",
       "      <td>641.0</td>\n",
       "      <td>0</td>\n",
       "      <td>0</td>\n",
       "    </tr>\n",
       "  </tbody>\n",
       "</table>\n",
       "</div>"
      ],
      "text/plain": [
       "         day      LCLid  energy_median  energy_mean  energy_max  energy_count  \\\n",
       "0 2014-02-27  MAC000002         0.2180     0.427458       1.350            48   \n",
       "1 2014-02-26  MAC000002         0.1515     0.256833       1.028            48   \n",
       "\n",
       "   energy_std  energy_sum  energy_min stdorToU    Acorn Acorn_grouped  \\\n",
       "0    0.406681      20.518       0.080      Std  ACORN-A      Affluent   \n",
       "1    0.196095      12.328       0.076      Std  ACORN-A      Affluent   \n",
       "\n",
       "   temperatureMax   temperatureMaxTime  windBearing               icon  \\\n",
       "0           10.31  2014-02-27 14:00:00          224  partly-cloudy-day   \n",
       "1           11.29  2014-02-26 13:00:00          227  partly-cloudy-day   \n",
       "\n",
       "   dewPoint   temperatureMinTime  cloudCover  windSpeed  pressure  \\\n",
       "0      3.08  2014-02-27 23:00:00        0.32       4.14   1007.02   \n",
       "1      2.74  2014-02-26 07:00:00        0.26       3.82   1012.73   \n",
       "\n",
       "  apparentTemperatureMinTime  apparentTemperatureHigh precipType  visibility  \\\n",
       "0        2014-02-27 22:00:00                    10.31       rain       12.04   \n",
       "1        2014-02-26 07:00:00                    11.29       rain       13.00   \n",
       "\n",
       "   humidity apparentTemperatureHighTime  apparentTemperatureLow  \\\n",
       "0      0.74         2014-02-27 14:00:00                    0.82   \n",
       "1      0.73         2014-02-26 13:00:00                    3.03   \n",
       "\n",
       "   apparentTemperatureMax  uvIndex          sunsetTime  temperatureLow  \\\n",
       "0                   10.31      2.0 2014-02-27 17:37:35            3.43   \n",
       "1                   11.29      2.0 2014-02-26 17:35:49            6.01   \n",
       "\n",
       "   temperatureMin  temperatureHigh         sunriseTime  temperatureHighTime  \\\n",
       "0            3.93            10.31 2014-02-27 06:51:45  2014-02-27 14:00:00   \n",
       "1            4.17            11.29 2014-02-26 06:53:52  2014-02-26 13:00:00   \n",
       "\n",
       "           uvIndexTime                            summary  \\\n",
       "0  2014-02-27 12:00:00       Partly cloudy until evening.   \n",
       "1  2014-02-26 12:00:00  Partly cloudy throughout the day.   \n",
       "\n",
       "    temperatureLowTime  apparentTemperatureMin apparentTemperatureMaxTime  \\\n",
       "0  2014-02-28 02:00:00                    1.41        2014-02-27 14:00:00   \n",
       "1  2014-02-27 00:00:00                    1.67        2014-02-26 13:00:00   \n",
       "\n",
       "  apparentTemperatureLowTime  moonPhase  bankHoliday  dayYear  dayMonth  \\\n",
       "0        2014-02-28 02:00:00       0.93        False     2014         2   \n",
       "1        2014-02-27 00:00:00       0.90        False     2014         2   \n",
       "\n",
       "   dayWeek  dayDay  dayDayofweek  dayDayofyear  dayIs_month_end  \\\n",
       "0        9      27             3            58            False   \n",
       "1        9      26             2            57            False   \n",
       "\n",
       "   dayIs_month_start  dayIs_quarter_end  dayIs_quarter_start  dayIs_year_end  \\\n",
       "0              False              False                False           False   \n",
       "1              False              False                False           False   \n",
       "\n",
       "   dayIs_year_start  dayElapsed  daylightMins  AfterbankHoliday  \\\n",
       "0             False  1393459200         645.0                 0   \n",
       "1             False  1393372800         641.0                 0   \n",
       "\n",
       "   BeforebankHoliday  \n",
       "0                  0  \n",
       "1                  0  "
      ]
     },
     "execution_count": 75,
     "metadata": {},
     "output_type": "execute_result"
    }
   ],
   "source": [
    "df.head(n=2)"
   ]
  },
  {
   "cell_type": "markdown",
   "metadata": {},
   "source": [
    "Now we'll merge these values onto the df."
   ]
  },
  {
   "cell_type": "code",
   "execution_count": 76,
   "metadata": {
    "collapsed": true
   },
   "outputs": [],
   "source": [
    "df = df.merge(bwd, 'left', ['day', 'LCLid'], suffixes=['', '_bw'])\n",
    "df = df.merge(fwd, 'left', ['day', 'LCLid'], suffixes=['', '_fw'])"
   ]
  },
  {
   "cell_type": "code",
   "execution_count": 77,
   "metadata": {
    "collapsed": true
   },
   "outputs": [],
   "source": [
    "df.drop(columns,1,inplace=True)"
   ]
  },
  {
   "cell_type": "code",
   "execution_count": 78,
   "metadata": {},
   "outputs": [
    {
     "data": {
      "text/html": [
       "<div>\n",
       "<style scoped>\n",
       "    .dataframe tbody tr th:only-of-type {\n",
       "        vertical-align: middle;\n",
       "    }\n",
       "\n",
       "    .dataframe tbody tr th {\n",
       "        vertical-align: top;\n",
       "    }\n",
       "\n",
       "    .dataframe thead th {\n",
       "        text-align: right;\n",
       "    }\n",
       "</style>\n",
       "<table border=\"1\" class=\"dataframe\">\n",
       "  <thead>\n",
       "    <tr style=\"text-align: right;\">\n",
       "      <th></th>\n",
       "      <th>day</th>\n",
       "      <th>LCLid</th>\n",
       "      <th>energy_median</th>\n",
       "      <th>energy_mean</th>\n",
       "      <th>energy_max</th>\n",
       "      <th>energy_count</th>\n",
       "      <th>energy_std</th>\n",
       "      <th>energy_sum</th>\n",
       "      <th>energy_min</th>\n",
       "      <th>stdorToU</th>\n",
       "      <th>Acorn</th>\n",
       "      <th>Acorn_grouped</th>\n",
       "      <th>temperatureMax</th>\n",
       "      <th>temperatureMaxTime</th>\n",
       "      <th>windBearing</th>\n",
       "      <th>icon</th>\n",
       "      <th>dewPoint</th>\n",
       "      <th>temperatureMinTime</th>\n",
       "      <th>cloudCover</th>\n",
       "      <th>windSpeed</th>\n",
       "      <th>pressure</th>\n",
       "      <th>apparentTemperatureMinTime</th>\n",
       "      <th>apparentTemperatureHigh</th>\n",
       "      <th>precipType</th>\n",
       "      <th>visibility</th>\n",
       "      <th>humidity</th>\n",
       "      <th>apparentTemperatureHighTime</th>\n",
       "      <th>apparentTemperatureLow</th>\n",
       "      <th>apparentTemperatureMax</th>\n",
       "      <th>uvIndex</th>\n",
       "      <th>sunsetTime</th>\n",
       "      <th>temperatureLow</th>\n",
       "      <th>temperatureMin</th>\n",
       "      <th>temperatureHigh</th>\n",
       "      <th>sunriseTime</th>\n",
       "      <th>temperatureHighTime</th>\n",
       "      <th>uvIndexTime</th>\n",
       "      <th>summary</th>\n",
       "      <th>temperatureLowTime</th>\n",
       "      <th>apparentTemperatureMin</th>\n",
       "      <th>apparentTemperatureMaxTime</th>\n",
       "      <th>apparentTemperatureLowTime</th>\n",
       "      <th>moonPhase</th>\n",
       "      <th>dayYear</th>\n",
       "      <th>dayMonth</th>\n",
       "      <th>dayWeek</th>\n",
       "      <th>dayDay</th>\n",
       "      <th>dayDayofweek</th>\n",
       "      <th>dayDayofyear</th>\n",
       "      <th>dayIs_month_end</th>\n",
       "      <th>dayIs_month_start</th>\n",
       "      <th>dayIs_quarter_end</th>\n",
       "      <th>dayIs_quarter_start</th>\n",
       "      <th>dayIs_year_end</th>\n",
       "      <th>dayIs_year_start</th>\n",
       "      <th>dayElapsed</th>\n",
       "      <th>daylightMins</th>\n",
       "      <th>AfterbankHoliday</th>\n",
       "      <th>BeforebankHoliday</th>\n",
       "      <th>bankHoliday_bw</th>\n",
       "      <th>bankHoliday_fw</th>\n",
       "    </tr>\n",
       "  </thead>\n",
       "  <tbody>\n",
       "    <tr>\n",
       "      <th>0</th>\n",
       "      <td>2014-02-27</td>\n",
       "      <td>MAC000002</td>\n",
       "      <td>0.2180</td>\n",
       "      <td>0.427458</td>\n",
       "      <td>1.350</td>\n",
       "      <td>48</td>\n",
       "      <td>0.406681</td>\n",
       "      <td>20.518</td>\n",
       "      <td>0.080</td>\n",
       "      <td>Std</td>\n",
       "      <td>ACORN-A</td>\n",
       "      <td>Affluent</td>\n",
       "      <td>10.31</td>\n",
       "      <td>2014-02-27 14:00:00</td>\n",
       "      <td>224</td>\n",
       "      <td>partly-cloudy-day</td>\n",
       "      <td>3.08</td>\n",
       "      <td>2014-02-27 23:00:00</td>\n",
       "      <td>0.32</td>\n",
       "      <td>4.14</td>\n",
       "      <td>1007.02</td>\n",
       "      <td>2014-02-27 22:00:00</td>\n",
       "      <td>10.31</td>\n",
       "      <td>rain</td>\n",
       "      <td>12.04</td>\n",
       "      <td>0.74</td>\n",
       "      <td>2014-02-27 14:00:00</td>\n",
       "      <td>0.82</td>\n",
       "      <td>10.31</td>\n",
       "      <td>2.0</td>\n",
       "      <td>2014-02-27 17:37:35</td>\n",
       "      <td>3.43</td>\n",
       "      <td>3.93</td>\n",
       "      <td>10.31</td>\n",
       "      <td>2014-02-27 06:51:45</td>\n",
       "      <td>2014-02-27 14:00:00</td>\n",
       "      <td>2014-02-27 12:00:00</td>\n",
       "      <td>Partly cloudy until evening.</td>\n",
       "      <td>2014-02-28 02:00:00</td>\n",
       "      <td>1.41</td>\n",
       "      <td>2014-02-27 14:00:00</td>\n",
       "      <td>2014-02-28 02:00:00</td>\n",
       "      <td>0.93</td>\n",
       "      <td>2014</td>\n",
       "      <td>2</td>\n",
       "      <td>9</td>\n",
       "      <td>27</td>\n",
       "      <td>3</td>\n",
       "      <td>58</td>\n",
       "      <td>False</td>\n",
       "      <td>False</td>\n",
       "      <td>False</td>\n",
       "      <td>False</td>\n",
       "      <td>False</td>\n",
       "      <td>False</td>\n",
       "      <td>1393459200</td>\n",
       "      <td>645.0</td>\n",
       "      <td>0</td>\n",
       "      <td>0</td>\n",
       "      <td>0.0</td>\n",
       "      <td>0.0</td>\n",
       "    </tr>\n",
       "    <tr>\n",
       "      <th>1</th>\n",
       "      <td>2014-02-26</td>\n",
       "      <td>MAC000002</td>\n",
       "      <td>0.1515</td>\n",
       "      <td>0.256833</td>\n",
       "      <td>1.028</td>\n",
       "      <td>48</td>\n",
       "      <td>0.196095</td>\n",
       "      <td>12.328</td>\n",
       "      <td>0.076</td>\n",
       "      <td>Std</td>\n",
       "      <td>ACORN-A</td>\n",
       "      <td>Affluent</td>\n",
       "      <td>11.29</td>\n",
       "      <td>2014-02-26 13:00:00</td>\n",
       "      <td>227</td>\n",
       "      <td>partly-cloudy-day</td>\n",
       "      <td>2.74</td>\n",
       "      <td>2014-02-26 07:00:00</td>\n",
       "      <td>0.26</td>\n",
       "      <td>3.82</td>\n",
       "      <td>1012.73</td>\n",
       "      <td>2014-02-26 07:00:00</td>\n",
       "      <td>11.29</td>\n",
       "      <td>rain</td>\n",
       "      <td>13.00</td>\n",
       "      <td>0.73</td>\n",
       "      <td>2014-02-26 13:00:00</td>\n",
       "      <td>3.03</td>\n",
       "      <td>11.29</td>\n",
       "      <td>2.0</td>\n",
       "      <td>2014-02-26 17:35:49</td>\n",
       "      <td>6.01</td>\n",
       "      <td>4.17</td>\n",
       "      <td>11.29</td>\n",
       "      <td>2014-02-26 06:53:52</td>\n",
       "      <td>2014-02-26 13:00:00</td>\n",
       "      <td>2014-02-26 12:00:00</td>\n",
       "      <td>Partly cloudy throughout the day.</td>\n",
       "      <td>2014-02-27 00:00:00</td>\n",
       "      <td>1.67</td>\n",
       "      <td>2014-02-26 13:00:00</td>\n",
       "      <td>2014-02-27 00:00:00</td>\n",
       "      <td>0.90</td>\n",
       "      <td>2014</td>\n",
       "      <td>2</td>\n",
       "      <td>9</td>\n",
       "      <td>26</td>\n",
       "      <td>2</td>\n",
       "      <td>57</td>\n",
       "      <td>False</td>\n",
       "      <td>False</td>\n",
       "      <td>False</td>\n",
       "      <td>False</td>\n",
       "      <td>False</td>\n",
       "      <td>False</td>\n",
       "      <td>1393372800</td>\n",
       "      <td>641.0</td>\n",
       "      <td>0</td>\n",
       "      <td>0</td>\n",
       "      <td>0.0</td>\n",
       "      <td>0.0</td>\n",
       "    </tr>\n",
       "  </tbody>\n",
       "</table>\n",
       "</div>"
      ],
      "text/plain": [
       "         day      LCLid  energy_median  energy_mean  energy_max  energy_count  \\\n",
       "0 2014-02-27  MAC000002         0.2180     0.427458       1.350            48   \n",
       "1 2014-02-26  MAC000002         0.1515     0.256833       1.028            48   \n",
       "\n",
       "   energy_std  energy_sum  energy_min stdorToU    Acorn Acorn_grouped  \\\n",
       "0    0.406681      20.518       0.080      Std  ACORN-A      Affluent   \n",
       "1    0.196095      12.328       0.076      Std  ACORN-A      Affluent   \n",
       "\n",
       "   temperatureMax   temperatureMaxTime  windBearing               icon  \\\n",
       "0           10.31  2014-02-27 14:00:00          224  partly-cloudy-day   \n",
       "1           11.29  2014-02-26 13:00:00          227  partly-cloudy-day   \n",
       "\n",
       "   dewPoint   temperatureMinTime  cloudCover  windSpeed  pressure  \\\n",
       "0      3.08  2014-02-27 23:00:00        0.32       4.14   1007.02   \n",
       "1      2.74  2014-02-26 07:00:00        0.26       3.82   1012.73   \n",
       "\n",
       "  apparentTemperatureMinTime  apparentTemperatureHigh precipType  visibility  \\\n",
       "0        2014-02-27 22:00:00                    10.31       rain       12.04   \n",
       "1        2014-02-26 07:00:00                    11.29       rain       13.00   \n",
       "\n",
       "   humidity apparentTemperatureHighTime  apparentTemperatureLow  \\\n",
       "0      0.74         2014-02-27 14:00:00                    0.82   \n",
       "1      0.73         2014-02-26 13:00:00                    3.03   \n",
       "\n",
       "   apparentTemperatureMax  uvIndex          sunsetTime  temperatureLow  \\\n",
       "0                   10.31      2.0 2014-02-27 17:37:35            3.43   \n",
       "1                   11.29      2.0 2014-02-26 17:35:49            6.01   \n",
       "\n",
       "   temperatureMin  temperatureHigh         sunriseTime  temperatureHighTime  \\\n",
       "0            3.93            10.31 2014-02-27 06:51:45  2014-02-27 14:00:00   \n",
       "1            4.17            11.29 2014-02-26 06:53:52  2014-02-26 13:00:00   \n",
       "\n",
       "           uvIndexTime                            summary  \\\n",
       "0  2014-02-27 12:00:00       Partly cloudy until evening.   \n",
       "1  2014-02-26 12:00:00  Partly cloudy throughout the day.   \n",
       "\n",
       "    temperatureLowTime  apparentTemperatureMin apparentTemperatureMaxTime  \\\n",
       "0  2014-02-28 02:00:00                    1.41        2014-02-27 14:00:00   \n",
       "1  2014-02-27 00:00:00                    1.67        2014-02-26 13:00:00   \n",
       "\n",
       "  apparentTemperatureLowTime  moonPhase  dayYear  dayMonth  dayWeek  dayDay  \\\n",
       "0        2014-02-28 02:00:00       0.93     2014         2        9      27   \n",
       "1        2014-02-27 00:00:00       0.90     2014         2        9      26   \n",
       "\n",
       "   dayDayofweek  dayDayofyear  dayIs_month_end  dayIs_month_start  \\\n",
       "0             3            58            False              False   \n",
       "1             2            57            False              False   \n",
       "\n",
       "   dayIs_quarter_end  dayIs_quarter_start  dayIs_year_end  dayIs_year_start  \\\n",
       "0              False                False           False             False   \n",
       "1              False                False           False             False   \n",
       "\n",
       "   dayElapsed  daylightMins  AfterbankHoliday  BeforebankHoliday  \\\n",
       "0  1393459200         645.0                 0                  0   \n",
       "1  1393372800         641.0                 0                  0   \n",
       "\n",
       "   bankHoliday_bw  bankHoliday_fw  \n",
       "0             0.0             0.0  \n",
       "1             0.0             0.0  "
      ]
     },
     "execution_count": 78,
     "metadata": {},
     "output_type": "execute_result"
    }
   ],
   "source": [
    "df.head(n=2)"
   ]
  },
  {
   "cell_type": "code",
   "execution_count": null,
   "metadata": {},
   "outputs": [],
   "source": [
    "df.to_feather(f'{PATH}df_daily_cat.feather')"
   ]
  },
  {
   "cell_type": "code",
   "execution_count": 16,
   "metadata": {},
   "outputs": [],
   "source": [
    "df = pd.read_feather(f'{PATH}df_daily_cat.feather')"
   ]
  },
  {
   "cell_type": "code",
   "execution_count": 17,
   "metadata": {},
   "outputs": [
    {
     "data": {
      "text/plain": [
       "\"\\ndf['temperatureMaxTime'] = pd.to_datetime(df['temperatureMaxTime'], format = '%Y-%m-%d %H:%M:%S')\\ndf['temperatureMinTime'] = pd.to_datetime(df['temperatureMinTime'], format = '%Y-%m-%d %H:%M:%S')\\ndf['apparentTemperatureMinTime'] = pd.to_datetime(df['apparentTemperatureMinTime'], format = '%Y-%m-%d %H:%M:%S')\\ndf['apparentTemperatureHighTime'] = pd.to_datetime(df['apparentTemperatureHighTime'], format = '%Y-%m-%d %H:%M:%S')\\ndf['sunsetTime'] = pd.to_datetime(df['sunsetTime'], format = '%Y-%m-%d %H:%M:%S')\\ndf['sunriseTime'] = pd.to_datetime(df['sunriseTime'], format = '%Y-%m-%d %H:%M:%S')\\ndf['uvIndexTime'] = pd.to_datetime(df['uvIndexTime'], format = '%Y-%m-%d %H:%M:%S')\\ndf['temperatureHighTime'] = pd.to_datetime(df['temperatureHighTime'], format = '%Y-%m-%d %H:%M:%S')\\ndf['apparentTemperatureMaxTime'] = pd.to_datetime(df['apparentTemperatureMaxTime'], format = '%Y-%m-%d %H:%M:%S')\\ndf['apparentTemperatureLowTime'] = pd.to_datetime(df['apparentTemperatureLowTime'], format = '%Y-%m-%d %H:%M:%S')\\n\""
      ]
     },
     "execution_count": 17,
     "metadata": {},
     "output_type": "execute_result"
    }
   ],
   "source": [
    "#convert time strings to timestamp\n",
    "#try with and without these columns - initially will try without\n",
    "df.drop(columns=['temperatureMaxTime', 'temperatureMinTime',\n",
    "                'apparentTemperatureMinTime','apparentTemperatureHighTime',\n",
    "                'sunsetTime','sunriseTime','uvIndexTime',\n",
    "                'temperatureHighTime','apparentTemperatureMaxTime',\n",
    "                'apparentTemperatureLowTime','temperatureLowTime'], inplace=True)\n",
    "'''\n",
    "df['temperatureMaxTime'] = pd.to_datetime(df['temperatureMaxTime'], format = '%Y-%m-%d %H:%M:%S')\n",
    "df['temperatureMinTime'] = pd.to_datetime(df['temperatureMinTime'], format = '%Y-%m-%d %H:%M:%S')\n",
    "df['apparentTemperatureMinTime'] = pd.to_datetime(df['apparentTemperatureMinTime'], format = '%Y-%m-%d %H:%M:%S')\n",
    "df['apparentTemperatureHighTime'] = pd.to_datetime(df['apparentTemperatureHighTime'], format = '%Y-%m-%d %H:%M:%S')\n",
    "df['sunsetTime'] = pd.to_datetime(df['sunsetTime'], format = '%Y-%m-%d %H:%M:%S')\n",
    "df['sunriseTime'] = pd.to_datetime(df['sunriseTime'], format = '%Y-%m-%d %H:%M:%S')\n",
    "df['uvIndexTime'] = pd.to_datetime(df['uvIndexTime'], format = '%Y-%m-%d %H:%M:%S')\n",
    "df['temperatureHighTime'] = pd.to_datetime(df['temperatureHighTime'], format = '%Y-%m-%d %H:%M:%S')\n",
    "df['apparentTemperatureMaxTime'] = pd.to_datetime(df['apparentTemperatureMaxTime'], format = '%Y-%m-%d %H:%M:%S')\n",
    "df['apparentTemperatureLowTime'] = pd.to_datetime(df['apparentTemperatureLowTime'], format = '%Y-%m-%d %H:%M:%S')\n",
    "'''\n"
   ]
  },
  {
   "cell_type": "markdown",
   "metadata": {},
   "source": [
    "It's usually a good idea to back up large tables of extracted / wrangled features before you join them onto another one, that way you can go back to it easily if you need to make changes to it."
   ]
  },
  {
   "cell_type": "code",
   "execution_count": 18,
   "metadata": {
    "collapsed": true
   },
   "outputs": [],
   "source": [
    "df.to_feather(f'{PATH}df_daily_cat_no_dates.feather')"
   ]
  },
  {
   "cell_type": "markdown",
   "metadata": {},
   "source": [
    "### Read in pre proc data"
   ]
  },
  {
   "cell_type": "code",
   "execution_count": 28,
   "metadata": {
    "collapsed": true
   },
   "outputs": [],
   "source": [
    "df = pd.read_feather(f'{PATH}df_daily_cat_no_dates.feather')"
   ]
  },
  {
   "cell_type": "code",
   "execution_count": 29,
   "metadata": {},
   "outputs": [
    {
     "data": {
      "text/plain": [
       "day                        datetime64[ns]\n",
       "LCLid                              object\n",
       "energy_median                     float64\n",
       "energy_mean                       float64\n",
       "energy_max                        float64\n",
       "energy_count                        int64\n",
       "energy_std                        float64\n",
       "energy_sum                        float64\n",
       "energy_min                        float64\n",
       "stdorToU                           object\n",
       "Acorn                              object\n",
       "Acorn_grouped                      object\n",
       "temperatureMax                    float64\n",
       "windBearing                         int64\n",
       "icon                               object\n",
       "dewPoint                          float64\n",
       "cloudCover                        float64\n",
       "windSpeed                         float64\n",
       "pressure                          float64\n",
       "apparentTemperatureHigh           float64\n",
       "precipType                         object\n",
       "visibility                        float64\n",
       "humidity                          float64\n",
       "apparentTemperatureLow            float64\n",
       "apparentTemperatureMax            float64\n",
       "uvIndex                           float64\n",
       "temperatureLow                    float64\n",
       "temperatureMin                    float64\n",
       "temperatureHigh                   float64\n",
       "summary                            object\n",
       "apparentTemperatureMin            float64\n",
       "moonPhase                         float64\n",
       "dayYear                             int64\n",
       "dayMonth                            int64\n",
       "dayWeek                             int64\n",
       "dayDay                              int64\n",
       "dayDayofweek                        int64\n",
       "dayDayofyear                        int64\n",
       "dayIs_month_end                      bool\n",
       "dayIs_month_start                    bool\n",
       "dayIs_quarter_end                    bool\n",
       "dayIs_quarter_start                  bool\n",
       "dayIs_year_end                       bool\n",
       "dayIs_year_start                     bool\n",
       "dayElapsed                          int64\n",
       "daylightMins                      float64\n",
       "AfterbankHoliday                    int64\n",
       "BeforebankHoliday                   int64\n",
       "bankHoliday_bw                    float64\n",
       "bankHoliday_fw                    float64\n",
       "dtype: object"
      ]
     },
     "execution_count": 29,
     "metadata": {},
     "output_type": "execute_result"
    }
   ],
   "source": [
    "df.dtypes"
   ]
  },
  {
   "cell_type": "markdown",
   "metadata": {},
   "source": [
    "The authors also removed all instances where the store had zero sale / was closed. We speculate that this may have cost them a higher standing in the competition. One reason this may be the case is that a little exploratory data analysis reveals that there are often periods where stores are closed, typically for refurbishment. Before and after these periods, there are naturally spikes in sales that one might expect. By ommitting this data from their training, the authors gave up the ability to leverage information about these periods to predict this otherwise volatile behavior."
   ]
  },
  {
   "cell_type": "markdown",
   "metadata": {},
   "source": [
    "We'll back this up as well."
   ]
  },
  {
   "cell_type": "markdown",
   "metadata": {},
   "source": [
    "We now have our final set of engineered features.\n",
    "\n",
    "While these steps were explicitly outlined in the paper, these are all fairly typical feature engineering steps for dealing with time series data and are practical in any similar setting."
   ]
  },
  {
   "cell_type": "markdown",
   "metadata": {
    "heading_collapsed": true
   },
   "source": [
    "## Create features"
   ]
  },
  {
   "cell_type": "code",
   "execution_count": 9,
   "metadata": {
    "collapsed": true,
    "hidden": true
   },
   "outputs": [],
   "source": [
    "#joined = pd.read_feather(f'{PATH}joined')\n",
    "#joined_test = pd.read_feather(f'{PATH}joined_test')"
   ]
  },
  {
   "cell_type": "code",
   "execution_count": 27,
   "metadata": {
    "hidden": true,
    "scrolled": true
   },
   "outputs": [],
   "source": [
    "#df.head().T.head(40)"
   ]
  },
  {
   "cell_type": "markdown",
   "metadata": {
    "hidden": true
   },
   "source": [
    "Now that we've engineered all our features, we need to convert to input compatible with a neural network.\n",
    "\n",
    "This includes converting categorical variables into contiguous integers or one-hot encodings, normalizing continuous features to standard normal, etc..."
   ]
  },
  {
   "cell_type": "markdown",
   "metadata": {},
   "source": [
    "### T/T split"
   ]
  },
  {
   "cell_type": "code",
   "execution_count": 30,
   "metadata": {},
   "outputs": [
    {
     "data": {
      "text/plain": [
       "Timestamp('2011-11-24 00:00:00')"
      ]
     },
     "execution_count": 30,
     "metadata": {},
     "output_type": "execute_result"
    }
   ],
   "source": [
    "df['day'].min()"
   ]
  },
  {
   "cell_type": "code",
   "execution_count": 31,
   "metadata": {},
   "outputs": [
    {
     "data": {
      "text/plain": [
       "Timestamp('2014-02-27 00:00:00')"
      ]
     },
     "execution_count": 31,
     "metadata": {},
     "output_type": "execute_result"
    }
   ],
   "source": [
    "df['day'].max()"
   ]
  },
  {
   "cell_type": "markdown",
   "metadata": {},
   "source": [
    "One issue with this dataset is that the household meter measurements dont all start and end on the same date\n",
    "\n",
    "Here we will use the period starting from 1/Feb/2014 as the test datset. Households which end memter measurements before the start of 1/Feb/2014 will be removed.\n",
    "\n",
    "We will then use the period 1/Jan/2014 to 1/Feb/2014 as a validation dataset"
   ]
  },
  {
   "cell_type": "code",
   "execution_count": 32,
   "metadata": {},
   "outputs": [],
   "source": [
    "split_date = pd.datetime(2014,2,1)\n",
    "\n",
    "df_train = df.loc[df['day'] <= split_date]\n",
    "df_test = df.loc[df['day'] > split_date]"
   ]
  },
  {
   "cell_type": "code",
   "execution_count": 33,
   "metadata": {},
   "outputs": [
    {
     "data": {
      "text/plain": [
       "(3469352, 3339707, 129645)"
      ]
     },
     "execution_count": 33,
     "metadata": {},
     "output_type": "execute_result"
    }
   ],
   "source": [
    "len(df), len(df_train), len(df_test)"
   ]
  },
  {
   "cell_type": "code",
   "execution_count": 34,
   "metadata": {},
   "outputs": [
    {
     "data": {
      "text/html": [
       "<div>\n",
       "<style scoped>\n",
       "    .dataframe tbody tr th:only-of-type {\n",
       "        vertical-align: middle;\n",
       "    }\n",
       "\n",
       "    .dataframe tbody tr th {\n",
       "        vertical-align: top;\n",
       "    }\n",
       "\n",
       "    .dataframe thead th {\n",
       "        text-align: right;\n",
       "    }\n",
       "</style>\n",
       "<table border=\"1\" class=\"dataframe\">\n",
       "  <thead>\n",
       "    <tr style=\"text-align: right;\">\n",
       "      <th></th>\n",
       "      <th>day</th>\n",
       "      <th>LCLid</th>\n",
       "      <th>energy_median</th>\n",
       "      <th>energy_mean</th>\n",
       "      <th>energy_max</th>\n",
       "      <th>energy_count</th>\n",
       "      <th>energy_std</th>\n",
       "      <th>energy_sum</th>\n",
       "      <th>energy_min</th>\n",
       "      <th>stdorToU</th>\n",
       "      <th>Acorn</th>\n",
       "      <th>Acorn_grouped</th>\n",
       "      <th>temperatureMax</th>\n",
       "      <th>windBearing</th>\n",
       "      <th>icon</th>\n",
       "      <th>dewPoint</th>\n",
       "      <th>cloudCover</th>\n",
       "      <th>windSpeed</th>\n",
       "      <th>pressure</th>\n",
       "      <th>apparentTemperatureHigh</th>\n",
       "      <th>precipType</th>\n",
       "      <th>visibility</th>\n",
       "      <th>humidity</th>\n",
       "      <th>apparentTemperatureLow</th>\n",
       "      <th>apparentTemperatureMax</th>\n",
       "      <th>uvIndex</th>\n",
       "      <th>temperatureLow</th>\n",
       "      <th>temperatureMin</th>\n",
       "      <th>temperatureHigh</th>\n",
       "      <th>summary</th>\n",
       "      <th>apparentTemperatureMin</th>\n",
       "      <th>moonPhase</th>\n",
       "      <th>dayYear</th>\n",
       "      <th>dayMonth</th>\n",
       "      <th>dayWeek</th>\n",
       "      <th>dayDay</th>\n",
       "      <th>dayDayofweek</th>\n",
       "      <th>dayDayofyear</th>\n",
       "      <th>dayIs_month_end</th>\n",
       "      <th>dayIs_month_start</th>\n",
       "      <th>dayIs_quarter_end</th>\n",
       "      <th>dayIs_quarter_start</th>\n",
       "      <th>dayIs_year_end</th>\n",
       "      <th>dayIs_year_start</th>\n",
       "      <th>dayElapsed</th>\n",
       "      <th>daylightMins</th>\n",
       "      <th>AfterbankHoliday</th>\n",
       "      <th>BeforebankHoliday</th>\n",
       "      <th>bankHoliday_bw</th>\n",
       "      <th>bankHoliday_fw</th>\n",
       "    </tr>\n",
       "  </thead>\n",
       "  <tbody>\n",
       "    <tr>\n",
       "      <th>26</th>\n",
       "      <td>2014-02-01</td>\n",
       "      <td>MAC000002</td>\n",
       "      <td>0.13</td>\n",
       "      <td>0.238021</td>\n",
       "      <td>0.799</td>\n",
       "      <td>48</td>\n",
       "      <td>0.195760</td>\n",
       "      <td>11.425</td>\n",
       "      <td>0.076</td>\n",
       "      <td>Std</td>\n",
       "      <td>ACORN-A</td>\n",
       "      <td>Affluent</td>\n",
       "      <td>9.72</td>\n",
       "      <td>217</td>\n",
       "      <td>wind</td>\n",
       "      <td>3.18</td>\n",
       "      <td>0.19</td>\n",
       "      <td>6.97</td>\n",
       "      <td>990.08</td>\n",
       "      <td>4.27</td>\n",
       "      <td>rain</td>\n",
       "      <td>11.60</td>\n",
       "      <td>0.76</td>\n",
       "      <td>2.81</td>\n",
       "      <td>6.86</td>\n",
       "      <td>1.0</td>\n",
       "      <td>6.24</td>\n",
       "      <td>4.83</td>\n",
       "      <td>8.32</td>\n",
       "      <td>Partly cloudy until evening and breezy overnight.</td>\n",
       "      <td>1.10</td>\n",
       "      <td>0.06</td>\n",
       "      <td>2014</td>\n",
       "      <td>2</td>\n",
       "      <td>5</td>\n",
       "      <td>1</td>\n",
       "      <td>5</td>\n",
       "      <td>32</td>\n",
       "      <td>False</td>\n",
       "      <td>True</td>\n",
       "      <td>False</td>\n",
       "      <td>False</td>\n",
       "      <td>False</td>\n",
       "      <td>False</td>\n",
       "      <td>1391212800</td>\n",
       "      <td>549.0</td>\n",
       "      <td>0</td>\n",
       "      <td>0</td>\n",
       "      <td>0.0</td>\n",
       "      <td>0.0</td>\n",
       "    </tr>\n",
       "    <tr>\n",
       "      <th>27</th>\n",
       "      <td>2014-01-31</td>\n",
       "      <td>MAC000002</td>\n",
       "      <td>0.39</td>\n",
       "      <td>0.449458</td>\n",
       "      <td>1.627</td>\n",
       "      <td>48</td>\n",
       "      <td>0.443706</td>\n",
       "      <td>21.574</td>\n",
       "      <td>0.075</td>\n",
       "      <td>Std</td>\n",
       "      <td>ACORN-A</td>\n",
       "      <td>Affluent</td>\n",
       "      <td>8.83</td>\n",
       "      <td>177</td>\n",
       "      <td>wind</td>\n",
       "      <td>3.93</td>\n",
       "      <td>0.73</td>\n",
       "      <td>4.74</td>\n",
       "      <td>998.51</td>\n",
       "      <td>3.13</td>\n",
       "      <td>rain</td>\n",
       "      <td>7.08</td>\n",
       "      <td>0.91</td>\n",
       "      <td>1.10</td>\n",
       "      <td>5.27</td>\n",
       "      <td>1.0</td>\n",
       "      <td>4.83</td>\n",
       "      <td>1.97</td>\n",
       "      <td>7.08</td>\n",
       "      <td>Overcast throughout the day and breezy startin...</td>\n",
       "      <td>0.29</td>\n",
       "      <td>0.03</td>\n",
       "      <td>2014</td>\n",
       "      <td>1</td>\n",
       "      <td>5</td>\n",
       "      <td>31</td>\n",
       "      <td>4</td>\n",
       "      <td>31</td>\n",
       "      <td>True</td>\n",
       "      <td>False</td>\n",
       "      <td>False</td>\n",
       "      <td>False</td>\n",
       "      <td>False</td>\n",
       "      <td>False</td>\n",
       "      <td>1391126400</td>\n",
       "      <td>546.0</td>\n",
       "      <td>0</td>\n",
       "      <td>0</td>\n",
       "      <td>0.0</td>\n",
       "      <td>0.0</td>\n",
       "    </tr>\n",
       "  </tbody>\n",
       "</table>\n",
       "</div>"
      ],
      "text/plain": [
       "          day      LCLid  energy_median  energy_mean  energy_max  \\\n",
       "26 2014-02-01  MAC000002           0.13     0.238021       0.799   \n",
       "27 2014-01-31  MAC000002           0.39     0.449458       1.627   \n",
       "\n",
       "    energy_count  energy_std  energy_sum  energy_min stdorToU    Acorn  \\\n",
       "26            48    0.195760      11.425       0.076      Std  ACORN-A   \n",
       "27            48    0.443706      21.574       0.075      Std  ACORN-A   \n",
       "\n",
       "   Acorn_grouped  temperatureMax  windBearing  icon  dewPoint  cloudCover  \\\n",
       "26      Affluent            9.72          217  wind      3.18        0.19   \n",
       "27      Affluent            8.83          177  wind      3.93        0.73   \n",
       "\n",
       "    windSpeed  pressure  apparentTemperatureHigh precipType  visibility  \\\n",
       "26       6.97    990.08                     4.27       rain       11.60   \n",
       "27       4.74    998.51                     3.13       rain        7.08   \n",
       "\n",
       "    humidity  apparentTemperatureLow  apparentTemperatureMax  uvIndex  \\\n",
       "26      0.76                    2.81                    6.86      1.0   \n",
       "27      0.91                    1.10                    5.27      1.0   \n",
       "\n",
       "    temperatureLow  temperatureMin  temperatureHigh  \\\n",
       "26            6.24            4.83             8.32   \n",
       "27            4.83            1.97             7.08   \n",
       "\n",
       "                                              summary  apparentTemperatureMin  \\\n",
       "26  Partly cloudy until evening and breezy overnight.                    1.10   \n",
       "27  Overcast throughout the day and breezy startin...                    0.29   \n",
       "\n",
       "    moonPhase  dayYear  dayMonth  dayWeek  dayDay  dayDayofweek  dayDayofyear  \\\n",
       "26       0.06     2014         2        5       1             5            32   \n",
       "27       0.03     2014         1        5      31             4            31   \n",
       "\n",
       "    dayIs_month_end  dayIs_month_start  dayIs_quarter_end  \\\n",
       "26            False               True              False   \n",
       "27             True              False              False   \n",
       "\n",
       "    dayIs_quarter_start  dayIs_year_end  dayIs_year_start  dayElapsed  \\\n",
       "26                False           False             False  1391212800   \n",
       "27                False           False             False  1391126400   \n",
       "\n",
       "    daylightMins  AfterbankHoliday  BeforebankHoliday  bankHoliday_bw  \\\n",
       "26         549.0                 0                  0             0.0   \n",
       "27         546.0                 0                  0             0.0   \n",
       "\n",
       "    bankHoliday_fw  \n",
       "26             0.0  \n",
       "27             0.0  "
      ]
     },
     "execution_count": 34,
     "metadata": {},
     "output_type": "execute_result"
    }
   ],
   "source": [
    "df_train.head(n=2)"
   ]
  },
  {
   "cell_type": "code",
   "execution_count": 35,
   "metadata": {
    "hidden": true
   },
   "outputs": [
    {
     "data": {
      "text/plain": [
       "3469352"
      ]
     },
     "execution_count": 35,
     "metadata": {},
     "output_type": "execute_result"
    }
   ],
   "source": [
    "cat_vars = ['LCLid', 'dayWeek', 'dayYear', 'dayMonth', 'dayDay', 'dayDayofyear', 'stdorToU','Acorn','Acorn_grouped',\n",
    "            'icon','precipType','summary']\n",
    "\n",
    "contin_vars = ['energy_median','energy_mean','energy_max','energy_count',\n",
    "               'energy_std','energy_sum','energy_min','temperatureMax',\n",
    "               'windBearing','dewPoint','cloudCover','windSpeed','pressure',\n",
    "               'apparentTemperatureHigh','visibility','humidity','apparentTemperatureLow',\n",
    "               'apparentTemperatureMax','uvIndex','temperatureLow','temperatureMin',\n",
    "               'temperatureHigh','apparentTemperatureMin','moonPhase','dayElapsed','daylightMins']\n",
    "\n",
    "n = len(df); n"
   ]
  },
  {
   "cell_type": "code",
   "execution_count": 18,
   "metadata": {
    "collapsed": true,
    "hidden": true
   },
   "outputs": [],
   "source": [
    "dep = 'energy_sum'\n",
    "df_train = df_train[cat_vars+contin_vars+[dep, 'day']].copy()"
   ]
  },
  {
   "cell_type": "code",
   "execution_count": 19,
   "metadata": {
    "collapsed": true,
    "hidden": true
   },
   "outputs": [],
   "source": [
    "df_test[dep] = 0\n",
    "df_test = df_test[cat_vars+contin_vars+[dep, 'day', 'LCLid']].copy()"
   ]
  },
  {
   "cell_type": "code",
   "execution_count": 36,
   "metadata": {},
   "outputs": [
    {
     "data": {
      "text/html": [
       "<div>\n",
       "<style scoped>\n",
       "    .dataframe tbody tr th:only-of-type {\n",
       "        vertical-align: middle;\n",
       "    }\n",
       "\n",
       "    .dataframe tbody tr th {\n",
       "        vertical-align: top;\n",
       "    }\n",
       "\n",
       "    .dataframe thead th {\n",
       "        text-align: right;\n",
       "    }\n",
       "</style>\n",
       "<table border=\"1\" class=\"dataframe\">\n",
       "  <thead>\n",
       "    <tr style=\"text-align: right;\">\n",
       "      <th></th>\n",
       "      <th>day</th>\n",
       "      <th>LCLid</th>\n",
       "      <th>energy_median</th>\n",
       "      <th>energy_mean</th>\n",
       "      <th>energy_max</th>\n",
       "      <th>energy_count</th>\n",
       "      <th>energy_std</th>\n",
       "      <th>energy_sum</th>\n",
       "      <th>energy_min</th>\n",
       "      <th>stdorToU</th>\n",
       "      <th>Acorn</th>\n",
       "      <th>Acorn_grouped</th>\n",
       "      <th>temperatureMax</th>\n",
       "      <th>windBearing</th>\n",
       "      <th>icon</th>\n",
       "      <th>dewPoint</th>\n",
       "      <th>cloudCover</th>\n",
       "      <th>windSpeed</th>\n",
       "      <th>pressure</th>\n",
       "      <th>apparentTemperatureHigh</th>\n",
       "      <th>precipType</th>\n",
       "      <th>visibility</th>\n",
       "      <th>humidity</th>\n",
       "      <th>apparentTemperatureLow</th>\n",
       "      <th>apparentTemperatureMax</th>\n",
       "      <th>uvIndex</th>\n",
       "      <th>temperatureLow</th>\n",
       "      <th>temperatureMin</th>\n",
       "      <th>temperatureHigh</th>\n",
       "      <th>summary</th>\n",
       "      <th>apparentTemperatureMin</th>\n",
       "      <th>moonPhase</th>\n",
       "      <th>dayYear</th>\n",
       "      <th>dayMonth</th>\n",
       "      <th>dayWeek</th>\n",
       "      <th>dayDay</th>\n",
       "      <th>dayDayofweek</th>\n",
       "      <th>dayDayofyear</th>\n",
       "      <th>dayIs_month_end</th>\n",
       "      <th>dayIs_month_start</th>\n",
       "      <th>dayIs_quarter_end</th>\n",
       "      <th>dayIs_quarter_start</th>\n",
       "      <th>dayIs_year_end</th>\n",
       "      <th>dayIs_year_start</th>\n",
       "      <th>dayElapsed</th>\n",
       "      <th>daylightMins</th>\n",
       "      <th>AfterbankHoliday</th>\n",
       "      <th>BeforebankHoliday</th>\n",
       "      <th>bankHoliday_bw</th>\n",
       "      <th>bankHoliday_fw</th>\n",
       "    </tr>\n",
       "  </thead>\n",
       "  <tbody>\n",
       "    <tr>\n",
       "      <th>0</th>\n",
       "      <td>2014-02-27</td>\n",
       "      <td>MAC000002</td>\n",
       "      <td>0.2180</td>\n",
       "      <td>0.427458</td>\n",
       "      <td>1.350</td>\n",
       "      <td>48</td>\n",
       "      <td>0.406681</td>\n",
       "      <td>20.518</td>\n",
       "      <td>0.080</td>\n",
       "      <td>Std</td>\n",
       "      <td>ACORN-A</td>\n",
       "      <td>Affluent</td>\n",
       "      <td>10.31</td>\n",
       "      <td>224</td>\n",
       "      <td>partly-cloudy-day</td>\n",
       "      <td>3.08</td>\n",
       "      <td>0.32</td>\n",
       "      <td>4.14</td>\n",
       "      <td>1007.02</td>\n",
       "      <td>10.31</td>\n",
       "      <td>rain</td>\n",
       "      <td>12.04</td>\n",
       "      <td>0.74</td>\n",
       "      <td>0.82</td>\n",
       "      <td>10.31</td>\n",
       "      <td>2.0</td>\n",
       "      <td>3.43</td>\n",
       "      <td>3.93</td>\n",
       "      <td>10.31</td>\n",
       "      <td>Partly cloudy until evening.</td>\n",
       "      <td>1.41</td>\n",
       "      <td>0.93</td>\n",
       "      <td>2014</td>\n",
       "      <td>2</td>\n",
       "      <td>9</td>\n",
       "      <td>27</td>\n",
       "      <td>3</td>\n",
       "      <td>58</td>\n",
       "      <td>False</td>\n",
       "      <td>False</td>\n",
       "      <td>False</td>\n",
       "      <td>False</td>\n",
       "      <td>False</td>\n",
       "      <td>False</td>\n",
       "      <td>1393459200</td>\n",
       "      <td>645.0</td>\n",
       "      <td>0</td>\n",
       "      <td>0</td>\n",
       "      <td>0.0</td>\n",
       "      <td>0.0</td>\n",
       "    </tr>\n",
       "    <tr>\n",
       "      <th>1</th>\n",
       "      <td>2014-02-26</td>\n",
       "      <td>MAC000002</td>\n",
       "      <td>0.1515</td>\n",
       "      <td>0.256833</td>\n",
       "      <td>1.028</td>\n",
       "      <td>48</td>\n",
       "      <td>0.196095</td>\n",
       "      <td>12.328</td>\n",
       "      <td>0.076</td>\n",
       "      <td>Std</td>\n",
       "      <td>ACORN-A</td>\n",
       "      <td>Affluent</td>\n",
       "      <td>11.29</td>\n",
       "      <td>227</td>\n",
       "      <td>partly-cloudy-day</td>\n",
       "      <td>2.74</td>\n",
       "      <td>0.26</td>\n",
       "      <td>3.82</td>\n",
       "      <td>1012.73</td>\n",
       "      <td>11.29</td>\n",
       "      <td>rain</td>\n",
       "      <td>13.00</td>\n",
       "      <td>0.73</td>\n",
       "      <td>3.03</td>\n",
       "      <td>11.29</td>\n",
       "      <td>2.0</td>\n",
       "      <td>6.01</td>\n",
       "      <td>4.17</td>\n",
       "      <td>11.29</td>\n",
       "      <td>Partly cloudy throughout the day.</td>\n",
       "      <td>1.67</td>\n",
       "      <td>0.90</td>\n",
       "      <td>2014</td>\n",
       "      <td>2</td>\n",
       "      <td>9</td>\n",
       "      <td>26</td>\n",
       "      <td>2</td>\n",
       "      <td>57</td>\n",
       "      <td>False</td>\n",
       "      <td>False</td>\n",
       "      <td>False</td>\n",
       "      <td>False</td>\n",
       "      <td>False</td>\n",
       "      <td>False</td>\n",
       "      <td>1393372800</td>\n",
       "      <td>641.0</td>\n",
       "      <td>0</td>\n",
       "      <td>0</td>\n",
       "      <td>0.0</td>\n",
       "      <td>0.0</td>\n",
       "    </tr>\n",
       "  </tbody>\n",
       "</table>\n",
       "</div>"
      ],
      "text/plain": [
       "         day      LCLid  energy_median  energy_mean  energy_max  energy_count  \\\n",
       "0 2014-02-27  MAC000002         0.2180     0.427458       1.350            48   \n",
       "1 2014-02-26  MAC000002         0.1515     0.256833       1.028            48   \n",
       "\n",
       "   energy_std  energy_sum  energy_min stdorToU    Acorn Acorn_grouped  \\\n",
       "0    0.406681      20.518       0.080      Std  ACORN-A      Affluent   \n",
       "1    0.196095      12.328       0.076      Std  ACORN-A      Affluent   \n",
       "\n",
       "   temperatureMax  windBearing               icon  dewPoint  cloudCover  \\\n",
       "0           10.31          224  partly-cloudy-day      3.08        0.32   \n",
       "1           11.29          227  partly-cloudy-day      2.74        0.26   \n",
       "\n",
       "   windSpeed  pressure  apparentTemperatureHigh precipType  visibility  \\\n",
       "0       4.14   1007.02                    10.31       rain       12.04   \n",
       "1       3.82   1012.73                    11.29       rain       13.00   \n",
       "\n",
       "   humidity  apparentTemperatureLow  apparentTemperatureMax  uvIndex  \\\n",
       "0      0.74                    0.82                   10.31      2.0   \n",
       "1      0.73                    3.03                   11.29      2.0   \n",
       "\n",
       "   temperatureLow  temperatureMin  temperatureHigh  \\\n",
       "0            3.43            3.93            10.31   \n",
       "1            6.01            4.17            11.29   \n",
       "\n",
       "                             summary  apparentTemperatureMin  moonPhase  \\\n",
       "0       Partly cloudy until evening.                    1.41       0.93   \n",
       "1  Partly cloudy throughout the day.                    1.67       0.90   \n",
       "\n",
       "   dayYear  dayMonth  dayWeek  dayDay  dayDayofweek  dayDayofyear  \\\n",
       "0     2014         2        9      27             3            58   \n",
       "1     2014         2        9      26             2            57   \n",
       "\n",
       "   dayIs_month_end  dayIs_month_start  dayIs_quarter_end  dayIs_quarter_start  \\\n",
       "0            False              False              False                False   \n",
       "1            False              False              False                False   \n",
       "\n",
       "   dayIs_year_end  dayIs_year_start  dayElapsed  daylightMins  \\\n",
       "0           False             False  1393459200         645.0   \n",
       "1           False             False  1393372800         641.0   \n",
       "\n",
       "   AfterbankHoliday  BeforebankHoliday  bankHoliday_bw  bankHoliday_fw  \n",
       "0                 0                  0             0.0             0.0  \n",
       "1                 0                  0             0.0             0.0  "
      ]
     },
     "execution_count": 36,
     "metadata": {},
     "output_type": "execute_result"
    }
   ],
   "source": [
    "df_test.head(n=2)"
   ]
  },
  {
   "cell_type": "code",
   "execution_count": 38,
   "metadata": {
    "collapsed": true,
    "hidden": true
   },
   "outputs": [
    {
     "name": "stdout",
     "output_type": "stream",
     "text": [
      "LCLid\n"
     ]
    },
    {
     "name": "stderr",
     "output_type": "stream",
     "text": [
      "/home/walle/miniconda3/envs/fastai/lib/python3.6/site-packages/ipykernel_launcher.py:4: SettingWithCopyWarning: \n",
      "A value is trying to be set on a copy of a slice from a DataFrame.\n",
      "Try using .loc[row_indexer,col_indexer] = value instead\n",
      "\n",
      "See the caveats in the documentation: http://pandas.pydata.org/pandas-docs/stable/indexing.html#indexing-view-versus-copy\n",
      "  after removing the cwd from sys.path.\n"
     ]
    },
    {
     "name": "stdout",
     "output_type": "stream",
     "text": [
      "dayWeek\n",
      "dayYear\n",
      "dayMonth\n",
      "dayDay\n",
      "dayDayofyear\n",
      "stdorToU\n",
      "Acorn\n",
      "Acorn_grouped\n",
      "icon\n",
      "precipType\n",
      "summary\n"
     ]
    }
   ],
   "source": [
    "#for v in cat_vars: df_train[v] = df_train[v].astype('category').cat.as_ordered()\n",
    "for v in cat_vars: \n",
    "    print(v)\n",
    "    df_train[v] = df_train[v].astype('category')"
   ]
  },
  {
   "cell_type": "code",
   "execution_count": 25,
   "metadata": {},
   "outputs": [],
   "source": [
    "df_train.drop(columns=['day'],inplace=True)"
   ]
  },
  {
   "cell_type": "code",
   "execution_count": 39,
   "metadata": {},
   "outputs": [
    {
     "data": {
      "text/plain": [
       "day                        datetime64[ns]\n",
       "LCLid                            category\n",
       "energy_median                     float64\n",
       "energy_mean                       float64\n",
       "energy_max                        float64\n",
       "energy_count                        int64\n",
       "energy_std                        float64\n",
       "energy_sum                        float64\n",
       "energy_min                        float64\n",
       "stdorToU                         category\n",
       "Acorn                            category\n",
       "Acorn_grouped                    category\n",
       "temperatureMax                    float64\n",
       "windBearing                         int64\n",
       "icon                             category\n",
       "dewPoint                          float64\n",
       "cloudCover                        float64\n",
       "windSpeed                         float64\n",
       "pressure                          float64\n",
       "apparentTemperatureHigh           float64\n",
       "precipType                       category\n",
       "visibility                        float64\n",
       "humidity                          float64\n",
       "apparentTemperatureLow            float64\n",
       "apparentTemperatureMax            float64\n",
       "uvIndex                           float64\n",
       "temperatureLow                    float64\n",
       "temperatureMin                    float64\n",
       "temperatureHigh                   float64\n",
       "summary                          category\n",
       "apparentTemperatureMin            float64\n",
       "moonPhase                         float64\n",
       "dayYear                          category\n",
       "dayMonth                         category\n",
       "dayWeek                          category\n",
       "dayDay                           category\n",
       "dayDayofweek                        int64\n",
       "dayDayofyear                     category\n",
       "dayIs_month_end                      bool\n",
       "dayIs_month_start                    bool\n",
       "dayIs_quarter_end                    bool\n",
       "dayIs_quarter_start                  bool\n",
       "dayIs_year_end                       bool\n",
       "dayIs_year_start                     bool\n",
       "dayElapsed                          int64\n",
       "daylightMins                      float64\n",
       "AfterbankHoliday                    int64\n",
       "BeforebankHoliday                   int64\n",
       "bankHoliday_bw                    float64\n",
       "bankHoliday_fw                    float64\n",
       "dtype: object"
      ]
     },
     "execution_count": 39,
     "metadata": {},
     "output_type": "execute_result"
    }
   ],
   "source": [
    "df_train.dtypes"
   ]
  },
  {
   "cell_type": "code",
   "execution_count": null,
   "metadata": {},
   "outputs": [],
   "source": [
    "#apply_cats rather tha train_cats"
   ]
  },
  {
   "cell_type": "code",
   "execution_count": 40,
   "metadata": {
    "collapsed": true,
    "hidden": true
   },
   "outputs": [
    {
     "name": "stderr",
     "output_type": "stream",
     "text": [
      "/mnt/963GB/Data/Python/Code/energy/teamunicornn/challenge_1/notebooks/fastai/structured.py:204: SettingWithCopyWarning: \n",
      "A value is trying to be set on a copy of a slice from a DataFrame.\n",
      "Try using .loc[row_indexer,col_indexer] = value instead\n",
      "\n",
      "See the caveats in the documentation: http://pandas.pydata.org/pandas-docs/stable/indexing.html#indexing-view-versus-copy\n",
      "  df[n] = pd.Categorical(c, categories=trn[n].cat.categories, ordered=True)\n"
     ]
    }
   ],
   "source": [
    "apply_cats(df_test, df_train)"
   ]
  },
  {
   "cell_type": "code",
   "execution_count": 41,
   "metadata": {
    "collapsed": true,
    "hidden": true
   },
   "outputs": [
    {
     "name": "stderr",
     "output_type": "stream",
     "text": [
      "/home/walle/miniconda3/envs/fastai/lib/python3.6/site-packages/ipykernel_launcher.py:2: SettingWithCopyWarning: \n",
      "A value is trying to be set on a copy of a slice from a DataFrame.\n",
      "Try using .loc[row_indexer,col_indexer] = value instead\n",
      "\n",
      "See the caveats in the documentation: http://pandas.pydata.org/pandas-docs/stable/indexing.html#indexing-view-versus-copy\n",
      "  \n",
      "/home/walle/miniconda3/envs/fastai/lib/python3.6/site-packages/ipykernel_launcher.py:3: SettingWithCopyWarning: \n",
      "A value is trying to be set on a copy of a slice from a DataFrame.\n",
      "Try using .loc[row_indexer,col_indexer] = value instead\n",
      "\n",
      "See the caveats in the documentation: http://pandas.pydata.org/pandas-docs/stable/indexing.html#indexing-view-versus-copy\n",
      "  This is separate from the ipykernel package so we can avoid doing imports until\n"
     ]
    }
   ],
   "source": [
    "for v in contin_vars:\n",
    "    df_train[v] = df_train[v].fillna(0).astype('float32')\n",
    "    df_test[v] = df_test[v].fillna(0).astype('float32')"
   ]
  },
  {
   "cell_type": "markdown",
   "metadata": {
    "hidden": true
   },
   "source": [
    "We're going to run on a sample."
   ]
  },
  {
   "cell_type": "code",
   "execution_count": 42,
   "metadata": {
    "hidden": true
   },
   "outputs": [
    {
     "ename": "IndexError",
     "evalue": "positional indexers are out-of-bounds",
     "output_type": "error",
     "traceback": [
      "\u001b[0;31m---------------------------------------------------------------------------\u001b[0m",
      "\u001b[0;31mIndexError\u001b[0m                                Traceback (most recent call last)",
      "\u001b[0;32m~/miniconda3/envs/fastai/lib/python3.6/site-packages/pandas/core/indexing.py\u001b[0m in \u001b[0;36m_get_list_axis\u001b[0;34m(self, key, axis)\u001b[0m\n\u001b[1;32m   2069\u001b[0m         \u001b[0;32mtry\u001b[0m\u001b[0;34m:\u001b[0m\u001b[0;34m\u001b[0m\u001b[0m\n\u001b[0;32m-> 2070\u001b[0;31m             \u001b[0;32mreturn\u001b[0m \u001b[0mself\u001b[0m\u001b[0;34m.\u001b[0m\u001b[0mobj\u001b[0m\u001b[0;34m.\u001b[0m\u001b[0m_take\u001b[0m\u001b[0;34m(\u001b[0m\u001b[0mkey\u001b[0m\u001b[0;34m,\u001b[0m \u001b[0maxis\u001b[0m\u001b[0;34m=\u001b[0m\u001b[0maxis\u001b[0m\u001b[0;34m)\u001b[0m\u001b[0;34m\u001b[0m\u001b[0m\n\u001b[0m\u001b[1;32m   2071\u001b[0m         \u001b[0;32mexcept\u001b[0m \u001b[0mIndexError\u001b[0m\u001b[0;34m:\u001b[0m\u001b[0;34m\u001b[0m\u001b[0m\n",
      "\u001b[0;32m~/miniconda3/envs/fastai/lib/python3.6/site-packages/pandas/core/generic.py\u001b[0m in \u001b[0;36m_take\u001b[0;34m(self, indices, axis, is_copy)\u001b[0m\n\u001b[1;32m   2785\u001b[0m                                    \u001b[0maxis\u001b[0m\u001b[0;34m=\u001b[0m\u001b[0mself\u001b[0m\u001b[0;34m.\u001b[0m\u001b[0m_get_block_manager_axis\u001b[0m\u001b[0;34m(\u001b[0m\u001b[0maxis\u001b[0m\u001b[0;34m)\u001b[0m\u001b[0;34m,\u001b[0m\u001b[0;34m\u001b[0m\u001b[0m\n\u001b[0;32m-> 2786\u001b[0;31m                                    verify=True)\n\u001b[0m\u001b[1;32m   2787\u001b[0m         \u001b[0mresult\u001b[0m \u001b[0;34m=\u001b[0m \u001b[0mself\u001b[0m\u001b[0;34m.\u001b[0m\u001b[0m_constructor\u001b[0m\u001b[0;34m(\u001b[0m\u001b[0mnew_data\u001b[0m\u001b[0;34m)\u001b[0m\u001b[0;34m.\u001b[0m\u001b[0m__finalize__\u001b[0m\u001b[0;34m(\u001b[0m\u001b[0mself\u001b[0m\u001b[0;34m)\u001b[0m\u001b[0;34m\u001b[0m\u001b[0m\n",
      "\u001b[0;32m~/miniconda3/envs/fastai/lib/python3.6/site-packages/pandas/core/internals.py\u001b[0m in \u001b[0;36mtake\u001b[0;34m(self, indexer, axis, verify, convert)\u001b[0m\n\u001b[1;32m   4529\u001b[0m         \u001b[0;32mif\u001b[0m \u001b[0mconvert\u001b[0m\u001b[0;34m:\u001b[0m\u001b[0;34m\u001b[0m\u001b[0m\n\u001b[0;32m-> 4530\u001b[0;31m             \u001b[0mindexer\u001b[0m \u001b[0;34m=\u001b[0m \u001b[0mmaybe_convert_indices\u001b[0m\u001b[0;34m(\u001b[0m\u001b[0mindexer\u001b[0m\u001b[0;34m,\u001b[0m \u001b[0mn\u001b[0m\u001b[0;34m)\u001b[0m\u001b[0;34m\u001b[0m\u001b[0m\n\u001b[0m\u001b[1;32m   4531\u001b[0m \u001b[0;34m\u001b[0m\u001b[0m\n",
      "\u001b[0;32m~/miniconda3/envs/fastai/lib/python3.6/site-packages/pandas/core/indexing.py\u001b[0m in \u001b[0;36mmaybe_convert_indices\u001b[0;34m(indices, n)\u001b[0m\n\u001b[1;32m   2479\u001b[0m     \u001b[0;32mif\u001b[0m \u001b[0mmask\u001b[0m\u001b[0;34m.\u001b[0m\u001b[0many\u001b[0m\u001b[0;34m(\u001b[0m\u001b[0;34m)\u001b[0m\u001b[0;34m:\u001b[0m\u001b[0;34m\u001b[0m\u001b[0m\n\u001b[0;32m-> 2480\u001b[0;31m         \u001b[0;32mraise\u001b[0m \u001b[0mIndexError\u001b[0m\u001b[0;34m(\u001b[0m\u001b[0;34m\"indices are out-of-bounds\"\u001b[0m\u001b[0;34m)\u001b[0m\u001b[0;34m\u001b[0m\u001b[0m\n\u001b[0m\u001b[1;32m   2481\u001b[0m     \u001b[0;32mreturn\u001b[0m \u001b[0mindices\u001b[0m\u001b[0;34m\u001b[0m\u001b[0m\n",
      "\u001b[0;31mIndexError\u001b[0m: indices are out-of-bounds",
      "\nDuring handling of the above exception, another exception occurred:\n",
      "\u001b[0;31mIndexError\u001b[0m                                Traceback (most recent call last)",
      "\u001b[0;32m<ipython-input-42-7b1e8d49d818>\u001b[0m in \u001b[0;36m<module>\u001b[0;34m()\u001b[0m\n\u001b[1;32m      1\u001b[0m \u001b[0midxs\u001b[0m \u001b[0;34m=\u001b[0m \u001b[0mget_cv_idxs\u001b[0m\u001b[0;34m(\u001b[0m\u001b[0mn\u001b[0m\u001b[0;34m,\u001b[0m \u001b[0mval_pct\u001b[0m\u001b[0;34m=\u001b[0m\u001b[0;36m150000\u001b[0m\u001b[0;34m/\u001b[0m\u001b[0mn\u001b[0m\u001b[0;34m)\u001b[0m\u001b[0;34m\u001b[0m\u001b[0m\n\u001b[0;32m----> 2\u001b[0;31m \u001b[0mdf_samp\u001b[0m \u001b[0;34m=\u001b[0m \u001b[0mdf_train\u001b[0m\u001b[0;34m.\u001b[0m\u001b[0miloc\u001b[0m\u001b[0;34m[\u001b[0m\u001b[0midxs\u001b[0m\u001b[0;34m]\u001b[0m\u001b[0;34m.\u001b[0m\u001b[0mset_index\u001b[0m\u001b[0;34m(\u001b[0m\u001b[0;34m\"day\"\u001b[0m\u001b[0;34m)\u001b[0m\u001b[0;34m\u001b[0m\u001b[0m\n\u001b[0m\u001b[1;32m      3\u001b[0m \u001b[0msamp_size\u001b[0m \u001b[0;34m=\u001b[0m \u001b[0mlen\u001b[0m\u001b[0;34m(\u001b[0m\u001b[0mdf_samp\u001b[0m\u001b[0;34m)\u001b[0m\u001b[0;34m;\u001b[0m \u001b[0msamp_size\u001b[0m\u001b[0;34m\u001b[0m\u001b[0m\n",
      "\u001b[0;32m~/miniconda3/envs/fastai/lib/python3.6/site-packages/pandas/core/indexing.py\u001b[0m in \u001b[0;36m__getitem__\u001b[0;34m(self, key)\u001b[0m\n\u001b[1;32m   1476\u001b[0m \u001b[0;34m\u001b[0m\u001b[0m\n\u001b[1;32m   1477\u001b[0m             \u001b[0mmaybe_callable\u001b[0m \u001b[0;34m=\u001b[0m \u001b[0mcom\u001b[0m\u001b[0;34m.\u001b[0m\u001b[0m_apply_if_callable\u001b[0m\u001b[0;34m(\u001b[0m\u001b[0mkey\u001b[0m\u001b[0;34m,\u001b[0m \u001b[0mself\u001b[0m\u001b[0;34m.\u001b[0m\u001b[0mobj\u001b[0m\u001b[0;34m)\u001b[0m\u001b[0;34m\u001b[0m\u001b[0m\n\u001b[0;32m-> 1478\u001b[0;31m             \u001b[0;32mreturn\u001b[0m \u001b[0mself\u001b[0m\u001b[0;34m.\u001b[0m\u001b[0m_getitem_axis\u001b[0m\u001b[0;34m(\u001b[0m\u001b[0mmaybe_callable\u001b[0m\u001b[0;34m,\u001b[0m \u001b[0maxis\u001b[0m\u001b[0;34m=\u001b[0m\u001b[0maxis\u001b[0m\u001b[0;34m)\u001b[0m\u001b[0;34m\u001b[0m\u001b[0m\n\u001b[0m\u001b[1;32m   1479\u001b[0m \u001b[0;34m\u001b[0m\u001b[0m\n\u001b[1;32m   1480\u001b[0m     \u001b[0;32mdef\u001b[0m \u001b[0m_is_scalar_access\u001b[0m\u001b[0;34m(\u001b[0m\u001b[0mself\u001b[0m\u001b[0;34m,\u001b[0m \u001b[0mkey\u001b[0m\u001b[0;34m)\u001b[0m\u001b[0;34m:\u001b[0m\u001b[0;34m\u001b[0m\u001b[0m\n",
      "\u001b[0;32m~/miniconda3/envs/fastai/lib/python3.6/site-packages/pandas/core/indexing.py\u001b[0m in \u001b[0;36m_getitem_axis\u001b[0;34m(self, key, axis)\u001b[0m\n\u001b[1;32m   2089\u001b[0m         \u001b[0;31m# a list of integers\u001b[0m\u001b[0;34m\u001b[0m\u001b[0;34m\u001b[0m\u001b[0m\n\u001b[1;32m   2090\u001b[0m         \u001b[0;32melif\u001b[0m \u001b[0mis_list_like_indexer\u001b[0m\u001b[0;34m(\u001b[0m\u001b[0mkey\u001b[0m\u001b[0;34m)\u001b[0m\u001b[0;34m:\u001b[0m\u001b[0;34m\u001b[0m\u001b[0m\n\u001b[0;32m-> 2091\u001b[0;31m             \u001b[0;32mreturn\u001b[0m \u001b[0mself\u001b[0m\u001b[0;34m.\u001b[0m\u001b[0m_get_list_axis\u001b[0m\u001b[0;34m(\u001b[0m\u001b[0mkey\u001b[0m\u001b[0;34m,\u001b[0m \u001b[0maxis\u001b[0m\u001b[0;34m=\u001b[0m\u001b[0maxis\u001b[0m\u001b[0;34m)\u001b[0m\u001b[0;34m\u001b[0m\u001b[0m\n\u001b[0m\u001b[1;32m   2092\u001b[0m \u001b[0;34m\u001b[0m\u001b[0m\n\u001b[1;32m   2093\u001b[0m         \u001b[0;31m# a single integer\u001b[0m\u001b[0;34m\u001b[0m\u001b[0;34m\u001b[0m\u001b[0m\n",
      "\u001b[0;32m~/miniconda3/envs/fastai/lib/python3.6/site-packages/pandas/core/indexing.py\u001b[0m in \u001b[0;36m_get_list_axis\u001b[0;34m(self, key, axis)\u001b[0m\n\u001b[1;32m   2071\u001b[0m         \u001b[0;32mexcept\u001b[0m \u001b[0mIndexError\u001b[0m\u001b[0;34m:\u001b[0m\u001b[0;34m\u001b[0m\u001b[0m\n\u001b[1;32m   2072\u001b[0m             \u001b[0;31m# re-raise with different error message\u001b[0m\u001b[0;34m\u001b[0m\u001b[0;34m\u001b[0m\u001b[0m\n\u001b[0;32m-> 2073\u001b[0;31m             \u001b[0;32mraise\u001b[0m \u001b[0mIndexError\u001b[0m\u001b[0;34m(\u001b[0m\u001b[0;34m\"positional indexers are out-of-bounds\"\u001b[0m\u001b[0;34m)\u001b[0m\u001b[0;34m\u001b[0m\u001b[0m\n\u001b[0m\u001b[1;32m   2074\u001b[0m \u001b[0;34m\u001b[0m\u001b[0m\n\u001b[1;32m   2075\u001b[0m     \u001b[0;32mdef\u001b[0m \u001b[0m_getitem_axis\u001b[0m\u001b[0;34m(\u001b[0m\u001b[0mself\u001b[0m\u001b[0;34m,\u001b[0m \u001b[0mkey\u001b[0m\u001b[0;34m,\u001b[0m \u001b[0maxis\u001b[0m\u001b[0;34m=\u001b[0m\u001b[0;32mNone\u001b[0m\u001b[0;34m)\u001b[0m\u001b[0;34m:\u001b[0m\u001b[0;34m\u001b[0m\u001b[0m\n",
      "\u001b[0;31mIndexError\u001b[0m: positional indexers are out-of-bounds"
     ]
    }
   ],
   "source": [
    "idxs = get_cv_idxs(n, val_pct=150000/n)\n",
    "df_samp = df_train.iloc[idxs].set_index(\"day\")\n",
    "samp_size = len(df_samp); samp_size"
   ]
  },
  {
   "cell_type": "markdown",
   "metadata": {
    "hidden": true
   },
   "source": [
    "To run on the full dataset, use this instead:"
   ]
  },
  {
   "cell_type": "code",
   "execution_count": null,
   "metadata": {
    "collapsed": true,
    "hidden": true
   },
   "outputs": [],
   "source": [
    "samp_size = n\n",
    "df_samp = df_test.set_index(\"day\")"
   ]
  },
  {
   "cell_type": "markdown",
   "metadata": {
    "hidden": true
   },
   "source": [
    "We can now process our data..."
   ]
  },
  {
   "cell_type": "code",
   "execution_count": null,
   "metadata": {
    "hidden": true
   },
   "outputs": [],
   "source": [
    "df_samp.head(2)"
   ]
  },
  {
   "cell_type": "code",
   "execution_count": null,
   "metadata": {},
   "outputs": [],
   "source": [
    "#keep track of the mapper (44:15)"
   ]
  },
  {
   "cell_type": "code",
   "execution_count": null,
   "metadata": {
    "collapsed": true,
    "hidden": true
   },
   "outputs": [],
   "source": [
    "df, y, nas, mapper = proc_df(df_samp, 'energy_sum', do_scale=True)\n",
    "yl = np.log(y)"
   ]
  },
  {
   "cell_type": "code",
   "execution_count": null,
   "metadata": {},
   "outputs": [],
   "source": [
    "df.head(2)"
   ]
  },
  {
   "cell_type": "code",
   "execution_count": null,
   "metadata": {
    "collapsed": true,
    "hidden": true
   },
   "outputs": [],
   "source": [
    "df_test = df_test.set_index(\"day\")"
   ]
  },
  {
   "cell_type": "code",
   "execution_count": null,
   "metadata": {},
   "outputs": [],
   "source": [
    "#apply the same mapper to the test set"
   ]
  },
  {
   "cell_type": "code",
   "execution_count": null,
   "metadata": {
    "collapsed": true,
    "hidden": true
   },
   "outputs": [],
   "source": [
    "df_test, _, nas, mapper = proc_df(df_test, 'day', do_scale=True, skip_flds=['LCLid'],\n",
    "                                  mapper=mapper, na_dict=nas)"
   ]
  },
  {
   "cell_type": "code",
   "execution_count": null,
   "metadata": {
    "hidden": true
   },
   "outputs": [],
   "source": [
    "df.head(100)"
   ]
  },
  {
   "cell_type": "markdown",
   "metadata": {
    "hidden": true
   },
   "source": [
    "In time series data, cross-validation is not random. Instead, our holdout data is generally the most recent data, as it would be in real application. This issue is discussed in detail in [this post](http://www.fast.ai/2017/11/13/validation-sets/) on our web site.\n",
    "\n",
    "One approach is to take the last 25% of rows (sorted by date) as our validation set."
   ]
  },
  {
   "cell_type": "code",
   "execution_count": null,
   "metadata": {
    "collapsed": true,
    "hidden": true
   },
   "outputs": [],
   "source": [
    "train_ratio = 0.75\n",
    "# train_ratio = 0.9\n",
    "train_size = int(samp_size * train_ratio); train_size\n",
    "val_idx = list(range(train_size, len(df)))"
   ]
  },
  {
   "cell_type": "markdown",
   "metadata": {
    "hidden": true
   },
   "source": [
    "An even better option for picking a validation set is using the exact same length of time period as the test set uses - this is implemented here:"
   ]
  },
  {
   "cell_type": "code",
   "execution_count": null,
   "metadata": {
    "collapsed": true,
    "hidden": true
   },
   "outputs": [],
   "source": [
    "#val_idx = np.flatnonzero(\n",
    "#    (df.index<=datetime.datetime(2014,9,17)) & (df.index>=datetime.datetime(2014,8,1)))"
   ]
  },
  {
   "cell_type": "code",
   "execution_count": null,
   "metadata": {
    "collapsed": true,
    "hidden": true
   },
   "outputs": [],
   "source": [
    "#val_idx=[0]"
   ]
  },
  {
   "cell_type": "markdown",
   "metadata": {},
   "source": [
    "## DL"
   ]
  },
  {
   "cell_type": "markdown",
   "metadata": {},
   "source": [
    "We're ready to put together our models.\n",
    "\n",
    "Root-mean-squared percent error is the metric Kaggle used for this competition."
   ]
  },
  {
   "cell_type": "code",
   "execution_count": null,
   "metadata": {
    "collapsed": true
   },
   "outputs": [],
   "source": [
    "def inv_y(a): return np.exp(a)\n",
    "\n",
    "def exp_rmspe(y_pred, targ):\n",
    "    targ = inv_y(targ)\n",
    "    pct_var = (targ - inv_y(y_pred))/targ\n",
    "    return math.sqrt((pct_var**2).mean())\n",
    "\n",
    "max_log_y = np.max(yl)\n",
    "y_range = (0, max_log_y*1.2)"
   ]
  },
  {
   "cell_type": "markdown",
   "metadata": {},
   "source": [
    "We can create a ModelData object directly from out data frame.\n",
    "\n",
    "pass in the test dataframe in th usuak way"
   ]
  },
  {
   "cell_type": "code",
   "execution_count": null,
   "metadata": {
    "collapsed": true
   },
   "outputs": [],
   "source": [
    "md = ColumnarModelData.from_data_frame(PATH, val_idx, df, yl.astype(np.float32), cat_flds=cat_vars, bs=128,\n",
    "                                       test_df=df_test)"
   ]
  },
  {
   "cell_type": "markdown",
   "metadata": {},
   "source": [
    "Some categorical variables have a lot more levels than others. Store, in particular, has over a thousand!"
   ]
  },
  {
   "cell_type": "code",
   "execution_count": null,
   "metadata": {
    "collapsed": true
   },
   "outputs": [],
   "source": [
    "cat_sz = [(c, len(joined_samp[c].cat.categories)+1) for c in cat_vars]"
   ]
  },
  {
   "cell_type": "code",
   "execution_count": null,
   "metadata": {
    "scrolled": true
   },
   "outputs": [],
   "source": [
    "cat_sz"
   ]
  },
  {
   "cell_type": "markdown",
   "metadata": {},
   "source": [
    "We use the *cardinality* of each variable (that is, its number of unique values) to decide how large to make its *embeddings*. Each level will be associated with a vector with length defined as below."
   ]
  },
  {
   "cell_type": "code",
   "execution_count": null,
   "metadata": {
    "collapsed": true
   },
   "outputs": [],
   "source": [
    "emb_szs = [(c, min(50, (c+1)//2)) for _,c in cat_sz]"
   ]
  },
  {
   "cell_type": "code",
   "execution_count": null,
   "metadata": {
    "scrolled": true
   },
   "outputs": [],
   "source": [
    "emb_szs"
   ]
  },
  {
   "cell_type": "code",
   "execution_count": null,
   "metadata": {
    "collapsed": true
   },
   "outputs": [],
   "source": [
    "m = md.get_learner(emb_szs, len(df.columns)-len(cat_vars),\n",
    "                   0.04, 1, [1000,500], [0.001,0.01], y_range=y_range)\n",
    "m.summary()"
   ]
  },
  {
   "cell_type": "code",
   "execution_count": null,
   "metadata": {},
   "outputs": [],
   "source": [
    "lr = 1e-3\n",
    "m.lr_find()"
   ]
  },
  {
   "cell_type": "code",
   "execution_count": null,
   "metadata": {},
   "outputs": [],
   "source": [
    "m.sched.plot(100)"
   ]
  },
  {
   "cell_type": "markdown",
   "metadata": {
    "heading_collapsed": true
   },
   "source": [
    "### Sample"
   ]
  },
  {
   "cell_type": "code",
   "execution_count": null,
   "metadata": {
    "collapsed": true,
    "hidden": true
   },
   "outputs": [],
   "source": [
    "m = md.get_learner(emb_szs, len(df.columns)-len(cat_vars),\n",
    "                   0.04, 1, [1000,500], [0.001,0.01], y_range=y_range)\n",
    "lr = 1e-3"
   ]
  },
  {
   "cell_type": "code",
   "execution_count": null,
   "metadata": {
    "hidden": true
   },
   "outputs": [],
   "source": [
    "m.fit(lr, 3, metrics=[exp_rmspe])"
   ]
  },
  {
   "cell_type": "code",
   "execution_count": null,
   "metadata": {
    "hidden": true
   },
   "outputs": [],
   "source": [
    "m.fit(lr, 5, metrics=[exp_rmspe], cycle_len=1)"
   ]
  },
  {
   "cell_type": "code",
   "execution_count": null,
   "metadata": {
    "hidden": true
   },
   "outputs": [],
   "source": [
    "m.fit(lr, 2, metrics=[exp_rmspe], cycle_len=4)"
   ]
  },
  {
   "cell_type": "markdown",
   "metadata": {
    "heading_collapsed": true
   },
   "source": [
    "### All"
   ]
  },
  {
   "cell_type": "code",
   "execution_count": null,
   "metadata": {
    "collapsed": true,
    "hidden": true
   },
   "outputs": [],
   "source": [
    "m = md.get_learner(emb_szs, len(df.columns)-len(cat_vars),\n",
    "                   0.04, 1, [1000,500], [0.001,0.01], y_range=y_range)\n",
    "lr = 1e-3"
   ]
  },
  {
   "cell_type": "code",
   "execution_count": null,
   "metadata": {
    "hidden": true
   },
   "outputs": [],
   "source": [
    "m.fit(lr, 1, metrics=[exp_rmspe])"
   ]
  },
  {
   "cell_type": "code",
   "execution_count": null,
   "metadata": {
    "hidden": true
   },
   "outputs": [],
   "source": [
    "m.fit(lr, 3, metrics=[exp_rmspe])"
   ]
  },
  {
   "cell_type": "code",
   "execution_count": null,
   "metadata": {
    "hidden": true
   },
   "outputs": [],
   "source": [
    "m.fit(lr, 3, metrics=[exp_rmspe], cycle_len=1)"
   ]
  },
  {
   "cell_type": "markdown",
   "metadata": {
    "heading_collapsed": true
   },
   "source": [
    "### Test"
   ]
  },
  {
   "cell_type": "code",
   "execution_count": null,
   "metadata": {
    "collapsed": true,
    "hidden": true
   },
   "outputs": [],
   "source": [
    "m = md.get_learner(emb_szs, len(df.columns)-len(cat_vars),\n",
    "                   0.04, 1, [1000,500], [0.001,0.01], y_range=y_range)\n",
    "lr = 1e-3"
   ]
  },
  {
   "cell_type": "code",
   "execution_count": null,
   "metadata": {
    "hidden": true
   },
   "outputs": [],
   "source": [
    "m.fit(lr, 3, metrics=[exp_rmspe])"
   ]
  },
  {
   "cell_type": "code",
   "execution_count": null,
   "metadata": {
    "hidden": true
   },
   "outputs": [],
   "source": [
    "m.fit(lr, 3, metrics=[exp_rmspe], cycle_len=1)"
   ]
  },
  {
   "cell_type": "code",
   "execution_count": null,
   "metadata": {
    "collapsed": true,
    "hidden": true
   },
   "outputs": [],
   "source": [
    "m.save('val0')"
   ]
  },
  {
   "cell_type": "code",
   "execution_count": null,
   "metadata": {
    "collapsed": true,
    "hidden": true
   },
   "outputs": [],
   "source": [
    "m.load('val0')"
   ]
  },
  {
   "cell_type": "code",
   "execution_count": null,
   "metadata": {
    "collapsed": true,
    "hidden": true
   },
   "outputs": [],
   "source": [
    "x,y=m.predict_with_targs()"
   ]
  },
  {
   "cell_type": "code",
   "execution_count": null,
   "metadata": {
    "hidden": true
   },
   "outputs": [],
   "source": [
    "exp_rmspe(x,y)"
   ]
  },
  {
   "cell_type": "code",
   "execution_count": null,
   "metadata": {
    "collapsed": true,
    "hidden": true
   },
   "outputs": [],
   "source": [
    "pred_test=m.predict(True)"
   ]
  },
  {
   "cell_type": "code",
   "execution_count": null,
   "metadata": {
    "collapsed": true,
    "hidden": true
   },
   "outputs": [],
   "source": [
    "pred_test = np.exp(pred_test)"
   ]
  },
  {
   "cell_type": "code",
   "execution_count": null,
   "metadata": {
    "collapsed": true,
    "hidden": true
   },
   "outputs": [],
   "source": [
    "joined_test['energy_sum']=pred_test"
   ]
  },
  {
   "cell_type": "code",
   "execution_count": null,
   "metadata": {
    "collapsed": true,
    "hidden": true
   },
   "outputs": [],
   "source": [
    "csv_fn=f'{PATH}tmp/sub.csv'"
   ]
  },
  {
   "cell_type": "code",
   "execution_count": null,
   "metadata": {
    "collapsed": true,
    "hidden": true
   },
   "outputs": [],
   "source": [
    "joined_test[['LCLid','energy_sum']].to_csv(csv_fn, index=False)"
   ]
  },
  {
   "cell_type": "code",
   "execution_count": null,
   "metadata": {
    "hidden": true
   },
   "outputs": [],
   "source": [
    "FileLink(csv_fn)"
   ]
  },
  {
   "cell_type": "markdown",
   "metadata": {
    "heading_collapsed": true
   },
   "source": [
    "## RF"
   ]
  },
  {
   "cell_type": "code",
   "execution_count": null,
   "metadata": {
    "collapsed": true,
    "hidden": true
   },
   "outputs": [],
   "source": [
    "from sklearn.ensemble import RandomForestRegressor"
   ]
  },
  {
   "cell_type": "code",
   "execution_count": null,
   "metadata": {
    "collapsed": true,
    "hidden": true
   },
   "outputs": [],
   "source": [
    "((val,trn), (y_val,y_trn)) = split_by_idx(val_idx, df.values, yl)"
   ]
  },
  {
   "cell_type": "code",
   "execution_count": null,
   "metadata": {
    "collapsed": true,
    "hidden": true
   },
   "outputs": [],
   "source": [
    "m = RandomForestRegressor(n_estimators=40, max_features=0.99, min_samples_leaf=2,\n",
    "                          n_jobs=-1, oob_score=True)\n",
    "m.fit(trn, y_trn);"
   ]
  },
  {
   "cell_type": "code",
   "execution_count": null,
   "metadata": {
    "hidden": true
   },
   "outputs": [],
   "source": [
    "preds = m.predict(val)\n",
    "m.score(trn, y_trn), m.score(val, y_val), m.oob_score_, exp_rmspe(preds, y_val)"
   ]
  },
  {
   "cell_type": "code",
   "execution_count": null,
   "metadata": {
    "collapsed": true,
    "hidden": true
   },
   "outputs": [],
   "source": []
  }
 ],
 "metadata": {
  "anaconda-cloud": {},
  "kernelspec": {
   "display_name": "Python 3",
   "language": "python",
   "name": "python3"
  },
  "language_info": {
   "codemirror_mode": {
    "name": "ipython",
    "version": 3
   },
   "file_extension": ".py",
   "mimetype": "text/x-python",
   "name": "python",
   "nbconvert_exporter": "python",
   "pygments_lexer": "ipython3",
   "version": "3.5.2"
  },
  "toc": {
   "colors": {
    "hover_highlight": "#DAA520",
    "navigate_num": "#000000",
    "navigate_text": "#333333",
    "running_highlight": "#FF0000",
    "selected_highlight": "#FFD700",
    "sidebar_border": "#EEEEEE",
    "wrapper_background": "#FFFFFF"
   },
   "moveMenuLeft": true,
   "nav_menu": {
    "height": "173px",
    "width": "251px"
   },
   "navigate_menu": true,
   "number_sections": true,
   "sideBar": true,
   "threshold": 4,
   "toc_cell": false,
   "toc_section_display": "block",
   "toc_window_display": false,
   "widenNotebook": false
  }
 },
 "nbformat": 4,
 "nbformat_minor": 2
}
