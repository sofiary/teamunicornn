{
 "cells": [
  {
   "cell_type": "markdown",
   "metadata": {},
   "source": [
    "Quick look at one of the datasets, and simple ARIMA model"
   ]
  },
  {
   "cell_type": "code",
   "execution_count": 13,
   "metadata": {
    "_cell_guid": "874e2e5f-5f2e-454d-a963-81786ddce7b8",
    "_uuid": "98f592caba57c3244b7e8a5c55ed1cb060605424",
    "collapsed": true
   },
   "outputs": [],
   "source": [
    "from numpy import split\n",
    "from numpy import array\n",
    "import numpy as np\n",
    "from pandas import read_csv\n",
    "from sklearn.metrics import mean_squared_error\n",
    "from matplotlib import pyplot as plt\n",
    "import pandas as pd"
   ]
  },
  {
   "cell_type": "code",
   "execution_count": 14,
   "metadata": {},
   "outputs": [],
   "source": [
    "pd.set_option('display.max_columns', None)"
   ]
  },
  {
   "cell_type": "code",
   "execution_count": 17,
   "metadata": {},
   "outputs": [],
   "source": [
    "dateparse = lambda x: pd.datetime.strptime(x, '%Y-%m-%d %H:%M:%S')\n",
    "\n",
    "mac = pd.read_csv('{0}LCLid/mac000041.csv'.format(PATH), parse_dates=['day_time'], date_parser=dateparse)"
   ]
  },
  {
   "cell_type": "code",
   "execution_count": 18,
   "metadata": {},
   "outputs": [
    {
     "data": {
      "text/html": [
       "<div>\n",
       "<style scoped>\n",
       "    .dataframe tbody tr th:only-of-type {\n",
       "        vertical-align: middle;\n",
       "    }\n",
       "\n",
       "    .dataframe tbody tr th {\n",
       "        vertical-align: top;\n",
       "    }\n",
       "\n",
       "    .dataframe thead th {\n",
       "        text-align: right;\n",
       "    }\n",
       "</style>\n",
       "<table border=\"1\" class=\"dataframe\">\n",
       "  <thead>\n",
       "    <tr style=\"text-align: right;\">\n",
       "      <th></th>\n",
       "      <th>LCLid</th>\n",
       "      <th>energy(kWh/hh)</th>\n",
       "      <th>dayYear</th>\n",
       "      <th>dayMonth</th>\n",
       "      <th>dayWeek</th>\n",
       "      <th>dayDay</th>\n",
       "      <th>dayDayofweek</th>\n",
       "      <th>dayDayofyear</th>\n",
       "      <th>dayIs_month_end</th>\n",
       "      <th>dayIs_month_start</th>\n",
       "      <th>dayIs_quarter_end</th>\n",
       "      <th>dayIs_quarter_start</th>\n",
       "      <th>dayIs_year_end</th>\n",
       "      <th>dayIs_year_start</th>\n",
       "      <th>dayElapsed</th>\n",
       "      <th>delta_minutes</th>\n",
       "      <th>visibility</th>\n",
       "      <th>windBearing</th>\n",
       "      <th>temperature</th>\n",
       "      <th>dewPoint</th>\n",
       "      <th>pressure</th>\n",
       "      <th>apparentTemperature</th>\n",
       "      <th>windSpeed</th>\n",
       "      <th>precipType</th>\n",
       "      <th>humidity</th>\n",
       "      <th>summary</th>\n",
       "      <th>day_time</th>\n",
       "      <th>is_bank_holiday</th>\n",
       "      <th>Bank_holiday_Boxing_Day</th>\n",
       "      <th>Bank_holiday_Christmas_Day</th>\n",
       "      <th>Bank_holiday_Early_May_bank_holiday</th>\n",
       "      <th>Bank_holiday_Easter_Monday</th>\n",
       "      <th>Bank_holiday_Good_Friday</th>\n",
       "      <th>Bank_holiday_New_Years_Day</th>\n",
       "      <th>Bank_holiday_New_Years_Day_substitute_day</th>\n",
       "      <th>Bank_holiday_Queens_Diamond_Jubilee_extra_bank_holiday</th>\n",
       "      <th>Bank_holiday_Spring_bank_holiday</th>\n",
       "      <th>Bank_holiday_Spring_bank_holiday_substitute_day</th>\n",
       "      <th>Bank_holiday_Summer_bank_holiday</th>\n",
       "      <th>energy_csum</th>\n",
       "    </tr>\n",
       "  </thead>\n",
       "  <tbody>\n",
       "    <tr>\n",
       "      <th>0</th>\n",
       "      <td>MAC000041</td>\n",
       "      <td>0.059</td>\n",
       "      <td>2012</td>\n",
       "      <td>10</td>\n",
       "      <td>41</td>\n",
       "      <td>12</td>\n",
       "      <td>4</td>\n",
       "      <td>286</td>\n",
       "      <td>False</td>\n",
       "      <td>False</td>\n",
       "      <td>False</td>\n",
       "      <td>False</td>\n",
       "      <td>False</td>\n",
       "      <td>False</td>\n",
       "      <td>1350000000</td>\n",
       "      <td>0</td>\n",
       "      <td>11.76</td>\n",
       "      <td>234.0</td>\n",
       "      <td>13.610</td>\n",
       "      <td>12.21</td>\n",
       "      <td>999.470</td>\n",
       "      <td>13.610</td>\n",
       "      <td>5.400</td>\n",
       "      <td>rain</td>\n",
       "      <td>0.910</td>\n",
       "      <td>Mostly Cloudy</td>\n",
       "      <td>2012-10-12 00:00:00</td>\n",
       "      <td>False</td>\n",
       "      <td>0</td>\n",
       "      <td>0</td>\n",
       "      <td>0</td>\n",
       "      <td>0</td>\n",
       "      <td>0</td>\n",
       "      <td>0</td>\n",
       "      <td>0</td>\n",
       "      <td>0</td>\n",
       "      <td>0</td>\n",
       "      <td>0</td>\n",
       "      <td>0</td>\n",
       "      <td>2214.590</td>\n",
       "    </tr>\n",
       "    <tr>\n",
       "      <th>1</th>\n",
       "      <td>MAC000041</td>\n",
       "      <td>0.059</td>\n",
       "      <td>2012</td>\n",
       "      <td>10</td>\n",
       "      <td>41</td>\n",
       "      <td>12</td>\n",
       "      <td>4</td>\n",
       "      <td>286</td>\n",
       "      <td>False</td>\n",
       "      <td>False</td>\n",
       "      <td>False</td>\n",
       "      <td>False</td>\n",
       "      <td>False</td>\n",
       "      <td>False</td>\n",
       "      <td>1350000000</td>\n",
       "      <td>30</td>\n",
       "      <td>12.63</td>\n",
       "      <td>242.0</td>\n",
       "      <td>13.350</td>\n",
       "      <td>11.79</td>\n",
       "      <td>999.785</td>\n",
       "      <td>13.350</td>\n",
       "      <td>6.085</td>\n",
       "      <td>rain</td>\n",
       "      <td>0.900</td>\n",
       "      <td>Mostly Cloudy</td>\n",
       "      <td>2012-10-12 00:30:00</td>\n",
       "      <td>False</td>\n",
       "      <td>0</td>\n",
       "      <td>0</td>\n",
       "      <td>0</td>\n",
       "      <td>0</td>\n",
       "      <td>0</td>\n",
       "      <td>0</td>\n",
       "      <td>0</td>\n",
       "      <td>0</td>\n",
       "      <td>0</td>\n",
       "      <td>0</td>\n",
       "      <td>0</td>\n",
       "      <td>2214.649</td>\n",
       "    </tr>\n",
       "    <tr>\n",
       "      <th>2</th>\n",
       "      <td>MAC000041</td>\n",
       "      <td>0.058</td>\n",
       "      <td>2012</td>\n",
       "      <td>10</td>\n",
       "      <td>41</td>\n",
       "      <td>12</td>\n",
       "      <td>4</td>\n",
       "      <td>286</td>\n",
       "      <td>False</td>\n",
       "      <td>False</td>\n",
       "      <td>False</td>\n",
       "      <td>False</td>\n",
       "      <td>False</td>\n",
       "      <td>False</td>\n",
       "      <td>1350000000</td>\n",
       "      <td>60</td>\n",
       "      <td>13.50</td>\n",
       "      <td>250.0</td>\n",
       "      <td>13.090</td>\n",
       "      <td>11.37</td>\n",
       "      <td>1000.100</td>\n",
       "      <td>13.090</td>\n",
       "      <td>6.770</td>\n",
       "      <td>rain</td>\n",
       "      <td>0.890</td>\n",
       "      <td>Breezy and Mostly Cloudy</td>\n",
       "      <td>2012-10-12 01:00:00</td>\n",
       "      <td>False</td>\n",
       "      <td>0</td>\n",
       "      <td>0</td>\n",
       "      <td>0</td>\n",
       "      <td>0</td>\n",
       "      <td>0</td>\n",
       "      <td>0</td>\n",
       "      <td>0</td>\n",
       "      <td>0</td>\n",
       "      <td>0</td>\n",
       "      <td>0</td>\n",
       "      <td>0</td>\n",
       "      <td>2214.707</td>\n",
       "    </tr>\n",
       "    <tr>\n",
       "      <th>3</th>\n",
       "      <td>MAC000041</td>\n",
       "      <td>0.059</td>\n",
       "      <td>2012</td>\n",
       "      <td>10</td>\n",
       "      <td>41</td>\n",
       "      <td>12</td>\n",
       "      <td>4</td>\n",
       "      <td>286</td>\n",
       "      <td>False</td>\n",
       "      <td>False</td>\n",
       "      <td>False</td>\n",
       "      <td>False</td>\n",
       "      <td>False</td>\n",
       "      <td>False</td>\n",
       "      <td>1350000000</td>\n",
       "      <td>90</td>\n",
       "      <td>13.50</td>\n",
       "      <td>251.0</td>\n",
       "      <td>12.815</td>\n",
       "      <td>10.82</td>\n",
       "      <td>1000.305</td>\n",
       "      <td>12.815</td>\n",
       "      <td>6.615</td>\n",
       "      <td>rain</td>\n",
       "      <td>0.875</td>\n",
       "      <td>Breezy and Mostly Cloudy</td>\n",
       "      <td>2012-10-12 01:30:00</td>\n",
       "      <td>False</td>\n",
       "      <td>0</td>\n",
       "      <td>0</td>\n",
       "      <td>0</td>\n",
       "      <td>0</td>\n",
       "      <td>0</td>\n",
       "      <td>0</td>\n",
       "      <td>0</td>\n",
       "      <td>0</td>\n",
       "      <td>0</td>\n",
       "      <td>0</td>\n",
       "      <td>0</td>\n",
       "      <td>2214.766</td>\n",
       "    </tr>\n",
       "    <tr>\n",
       "      <th>4</th>\n",
       "      <td>MAC000041</td>\n",
       "      <td>0.059</td>\n",
       "      <td>2012</td>\n",
       "      <td>10</td>\n",
       "      <td>41</td>\n",
       "      <td>12</td>\n",
       "      <td>4</td>\n",
       "      <td>286</td>\n",
       "      <td>False</td>\n",
       "      <td>False</td>\n",
       "      <td>False</td>\n",
       "      <td>False</td>\n",
       "      <td>False</td>\n",
       "      <td>False</td>\n",
       "      <td>1350000000</td>\n",
       "      <td>120</td>\n",
       "      <td>13.50</td>\n",
       "      <td>252.0</td>\n",
       "      <td>12.540</td>\n",
       "      <td>10.27</td>\n",
       "      <td>1000.510</td>\n",
       "      <td>12.540</td>\n",
       "      <td>6.460</td>\n",
       "      <td>rain</td>\n",
       "      <td>0.860</td>\n",
       "      <td>Mostly Cloudy</td>\n",
       "      <td>2012-10-12 02:00:00</td>\n",
       "      <td>False</td>\n",
       "      <td>0</td>\n",
       "      <td>0</td>\n",
       "      <td>0</td>\n",
       "      <td>0</td>\n",
       "      <td>0</td>\n",
       "      <td>0</td>\n",
       "      <td>0</td>\n",
       "      <td>0</td>\n",
       "      <td>0</td>\n",
       "      <td>0</td>\n",
       "      <td>0</td>\n",
       "      <td>2214.825</td>\n",
       "    </tr>\n",
       "  </tbody>\n",
       "</table>\n",
       "</div>"
      ],
      "text/plain": [
       "       LCLid  energy(kWh/hh)  dayYear  dayMonth  dayWeek  dayDay  \\\n",
       "0  MAC000041           0.059     2012        10       41      12   \n",
       "1  MAC000041           0.059     2012        10       41      12   \n",
       "2  MAC000041           0.058     2012        10       41      12   \n",
       "3  MAC000041           0.059     2012        10       41      12   \n",
       "4  MAC000041           0.059     2012        10       41      12   \n",
       "\n",
       "   dayDayofweek  dayDayofyear  dayIs_month_end  dayIs_month_start  \\\n",
       "0             4           286            False              False   \n",
       "1             4           286            False              False   \n",
       "2             4           286            False              False   \n",
       "3             4           286            False              False   \n",
       "4             4           286            False              False   \n",
       "\n",
       "   dayIs_quarter_end  dayIs_quarter_start  dayIs_year_end  dayIs_year_start  \\\n",
       "0              False                False           False             False   \n",
       "1              False                False           False             False   \n",
       "2              False                False           False             False   \n",
       "3              False                False           False             False   \n",
       "4              False                False           False             False   \n",
       "\n",
       "   dayElapsed  delta_minutes  visibility  windBearing  temperature  dewPoint  \\\n",
       "0  1350000000              0       11.76        234.0       13.610     12.21   \n",
       "1  1350000000             30       12.63        242.0       13.350     11.79   \n",
       "2  1350000000             60       13.50        250.0       13.090     11.37   \n",
       "3  1350000000             90       13.50        251.0       12.815     10.82   \n",
       "4  1350000000            120       13.50        252.0       12.540     10.27   \n",
       "\n",
       "   pressure  apparentTemperature  windSpeed precipType  humidity  \\\n",
       "0   999.470               13.610      5.400       rain     0.910   \n",
       "1   999.785               13.350      6.085       rain     0.900   \n",
       "2  1000.100               13.090      6.770       rain     0.890   \n",
       "3  1000.305               12.815      6.615       rain     0.875   \n",
       "4  1000.510               12.540      6.460       rain     0.860   \n",
       "\n",
       "                    summary            day_time  is_bank_holiday  \\\n",
       "0             Mostly Cloudy 2012-10-12 00:00:00            False   \n",
       "1             Mostly Cloudy 2012-10-12 00:30:00            False   \n",
       "2  Breezy and Mostly Cloudy 2012-10-12 01:00:00            False   \n",
       "3  Breezy and Mostly Cloudy 2012-10-12 01:30:00            False   \n",
       "4             Mostly Cloudy 2012-10-12 02:00:00            False   \n",
       "\n",
       "   Bank_holiday_Boxing_Day  Bank_holiday_Christmas_Day  \\\n",
       "0                        0                           0   \n",
       "1                        0                           0   \n",
       "2                        0                           0   \n",
       "3                        0                           0   \n",
       "4                        0                           0   \n",
       "\n",
       "   Bank_holiday_Early_May_bank_holiday  Bank_holiday_Easter_Monday  \\\n",
       "0                                    0                           0   \n",
       "1                                    0                           0   \n",
       "2                                    0                           0   \n",
       "3                                    0                           0   \n",
       "4                                    0                           0   \n",
       "\n",
       "   Bank_holiday_Good_Friday  Bank_holiday_New_Years_Day  \\\n",
       "0                         0                           0   \n",
       "1                         0                           0   \n",
       "2                         0                           0   \n",
       "3                         0                           0   \n",
       "4                         0                           0   \n",
       "\n",
       "   Bank_holiday_New_Years_Day_substitute_day  \\\n",
       "0                                          0   \n",
       "1                                          0   \n",
       "2                                          0   \n",
       "3                                          0   \n",
       "4                                          0   \n",
       "\n",
       "   Bank_holiday_Queens_Diamond_Jubilee_extra_bank_holiday  \\\n",
       "0                                                  0        \n",
       "1                                                  0        \n",
       "2                                                  0        \n",
       "3                                                  0        \n",
       "4                                                  0        \n",
       "\n",
       "   Bank_holiday_Spring_bank_holiday  \\\n",
       "0                                 0   \n",
       "1                                 0   \n",
       "2                                 0   \n",
       "3                                 0   \n",
       "4                                 0   \n",
       "\n",
       "   Bank_holiday_Spring_bank_holiday_substitute_day  \\\n",
       "0                                                0   \n",
       "1                                                0   \n",
       "2                                                0   \n",
       "3                                                0   \n",
       "4                                                0   \n",
       "\n",
       "   Bank_holiday_Summer_bank_holiday  energy_csum  \n",
       "0                                 0     2214.590  \n",
       "1                                 0     2214.649  \n",
       "2                                 0     2214.707  \n",
       "3                                 0     2214.766  \n",
       "4                                 0     2214.825  "
      ]
     },
     "execution_count": 18,
     "metadata": {},
     "output_type": "execute_result"
    }
   ],
   "source": [
    "mac.head()"
   ]
  },
  {
   "cell_type": "code",
   "execution_count": 19,
   "metadata": {},
   "outputs": [],
   "source": [
    "mac.sort_values(by=['day_time'], inplace=True)"
   ]
  },
  {
   "cell_type": "code",
   "execution_count": 26,
   "metadata": {},
   "outputs": [
    {
     "data": {
      "text/plain": [
       "Timestamp('2011-12-08 10:30:00')"
      ]
     },
     "execution_count": 26,
     "metadata": {},
     "output_type": "execute_result"
    }
   ],
   "source": [
    "#find the first valid value\n",
    "mac['energy(kWh/hh)'].first_valid_index()"
   ]
  },
  {
   "cell_type": "code",
   "execution_count": 27,
   "metadata": {},
   "outputs": [
    {
     "data": {
      "text/plain": [
       "Timestamp('2014-02-28 00:00:00')"
      ]
     },
     "execution_count": 27,
     "metadata": {},
     "output_type": "execute_result"
    }
   ],
   "source": [
    "#find the last valid value\n",
    "mac['energy(kWh/hh)'].last_valid_index()"
   ]
  },
  {
   "cell_type": "code",
   "execution_count": 28,
   "metadata": {},
   "outputs": [],
   "source": [
    "ref_date_range = pd.date_range('2011-12-8 00:00:00', '2014-2-28 23:30:00', freq='30Min')"
   ]
  },
  {
   "cell_type": "code",
   "execution_count": 29,
   "metadata": {},
   "outputs": [],
   "source": [
    "ref_df = pd.DataFrame(np.random.randint(1, 20, (ref_date_range.shape[0], 1)))\n",
    "ref_df.index = ref_date_range  # set index"
   ]
  },
  {
   "cell_type": "code",
   "execution_count": 31,
   "metadata": {},
   "outputs": [
    {
     "name": "stdout",
     "output_type": "stream",
     "text": [
      "frac missing: 0.00010238558410975735\n"
     ]
    }
   ],
   "source": [
    "#check for missing datetimeindex values based on reference index (with all values) \n",
    "missing_dates = ref_df.index[~ref_df.index.isin(mac.index)]\n",
    "\n",
    "print('frac missing: {0}'.format(len(missing_dates)/len(mac)))"
   ]
  },
  {
   "cell_type": "code",
   "execution_count": 32,
   "metadata": {},
   "outputs": [
    {
     "data": {
      "text/plain": [
       "(4, 39068, DatetimeIndex(['2013-09-09 23:00:00', '2013-09-09 23:30:00',\n",
       "                '2013-09-10 00:00:00', '2013-09-10 00:30:00'],\n",
       "               dtype='datetime64[ns]', freq='30T'))"
      ]
     },
     "execution_count": 32,
     "metadata": {},
     "output_type": "execute_result"
    }
   ],
   "source": [
    "len(missing_dates), len(mac), missing_dates"
   ]
  },
  {
   "cell_type": "code",
   "execution_count": 33,
   "metadata": {},
   "outputs": [],
   "source": [
    "prev_row = mac.loc['2013-09-09 22:30:00']\n",
    "post_row = mac.loc['2013-09-10 01:00:00']"
   ]
  },
  {
   "cell_type": "markdown",
   "metadata": {},
   "source": [
    "As a quick hack we are just going to duplicate the prev row 2x and post row 2x to fill in the gaps"
   ]
  },
  {
   "cell_type": "code",
   "execution_count": 34,
   "metadata": {},
   "outputs": [],
   "source": [
    "# DatetimeIndex.insert(loc, item)[source]\n",
    "mac.loc[pd.to_datetime('2013-09-09 23:00:00')] = prev_row\n",
    "mac.loc[pd.to_datetime('2013-09-09 23:30:00')] = prev_row\n",
    "mac.loc[pd.to_datetime('2013-09-10 00:00:00')] = post_row\n",
    "mac.loc[pd.to_datetime('2013-09-10 00:30:00')] = post_row"
   ]
  },
  {
   "cell_type": "code",
   "execution_count": 35,
   "metadata": {},
   "outputs": [],
   "source": [
    "mac = mac.sort_index()"
   ]
  },
  {
   "cell_type": "code",
   "execution_count": 36,
   "metadata": {},
   "outputs": [
    {
     "name": "stdout",
     "output_type": "stream",
     "text": [
      "frac missing: 0.0, total: 39072, total days: 814.0\n"
     ]
    }
   ],
   "source": [
    "#double check missing dates were fixed\n",
    "missing_dates = ref_df.index[~ref_df.index.isin(mac.index)]\n",
    "\n",
    "print('frac missing: {0}, total: {1}, total days: {2}'.format(len(missing_dates)/len(mac), len(mac), len(mac)/48))"
   ]
  },
  {
   "cell_type": "code",
   "execution_count": 37,
   "metadata": {},
   "outputs": [
    {
     "name": "stdout",
     "output_type": "stream",
     "text": [
      "frac missing: 0.0, inv_missing_dates: DatetimeIndex([], dtype='datetime64[ns]', name='day_time', freq=None)\n"
     ]
    }
   ],
   "source": [
    "#check if more than necessary in data\n",
    "inv_missing_dates = mac.index[~mac.index.isin(ref_df.index)]\n",
    "print('frac missing: {0}, inv_missing_dates: {1}'.format(len(inv_missing_dates)/len(mac), inv_missing_dates))"
   ]
  },
  {
   "cell_type": "code",
   "execution_count": 38,
   "metadata": {},
   "outputs": [
    {
     "data": {
      "text/plain": [
       "(39072, 814.0, 39072, 814.0)"
      ]
     },
     "execution_count": 38,
     "metadata": {},
     "output_type": "execute_result"
    }
   ],
   "source": [
    "len(ref_df), len(ref_df)/48, len(mac), len(mac)/48"
   ]
  },
  {
   "cell_type": "code",
   "execution_count": 39,
   "metadata": {},
   "outputs": [],
   "source": [
    "mac.fillna(0, inplace=True)"
   ]
  },
  {
   "cell_type": "markdown",
   "metadata": {},
   "source": [
    "Plot a sample households daily power use"
   ]
  },
  {
   "cell_type": "code",
   "execution_count": 41,
   "metadata": {},
   "outputs": [],
   "source": [
    "#mac.set_index(['day_time'],inplace=True)"
   ]
  },
  {
   "cell_type": "code",
   "execution_count": 42,
   "metadata": {},
   "outputs": [],
   "source": [
    "#convert to time series:\n",
    "ts = mac['energy(kWh/hh)']"
   ]
  },
  {
   "cell_type": "code",
   "execution_count": 43,
   "metadata": {},
   "outputs": [
    {
     "data": {
      "text/plain": [
       "[<matplotlib.lines.Line2D at 0x7fd715155160>]"
      ]
     },
     "execution_count": 43,
     "metadata": {},
     "output_type": "execute_result"
    },
    {
     "data": {
      "image/png": "[encoded data removed]",
      "text/plain": [
       "<matplotlib.figure.Figure at 0x7fd71b64abe0>"
      ]
     },
     "metadata": {},
     "output_type": "display_data"
    }
   ],
   "source": [
    "plt.plot(ts)"
   ]
  },
  {
   "cell_type": "code",
   "execution_count": 44,
   "metadata": {},
   "outputs": [],
   "source": [
    "## Test stationarity"
   ]
  },
  {
   "cell_type": "code",
   "execution_count": 45,
   "metadata": {},
   "outputs": [],
   "source": [
    "from statsmodels.tsa.stattools import adfuller\n",
    "def test_stationarity(timeseries):\n",
    "    \n",
    "    #Determing rolling statistics\n",
    "    rolmean = timeseries.rolling(12).mean()\n",
    "    rolstd = timeseries.rolling(12).std()\n",
    "\n",
    "    #Plot rolling statistics:\n",
    "    orig = plt.plot(timeseries, color='blue',label='Original')\n",
    "    mean = plt.plot(rolmean, color='red', label='Rolling Mean')\n",
    "    std = plt.plot(rolstd, color='black', label = 'Rolling Std')\n",
    "    plt.legend(loc='best')\n",
    "    plt.title('Rolling Mean & Standard Deviation')\n",
    "    plt.show(block=False)\n",
    "    \n",
    "    #Perform Dickey-Fuller test:\n",
    "    print ('Results of Dickey-Fuller Test:')\n",
    "    dftest = adfuller(timeseries, autolag='AIC')\n",
    "    dfoutput = pd.Series(dftest[0:4], index=['Test Statistic','p-value','#Lags Used','Number of Observations Used'])\n",
    "    for key,value in dftest[4].items():\n",
    "        dfoutput['Critical Value (%s)'%key] = value\n",
    "    print (dfoutput)"
   ]
  },
  {
   "cell_type": "code",
   "execution_count": 46,
   "metadata": {},
   "outputs": [
    {
     "data": {
      "image/png": "[encoded data removed]",
      "text/plain": [
       "<matplotlib.figure.Figure at 0x7fd7150f1710>"
      ]
     },
     "metadata": {},
     "output_type": "display_data"
    },
    {
     "name": "stdout",
     "output_type": "stream",
     "text": [
      "Results of Dickey-Fuller Test:\n",
      "Test Statistic                -1.113694e+01\n",
      "p-value                        3.177987e-20\n",
      "#Lags Used                     5.200000e+01\n",
      "Number of Observations Used    3.901900e+04\n",
      "Critical Value (5%)           -2.861614e+00\n",
      "Critical Value (1%)           -3.430518e+00\n",
      "Critical Value (10%)          -2.566809e+00\n",
      "dtype: float64\n"
     ]
    }
   ],
   "source": [
    "test_stationarity(ts)"
   ]
  },
  {
   "cell_type": "code",
   "execution_count": 47,
   "metadata": {},
   "outputs": [
    {
     "name": "stderr",
     "output_type": "stream",
     "text": [
      "/home/walle/.virtualenvs/datascience/lib/python3.5/site-packages/ipykernel_launcher.py:1: RuntimeWarning: divide by zero encountered in log\n",
      "  \"\"\"Entry point for launching an IPython kernel.\n"
     ]
    },
    {
     "data": {
      "text/plain": [
       "[<matplotlib.lines.Line2D at 0x7fd715066278>]"
      ]
     },
     "execution_count": 47,
     "metadata": {},
     "output_type": "execute_result"
    },
    {
     "data": {
      "image/png": "[encoded data removed]",
      "text/plain": [
       "<matplotlib.figure.Figure at 0x7fd7150d45f8>"
      ]
     },
     "metadata": {},
     "output_type": "display_data"
    }
   ],
   "source": [
    "ts_log = np.log(ts)\n",
    "plt.plot(ts_log)"
   ]
  },
  {
   "cell_type": "code",
   "execution_count": 48,
   "metadata": {},
   "outputs": [
    {
     "data": {
      "text/plain": [
       "[<matplotlib.lines.Line2D at 0x7fd715027860>]"
      ]
     },
     "execution_count": 48,
     "metadata": {},
     "output_type": "execute_result"
    },
    {
     "data": {
      "image/png": "[encoded data removed]",
      "text/plain": [
       "<matplotlib.figure.Figure at 0x7fd7150c9630>"
      ]
     },
     "metadata": {},
     "output_type": "display_data"
    }
   ],
   "source": [
    "ts_log_diff = ts_log - ts_log.shift()\n",
    "plt.plot(ts_log_diff)"
   ]
  },
  {
   "cell_type": "code",
   "execution_count": 49,
   "metadata": {},
   "outputs": [],
   "source": [
    "from statsmodels.tsa.arima_model import ARIMA"
   ]
  },
  {
   "cell_type": "code",
   "execution_count": 50,
   "metadata": {},
   "outputs": [],
   "source": [
    "ts_log_diff = ts_log_diff.fillna(0)\n",
    "ts_log = ts_log.fillna(0)"
   ]
  },
  {
   "cell_type": "code",
   "execution_count": 51,
   "metadata": {},
   "outputs": [],
   "source": [
    "ts_log[ts_log < 0] = 0"
   ]
  },
  {
   "cell_type": "code",
   "execution_count": 52,
   "metadata": {},
   "outputs": [
    {
     "name": "stderr",
     "output_type": "stream",
     "text": [
      "/home/walle/.virtualenvs/datascience/lib/python3.5/site-packages/statsmodels/tsa/kalmanf/kalmanfilter.py:646: FutureWarning: Conversion of the second argument of issubdtype from `float` to `np.floating` is deprecated. In future, it will be treated as `np.float64 == np.dtype(float).type`.\n",
      "  if issubdtype(paramsdtype, float):\n",
      "/home/walle/.virtualenvs/datascience/lib/python3.5/site-packages/statsmodels/tsa/kalmanf/kalmanfilter.py:650: FutureWarning: Conversion of the second argument of issubdtype from `complex` to `np.complexfloating` is deprecated. In future, it will be treated as `np.complex128 == np.dtype(complex).type`.\n",
      "  elif issubdtype(paramsdtype, complex):\n",
      "/home/walle/.virtualenvs/datascience/lib/python3.5/site-packages/statsmodels/base/model.py:473: HessianInversionWarning: Inverting hessian failed, no bse or cov_params available\n",
      "  'available', HessianInversionWarning)\n",
      "/home/walle/.virtualenvs/datascience/lib/python3.5/site-packages/statsmodels/tsa/kalmanf/kalmanfilter.py:577: FutureWarning: Conversion of the second argument of issubdtype from `float` to `np.floating` is deprecated. In future, it will be treated as `np.float64 == np.dtype(float).type`.\n",
      "  if issubdtype(paramsdtype, float):\n"
     ]
    },
    {
     "data": {
      "text/plain": [
       "Text(0.5,1,'RSS: nan')"
      ]
     },
     "execution_count": 52,
     "metadata": {},
     "output_type": "execute_result"
    },
    {
     "data": {
      "image/png": "[encoded data removed]",
      "text/plain": [
       "<matplotlib.figure.Figure at 0x7fd715034588>"
      ]
     },
     "metadata": {},
     "output_type": "display_data"
    }
   ],
   "source": [
    "model = ARIMA(ts_log, order=(2, 1, 2))  \n",
    "results_ARIMA = model.fit(disp=-1)  \n",
    "plt.plot(ts_log_diff)\n",
    "plt.plot(results_ARIMA.fittedvalues, color='red')\n",
    "plt.title('RSS: %.4f'% sum((results_ARIMA.fittedvalues-ts_log_diff)**2))"
   ]
  },
  {
   "cell_type": "code",
   "execution_count": 53,
   "metadata": {},
   "outputs": [
    {
     "name": "stderr",
     "output_type": "stream",
     "text": [
      "/home/walle/.virtualenvs/datascience/lib/python3.5/site-packages/ipykernel_launcher.py:3: DeprecationWarning: \n",
      ".ix is deprecated. Please use\n",
      ".loc for label based indexing or\n",
      ".iloc for positional indexing\n",
      "\n",
      "See the documentation here:\n",
      "http://pandas.pydata.org/pandas-docs/stable/indexing.html#ix-indexer-is-deprecated\n",
      "  This is separate from the ipykernel package so we can avoid doing imports until\n"
     ]
    },
    {
     "data": {
      "text/plain": [
       "[<matplotlib.lines.Line2D at 0x7fd714ea27b8>]"
      ]
     },
     "execution_count": 53,
     "metadata": {},
     "output_type": "execute_result"
    },
    {
     "data": {
      "image/png": "[encoded data removed]",
      "text/plain": [
       "<matplotlib.figure.Figure at 0x7fd714ea2588>"
      ]
     },
     "metadata": {},
     "output_type": "display_data"
    }
   ],
   "source": [
    "predictions_ARIMA_diff = pd.Series(results_ARIMA.fittedvalues, copy=True)\n",
    "predictions_ARIMA_diff_cumsum = predictions_ARIMA_diff.cumsum()\n",
    "predictions_ARIMA_log = pd.Series(ts_log.ix[0], index=ts_log.index)\n",
    "predictions_ARIMA_log = predictions_ARIMA_log.add(predictions_ARIMA_diff_cumsum,fill_value=0)\n",
    "plt.plot(ts_log)\n",
    "plt.plot(predictions_ARIMA_log)"
   ]
  },
  {
   "cell_type": "markdown",
   "metadata": {},
   "source": [
    "doesnt look correct, prediction seems to be inversely correlated, TODO, check this"
   ]
  },
  {
   "cell_type": "code",
   "execution_count": 54,
   "metadata": {},
   "outputs": [
    {
     "data": {
      "text/plain": [
       "Text(0.5,1,'RMSE: 1.6603')"
      ]
     },
     "execution_count": 54,
     "metadata": {},
     "output_type": "execute_result"
    },
    {
     "data": {
      "image/png": "[encoded data removed]",
      "text/plain": [
       "<matplotlib.figure.Figure at 0x7fd71510b7f0>"
      ]
     },
     "metadata": {},
     "output_type": "display_data"
    }
   ],
   "source": [
    "predictions_ARIMA = np.exp(predictions_ARIMA_log)\n",
    "plt.plot(ts)\n",
    "plt.plot(predictions_ARIMA)\n",
    "plt.title('RMSE: %.4f'% np.sqrt(sum((predictions_ARIMA-ts)**2)/len(ts)))"
   ]
  },
  {
   "cell_type": "code",
   "execution_count": null,
   "metadata": {},
   "outputs": [],
   "source": []
  }
 ],
 "metadata": {
  "kernelspec": {
   "display_name": "Python 3",
   "language": "python",
   "name": "python3"
  },
  "language_info": {
   "codemirror_mode": {
    "name": "ipython",
    "version": 3
   },
   "file_extension": ".py",
   "mimetype": "text/x-python",
   "name": "python",
   "nbconvert_exporter": "python",
   "pygments_lexer": "ipython3",
   "version": "3.6.5"
  }
 },
 "nbformat": 4,
 "nbformat_minor": 2
}
