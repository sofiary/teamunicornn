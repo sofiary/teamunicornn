{
 "cells": [
  {
   "cell_type": "markdown",
   "metadata": {},
   "source": [
    "# Format LCLid half hourly data for a consistent dataset "
   ]
  },
  {
   "cell_type": "markdown",
   "metadata": {},
   "source": [
    "The steps to building the dataset we are using here can be found in notebook 1_4_data_wrangling_4_6_forecast_NN_hh\n",
    "\n",
    "Here we export individual household data for consistent data total sample points and start/stop dates\n",
    "\n"
   ]
  },
  {
   "cell_type": "code",
   "execution_count": 2,
   "metadata": {},
   "outputs": [],
   "source": [
    "%matplotlib inline\n",
    "%reload_ext autoreload\n",
    "%autoreload 2"
   ]
  },
  {
   "cell_type": "code",
   "execution_count": 3,
   "metadata": {},
   "outputs": [],
   "source": [
    "from fastai.structured import *\n",
    "from fastai.column_data import *\n",
    "import feather as ftr\n",
    "from datetime import timedelta"
   ]
  },
  {
   "cell_type": "code",
   "execution_count": 4,
   "metadata": {},
   "outputs": [],
   "source": [
    "pd.set_option('display.max_columns', None)\n",
    "pd.options.mode.chained_assignment = None  # default='warn'"
   ]
  },
  {
   "cell_type": "code",
   "execution_count": 5,
   "metadata": {},
   "outputs": [],
   "source": [
    "PATH='../input/merged_data/'"
   ]
  },
  {
   "cell_type": "code",
   "execution_count": 6,
   "metadata": {
    "hidden": true
   },
   "outputs": [],
   "source": [
    "from IPython.display import HTML, display"
   ]
  },
  {
   "cell_type": "markdown",
   "metadata": {},
   "source": [
    "### Read in final pre-processed dataset"
   ]
  },
  {
   "cell_type": "code",
   "execution_count": 7,
   "metadata": {},
   "outputs": [],
   "source": [
    "df = pd.read_csv(f'{PATH}hh_final_544_ids_735_days.csv', low_memory=False)"
   ]
  },
  {
   "cell_type": "code",
   "execution_count": 8,
   "metadata": {},
   "outputs": [
    {
     "data": {
      "text/html": [
       "<div>\n",
       "<style scoped>\n",
       "    .dataframe tbody tr th:only-of-type {\n",
       "        vertical-align: middle;\n",
       "    }\n",
       "\n",
       "    .dataframe tbody tr th {\n",
       "        vertical-align: top;\n",
       "    }\n",
       "\n",
       "    .dataframe thead th {\n",
       "        text-align: right;\n",
       "    }\n",
       "</style>\n",
       "<table border=\"1\" class=\"dataframe\">\n",
       "  <thead>\n",
       "    <tr style=\"text-align: right;\">\n",
       "      <th></th>\n",
       "      <th>Unnamed: 0</th>\n",
       "      <th>index</th>\n",
       "      <th>LCLid</th>\n",
       "      <th>energy(kWh/hh)</th>\n",
       "      <th>dayYear</th>\n",
       "      <th>dayMonth</th>\n",
       "      <th>dayWeek</th>\n",
       "      <th>dayDay</th>\n",
       "      <th>dayDayofweek</th>\n",
       "      <th>dayDayofyear</th>\n",
       "      <th>dayIs_month_end</th>\n",
       "      <th>dayIs_month_start</th>\n",
       "      <th>dayIs_quarter_end</th>\n",
       "      <th>dayIs_quarter_start</th>\n",
       "      <th>dayIs_year_end</th>\n",
       "      <th>dayIs_year_start</th>\n",
       "      <th>dayElapsed</th>\n",
       "      <th>delta_minutes</th>\n",
       "      <th>visibility</th>\n",
       "      <th>windBearing</th>\n",
       "      <th>temperature</th>\n",
       "      <th>dewPoint</th>\n",
       "      <th>pressure</th>\n",
       "      <th>apparentTemperature</th>\n",
       "      <th>windSpeed</th>\n",
       "      <th>precipType</th>\n",
       "      <th>humidity</th>\n",
       "      <th>summary</th>\n",
       "      <th>is_bank_holiday</th>\n",
       "      <th>bank_holiday</th>\n",
       "      <th>day</th>\n",
       "      <th>cloudCover</th>\n",
       "      <th>uvIndex</th>\n",
       "      <th>moonPhase</th>\n",
       "      <th>from_sunrise</th>\n",
       "      <th>to_sunset</th>\n",
       "      <th>Afteris_bank_holiday</th>\n",
       "      <th>Beforeis_bank_holiday</th>\n",
       "      <th>stdorToU</th>\n",
       "      <th>Acorn</th>\n",
       "      <th>Acorn_grouped</th>\n",
       "    </tr>\n",
       "  </thead>\n",
       "  <tbody>\n",
       "    <tr>\n",
       "      <th>0</th>\n",
       "      <td>0</td>\n",
       "      <td>2012-02-05 00:00:00</td>\n",
       "      <td>MAC000006</td>\n",
       "      <td>0.042</td>\n",
       "      <td>2012</td>\n",
       "      <td>2</td>\n",
       "      <td>5</td>\n",
       "      <td>5</td>\n",
       "      <td>6</td>\n",
       "      <td>36</td>\n",
       "      <td>False</td>\n",
       "      <td>False</td>\n",
       "      <td>False</td>\n",
       "      <td>False</td>\n",
       "      <td>False</td>\n",
       "      <td>False</td>\n",
       "      <td>1328400000</td>\n",
       "      <td>-360000</td>\n",
       "      <td>1.32</td>\n",
       "      <td>160.0</td>\n",
       "      <td>-0.12</td>\n",
       "      <td>-0.22</td>\n",
       "      <td>1024.21</td>\n",
       "      <td>-4.68</td>\n",
       "      <td>4.35</td>\n",
       "      <td>snow</td>\n",
       "      <td>0.99</td>\n",
       "      <td>Foggy</td>\n",
       "      <td>False</td>\n",
       "      <td>NaN</td>\n",
       "      <td>2012-02-05</td>\n",
       "      <td>0.85</td>\n",
       "      <td>1.0</td>\n",
       "      <td>0.42</td>\n",
       "      <td>454.0</td>\n",
       "      <td>-1017.0</td>\n",
       "      <td>0</td>\n",
       "      <td>-87840</td>\n",
       "      <td>Std</td>\n",
       "      <td>ACORN-Q</td>\n",
       "      <td>Adversity</td>\n",
       "    </tr>\n",
       "    <tr>\n",
       "      <th>1</th>\n",
       "      <td>1</td>\n",
       "      <td>2012-02-05 00:00:00</td>\n",
       "      <td>MAC005178</td>\n",
       "      <td>0.561</td>\n",
       "      <td>2012</td>\n",
       "      <td>2</td>\n",
       "      <td>5</td>\n",
       "      <td>5</td>\n",
       "      <td>6</td>\n",
       "      <td>36</td>\n",
       "      <td>False</td>\n",
       "      <td>False</td>\n",
       "      <td>False</td>\n",
       "      <td>False</td>\n",
       "      <td>False</td>\n",
       "      <td>False</td>\n",
       "      <td>1328400000</td>\n",
       "      <td>-360000</td>\n",
       "      <td>1.32</td>\n",
       "      <td>160.0</td>\n",
       "      <td>-0.12</td>\n",
       "      <td>-0.22</td>\n",
       "      <td>1024.21</td>\n",
       "      <td>-4.68</td>\n",
       "      <td>4.35</td>\n",
       "      <td>snow</td>\n",
       "      <td>0.99</td>\n",
       "      <td>Foggy</td>\n",
       "      <td>False</td>\n",
       "      <td>NaN</td>\n",
       "      <td>2012-02-05</td>\n",
       "      <td>0.85</td>\n",
       "      <td>1.0</td>\n",
       "      <td>0.42</td>\n",
       "      <td>454.0</td>\n",
       "      <td>-1017.0</td>\n",
       "      <td>0</td>\n",
       "      <td>-87840</td>\n",
       "      <td>Std</td>\n",
       "      <td>ACORN-E</td>\n",
       "      <td>Affluent</td>\n",
       "    </tr>\n",
       "  </tbody>\n",
       "</table>\n",
       "</div>"
      ],
      "text/plain": [
       "   Unnamed: 0                index      LCLid  energy(kWh/hh)  dayYear  \\\n",
       "0           0  2012-02-05 00:00:00  MAC000006           0.042     2012   \n",
       "1           1  2012-02-05 00:00:00  MAC005178           0.561     2012   \n",
       "\n",
       "   dayMonth  dayWeek  dayDay  dayDayofweek  dayDayofyear  dayIs_month_end  \\\n",
       "0         2        5       5             6            36            False   \n",
       "1         2        5       5             6            36            False   \n",
       "\n",
       "   dayIs_month_start  dayIs_quarter_end  dayIs_quarter_start  dayIs_year_end  \\\n",
       "0              False              False                False           False   \n",
       "1              False              False                False           False   \n",
       "\n",
       "   dayIs_year_start  dayElapsed  delta_minutes  visibility  windBearing  \\\n",
       "0             False  1328400000        -360000        1.32        160.0   \n",
       "1             False  1328400000        -360000        1.32        160.0   \n",
       "\n",
       "   temperature  dewPoint  pressure  apparentTemperature  windSpeed precipType  \\\n",
       "0        -0.12     -0.22   1024.21                -4.68       4.35       snow   \n",
       "1        -0.12     -0.22   1024.21                -4.68       4.35       snow   \n",
       "\n",
       "   humidity summary  is_bank_holiday bank_holiday         day  cloudCover  \\\n",
       "0      0.99   Foggy            False          NaN  2012-02-05        0.85   \n",
       "1      0.99   Foggy            False          NaN  2012-02-05        0.85   \n",
       "\n",
       "   uvIndex  moonPhase  from_sunrise  to_sunset  Afteris_bank_holiday  \\\n",
       "0      1.0       0.42         454.0    -1017.0                     0   \n",
       "1      1.0       0.42         454.0    -1017.0                     0   \n",
       "\n",
       "   Beforeis_bank_holiday stdorToU    Acorn Acorn_grouped  \n",
       "0                 -87840      Std  ACORN-Q     Adversity  \n",
       "1                 -87840      Std  ACORN-E      Affluent  "
      ]
     },
     "execution_count": 8,
     "metadata": {},
     "output_type": "execute_result"
    }
   ],
   "source": [
    "df.head(n=2)"
   ]
  },
  {
   "cell_type": "code",
   "execution_count": 9,
   "metadata": {},
   "outputs": [],
   "source": [
    "df.rename(columns={'index': 'day_time'}, inplace=True)"
   ]
  },
  {
   "cell_type": "code",
   "execution_count": 10,
   "metadata": {},
   "outputs": [],
   "source": [
    "df.drop(columns=['Unnamed: 0'],inplace=True)"
   ]
  },
  {
   "cell_type": "code",
   "execution_count": 11,
   "metadata": {},
   "outputs": [],
   "source": [
    "df['day_time'] = pd.to_datetime(df['day_time'], format='%Y-%m-%d %H:%M:%S')"
   ]
  },
  {
   "cell_type": "markdown",
   "metadata": {},
   "source": [
    "Count NaNs in ouy target column"
   ]
  },
  {
   "cell_type": "code",
   "execution_count": 12,
   "metadata": {},
   "outputs": [
    {
     "data": {
      "text/plain": [
       "6207"
      ]
     },
     "execution_count": 12,
     "metadata": {},
     "output_type": "execute_result"
    }
   ],
   "source": [
    "df['energy(kWh/hh)'].isna().sum()"
   ]
  },
  {
   "cell_type": "code",
   "execution_count": 13,
   "metadata": {},
   "outputs": [
    {
     "data": {
      "text/plain": [
       "day_time                 False\n",
       "LCLid                    False\n",
       "energy(kWh/hh)            True\n",
       "dayYear                  False\n",
       "dayMonth                 False\n",
       "dayWeek                  False\n",
       "dayDay                   False\n",
       "dayDayofweek             False\n",
       "dayDayofyear             False\n",
       "dayIs_month_end          False\n",
       "dayIs_month_start        False\n",
       "dayIs_quarter_end        False\n",
       "dayIs_quarter_start      False\n",
       "dayIs_year_end           False\n",
       "dayIs_year_start         False\n",
       "dayElapsed               False\n",
       "delta_minutes            False\n",
       "visibility               False\n",
       "windBearing              False\n",
       "temperature              False\n",
       "dewPoint                 False\n",
       "pressure                 False\n",
       "apparentTemperature      False\n",
       "windSpeed                False\n",
       "precipType               False\n",
       "humidity                 False\n",
       "summary                  False\n",
       "is_bank_holiday          False\n",
       "bank_holiday              True\n",
       "day                      False\n",
       "cloudCover                True\n",
       "uvIndex                   True\n",
       "moonPhase                 True\n",
       "from_sunrise              True\n",
       "to_sunset                 True\n",
       "Afteris_bank_holiday     False\n",
       "Beforeis_bank_holiday    False\n",
       "stdorToU                 False\n",
       "Acorn                    False\n",
       "Acorn_grouped            False\n",
       "dtype: bool"
      ]
     },
     "execution_count": 13,
     "metadata": {},
     "output_type": "execute_result"
    }
   ],
   "source": [
    "#which columns have nan\n",
    "df.isna().any()"
   ]
  },
  {
   "cell_type": "code",
   "execution_count": 14,
   "metadata": {},
   "outputs": [],
   "source": [
    "nan_energy = df[df['energy(kWh/hh)'].isnull()]"
   ]
  },
  {
   "cell_type": "code",
   "execution_count": 15,
   "metadata": {},
   "outputs": [
    {
     "data": {
      "text/html": [
       "<div>\n",
       "<style scoped>\n",
       "    .dataframe tbody tr th:only-of-type {\n",
       "        vertical-align: middle;\n",
       "    }\n",
       "\n",
       "    .dataframe tbody tr th {\n",
       "        vertical-align: top;\n",
       "    }\n",
       "\n",
       "    .dataframe thead th {\n",
       "        text-align: right;\n",
       "    }\n",
       "</style>\n",
       "<table border=\"1\" class=\"dataframe\">\n",
       "  <thead>\n",
       "    <tr style=\"text-align: right;\">\n",
       "      <th></th>\n",
       "      <th>day_time</th>\n",
       "      <th>LCLid</th>\n",
       "      <th>energy(kWh/hh)</th>\n",
       "      <th>dayYear</th>\n",
       "      <th>dayMonth</th>\n",
       "      <th>dayWeek</th>\n",
       "      <th>dayDay</th>\n",
       "      <th>dayDayofweek</th>\n",
       "      <th>dayDayofyear</th>\n",
       "      <th>dayIs_month_end</th>\n",
       "      <th>dayIs_month_start</th>\n",
       "      <th>dayIs_quarter_end</th>\n",
       "      <th>dayIs_quarter_start</th>\n",
       "      <th>dayIs_year_end</th>\n",
       "      <th>dayIs_year_start</th>\n",
       "      <th>dayElapsed</th>\n",
       "      <th>delta_minutes</th>\n",
       "      <th>visibility</th>\n",
       "      <th>windBearing</th>\n",
       "      <th>temperature</th>\n",
       "      <th>dewPoint</th>\n",
       "      <th>pressure</th>\n",
       "      <th>apparentTemperature</th>\n",
       "      <th>windSpeed</th>\n",
       "      <th>precipType</th>\n",
       "      <th>humidity</th>\n",
       "      <th>summary</th>\n",
       "      <th>is_bank_holiday</th>\n",
       "      <th>bank_holiday</th>\n",
       "      <th>day</th>\n",
       "      <th>cloudCover</th>\n",
       "      <th>uvIndex</th>\n",
       "      <th>moonPhase</th>\n",
       "      <th>from_sunrise</th>\n",
       "      <th>to_sunset</th>\n",
       "      <th>Afteris_bank_holiday</th>\n",
       "      <th>Beforeis_bank_holiday</th>\n",
       "      <th>stdorToU</th>\n",
       "      <th>Acorn</th>\n",
       "      <th>Acorn_grouped</th>\n",
       "    </tr>\n",
       "  </thead>\n",
       "  <tbody>\n",
       "    <tr>\n",
       "      <th>289</th>\n",
       "      <td>2012-02-05 00:00:00</td>\n",
       "      <td>MAC004954</td>\n",
       "      <td>NaN</td>\n",
       "      <td>2012</td>\n",
       "      <td>2</td>\n",
       "      <td>5</td>\n",
       "      <td>5</td>\n",
       "      <td>6</td>\n",
       "      <td>36</td>\n",
       "      <td>False</td>\n",
       "      <td>False</td>\n",
       "      <td>False</td>\n",
       "      <td>False</td>\n",
       "      <td>False</td>\n",
       "      <td>False</td>\n",
       "      <td>1328400000</td>\n",
       "      <td>-360000</td>\n",
       "      <td>1.320</td>\n",
       "      <td>160.0</td>\n",
       "      <td>-0.12</td>\n",
       "      <td>-0.220</td>\n",
       "      <td>1024.21</td>\n",
       "      <td>-4.68</td>\n",
       "      <td>4.350</td>\n",
       "      <td>snow</td>\n",
       "      <td>0.990</td>\n",
       "      <td>Foggy</td>\n",
       "      <td>False</td>\n",
       "      <td>NaN</td>\n",
       "      <td>2012-02-05</td>\n",
       "      <td>NaN</td>\n",
       "      <td>NaN</td>\n",
       "      <td>NaN</td>\n",
       "      <td>NaN</td>\n",
       "      <td>NaN</td>\n",
       "      <td>0</td>\n",
       "      <td>-87840</td>\n",
       "      <td>Std</td>\n",
       "      <td>ACORN-E</td>\n",
       "      <td>Affluent</td>\n",
       "    </tr>\n",
       "    <tr>\n",
       "      <th>6100</th>\n",
       "      <td>2012-02-05 05:30:00</td>\n",
       "      <td>MAC000041</td>\n",
       "      <td>NaN</td>\n",
       "      <td>2012</td>\n",
       "      <td>2</td>\n",
       "      <td>5</td>\n",
       "      <td>5</td>\n",
       "      <td>6</td>\n",
       "      <td>36</td>\n",
       "      <td>False</td>\n",
       "      <td>False</td>\n",
       "      <td>False</td>\n",
       "      <td>False</td>\n",
       "      <td>False</td>\n",
       "      <td>False</td>\n",
       "      <td>1328400000</td>\n",
       "      <td>-359670</td>\n",
       "      <td>4.165</td>\n",
       "      <td>101.5</td>\n",
       "      <td>0.38</td>\n",
       "      <td>0.015</td>\n",
       "      <td>1023.81</td>\n",
       "      <td>-1.47</td>\n",
       "      <td>1.605</td>\n",
       "      <td>snow</td>\n",
       "      <td>0.975</td>\n",
       "      <td>Mostly Cloudy</td>\n",
       "      <td>False</td>\n",
       "      <td>NaN</td>\n",
       "      <td>2012-02-05</td>\n",
       "      <td>NaN</td>\n",
       "      <td>NaN</td>\n",
       "      <td>NaN</td>\n",
       "      <td>NaN</td>\n",
       "      <td>NaN</td>\n",
       "      <td>0</td>\n",
       "      <td>-87840</td>\n",
       "      <td>Std</td>\n",
       "      <td>ACORN-Q</td>\n",
       "      <td>Adversity</td>\n",
       "    </tr>\n",
       "  </tbody>\n",
       "</table>\n",
       "</div>"
      ],
      "text/plain": [
       "                day_time      LCLid  energy(kWh/hh)  dayYear  dayMonth  \\\n",
       "289  2012-02-05 00:00:00  MAC004954             NaN     2012         2   \n",
       "6100 2012-02-05 05:30:00  MAC000041             NaN     2012         2   \n",
       "\n",
       "      dayWeek  dayDay  dayDayofweek  dayDayofyear  dayIs_month_end  \\\n",
       "289         5       5             6            36            False   \n",
       "6100        5       5             6            36            False   \n",
       "\n",
       "      dayIs_month_start  dayIs_quarter_end  dayIs_quarter_start  \\\n",
       "289               False              False                False   \n",
       "6100              False              False                False   \n",
       "\n",
       "      dayIs_year_end  dayIs_year_start  dayElapsed  delta_minutes  visibility  \\\n",
       "289            False             False  1328400000        -360000       1.320   \n",
       "6100           False             False  1328400000        -359670       4.165   \n",
       "\n",
       "      windBearing  temperature  dewPoint  pressure  apparentTemperature  \\\n",
       "289         160.0        -0.12    -0.220   1024.21                -4.68   \n",
       "6100        101.5         0.38     0.015   1023.81                -1.47   \n",
       "\n",
       "      windSpeed precipType  humidity        summary  is_bank_holiday  \\\n",
       "289       4.350       snow     0.990          Foggy            False   \n",
       "6100      1.605       snow     0.975  Mostly Cloudy            False   \n",
       "\n",
       "     bank_holiday         day  cloudCover  uvIndex  moonPhase  from_sunrise  \\\n",
       "289           NaN  2012-02-05         NaN      NaN        NaN           NaN   \n",
       "6100          NaN  2012-02-05         NaN      NaN        NaN           NaN   \n",
       "\n",
       "      to_sunset  Afteris_bank_holiday  Beforeis_bank_holiday stdorToU  \\\n",
       "289         NaN                     0                 -87840      Std   \n",
       "6100        NaN                     0                 -87840      Std   \n",
       "\n",
       "        Acorn Acorn_grouped  \n",
       "289   ACORN-E      Affluent  \n",
       "6100  ACORN-Q     Adversity  "
      ]
     },
     "execution_count": 15,
     "metadata": {},
     "output_type": "execute_result"
    }
   ],
   "source": [
    "nan_energy.head(n=2)"
   ]
  },
  {
   "cell_type": "markdown",
   "metadata": {},
   "source": [
    "Ideally we would investigate further and better interpolate/subset to remove nan but dont have time se we just replace all nan with zero"
   ]
  },
  {
   "cell_type": "code",
   "execution_count": 16,
   "metadata": {},
   "outputs": [],
   "source": [
    "df.fillna(0,inplace=True)"
   ]
  },
  {
   "cell_type": "code",
   "execution_count": 1,
   "metadata": {},
   "outputs": [],
   "source": [
    "#df.dtypes"
   ]
  },
  {
   "cell_type": "markdown",
   "metadata": {},
   "source": [
    "Export each household as a separate file - for ML forecasting\n",
    "\n",
    "We actually dont need all of these, as we only have time fore forecasting 10 or so, but exporting all anyway"
   ]
  },
  {
   "cell_type": "code",
   "execution_count": 17,
   "metadata": {},
   "outputs": [
    {
     "data": {
      "text/html": [
       "<div>\n",
       "<style scoped>\n",
       "    .dataframe tbody tr th:only-of-type {\n",
       "        vertical-align: middle;\n",
       "    }\n",
       "\n",
       "    .dataframe tbody tr th {\n",
       "        vertical-align: top;\n",
       "    }\n",
       "\n",
       "    .dataframe thead th {\n",
       "        text-align: right;\n",
       "    }\n",
       "</style>\n",
       "<table border=\"1\" class=\"dataframe\">\n",
       "  <thead>\n",
       "    <tr style=\"text-align: right;\">\n",
       "      <th></th>\n",
       "    </tr>\n",
       "  </thead>\n",
       "  <tbody>\n",
       "  </tbody>\n",
       "</table>\n",
       "</div>"
      ],
      "text/plain": [
       "Empty DataFrame\n",
       "Columns: []\n",
       "Index: []"
      ]
     },
     "execution_count": 17,
     "metadata": {},
     "output_type": "execute_result"
    }
   ],
   "source": [
    "f = lambda x: x.to_csv(\"{0}LCLid/clean/{1}.csv\".format(PATH,x.name.lower()), index=False)\n",
    "df.groupby('LCLid').apply(f)"
   ]
  },
  {
   "cell_type": "markdown",
   "metadata": {},
   "source": [
    "Generate a numeric only dataset for KNN based clustering"
   ]
  },
  {
   "cell_type": "code",
   "execution_count": 20,
   "metadata": {},
   "outputs": [],
   "source": [
    "df1 = df[['day_time','LCLid','energy(kWh/hh)','dayElapsed','visibility','windBearing','temperature','dewPoint','pressure','apparentTemperature','windSpeed','humidity']]"
   ]
  },
  {
   "cell_type": "code",
   "execution_count": 21,
   "metadata": {},
   "outputs": [],
   "source": [
    "df1.to_csv(f'{PATH}hh_for_clustering_544_ids_735_days.csv')"
   ]
  },
  {
   "cell_type": "code",
   "execution_count": null,
   "metadata": {},
   "outputs": [],
   "source": []
  }
 ],
 "metadata": {
  "anaconda-cloud": {},
  "kernelspec": {
   "display_name": "Python 3",
   "language": "python",
   "name": "python3"
  },
  "language_info": {
   "codemirror_mode": {
    "name": "ipython",
    "version": 3
   },
   "file_extension": ".py",
   "mimetype": "text/x-python",
   "name": "python",
   "nbconvert_exporter": "python",
   "pygments_lexer": "ipython3",
   "version": "3.5.2"
  },
  "toc": {
   "colors": {
    "hover_highlight": "#DAA520",
    "navigate_num": "#000000",
    "navigate_text": "#333333",
    "running_highlight": "#FF0000",
    "selected_highlight": "#FFD700",
    "sidebar_border": "#EEEEEE",
    "wrapper_background": "#FFFFFF"
   },
   "moveMenuLeft": true,
   "nav_menu": {
    "height": "173px",
    "width": "251px"
   },
   "navigate_menu": true,
   "number_sections": true,
   "sideBar": true,
   "threshold": 4,
   "toc_cell": false,
   "toc_section_display": "block",
   "toc_window_display": false,
   "widenNotebook": false
  },
  "varInspector": {
   "cols": {
    "lenName": 16,
    "lenType": 16,
    "lenVar": 40
   },
   "kernels_config": {
    "python": {
     "delete_cmd_postfix": "",
     "delete_cmd_prefix": "del ",
     "library": "var_list.py",
     "varRefreshCmd": "print(var_dic_list())"
    },
    "r": {
     "delete_cmd_postfix": ") ",
     "delete_cmd_prefix": "rm(",
     "library": "var_list.r",
     "varRefreshCmd": "cat(var_dic_list()) "
    }
   },
   "types_to_exclude": [
    "module",
    "function",
    "builtin_function_or_method",
    "instance",
    "_Feature"
   ],
   "window_display": false
  }
 },
 "nbformat": 4,
 "nbformat_minor": 2
}
