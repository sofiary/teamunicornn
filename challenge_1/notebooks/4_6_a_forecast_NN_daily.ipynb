{
 "cells": [
  {
   "cell_type": "markdown",
   "metadata": {},
   "source": [
    "# Structured and time series data - daily dataset"
   ]
  },
  {
   "cell_type": "markdown",
   "metadata": {},
   "source": [
    "Based on the methodology taken by the third place result in the Rossman Kaggle competition as detailed in Guo/Berkhahn's [Entity Embeddings of Categorical Variables](https://arxiv.org/abs/1604.06737). See fastai rossman.ipynb\n",
    "\n",
    "The motivation behind exploring this architecture is it's relevance to real-world application. Most data used for decision making day-to-day in industry is structured and/or time-series data. Here we explore the end-to-end process of using neural networks with practical structured data problems.\n",
    "\n",
    "Here we will use a Root Mean Square Error loss function to be consistent with other forecasting models used for this project\n",
    "\n",
    "NB this notebook was divided into two parts\n",
    "\n",
    "In this part we create and train a Neural Network\n"
   ]
  },
  {
   "cell_type": "code",
   "execution_count": 7,
   "metadata": {},
   "outputs": [],
   "source": [
    "%matplotlib inline\n",
    "%reload_ext autoreload\n",
    "%autoreload 2"
   ]
  },
  {
   "cell_type": "code",
   "execution_count": 8,
   "metadata": {},
   "outputs": [],
   "source": [
    "from fastai.structured import *\n",
    "from fastai.column_data import *\n",
    "import feather as ftr\n"
   ]
  },
  {
   "cell_type": "code",
   "execution_count": null,
   "metadata": {},
   "outputs": [],
   "source": [
    "torch.cuda.set_device(0)\n",
    "#torch.cuda.set_device(1)\n",
    "\n",
    "torch.cuda.current_device()"
   ]
  },
  {
   "cell_type": "code",
   "execution_count": 9,
   "metadata": {},
   "outputs": [],
   "source": [
    "pd.set_option('display.max_columns', None)\n",
    "pd.options.mode.chained_assignment = None  # default='warn'"
   ]
  },
  {
   "cell_type": "code",
   "execution_count": 10,
   "metadata": {},
   "outputs": [],
   "source": [
    "PATH='../input/merged_data/'"
   ]
  },
  {
   "cell_type": "code",
   "execution_count": 11,
   "metadata": {
    "hidden": true
   },
   "outputs": [],
   "source": [
    "from IPython.display import HTML, display"
   ]
  },
  {
   "cell_type": "markdown",
   "metadata": {},
   "source": [
    "### Read in pre proc data\n",
    "\n",
    "Pre-processed data generated in part a"
   ]
  },
  {
   "cell_type": "code",
   "execution_count": 12,
   "metadata": {},
   "outputs": [],
   "source": [
    "DATA_NAME = 'current'\n",
    "#DATA_NAME = 'last_week'"
   ]
  },
  {
   "cell_type": "code",
   "execution_count": 13,
   "metadata": {},
   "outputs": [],
   "source": [
    "df = ftr.read_dataframe(f'{PATH}df_daily_cat_no_dates.feather')"
   ]
  },
  {
   "cell_type": "code",
   "execution_count": 14,
   "metadata": {},
   "outputs": [],
   "source": [
    "#df.dtypes"
   ]
  },
  {
   "cell_type": "markdown",
   "metadata": {},
   "source": [
    "We now have our final set of engineered features.\n",
    "\n",
    "While these steps were explicitly outlined in the paper, these are all fairly typical feature engineering steps for dealing with time series data and are practical in any similar setting."
   ]
  },
  {
   "cell_type": "markdown",
   "metadata": {
    "heading_collapsed": true
   },
   "source": [
    "## Create features"
   ]
  },
  {
   "cell_type": "code",
   "execution_count": 15,
   "metadata": {
    "hidden": true
   },
   "outputs": [],
   "source": [
    "#joined = pd.read_feather(f'{PATH}joined')\n",
    "#joined_test = pd.read_feather(f'{PATH}joined_test')"
   ]
  },
  {
   "cell_type": "code",
   "execution_count": 16,
   "metadata": {
    "hidden": true,
    "scrolled": true
   },
   "outputs": [],
   "source": [
    "#df.head().T.head(40)"
   ]
  },
  {
   "cell_type": "markdown",
   "metadata": {
    "hidden": true
   },
   "source": [
    "Now that we've engineered all our features, we need to convert to input compatible with a neural network.\n",
    "\n",
    "This includes converting categorical variables into contiguous integers or one-hot encodings, normalizing continuous features to standard normal, etc..."
   ]
  },
  {
   "cell_type": "markdown",
   "metadata": {},
   "source": [
    "### T/T split"
   ]
  },
  {
   "cell_type": "code",
   "execution_count": 17,
   "metadata": {},
   "outputs": [
    {
     "data": {
      "text/plain": [
       "Timestamp('2011-11-24 00:00:00')"
      ]
     },
     "execution_count": 17,
     "metadata": {},
     "output_type": "execute_result"
    }
   ],
   "source": [
    "df['day'].min()"
   ]
  },
  {
   "cell_type": "code",
   "execution_count": 18,
   "metadata": {},
   "outputs": [
    {
     "data": {
      "text/plain": [
       "Timestamp('2014-02-27 00:00:00')"
      ]
     },
     "execution_count": 18,
     "metadata": {},
     "output_type": "execute_result"
    }
   ],
   "source": [
    "df['day'].max()"
   ]
  },
  {
   "cell_type": "markdown",
   "metadata": {},
   "source": [
    "One issue with this dataset is that the household meter measurements dont all start and end on the same date\n",
    "\n",
    "Here we will use the period starting from 1/Feb/2014 as the test datset. Households which end memter measurements before the start of 1/Feb/2014 will be removed.\n",
    "\n",
    "We will then use the period 1/Jan/2014 to 1/Feb/2014 as a validation dataset"
   ]
  },
  {
   "cell_type": "code",
   "execution_count": 19,
   "metadata": {},
   "outputs": [],
   "source": [
    "split_date = pd.datetime(2014,2,1)\n",
    "\n",
    "joined_train = df.loc[df['day'] <= split_date]\n",
    "joined_test = df.loc[df['day'] > split_date]"
   ]
  },
  {
   "cell_type": "code",
   "execution_count": 20,
   "metadata": {},
   "outputs": [
    {
     "data": {
      "text/plain": [
       "(3469352, 3339707, 129645)"
      ]
     },
     "execution_count": 20,
     "metadata": {},
     "output_type": "execute_result"
    }
   ],
   "source": [
    "len(df), len(joined_train), len(joined_test)"
   ]
  },
  {
   "cell_type": "code",
   "execution_count": 21,
   "metadata": {},
   "outputs": [],
   "source": [
    "#df_train.head(n=2)"
   ]
  },
  {
   "cell_type": "code",
   "execution_count": 22,
   "metadata": {
    "ExecuteTime": {
     "end_time": "2018-10-20T14:35:28.686412Z",
     "start_time": "2018-10-20T14:35:28.676567Z"
    },
    "hidden": true
   },
   "outputs": [
    {
     "data": {
      "text/plain": [
       "3339707"
      ]
     },
     "execution_count": 22,
     "metadata": {},
     "output_type": "execute_result"
    }
   ],
   "source": [
    "cat_vars = ['dayWeek', 'dayYear', 'dayMonth', 'dayDay', 'dayDayofyear', 'stdorToU', 'Acorn', 'Acorn_grouped',\n",
    "            'icon', 'precipType', 'summary']\n",
    "\n",
    "contin_vars = ['energy_median','energy_mean','energy_max','energy_count',\n",
    "               'energy_std','energy_sum','energy_min','temperatureMax',\n",
    "               'windBearing','dewPoint','cloudCover','windSpeed','pressure',\n",
    "               'apparentTemperatureHigh','visibility','humidity','apparentTemperatureLow',\n",
    "               'apparentTemperatureMax','uvIndex','temperatureLow','temperatureMin',\n",
    "               'temperatureHigh','apparentTemperatureMin','moonPhase','dayElapsed','daylightMins']\n",
    "\n",
    "len(joined_train)"
   ]
  },
  {
   "cell_type": "markdown",
   "metadata": {},
   "source": [
    "Convert MAC codes to integer "
   ]
  },
  {
   "cell_type": "code",
   "execution_count": 23,
   "metadata": {},
   "outputs": [],
   "source": [
    "joined_train['LCLid'] = joined_train['LCLid'].map(lambda x: str(x)[3:]).astype('int32')\n",
    "joined_test['LCLid'] = joined_test['LCLid'].map(lambda x: str(x)[3:]).astype('int32')"
   ]
  },
  {
   "cell_type": "code",
   "execution_count": 24,
   "metadata": {
    "hidden": true
   },
   "outputs": [
    {
     "name": "stdout",
     "output_type": "stream",
     "text": [
      "post vals train dep: <class 'pandas.core.series.Series'>\n"
     ]
    }
   ],
   "source": [
    "energy_sum = joined_train['energy_sum'].values\n",
    "dep = 'energy_sum'\n",
    "#here 'energy_sum' becomes a df not a series - I use workaround below for\n",
    "joined_train = joined_train[cat_vars+contin_vars+[dep, 'day']].copy()\n",
    "joined_train.drop(columns=[dep],inplace=True)\n",
    "joined_train[dep]=energy_sum\n",
    "print(f\"post vals train dep: {type(joined_train[dep])}\")"
   ]
  },
  {
   "cell_type": "code",
   "execution_count": 25,
   "metadata": {
    "hidden": true
   },
   "outputs": [
    {
     "name": "stdout",
     "output_type": "stream",
     "text": [
      "post vals test dep: <class 'pandas.core.series.Series'>\n"
     ]
    }
   ],
   "source": [
    "#same for test\n",
    "joined_test = joined_test[cat_vars+contin_vars+[dep, 'day','LCLid']].copy()\n",
    "joined_test.drop(columns=[dep],inplace=True)\n",
    "joined_test[dep] = 0\n",
    "print(f\"post vals test dep: {type(joined_test[dep])}\")"
   ]
  },
  {
   "cell_type": "code",
   "execution_count": 27,
   "metadata": {},
   "outputs": [
    {
     "data": {
      "text/html": [
       "<div>\n",
       "<style scoped>\n",
       "    .dataframe tbody tr th:only-of-type {\n",
       "        vertical-align: middle;\n",
       "    }\n",
       "\n",
       "    .dataframe tbody tr th {\n",
       "        vertical-align: top;\n",
       "    }\n",
       "\n",
       "    .dataframe thead th {\n",
       "        text-align: right;\n",
       "    }\n",
       "</style>\n",
       "<table border=\"1\" class=\"dataframe\">\n",
       "  <thead>\n",
       "    <tr style=\"text-align: right;\">\n",
       "      <th></th>\n",
       "      <th>dayWeek</th>\n",
       "      <th>dayYear</th>\n",
       "      <th>dayMonth</th>\n",
       "      <th>dayDay</th>\n",
       "      <th>dayDayofyear</th>\n",
       "      <th>stdorToU</th>\n",
       "      <th>Acorn</th>\n",
       "      <th>Acorn_grouped</th>\n",
       "      <th>icon</th>\n",
       "      <th>precipType</th>\n",
       "      <th>summary</th>\n",
       "      <th>energy_median</th>\n",
       "      <th>energy_mean</th>\n",
       "      <th>energy_max</th>\n",
       "      <th>energy_count</th>\n",
       "      <th>energy_std</th>\n",
       "      <th>energy_min</th>\n",
       "      <th>temperatureMax</th>\n",
       "      <th>windBearing</th>\n",
       "      <th>dewPoint</th>\n",
       "      <th>cloudCover</th>\n",
       "      <th>windSpeed</th>\n",
       "      <th>pressure</th>\n",
       "      <th>apparentTemperatureHigh</th>\n",
       "      <th>visibility</th>\n",
       "      <th>humidity</th>\n",
       "      <th>apparentTemperatureLow</th>\n",
       "      <th>apparentTemperatureMax</th>\n",
       "      <th>uvIndex</th>\n",
       "      <th>temperatureLow</th>\n",
       "      <th>temperatureMin</th>\n",
       "      <th>temperatureHigh</th>\n",
       "      <th>apparentTemperatureMin</th>\n",
       "      <th>moonPhase</th>\n",
       "      <th>dayElapsed</th>\n",
       "      <th>daylightMins</th>\n",
       "      <th>day</th>\n",
       "      <th>LCLid</th>\n",
       "      <th>energy_sum</th>\n",
       "    </tr>\n",
       "  </thead>\n",
       "  <tbody>\n",
       "    <tr>\n",
       "      <th>0</th>\n",
       "      <td>9</td>\n",
       "      <td>2014</td>\n",
       "      <td>2</td>\n",
       "      <td>27</td>\n",
       "      <td>58</td>\n",
       "      <td>Std</td>\n",
       "      <td>ACORN-A</td>\n",
       "      <td>Affluent</td>\n",
       "      <td>partly-cloudy-day</td>\n",
       "      <td>rain</td>\n",
       "      <td>Partly cloudy until evening.</td>\n",
       "      <td>0.2180</td>\n",
       "      <td>0.427458</td>\n",
       "      <td>1.350</td>\n",
       "      <td>48</td>\n",
       "      <td>0.406681</td>\n",
       "      <td>0.080</td>\n",
       "      <td>10.31</td>\n",
       "      <td>224</td>\n",
       "      <td>3.08</td>\n",
       "      <td>0.32</td>\n",
       "      <td>4.14</td>\n",
       "      <td>1007.02</td>\n",
       "      <td>10.31</td>\n",
       "      <td>12.04</td>\n",
       "      <td>0.74</td>\n",
       "      <td>0.82</td>\n",
       "      <td>10.31</td>\n",
       "      <td>2.0</td>\n",
       "      <td>3.43</td>\n",
       "      <td>3.93</td>\n",
       "      <td>10.31</td>\n",
       "      <td>1.41</td>\n",
       "      <td>0.93</td>\n",
       "      <td>1393459200</td>\n",
       "      <td>645.0</td>\n",
       "      <td>2014-02-27</td>\n",
       "      <td>2</td>\n",
       "      <td>0</td>\n",
       "    </tr>\n",
       "    <tr>\n",
       "      <th>1</th>\n",
       "      <td>9</td>\n",
       "      <td>2014</td>\n",
       "      <td>2</td>\n",
       "      <td>26</td>\n",
       "      <td>57</td>\n",
       "      <td>Std</td>\n",
       "      <td>ACORN-A</td>\n",
       "      <td>Affluent</td>\n",
       "      <td>partly-cloudy-day</td>\n",
       "      <td>rain</td>\n",
       "      <td>Partly cloudy throughout the day.</td>\n",
       "      <td>0.1515</td>\n",
       "      <td>0.256833</td>\n",
       "      <td>1.028</td>\n",
       "      <td>48</td>\n",
       "      <td>0.196095</td>\n",
       "      <td>0.076</td>\n",
       "      <td>11.29</td>\n",
       "      <td>227</td>\n",
       "      <td>2.74</td>\n",
       "      <td>0.26</td>\n",
       "      <td>3.82</td>\n",
       "      <td>1012.73</td>\n",
       "      <td>11.29</td>\n",
       "      <td>13.00</td>\n",
       "      <td>0.73</td>\n",
       "      <td>3.03</td>\n",
       "      <td>11.29</td>\n",
       "      <td>2.0</td>\n",
       "      <td>6.01</td>\n",
       "      <td>4.17</td>\n",
       "      <td>11.29</td>\n",
       "      <td>1.67</td>\n",
       "      <td>0.90</td>\n",
       "      <td>1393372800</td>\n",
       "      <td>641.0</td>\n",
       "      <td>2014-02-26</td>\n",
       "      <td>2</td>\n",
       "      <td>0</td>\n",
       "    </tr>\n",
       "  </tbody>\n",
       "</table>\n",
       "</div>"
      ],
      "text/plain": [
       "   dayWeek  dayYear  dayMonth  dayDay  dayDayofyear stdorToU    Acorn  \\\n",
       "0        9     2014         2      27            58      Std  ACORN-A   \n",
       "1        9     2014         2      26            57      Std  ACORN-A   \n",
       "\n",
       "  Acorn_grouped               icon precipType  \\\n",
       "0      Affluent  partly-cloudy-day       rain   \n",
       "1      Affluent  partly-cloudy-day       rain   \n",
       "\n",
       "                             summary  energy_median  energy_mean  energy_max  \\\n",
       "0       Partly cloudy until evening.         0.2180     0.427458       1.350   \n",
       "1  Partly cloudy throughout the day.         0.1515     0.256833       1.028   \n",
       "\n",
       "   energy_count  energy_std  energy_min  temperatureMax  windBearing  \\\n",
       "0            48    0.406681       0.080           10.31          224   \n",
       "1            48    0.196095       0.076           11.29          227   \n",
       "\n",
       "   dewPoint  cloudCover  windSpeed  pressure  apparentTemperatureHigh  \\\n",
       "0      3.08        0.32       4.14   1007.02                    10.31   \n",
       "1      2.74        0.26       3.82   1012.73                    11.29   \n",
       "\n",
       "   visibility  humidity  apparentTemperatureLow  apparentTemperatureMax  \\\n",
       "0       12.04      0.74                    0.82                   10.31   \n",
       "1       13.00      0.73                    3.03                   11.29   \n",
       "\n",
       "   uvIndex  temperatureLow  temperatureMin  temperatureHigh  \\\n",
       "0      2.0            3.43            3.93            10.31   \n",
       "1      2.0            6.01            4.17            11.29   \n",
       "\n",
       "   apparentTemperatureMin  moonPhase  dayElapsed  daylightMins        day  \\\n",
       "0                    1.41       0.93  1393459200         645.0 2014-02-27   \n",
       "1                    1.67       0.90  1393372800         641.0 2014-02-26   \n",
       "\n",
       "   LCLid  energy_sum  \n",
       "0      2           0  \n",
       "1      2           0  "
      ]
     },
     "execution_count": 27,
     "metadata": {},
     "output_type": "execute_result"
    }
   ],
   "source": [
    "joined_test.head(n=2)"
   ]
  },
  {
   "cell_type": "code",
   "execution_count": 28,
   "metadata": {
    "hidden": true
   },
   "outputs": [
    {
     "name": "stdout",
     "output_type": "stream",
     "text": [
      "dayWeek\n",
      "dayYear\n",
      "dayMonth\n",
      "dayDay\n",
      "dayDayofyear\n",
      "stdorToU\n",
      "Acorn\n",
      "Acorn_grouped\n",
      "icon\n",
      "precipType\n",
      "summary\n"
     ]
    }
   ],
   "source": [
    "#for v in cat_vars: df_train[v] = df_train[v].astype('category').cat.as_ordered()\n",
    "for v in cat_vars: \n",
    "    print(v)\n",
    "    joined_train[v] = joined_train[v].astype('category').cat.as_ordered()"
   ]
  },
  {
   "cell_type": "code",
   "execution_count": 29,
   "metadata": {},
   "outputs": [
    {
     "data": {
      "text/html": [
       "<div>\n",
       "<style scoped>\n",
       "    .dataframe tbody tr th:only-of-type {\n",
       "        vertical-align: middle;\n",
       "    }\n",
       "\n",
       "    .dataframe tbody tr th {\n",
       "        vertical-align: top;\n",
       "    }\n",
       "\n",
       "    .dataframe thead th {\n",
       "        text-align: right;\n",
       "    }\n",
       "</style>\n",
       "<table border=\"1\" class=\"dataframe\">\n",
       "  <thead>\n",
       "    <tr style=\"text-align: right;\">\n",
       "      <th></th>\n",
       "      <th>dayWeek</th>\n",
       "      <th>dayYear</th>\n",
       "      <th>dayMonth</th>\n",
       "      <th>dayDay</th>\n",
       "      <th>dayDayofyear</th>\n",
       "      <th>stdorToU</th>\n",
       "      <th>Acorn</th>\n",
       "      <th>Acorn_grouped</th>\n",
       "      <th>icon</th>\n",
       "      <th>precipType</th>\n",
       "      <th>summary</th>\n",
       "      <th>energy_median</th>\n",
       "      <th>energy_mean</th>\n",
       "      <th>energy_max</th>\n",
       "      <th>energy_count</th>\n",
       "      <th>energy_std</th>\n",
       "      <th>energy_min</th>\n",
       "      <th>temperatureMax</th>\n",
       "      <th>windBearing</th>\n",
       "      <th>dewPoint</th>\n",
       "      <th>cloudCover</th>\n",
       "      <th>windSpeed</th>\n",
       "      <th>pressure</th>\n",
       "      <th>apparentTemperatureHigh</th>\n",
       "      <th>visibility</th>\n",
       "      <th>humidity</th>\n",
       "      <th>apparentTemperatureLow</th>\n",
       "      <th>apparentTemperatureMax</th>\n",
       "      <th>uvIndex</th>\n",
       "      <th>temperatureLow</th>\n",
       "      <th>temperatureMin</th>\n",
       "      <th>temperatureHigh</th>\n",
       "      <th>apparentTemperatureMin</th>\n",
       "      <th>moonPhase</th>\n",
       "      <th>dayElapsed</th>\n",
       "      <th>daylightMins</th>\n",
       "      <th>day</th>\n",
       "      <th>energy_sum</th>\n",
       "    </tr>\n",
       "  </thead>\n",
       "  <tbody>\n",
       "    <tr>\n",
       "      <th>26</th>\n",
       "      <td>5</td>\n",
       "      <td>2014</td>\n",
       "      <td>2</td>\n",
       "      <td>1</td>\n",
       "      <td>32</td>\n",
       "      <td>Std</td>\n",
       "      <td>ACORN-A</td>\n",
       "      <td>Affluent</td>\n",
       "      <td>wind</td>\n",
       "      <td>rain</td>\n",
       "      <td>Partly cloudy until evening and breezy overnight.</td>\n",
       "      <td>0.13</td>\n",
       "      <td>0.238021</td>\n",
       "      <td>0.799</td>\n",
       "      <td>48</td>\n",
       "      <td>0.195760</td>\n",
       "      <td>0.076</td>\n",
       "      <td>9.72</td>\n",
       "      <td>217</td>\n",
       "      <td>3.18</td>\n",
       "      <td>0.19</td>\n",
       "      <td>6.97</td>\n",
       "      <td>990.08</td>\n",
       "      <td>4.27</td>\n",
       "      <td>11.60</td>\n",
       "      <td>0.76</td>\n",
       "      <td>2.81</td>\n",
       "      <td>6.86</td>\n",
       "      <td>1.0</td>\n",
       "      <td>6.24</td>\n",
       "      <td>4.83</td>\n",
       "      <td>8.32</td>\n",
       "      <td>1.10</td>\n",
       "      <td>0.06</td>\n",
       "      <td>1391212800</td>\n",
       "      <td>549.0</td>\n",
       "      <td>2014-02-01</td>\n",
       "      <td>11.425</td>\n",
       "    </tr>\n",
       "    <tr>\n",
       "      <th>27</th>\n",
       "      <td>5</td>\n",
       "      <td>2014</td>\n",
       "      <td>1</td>\n",
       "      <td>31</td>\n",
       "      <td>31</td>\n",
       "      <td>Std</td>\n",
       "      <td>ACORN-A</td>\n",
       "      <td>Affluent</td>\n",
       "      <td>wind</td>\n",
       "      <td>rain</td>\n",
       "      <td>Overcast throughout the day and breezy startin...</td>\n",
       "      <td>0.39</td>\n",
       "      <td>0.449458</td>\n",
       "      <td>1.627</td>\n",
       "      <td>48</td>\n",
       "      <td>0.443706</td>\n",
       "      <td>0.075</td>\n",
       "      <td>8.83</td>\n",
       "      <td>177</td>\n",
       "      <td>3.93</td>\n",
       "      <td>0.73</td>\n",
       "      <td>4.74</td>\n",
       "      <td>998.51</td>\n",
       "      <td>3.13</td>\n",
       "      <td>7.08</td>\n",
       "      <td>0.91</td>\n",
       "      <td>1.10</td>\n",
       "      <td>5.27</td>\n",
       "      <td>1.0</td>\n",
       "      <td>4.83</td>\n",
       "      <td>1.97</td>\n",
       "      <td>7.08</td>\n",
       "      <td>0.29</td>\n",
       "      <td>0.03</td>\n",
       "      <td>1391126400</td>\n",
       "      <td>546.0</td>\n",
       "      <td>2014-01-31</td>\n",
       "      <td>21.574</td>\n",
       "    </tr>\n",
       "  </tbody>\n",
       "</table>\n",
       "</div>"
      ],
      "text/plain": [
       "   dayWeek dayYear dayMonth dayDay dayDayofyear stdorToU    Acorn  \\\n",
       "26       5    2014        2      1           32      Std  ACORN-A   \n",
       "27       5    2014        1     31           31      Std  ACORN-A   \n",
       "\n",
       "   Acorn_grouped  icon precipType  \\\n",
       "26      Affluent  wind       rain   \n",
       "27      Affluent  wind       rain   \n",
       "\n",
       "                                              summary  energy_median  \\\n",
       "26  Partly cloudy until evening and breezy overnight.           0.13   \n",
       "27  Overcast throughout the day and breezy startin...           0.39   \n",
       "\n",
       "    energy_mean  energy_max  energy_count  energy_std  energy_min  \\\n",
       "26     0.238021       0.799            48    0.195760       0.076   \n",
       "27     0.449458       1.627            48    0.443706       0.075   \n",
       "\n",
       "    temperatureMax  windBearing  dewPoint  cloudCover  windSpeed  pressure  \\\n",
       "26            9.72          217      3.18        0.19       6.97    990.08   \n",
       "27            8.83          177      3.93        0.73       4.74    998.51   \n",
       "\n",
       "    apparentTemperatureHigh  visibility  humidity  apparentTemperatureLow  \\\n",
       "26                     4.27       11.60      0.76                    2.81   \n",
       "27                     3.13        7.08      0.91                    1.10   \n",
       "\n",
       "    apparentTemperatureMax  uvIndex  temperatureLow  temperatureMin  \\\n",
       "26                    6.86      1.0            6.24            4.83   \n",
       "27                    5.27      1.0            4.83            1.97   \n",
       "\n",
       "    temperatureHigh  apparentTemperatureMin  moonPhase  dayElapsed  \\\n",
       "26             8.32                    1.10       0.06  1391212800   \n",
       "27             7.08                    0.29       0.03  1391126400   \n",
       "\n",
       "    daylightMins        day  energy_sum  \n",
       "26         549.0 2014-02-01      11.425  \n",
       "27         546.0 2014-01-31      21.574  "
      ]
     },
     "execution_count": 29,
     "metadata": {},
     "output_type": "execute_result"
    }
   ],
   "source": [
    "joined_train.head(n=2)"
   ]
  },
  {
   "cell_type": "code",
   "execution_count": 30,
   "metadata": {},
   "outputs": [],
   "source": [
    "#alternatively we could just add df_test to the category re-declaration loop above\n",
    "apply_cats(joined_test, joined_train)"
   ]
  },
  {
   "cell_type": "code",
   "execution_count": 31,
   "metadata": {
    "hidden": true
   },
   "outputs": [],
   "source": [
    "for v in contin_vars:\n",
    "    joined_train[v] = joined_train[v].fillna(0).astype('float32')\n",
    "    joined_test[v] = joined_test[v].fillna(0).astype('float32')"
   ]
  },
  {
   "cell_type": "markdown",
   "metadata": {
    "hidden": true
   },
   "source": [
    "We're going to run on a sample."
   ]
  },
  {
   "cell_type": "code",
   "execution_count": 32,
   "metadata": {
    "hidden": true
   },
   "outputs": [],
   "source": [
    "#idxs = get_cv_idxs(n, val_pct=150000/n)\n",
    "#df_samp = df_train.iloc[idxs].set_index(\"day\")\n",
    "#samp_size = len(df_samp); samp_size"
   ]
  },
  {
   "cell_type": "markdown",
   "metadata": {
    "hidden": true
   },
   "source": [
    "To run on the full dataset, use this instead:"
   ]
  },
  {
   "cell_type": "code",
   "execution_count": 33,
   "metadata": {
    "ExecuteTime": {
     "end_time": "2018-10-20T14:35:13.450024Z",
     "start_time": "2018-10-20T14:35:13.414478Z"
    },
    "hidden": true
   },
   "outputs": [],
   "source": [
    "#use this to create mapper - note we use the train df\n",
    "samp_size = len(joined_train)\n",
    "joined_samp = joined_train.set_index(\"day\")"
   ]
  },
  {
   "cell_type": "markdown",
   "metadata": {
    "hidden": true
   },
   "source": [
    "We can now process our data..."
   ]
  },
  {
   "cell_type": "code",
   "execution_count": 34,
   "metadata": {},
   "outputs": [],
   "source": [
    "#keep track of the mapper (44:15)\n",
    "#can set ignore_flds"
   ]
  },
  {
   "cell_type": "code",
   "execution_count": 35,
   "metadata": {
    "collapsed": true,
    "hidden": true
   },
   "outputs": [
    {
     "name": "stdout",
     "output_type": "stream",
     "text": [
      "first n y for df_samp: [11.425 21.574 14.166 20.304 13.921 22.629 24.04  14.039 14.54  12.585]\n"
     ]
    }
   ],
   "source": [
    "df, y, nas, mapper = proc_df(joined_samp, 'energy_sum', do_scale=True)\n",
    "print(f'first n y for df_samp: {y[:10]}')"
   ]
  },
  {
   "cell_type": "code",
   "execution_count": 36,
   "metadata": {},
   "outputs": [
    {
     "data": {
      "text/html": [
       "<div>\n",
       "<style scoped>\n",
       "    .dataframe tbody tr th:only-of-type {\n",
       "        vertical-align: middle;\n",
       "    }\n",
       "\n",
       "    .dataframe tbody tr th {\n",
       "        vertical-align: top;\n",
       "    }\n",
       "\n",
       "    .dataframe thead th {\n",
       "        text-align: right;\n",
       "    }\n",
       "</style>\n",
       "<table border=\"1\" class=\"dataframe\">\n",
       "  <thead>\n",
       "    <tr style=\"text-align: right;\">\n",
       "      <th></th>\n",
       "      <th>dayWeek</th>\n",
       "      <th>dayYear</th>\n",
       "      <th>dayMonth</th>\n",
       "      <th>dayDay</th>\n",
       "      <th>dayDayofyear</th>\n",
       "      <th>stdorToU</th>\n",
       "      <th>Acorn</th>\n",
       "      <th>Acorn_grouped</th>\n",
       "      <th>icon</th>\n",
       "      <th>precipType</th>\n",
       "      <th>summary</th>\n",
       "      <th>energy_median</th>\n",
       "      <th>energy_mean</th>\n",
       "      <th>energy_max</th>\n",
       "      <th>energy_count</th>\n",
       "      <th>energy_std</th>\n",
       "      <th>energy_min</th>\n",
       "      <th>temperatureMax</th>\n",
       "      <th>windBearing</th>\n",
       "      <th>dewPoint</th>\n",
       "      <th>cloudCover</th>\n",
       "      <th>windSpeed</th>\n",
       "      <th>pressure</th>\n",
       "      <th>apparentTemperatureHigh</th>\n",
       "      <th>visibility</th>\n",
       "      <th>humidity</th>\n",
       "      <th>apparentTemperatureLow</th>\n",
       "      <th>apparentTemperatureMax</th>\n",
       "      <th>uvIndex</th>\n",
       "      <th>temperatureLow</th>\n",
       "      <th>temperatureMin</th>\n",
       "      <th>temperatureHigh</th>\n",
       "      <th>apparentTemperatureMin</th>\n",
       "      <th>moonPhase</th>\n",
       "      <th>dayElapsed</th>\n",
       "      <th>daylightMins</th>\n",
       "    </tr>\n",
       "    <tr>\n",
       "      <th>day</th>\n",
       "      <th></th>\n",
       "      <th></th>\n",
       "      <th></th>\n",
       "      <th></th>\n",
       "      <th></th>\n",
       "      <th></th>\n",
       "      <th></th>\n",
       "      <th></th>\n",
       "      <th></th>\n",
       "      <th></th>\n",
       "      <th></th>\n",
       "      <th></th>\n",
       "      <th></th>\n",
       "      <th></th>\n",
       "      <th></th>\n",
       "      <th></th>\n",
       "      <th></th>\n",
       "      <th></th>\n",
       "      <th></th>\n",
       "      <th></th>\n",
       "      <th></th>\n",
       "      <th></th>\n",
       "      <th></th>\n",
       "      <th></th>\n",
       "      <th></th>\n",
       "      <th></th>\n",
       "      <th></th>\n",
       "      <th></th>\n",
       "      <th></th>\n",
       "      <th></th>\n",
       "      <th></th>\n",
       "      <th></th>\n",
       "      <th></th>\n",
       "      <th></th>\n",
       "      <th></th>\n",
       "      <th></th>\n",
       "    </tr>\n",
       "  </thead>\n",
       "  <tbody>\n",
       "    <tr>\n",
       "      <th>2014-02-01</th>\n",
       "      <td>5</td>\n",
       "      <td>4</td>\n",
       "      <td>2</td>\n",
       "      <td>1</td>\n",
       "      <td>32</td>\n",
       "      <td>1</td>\n",
       "      <td>2</td>\n",
       "      <td>4</td>\n",
       "      <td>6</td>\n",
       "      <td>1</td>\n",
       "      <td>77</td>\n",
       "      <td>-0.166119</td>\n",
       "      <td>0.142706</td>\n",
       "      <td>-0.052468</td>\n",
       "      <td>0.0</td>\n",
       "      <td>0.156232</td>\n",
       "      <td>0.199564</td>\n",
       "      <td>-0.692796</td>\n",
       "      <td>0.249180</td>\n",
       "      <td>-0.769030</td>\n",
       "      <td>-1.511314</td>\n",
       "      <td>2.091405</td>\n",
       "      <td>-2.296195</td>\n",
       "      <td>-1.173198</td>\n",
       "      <td>0.140441</td>\n",
       "      <td>-0.202914</td>\n",
       "      <td>-0.633878</td>\n",
       "      <td>-0.888970</td>\n",
       "      <td>-0.907385</td>\n",
       "      <td>-0.396777</td>\n",
       "      <td>-0.613610</td>\n",
       "      <td>-0.873035</td>\n",
       "      <td>-0.848323</td>\n",
       "      <td>-1.537353</td>\n",
       "      <td>1.711714</td>\n",
       "      <td>-0.958303</td>\n",
       "    </tr>\n",
       "    <tr>\n",
       "      <th>2014-01-31</th>\n",
       "      <td>5</td>\n",
       "      <td>4</td>\n",
       "      <td>1</td>\n",
       "      <td>31</td>\n",
       "      <td>31</td>\n",
       "      <td>1</td>\n",
       "      <td>2</td>\n",
       "      <td>4</td>\n",
       "      <td>6</td>\n",
       "      <td>1</td>\n",
       "      <td>56</td>\n",
       "      <td>1.373648</td>\n",
       "      <td>1.257727</td>\n",
       "      <td>1.189595</td>\n",
       "      <td>0.0</td>\n",
       "      <td>1.781616</td>\n",
       "      <td>0.187740</td>\n",
       "      <td>-0.827503</td>\n",
       "      <td>-0.192546</td>\n",
       "      <td>-0.620598</td>\n",
       "      <td>1.294841</td>\n",
       "      <td>0.738313</td>\n",
       "      <td>-1.470642</td>\n",
       "      <td>-1.320222</td>\n",
       "      <td>-1.774337</td>\n",
       "      <td>1.321910</td>\n",
       "      <td>-0.903980</td>\n",
       "      <td>-1.099264</td>\n",
       "      <td>-0.907385</td>\n",
       "      <td>-0.672921</td>\n",
       "      <td>-1.169821</td>\n",
       "      <td>-1.058100</td>\n",
       "      <td>-0.975675</td>\n",
       "      <td>-1.641443</td>\n",
       "      <td>1.706405</td>\n",
       "      <td>-0.974467</td>\n",
       "    </tr>\n",
       "  </tbody>\n",
       "</table>\n",
       "</div>"
      ],
      "text/plain": [
       "            dayWeek  dayYear  dayMonth  dayDay  dayDayofyear  stdorToU  Acorn  \\\n",
       "day                                                                             \n",
       "2014-02-01        5        4         2       1            32         1      2   \n",
       "2014-01-31        5        4         1      31            31         1      2   \n",
       "\n",
       "            Acorn_grouped  icon  precipType  summary  energy_median  \\\n",
       "day                                                                   \n",
       "2014-02-01              4     6           1       77      -0.166119   \n",
       "2014-01-31              4     6           1       56       1.373648   \n",
       "\n",
       "            energy_mean  energy_max  energy_count  energy_std  energy_min  \\\n",
       "day                                                                         \n",
       "2014-02-01     0.142706   -0.052468           0.0    0.156232    0.199564   \n",
       "2014-01-31     1.257727    1.189595           0.0    1.781616    0.187740   \n",
       "\n",
       "            temperatureMax  windBearing  dewPoint  cloudCover  windSpeed  \\\n",
       "day                                                                        \n",
       "2014-02-01       -0.692796     0.249180 -0.769030   -1.511314   2.091405   \n",
       "2014-01-31       -0.827503    -0.192546 -0.620598    1.294841   0.738313   \n",
       "\n",
       "            pressure  apparentTemperatureHigh  visibility  humidity  \\\n",
       "day                                                                   \n",
       "2014-02-01 -2.296195                -1.173198    0.140441 -0.202914   \n",
       "2014-01-31 -1.470642                -1.320222   -1.774337  1.321910   \n",
       "\n",
       "            apparentTemperatureLow  apparentTemperatureMax   uvIndex  \\\n",
       "day                                                                    \n",
       "2014-02-01               -0.633878               -0.888970 -0.907385   \n",
       "2014-01-31               -0.903980               -1.099264 -0.907385   \n",
       "\n",
       "            temperatureLow  temperatureMin  temperatureHigh  \\\n",
       "day                                                           \n",
       "2014-02-01       -0.396777       -0.613610        -0.873035   \n",
       "2014-01-31       -0.672921       -1.169821        -1.058100   \n",
       "\n",
       "            apparentTemperatureMin  moonPhase  dayElapsed  daylightMins  \n",
       "day                                                                      \n",
       "2014-02-01               -0.848323  -1.537353    1.711714     -0.958303  \n",
       "2014-01-31               -0.975675  -1.641443    1.706405     -0.974467  "
      ]
     },
     "execution_count": 36,
     "metadata": {},
     "output_type": "execute_result"
    }
   ],
   "source": [
    "df.head(2)"
   ]
  },
  {
   "cell_type": "code",
   "execution_count": 37,
   "metadata": {
    "collapsed": true,
    "hidden": true
   },
   "outputs": [],
   "source": [
    "joined_test = joined_test.set_index(\"day\")"
   ]
  },
  {
   "cell_type": "code",
   "execution_count": 38,
   "metadata": {},
   "outputs": [],
   "source": [
    "#apply the same mapper to the test set"
   ]
  },
  {
   "cell_type": "code",
   "execution_count": 39,
   "metadata": {
    "collapsed": true,
    "hidden": true
   },
   "outputs": [],
   "source": [
    "df_test, _, nas, mapper = proc_df(joined_test, 'energy_sum', do_scale=True, skip_flds=['LCLid'],\n",
    "                                  mapper=mapper, na_dict=nas)"
   ]
  },
  {
   "cell_type": "code",
   "execution_count": 40,
   "metadata": {
    "hidden": true
   },
   "outputs": [
    {
     "data": {
      "text/html": [
       "<div>\n",
       "<style scoped>\n",
       "    .dataframe tbody tr th:only-of-type {\n",
       "        vertical-align: middle;\n",
       "    }\n",
       "\n",
       "    .dataframe tbody tr th {\n",
       "        vertical-align: top;\n",
       "    }\n",
       "\n",
       "    .dataframe thead th {\n",
       "        text-align: right;\n",
       "    }\n",
       "</style>\n",
       "<table border=\"1\" class=\"dataframe\">\n",
       "  <thead>\n",
       "    <tr style=\"text-align: right;\">\n",
       "      <th></th>\n",
       "      <th>dayWeek</th>\n",
       "      <th>dayYear</th>\n",
       "      <th>dayMonth</th>\n",
       "      <th>dayDay</th>\n",
       "      <th>dayDayofyear</th>\n",
       "      <th>stdorToU</th>\n",
       "      <th>Acorn</th>\n",
       "      <th>Acorn_grouped</th>\n",
       "      <th>icon</th>\n",
       "      <th>precipType</th>\n",
       "      <th>summary</th>\n",
       "      <th>energy_median</th>\n",
       "      <th>energy_mean</th>\n",
       "      <th>energy_max</th>\n",
       "      <th>energy_count</th>\n",
       "      <th>energy_std</th>\n",
       "      <th>energy_min</th>\n",
       "      <th>temperatureMax</th>\n",
       "      <th>windBearing</th>\n",
       "      <th>dewPoint</th>\n",
       "      <th>cloudCover</th>\n",
       "      <th>windSpeed</th>\n",
       "      <th>pressure</th>\n",
       "      <th>apparentTemperatureHigh</th>\n",
       "      <th>visibility</th>\n",
       "      <th>humidity</th>\n",
       "      <th>apparentTemperatureLow</th>\n",
       "      <th>apparentTemperatureMax</th>\n",
       "      <th>uvIndex</th>\n",
       "      <th>temperatureLow</th>\n",
       "      <th>temperatureMin</th>\n",
       "      <th>temperatureHigh</th>\n",
       "      <th>apparentTemperatureMin</th>\n",
       "      <th>moonPhase</th>\n",
       "      <th>dayElapsed</th>\n",
       "      <th>daylightMins</th>\n",
       "    </tr>\n",
       "    <tr>\n",
       "      <th>day</th>\n",
       "      <th></th>\n",
       "      <th></th>\n",
       "      <th></th>\n",
       "      <th></th>\n",
       "      <th></th>\n",
       "      <th></th>\n",
       "      <th></th>\n",
       "      <th></th>\n",
       "      <th></th>\n",
       "      <th></th>\n",
       "      <th></th>\n",
       "      <th></th>\n",
       "      <th></th>\n",
       "      <th></th>\n",
       "      <th></th>\n",
       "      <th></th>\n",
       "      <th></th>\n",
       "      <th></th>\n",
       "      <th></th>\n",
       "      <th></th>\n",
       "      <th></th>\n",
       "      <th></th>\n",
       "      <th></th>\n",
       "      <th></th>\n",
       "      <th></th>\n",
       "      <th></th>\n",
       "      <th></th>\n",
       "      <th></th>\n",
       "      <th></th>\n",
       "      <th></th>\n",
       "      <th></th>\n",
       "      <th></th>\n",
       "      <th></th>\n",
       "      <th></th>\n",
       "      <th></th>\n",
       "      <th></th>\n",
       "    </tr>\n",
       "  </thead>\n",
       "  <tbody>\n",
       "    <tr>\n",
       "      <th>2014-02-01</th>\n",
       "      <td>5</td>\n",
       "      <td>4</td>\n",
       "      <td>2</td>\n",
       "      <td>1</td>\n",
       "      <td>32</td>\n",
       "      <td>1</td>\n",
       "      <td>2</td>\n",
       "      <td>4</td>\n",
       "      <td>6</td>\n",
       "      <td>1</td>\n",
       "      <td>77</td>\n",
       "      <td>-0.166119</td>\n",
       "      <td>0.142706</td>\n",
       "      <td>-0.052468</td>\n",
       "      <td>0.0</td>\n",
       "      <td>0.156232</td>\n",
       "      <td>0.199564</td>\n",
       "      <td>-0.692796</td>\n",
       "      <td>0.249180</td>\n",
       "      <td>-0.769030</td>\n",
       "      <td>-1.511314</td>\n",
       "      <td>2.091405</td>\n",
       "      <td>-2.296195</td>\n",
       "      <td>-1.173198</td>\n",
       "      <td>0.140441</td>\n",
       "      <td>-0.202914</td>\n",
       "      <td>-0.633878</td>\n",
       "      <td>-0.888970</td>\n",
       "      <td>-0.907385</td>\n",
       "      <td>-0.396777</td>\n",
       "      <td>-0.613610</td>\n",
       "      <td>-0.873035</td>\n",
       "      <td>-0.848323</td>\n",
       "      <td>-1.537353</td>\n",
       "      <td>1.711714</td>\n",
       "      <td>-0.958303</td>\n",
       "    </tr>\n",
       "    <tr>\n",
       "      <th>2014-01-31</th>\n",
       "      <td>5</td>\n",
       "      <td>4</td>\n",
       "      <td>1</td>\n",
       "      <td>31</td>\n",
       "      <td>31</td>\n",
       "      <td>1</td>\n",
       "      <td>2</td>\n",
       "      <td>4</td>\n",
       "      <td>6</td>\n",
       "      <td>1</td>\n",
       "      <td>56</td>\n",
       "      <td>1.373648</td>\n",
       "      <td>1.257727</td>\n",
       "      <td>1.189595</td>\n",
       "      <td>0.0</td>\n",
       "      <td>1.781616</td>\n",
       "      <td>0.187740</td>\n",
       "      <td>-0.827503</td>\n",
       "      <td>-0.192546</td>\n",
       "      <td>-0.620598</td>\n",
       "      <td>1.294841</td>\n",
       "      <td>0.738313</td>\n",
       "      <td>-1.470642</td>\n",
       "      <td>-1.320222</td>\n",
       "      <td>-1.774337</td>\n",
       "      <td>1.321910</td>\n",
       "      <td>-0.903980</td>\n",
       "      <td>-1.099264</td>\n",
       "      <td>-0.907385</td>\n",
       "      <td>-0.672921</td>\n",
       "      <td>-1.169821</td>\n",
       "      <td>-1.058100</td>\n",
       "      <td>-0.975675</td>\n",
       "      <td>-1.641443</td>\n",
       "      <td>1.706405</td>\n",
       "      <td>-0.974467</td>\n",
       "    </tr>\n",
       "  </tbody>\n",
       "</table>\n",
       "</div>"
      ],
      "text/plain": [
       "            dayWeek  dayYear  dayMonth  dayDay  dayDayofyear  stdorToU  Acorn  \\\n",
       "day                                                                             \n",
       "2014-02-01        5        4         2       1            32         1      2   \n",
       "2014-01-31        5        4         1      31            31         1      2   \n",
       "\n",
       "            Acorn_grouped  icon  precipType  summary  energy_median  \\\n",
       "day                                                                   \n",
       "2014-02-01              4     6           1       77      -0.166119   \n",
       "2014-01-31              4     6           1       56       1.373648   \n",
       "\n",
       "            energy_mean  energy_max  energy_count  energy_std  energy_min  \\\n",
       "day                                                                         \n",
       "2014-02-01     0.142706   -0.052468           0.0    0.156232    0.199564   \n",
       "2014-01-31     1.257727    1.189595           0.0    1.781616    0.187740   \n",
       "\n",
       "            temperatureMax  windBearing  dewPoint  cloudCover  windSpeed  \\\n",
       "day                                                                        \n",
       "2014-02-01       -0.692796     0.249180 -0.769030   -1.511314   2.091405   \n",
       "2014-01-31       -0.827503    -0.192546 -0.620598    1.294841   0.738313   \n",
       "\n",
       "            pressure  apparentTemperatureHigh  visibility  humidity  \\\n",
       "day                                                                   \n",
       "2014-02-01 -2.296195                -1.173198    0.140441 -0.202914   \n",
       "2014-01-31 -1.470642                -1.320222   -1.774337  1.321910   \n",
       "\n",
       "            apparentTemperatureLow  apparentTemperatureMax   uvIndex  \\\n",
       "day                                                                    \n",
       "2014-02-01               -0.633878               -0.888970 -0.907385   \n",
       "2014-01-31               -0.903980               -1.099264 -0.907385   \n",
       "\n",
       "            temperatureLow  temperatureMin  temperatureHigh  \\\n",
       "day                                                           \n",
       "2014-02-01       -0.396777       -0.613610        -0.873035   \n",
       "2014-01-31       -0.672921       -1.169821        -1.058100   \n",
       "\n",
       "            apparentTemperatureMin  moonPhase  dayElapsed  daylightMins  \n",
       "day                                                                      \n",
       "2014-02-01               -0.848323  -1.537353    1.711714     -0.958303  \n",
       "2014-01-31               -0.975675  -1.641443    1.706405     -0.974467  "
      ]
     },
     "execution_count": 40,
     "metadata": {},
     "output_type": "execute_result"
    }
   ],
   "source": [
    "df.head(n=2)"
   ]
  },
  {
   "cell_type": "markdown",
   "metadata": {
    "hidden": true
   },
   "source": [
    "In time series data, cross-validation is not random. Instead, our holdout data is generally the most recent data, as it would be in real application. This issue is discussed in detail in [this post](http://www.fast.ai/2017/11/13/validation-sets/) on the fastai web site.\n",
    "\n",
    "One approach is to take the last 25% of rows (sorted by date) as our validation set."
   ]
  },
  {
   "cell_type": "code",
   "execution_count": 41,
   "metadata": {
    "collapsed": true,
    "hidden": true
   },
   "outputs": [],
   "source": [
    "train_ratio = 0.75\n",
    "# train_ratio = 0.9\n",
    "train_size = int(samp_size * train_ratio)\n",
    "val_idx = list(range(train_size, len(df)))"
   ]
  },
  {
   "cell_type": "code",
   "execution_count": 42,
   "metadata": {},
   "outputs": [
    {
     "name": "stdout",
     "output_type": "stream",
     "text": [
      "samp_size: 3339707\n",
      "train_ratio: 0.75\n",
      "train_size: 2504780\n",
      "len(df): 3339707\n",
      "val_idx: 834927\n"
     ]
    }
   ],
   "source": [
    "print(f'samp_size: {samp_size}')\n",
    "print(f'train_ratio: {train_ratio}')\n",
    "print(f'train_size: {train_size}')\n",
    "print(f'len(df): {len(df)}')\n",
    "print(f'val_idx: {len(val_idx)}')"
   ]
  },
  {
   "cell_type": "code",
   "execution_count": 43,
   "metadata": {},
   "outputs": [
    {
     "data": {
      "text/plain": [
       "[2504780,\n",
       " 2504781,\n",
       " 2504782,\n",
       " 2504783,\n",
       " 2504784,\n",
       " 2504785,\n",
       " 2504786,\n",
       " 2504787,\n",
       " 2504788,\n",
       " 2504789]"
      ]
     },
     "execution_count": 43,
     "metadata": {},
     "output_type": "execute_result"
    }
   ],
   "source": [
    "val_idx[:10]"
   ]
  },
  {
   "cell_type": "markdown",
   "metadata": {
    "hidden": true
   },
   "source": [
    "An even better option for picking a validation set is using the exact same length of time period as the test set uses - this is implemented here:"
   ]
  },
  {
   "cell_type": "code",
   "execution_count": 44,
   "metadata": {
    "collapsed": true,
    "hidden": true
   },
   "outputs": [],
   "source": [
    "#val_idx = np.flatnonzero(\n",
    "#    (df.index<=datetime.datetime(2014,9,17)) & (df.index>=datetime.datetime(2014,8,1)))"
   ]
  },
  {
   "cell_type": "code",
   "execution_count": 45,
   "metadata": {
    "collapsed": true,
    "hidden": true
   },
   "outputs": [],
   "source": [
    "#val_idx=[0]"
   ]
  },
  {
   "cell_type": "markdown",
   "metadata": {},
   "source": [
    "## DL"
   ]
  },
  {
   "cell_type": "markdown",
   "metadata": {},
   "source": [
    "We're ready to put together our models.\n",
    "\n",
    "Root-mean-squared error is the metric we used for other forecast models."
   ]
  },
  {
   "cell_type": "code",
   "execution_count": 46,
   "metadata": {
    "collapsed": true
   },
   "outputs": [],
   "source": [
    "def rmse(y_pred, y_targ):\n",
    "    return np.sqrt(((y_targ - y_pred) ** 2).mean())\n",
    "\n",
    "#use 20% greater than biggest max seen in training data\n",
    "max_y = np.max(y)\n",
    "y_range = (0, max_y*1.2)"
   ]
  },
  {
   "cell_type": "markdown",
   "metadata": {},
   "source": [
    "We can create a ModelData object directly from out data frame.\n",
    "\n",
    "pass in the test dataframe in the usual way"
   ]
  },
  {
   "cell_type": "code",
   "execution_count": 47,
   "metadata": {},
   "outputs": [
    {
     "name": "stdout",
     "output_type": "stream",
     "text": [
      "pre cmd, val_idx: 834927\n",
      "df: 3339707\n",
      "y: 3339707\n",
      "cat_vars: 11\n",
      "df_test: 129645\n"
     ]
    }
   ],
   "source": [
    "print(f'pre cmd, val_idx: {len(val_idx)}')\n",
    "print(f'df: {len(df)}')\n",
    "print(f'y: {len(y)}')\n",
    "print(f'cat_vars: {len(cat_vars)}')\n",
    "print(f'df_test: {len(df_test)}')"
   ]
  },
  {
   "cell_type": "code",
   "execution_count": 48,
   "metadata": {
    "collapsed": true
   },
   "outputs": [],
   "source": [
    "md = ColumnarModelData.from_data_frame(PATH, val_idx, df, y.astype(np.float32), cat_flds=cat_vars, bs=128,\n",
    "                                       test_df=df_test)"
   ]
  },
  {
   "cell_type": "markdown",
   "metadata": {},
   "source": [
    "Check levels of categorical variables"
   ]
  },
  {
   "cell_type": "code",
   "execution_count": 50,
   "metadata": {
    "collapsed": true
   },
   "outputs": [],
   "source": [
    "cat_sz = [(c, len(joined_samp[c].cat.categories)+1) for c in cat_vars]"
   ]
  },
  {
   "cell_type": "code",
   "execution_count": 51,
   "metadata": {
    "scrolled": true
   },
   "outputs": [
    {
     "data": {
      "text/plain": [
       "[('dayWeek', 53),\n",
       " ('dayYear', 5),\n",
       " ('dayMonth', 13),\n",
       " ('dayDay', 32),\n",
       " ('dayDayofyear', 367),\n",
       " ('stdorToU', 3),\n",
       " ('Acorn', 20),\n",
       " ('Acorn_grouped', 6),\n",
       " ('icon', 7),\n",
       " ('precipType', 3),\n",
       " ('summary', 83)]"
      ]
     },
     "execution_count": 51,
     "metadata": {},
     "output_type": "execute_result"
    }
   ],
   "source": [
    "cat_sz"
   ]
  },
  {
   "cell_type": "markdown",
   "metadata": {},
   "source": [
    "We use the *cardinality* of each variable (that is, its number of unique values) to decide how large to make its *embeddings*. Each level will be associated with a vector with length defined as below."
   ]
  },
  {
   "cell_type": "code",
   "execution_count": 52,
   "metadata": {
    "collapsed": true
   },
   "outputs": [],
   "source": [
    "emb_szs = [(c, min(50, (c+1)//2)) for _,c in cat_sz]"
   ]
  },
  {
   "cell_type": "code",
   "execution_count": 53,
   "metadata": {
    "scrolled": true
   },
   "outputs": [
    {
     "data": {
      "text/plain": [
       "[(53, 27),\n",
       " (5, 3),\n",
       " (13, 7),\n",
       " (32, 16),\n",
       " (367, 50),\n",
       " (3, 2),\n",
       " (20, 10),\n",
       " (6, 3),\n",
       " (7, 4),\n",
       " (3, 2),\n",
       " (83, 42)]"
      ]
     },
     "execution_count": 53,
     "metadata": {},
     "output_type": "execute_result"
    }
   ],
   "source": [
    "emb_szs"
   ]
  },
  {
   "cell_type": "code",
   "execution_count": 54,
   "metadata": {
    "collapsed": true
   },
   "outputs": [
    {
     "data": {
      "text/plain": [
       "OrderedDict([('Embedding-1',\n",
       "              OrderedDict([('input_shape', [-1]),\n",
       "                           ('output_shape', [-1, 27]),\n",
       "                           ('trainable', True),\n",
       "                           ('nb_params', 1431)])),\n",
       "             ('Embedding-2',\n",
       "              OrderedDict([('input_shape', [-1]),\n",
       "                           ('output_shape', [-1, 3]),\n",
       "                           ('trainable', True),\n",
       "                           ('nb_params', 15)])),\n",
       "             ('Embedding-3',\n",
       "              OrderedDict([('input_shape', [-1]),\n",
       "                           ('output_shape', [-1, 7]),\n",
       "                           ('trainable', True),\n",
       "                           ('nb_params', 91)])),\n",
       "             ('Embedding-4',\n",
       "              OrderedDict([('input_shape', [-1]),\n",
       "                           ('output_shape', [-1, 16]),\n",
       "                           ('trainable', True),\n",
       "                           ('nb_params', 512)])),\n",
       "             ('Embedding-5',\n",
       "              OrderedDict([('input_shape', [-1]),\n",
       "                           ('output_shape', [-1, 50]),\n",
       "                           ('trainable', True),\n",
       "                           ('nb_params', 18350)])),\n",
       "             ('Embedding-6',\n",
       "              OrderedDict([('input_shape', [-1]),\n",
       "                           ('output_shape', [-1, 2]),\n",
       "                           ('trainable', True),\n",
       "                           ('nb_params', 6)])),\n",
       "             ('Embedding-7',\n",
       "              OrderedDict([('input_shape', [-1]),\n",
       "                           ('output_shape', [-1, 10]),\n",
       "                           ('trainable', True),\n",
       "                           ('nb_params', 200)])),\n",
       "             ('Embedding-8',\n",
       "              OrderedDict([('input_shape', [-1]),\n",
       "                           ('output_shape', [-1, 3]),\n",
       "                           ('trainable', True),\n",
       "                           ('nb_params', 18)])),\n",
       "             ('Embedding-9',\n",
       "              OrderedDict([('input_shape', [-1]),\n",
       "                           ('output_shape', [-1, 4]),\n",
       "                           ('trainable', True),\n",
       "                           ('nb_params', 28)])),\n",
       "             ('Embedding-10',\n",
       "              OrderedDict([('input_shape', [-1]),\n",
       "                           ('output_shape', [-1, 2]),\n",
       "                           ('trainable', True),\n",
       "                           ('nb_params', 6)])),\n",
       "             ('Embedding-11',\n",
       "              OrderedDict([('input_shape', [-1]),\n",
       "                           ('output_shape', [-1, 42]),\n",
       "                           ('trainable', True),\n",
       "                           ('nb_params', 3486)])),\n",
       "             ('Dropout-12',\n",
       "              OrderedDict([('input_shape', [-1, 166]),\n",
       "                           ('output_shape', [-1, 166]),\n",
       "                           ('nb_params', 0)])),\n",
       "             ('BatchNorm1d-13',\n",
       "              OrderedDict([('input_shape', [-1, 25]),\n",
       "                           ('output_shape', [-1, 25]),\n",
       "                           ('trainable', True),\n",
       "                           ('nb_params', 50)])),\n",
       "             ('Linear-14',\n",
       "              OrderedDict([('input_shape', [-1, 191]),\n",
       "                           ('output_shape', [-1, 1000]),\n",
       "                           ('trainable', True),\n",
       "                           ('nb_params', 192000)])),\n",
       "             ('Dropout-15',\n",
       "              OrderedDict([('input_shape', [-1, 1000]),\n",
       "                           ('output_shape', [-1, 1000]),\n",
       "                           ('nb_params', 0)])),\n",
       "             ('Linear-16',\n",
       "              OrderedDict([('input_shape', [-1, 1000]),\n",
       "                           ('output_shape', [-1, 500]),\n",
       "                           ('trainable', True),\n",
       "                           ('nb_params', 500500)])),\n",
       "             ('Dropout-17',\n",
       "              OrderedDict([('input_shape', [-1, 500]),\n",
       "                           ('output_shape', [-1, 500]),\n",
       "                           ('nb_params', 0)])),\n",
       "             ('Linear-18',\n",
       "              OrderedDict([('input_shape', [-1, 500]),\n",
       "                           ('output_shape', [-1, 1]),\n",
       "                           ('trainable', True),\n",
       "                           ('nb_params', 501)]))])"
      ]
     },
     "execution_count": 54,
     "metadata": {},
     "output_type": "execute_result"
    }
   ],
   "source": [
    "m = md.get_learner(emb_szs, len(df.columns)-len(cat_vars),\n",
    "                   0.04, 1, [1000,500], [0.001,0.01], y_range=y_range)\n",
    "m.summary()"
   ]
  },
  {
   "cell_type": "code",
   "execution_count": 55,
   "metadata": {},
   "outputs": [
    {
     "data": {
      "application/vnd.jupyter.widget-view+json": {
       "model_id": "c677055c035c4af9b3bbb2b8dd41d426",
       "version_major": 2,
       "version_minor": 0
      },
      "text/plain": [
       "HBox(children=(IntProgress(value=0, description='Epoch', max=1), HTML(value='')))"
      ]
     },
     "metadata": {},
     "output_type": "display_data"
    },
    {
     "name": "stdout",
     "output_type": "stream",
     "text": [
      " 28%|██▊       | 5563/19569 [00:41<01:44, 133.41it/s, loss=17.4]"
     ]
    }
   ],
   "source": [
    "#lr = 1e-3\n",
    "lr = 2e-5\n",
    "m.lr_find()"
   ]
  },
  {
   "cell_type": "code",
   "execution_count": 56,
   "metadata": {},
   "outputs": [
    {
     "data": {
      "image/png": "[encoded data removed]",
      "text/plain": [
       "<Figure size 432x288 with 1 Axes>"
      ]
     },
     "metadata": {},
     "output_type": "display_data"
    }
   ],
   "source": [
    "m.sched.plot(100)"
   ]
  },
  {
   "cell_type": "markdown",
   "metadata": {
    "heading_collapsed": true
   },
   "source": [
    "### Sample"
   ]
  },
  {
   "cell_type": "code",
   "execution_count": 57,
   "metadata": {
    "collapsed": true,
    "hidden": true
   },
   "outputs": [],
   "source": [
    "#m = md.get_learner(emb_szs, len(df.columns)-len(cat_vars),\n",
    "#                   0.04, 1, [1000,500], [0.001,0.01], y_range=y_range)\n",
    "#lr = 1e-3"
   ]
  },
  {
   "cell_type": "code",
   "execution_count": 58,
   "metadata": {
    "hidden": true
   },
   "outputs": [],
   "source": [
    "#m.fit(lr, 3, metrics=[rmse])"
   ]
  },
  {
   "cell_type": "code",
   "execution_count": 59,
   "metadata": {
    "hidden": true
   },
   "outputs": [],
   "source": [
    "#m.fit(lr, 5, metrics=[rmse], cycle_len=1)"
   ]
  },
  {
   "cell_type": "code",
   "execution_count": 60,
   "metadata": {
    "hidden": true
   },
   "outputs": [],
   "source": [
    "#m.fit(lr, 2, metrics=[rmse], cycle_len=4)"
   ]
  },
  {
   "cell_type": "markdown",
   "metadata": {
    "heading_collapsed": true
   },
   "source": [
    "### All"
   ]
  },
  {
   "cell_type": "code",
   "execution_count": 61,
   "metadata": {
    "collapsed": true,
    "hidden": true
   },
   "outputs": [],
   "source": [
    "m = md.get_learner(emb_szs, len(df.columns)-len(cat_vars),\n",
    "                   0.04, 1, [1000,500], [0.001,0.01], y_range=y_range)\n",
    "#lr = 1e-3\n",
    "lr = 2e-5"
   ]
  },
  {
   "cell_type": "code",
   "execution_count": 62,
   "metadata": {
    "hidden": true
   },
   "outputs": [
    {
     "data": {
      "application/vnd.jupyter.widget-view+json": {
       "model_id": "de55d571bb2b44449c375e9664e39478",
       "version_major": 2,
       "version_minor": 0
      },
      "text/plain": [
       "HBox(children=(IntProgress(value=0, description='Epoch', max=1), HTML(value='')))"
      ]
     },
     "metadata": {},
     "output_type": "display_data"
    },
    {
     "name": "stdout",
     "output_type": "stream",
     "text": [
      "epoch      trn_loss   val_loss   rmse       \n",
      "    0      1.166705   0.890098   0.753684  \n"
     ]
    },
    {
     "data": {
      "text/plain": [
       "[array([0.8901]), 0.7536842124751327]"
      ]
     },
     "execution_count": 62,
     "metadata": {},
     "output_type": "execute_result"
    }
   ],
   "source": [
    "m.fit(lr, 1, metrics=[rmse])"
   ]
  },
  {
   "cell_type": "code",
   "execution_count": 63,
   "metadata": {
    "hidden": true
   },
   "outputs": [
    {
     "data": {
      "application/vnd.jupyter.widget-view+json": {
       "model_id": "7bf6d8481821468883eb98beeed4800d",
       "version_major": 2,
       "version_minor": 0
      },
      "text/plain": [
       "HBox(children=(IntProgress(value=0, description='Epoch', max=3), HTML(value='')))"
      ]
     },
     "metadata": {},
     "output_type": "display_data"
    },
    {
     "name": "stdout",
     "output_type": "stream",
     "text": [
      "epoch      trn_loss   val_loss   rmse       \n",
      "    0      1.168089   1.473121   1.006735  \n",
      "    1      0.590093   0.454347   0.492191  \n",
      "    2      0.40567    0.266747   0.366612  \n"
     ]
    },
    {
     "data": {
      "text/plain": [
       "[array([0.26675]), 0.36661225645790607]"
      ]
     },
     "execution_count": 63,
     "metadata": {},
     "output_type": "execute_result"
    }
   ],
   "source": [
    "m.fit(lr, 3, metrics=[rmse])"
   ]
  },
  {
   "cell_type": "code",
   "execution_count": 64,
   "metadata": {
    "hidden": true
   },
   "outputs": [
    {
     "data": {
      "application/vnd.jupyter.widget-view+json": {
       "model_id": "226ca0508acd48a8a0ab17c7f4a709a2",
       "version_major": 2,
       "version_minor": 0
      },
      "text/plain": [
       "HBox(children=(IntProgress(value=0, description='Epoch', max=3), HTML(value='')))"
      ]
     },
     "metadata": {},
     "output_type": "display_data"
    },
    {
     "name": "stdout",
     "output_type": "stream",
     "text": [
      "epoch      trn_loss   val_loss   rmse       \n",
      "    0      0.233037   0.132719   0.2939    \n",
      "    1      0.232677   0.127311   0.283511  \n",
      "    2      0.190419   0.11134    0.26832   \n"
     ]
    },
    {
     "data": {
      "text/plain": [
       "[array([0.11134]), 0.2683195360148107]"
      ]
     },
     "execution_count": 64,
     "metadata": {},
     "output_type": "execute_result"
    }
   ],
   "source": [
    "m.fit(lr, 3, metrics=[rmse], cycle_len=1)"
   ]
  },
  {
   "cell_type": "markdown",
   "metadata": {
    "heading_collapsed": true
   },
   "source": [
    "### Test"
   ]
  },
  {
   "cell_type": "code",
   "execution_count": 65,
   "metadata": {
    "collapsed": true,
    "hidden": true
   },
   "outputs": [],
   "source": [
    "m = md.get_learner(emb_szs, len(df.columns)-len(cat_vars),\n",
    "                   0.04, 1, [1000,500], [0.001,0.01], y_range=y_range)\n",
    "lr = 1e-3"
   ]
  },
  {
   "cell_type": "code",
   "execution_count": 66,
   "metadata": {
    "hidden": true
   },
   "outputs": [
    {
     "data": {
      "application/vnd.jupyter.widget-view+json": {
       "model_id": "3b032607483b4bc287b449efc609089e",
       "version_major": 2,
       "version_minor": 0
      },
      "text/plain": [
       "HBox(children=(IntProgress(value=0, description='Epoch', max=3), HTML(value='')))"
      ]
     },
     "metadata": {},
     "output_type": "display_data"
    },
    {
     "name": "stdout",
     "output_type": "stream",
     "text": [
      "epoch      trn_loss   val_loss   rmse       \n",
      "    0      0.395362   0.347612   0.495582  \n",
      "    1      0.280549   0.269956   0.430623  \n",
      "    2      0.203935   0.144752   0.317282  \n"
     ]
    },
    {
     "data": {
      "text/plain": [
       "[array([0.14475]), 0.31728209143276026]"
      ]
     },
     "execution_count": 66,
     "metadata": {},
     "output_type": "execute_result"
    }
   ],
   "source": [
    "m.fit(lr, 3, metrics=[rmse])"
   ]
  },
  {
   "cell_type": "code",
   "execution_count": 67,
   "metadata": {
    "hidden": true
   },
   "outputs": [
    {
     "data": {
      "application/vnd.jupyter.widget-view+json": {
       "model_id": "5826b0ba9c02478fb3fe0f1f15c9629f",
       "version_major": 2,
       "version_minor": 0
      },
      "text/plain": [
       "HBox(children=(IntProgress(value=0, description='Epoch', max=3), HTML(value='')))"
      ]
     },
     "metadata": {},
     "output_type": "display_data"
    },
    {
     "name": "stdout",
     "output_type": "stream",
     "text": [
      "epoch      trn_loss   val_loss   rmse       \n",
      "    0      0.097084   0.012372   0.09166   \n",
      "    1      0.088509   0.010451   0.080805  \n",
      "    2      0.080353   0.009581   0.073797  \n"
     ]
    },
    {
     "data": {
      "text/plain": [
       "[array([0.00958]), 0.07379722104356372]"
      ]
     },
     "execution_count": 67,
     "metadata": {},
     "output_type": "execute_result"
    }
   ],
   "source": [
    "m.fit(lr, 3, metrics=[rmse], cycle_len=1)"
   ]
  },
  {
   "cell_type": "code",
   "execution_count": 68,
   "metadata": {
    "collapsed": true,
    "hidden": true
   },
   "outputs": [],
   "source": [
    "m.save('val0')"
   ]
  },
  {
   "cell_type": "code",
   "execution_count": 69,
   "metadata": {
    "collapsed": true,
    "hidden": true
   },
   "outputs": [],
   "source": [
    "m.load('val0')"
   ]
  },
  {
   "cell_type": "code",
   "execution_count": 70,
   "metadata": {
    "collapsed": true,
    "hidden": true
   },
   "outputs": [],
   "source": [
    "x,y=m.predict_with_targs()"
   ]
  },
  {
   "cell_type": "code",
   "execution_count": 71,
   "metadata": {},
   "outputs": [
    {
     "data": {
      "text/plain": [
       "array([[9.11227],\n",
       "       [7.11214],\n",
       "       [5.66845],\n",
       "       [7.66853],\n",
       "       [7.54001],\n",
       "       [8.16093],\n",
       "       [5.91426],\n",
       "       [7.13048],\n",
       "       [5.54889],\n",
       "       [7.19731]], dtype=float32)"
      ]
     },
     "execution_count": 71,
     "metadata": {},
     "output_type": "execute_result"
    }
   ],
   "source": [
    "x[:10]"
   ]
  },
  {
   "cell_type": "code",
   "execution_count": 72,
   "metadata": {},
   "outputs": [
    {
     "data": {
      "text/plain": [
       "array([[8.994],\n",
       "       [7.112],\n",
       "       [5.68 ],\n",
       "       [7.685],\n",
       "       [7.547],\n",
       "       [8.206],\n",
       "       [5.911],\n",
       "       [7.161],\n",
       "       [5.544],\n",
       "       [7.204]], dtype=float32)"
      ]
     },
     "execution_count": 72,
     "metadata": {},
     "output_type": "execute_result"
    }
   ],
   "source": [
    "y[:10]"
   ]
  },
  {
   "cell_type": "code",
   "execution_count": 73,
   "metadata": {
    "hidden": true
   },
   "outputs": [
    {
     "data": {
      "text/plain": [
       "0.097883835"
      ]
     },
     "execution_count": 73,
     "metadata": {},
     "output_type": "execute_result"
    }
   ],
   "source": [
    "rmse(x,y)"
   ]
  },
  {
   "cell_type": "code",
   "execution_count": 74,
   "metadata": {
    "collapsed": true,
    "hidden": true
   },
   "outputs": [],
   "source": [
    "pred_test=m.predict(True)"
   ]
  },
  {
   "cell_type": "code",
   "execution_count": 75,
   "metadata": {},
   "outputs": [
    {
     "data": {
      "text/plain": [
       "array([[20.64887],\n",
       "       [12.36727],\n",
       "       [11.80685],\n",
       "       [12.52368],\n",
       "       [14.7822 ],\n",
       "       [12.83015],\n",
       "       [13.04226],\n",
       "       [11.79406],\n",
       "       [14.97045],\n",
       "       [17.02794]], dtype=float32)"
      ]
     },
     "execution_count": 75,
     "metadata": {},
     "output_type": "execute_result"
    }
   ],
   "source": [
    "pred_test[:10]"
   ]
  },
  {
   "cell_type": "code",
   "execution_count": 76,
   "metadata": {
    "collapsed": true,
    "hidden": true
   },
   "outputs": [],
   "source": [
    "joined_test['energy_sum']=pred_test"
   ]
  },
  {
   "cell_type": "code",
   "execution_count": 77,
   "metadata": {},
   "outputs": [
    {
     "data": {
      "text/html": [
       "<div>\n",
       "<style scoped>\n",
       "    .dataframe tbody tr th:only-of-type {\n",
       "        vertical-align: middle;\n",
       "    }\n",
       "\n",
       "    .dataframe tbody tr th {\n",
       "        vertical-align: top;\n",
       "    }\n",
       "\n",
       "    .dataframe thead th {\n",
       "        text-align: right;\n",
       "    }\n",
       "</style>\n",
       "<table border=\"1\" class=\"dataframe\">\n",
       "  <thead>\n",
       "    <tr style=\"text-align: right;\">\n",
       "      <th></th>\n",
       "      <th>dayWeek</th>\n",
       "      <th>dayYear</th>\n",
       "      <th>dayMonth</th>\n",
       "      <th>dayDay</th>\n",
       "      <th>dayDayofyear</th>\n",
       "      <th>stdorToU</th>\n",
       "      <th>Acorn</th>\n",
       "      <th>Acorn_grouped</th>\n",
       "      <th>icon</th>\n",
       "      <th>precipType</th>\n",
       "      <th>summary</th>\n",
       "      <th>energy_median</th>\n",
       "      <th>energy_mean</th>\n",
       "      <th>energy_max</th>\n",
       "      <th>energy_count</th>\n",
       "      <th>energy_std</th>\n",
       "      <th>energy_min</th>\n",
       "      <th>temperatureMax</th>\n",
       "      <th>windBearing</th>\n",
       "      <th>dewPoint</th>\n",
       "      <th>cloudCover</th>\n",
       "      <th>windSpeed</th>\n",
       "      <th>pressure</th>\n",
       "      <th>apparentTemperatureHigh</th>\n",
       "      <th>visibility</th>\n",
       "      <th>humidity</th>\n",
       "      <th>apparentTemperatureLow</th>\n",
       "      <th>apparentTemperatureMax</th>\n",
       "      <th>uvIndex</th>\n",
       "      <th>temperatureLow</th>\n",
       "      <th>temperatureMin</th>\n",
       "      <th>temperatureHigh</th>\n",
       "      <th>apparentTemperatureMin</th>\n",
       "      <th>moonPhase</th>\n",
       "      <th>dayElapsed</th>\n",
       "      <th>daylightMins</th>\n",
       "      <th>LCLid</th>\n",
       "      <th>energy_sum</th>\n",
       "    </tr>\n",
       "    <tr>\n",
       "      <th>day</th>\n",
       "      <th></th>\n",
       "      <th></th>\n",
       "      <th></th>\n",
       "      <th></th>\n",
       "      <th></th>\n",
       "      <th></th>\n",
       "      <th></th>\n",
       "      <th></th>\n",
       "      <th></th>\n",
       "      <th></th>\n",
       "      <th></th>\n",
       "      <th></th>\n",
       "      <th></th>\n",
       "      <th></th>\n",
       "      <th></th>\n",
       "      <th></th>\n",
       "      <th></th>\n",
       "      <th></th>\n",
       "      <th></th>\n",
       "      <th></th>\n",
       "      <th></th>\n",
       "      <th></th>\n",
       "      <th></th>\n",
       "      <th></th>\n",
       "      <th></th>\n",
       "      <th></th>\n",
       "      <th></th>\n",
       "      <th></th>\n",
       "      <th></th>\n",
       "      <th></th>\n",
       "      <th></th>\n",
       "      <th></th>\n",
       "      <th></th>\n",
       "      <th></th>\n",
       "      <th></th>\n",
       "      <th></th>\n",
       "      <th></th>\n",
       "      <th></th>\n",
       "    </tr>\n",
       "  </thead>\n",
       "  <tbody>\n",
       "    <tr>\n",
       "      <th>2014-02-27</th>\n",
       "      <td>9</td>\n",
       "      <td>2014</td>\n",
       "      <td>2</td>\n",
       "      <td>27</td>\n",
       "      <td>58</td>\n",
       "      <td>Std</td>\n",
       "      <td>ACORN-A</td>\n",
       "      <td>Affluent</td>\n",
       "      <td>partly-cloudy-day</td>\n",
       "      <td>rain</td>\n",
       "      <td>Partly cloudy until evening.</td>\n",
       "      <td>0.2180</td>\n",
       "      <td>0.427458</td>\n",
       "      <td>1.350</td>\n",
       "      <td>48.0</td>\n",
       "      <td>0.406681</td>\n",
       "      <td>0.080</td>\n",
       "      <td>10.31</td>\n",
       "      <td>224.0</td>\n",
       "      <td>3.08</td>\n",
       "      <td>0.32</td>\n",
       "      <td>4.14</td>\n",
       "      <td>1007.02002</td>\n",
       "      <td>10.31</td>\n",
       "      <td>12.04</td>\n",
       "      <td>0.74</td>\n",
       "      <td>0.82</td>\n",
       "      <td>10.31</td>\n",
       "      <td>2.0</td>\n",
       "      <td>3.43</td>\n",
       "      <td>3.93</td>\n",
       "      <td>10.31</td>\n",
       "      <td>1.41</td>\n",
       "      <td>0.93</td>\n",
       "      <td>1.393459e+09</td>\n",
       "      <td>645.0</td>\n",
       "      <td>2</td>\n",
       "      <td>20.648867</td>\n",
       "    </tr>\n",
       "    <tr>\n",
       "      <th>2014-02-26</th>\n",
       "      <td>9</td>\n",
       "      <td>2014</td>\n",
       "      <td>2</td>\n",
       "      <td>26</td>\n",
       "      <td>57</td>\n",
       "      <td>Std</td>\n",
       "      <td>ACORN-A</td>\n",
       "      <td>Affluent</td>\n",
       "      <td>partly-cloudy-day</td>\n",
       "      <td>rain</td>\n",
       "      <td>Partly cloudy throughout the day.</td>\n",
       "      <td>0.1515</td>\n",
       "      <td>0.256833</td>\n",
       "      <td>1.028</td>\n",
       "      <td>48.0</td>\n",
       "      <td>0.196095</td>\n",
       "      <td>0.076</td>\n",
       "      <td>11.29</td>\n",
       "      <td>227.0</td>\n",
       "      <td>2.74</td>\n",
       "      <td>0.26</td>\n",
       "      <td>3.82</td>\n",
       "      <td>1012.72998</td>\n",
       "      <td>11.29</td>\n",
       "      <td>13.00</td>\n",
       "      <td>0.73</td>\n",
       "      <td>3.03</td>\n",
       "      <td>11.29</td>\n",
       "      <td>2.0</td>\n",
       "      <td>6.01</td>\n",
       "      <td>4.17</td>\n",
       "      <td>11.29</td>\n",
       "      <td>1.67</td>\n",
       "      <td>0.90</td>\n",
       "      <td>1.393373e+09</td>\n",
       "      <td>641.0</td>\n",
       "      <td>2</td>\n",
       "      <td>12.367272</td>\n",
       "    </tr>\n",
       "  </tbody>\n",
       "</table>\n",
       "</div>"
      ],
      "text/plain": [
       "           dayWeek dayYear dayMonth dayDay dayDayofyear stdorToU    Acorn  \\\n",
       "day                                                                         \n",
       "2014-02-27       9    2014        2     27           58      Std  ACORN-A   \n",
       "2014-02-26       9    2014        2     26           57      Std  ACORN-A   \n",
       "\n",
       "           Acorn_grouped               icon precipType  \\\n",
       "day                                                      \n",
       "2014-02-27      Affluent  partly-cloudy-day       rain   \n",
       "2014-02-26      Affluent  partly-cloudy-day       rain   \n",
       "\n",
       "                                      summary  energy_median  energy_mean  \\\n",
       "day                                                                         \n",
       "2014-02-27       Partly cloudy until evening.         0.2180     0.427458   \n",
       "2014-02-26  Partly cloudy throughout the day.         0.1515     0.256833   \n",
       "\n",
       "            energy_max  energy_count  energy_std  energy_min  temperatureMax  \\\n",
       "day                                                                            \n",
       "2014-02-27       1.350          48.0    0.406681       0.080           10.31   \n",
       "2014-02-26       1.028          48.0    0.196095       0.076           11.29   \n",
       "\n",
       "            windBearing  dewPoint  cloudCover  windSpeed    pressure  \\\n",
       "day                                                                    \n",
       "2014-02-27        224.0      3.08        0.32       4.14  1007.02002   \n",
       "2014-02-26        227.0      2.74        0.26       3.82  1012.72998   \n",
       "\n",
       "            apparentTemperatureHigh  visibility  humidity  \\\n",
       "day                                                         \n",
       "2014-02-27                    10.31       12.04      0.74   \n",
       "2014-02-26                    11.29       13.00      0.73   \n",
       "\n",
       "            apparentTemperatureLow  apparentTemperatureMax  uvIndex  \\\n",
       "day                                                                   \n",
       "2014-02-27                    0.82                   10.31      2.0   \n",
       "2014-02-26                    3.03                   11.29      2.0   \n",
       "\n",
       "            temperatureLow  temperatureMin  temperatureHigh  \\\n",
       "day                                                           \n",
       "2014-02-27            3.43            3.93            10.31   \n",
       "2014-02-26            6.01            4.17            11.29   \n",
       "\n",
       "            apparentTemperatureMin  moonPhase    dayElapsed  daylightMins  \\\n",
       "day                                                                         \n",
       "2014-02-27                    1.41       0.93  1.393459e+09         645.0   \n",
       "2014-02-26                    1.67       0.90  1.393373e+09         641.0   \n",
       "\n",
       "            LCLid  energy_sum  \n",
       "day                            \n",
       "2014-02-27      2   20.648867  \n",
       "2014-02-26      2   12.367272  "
      ]
     },
     "execution_count": 77,
     "metadata": {},
     "output_type": "execute_result"
    }
   ],
   "source": [
    "joined_test.head(n=2)"
   ]
  },
  {
   "cell_type": "code",
   "execution_count": 78,
   "metadata": {
    "collapsed": true,
    "hidden": true
   },
   "outputs": [],
   "source": [
    "csv_fn=f'{PATH}tmp/4_6_forecast_NN_preds.csv'"
   ]
  },
  {
   "cell_type": "code",
   "execution_count": 79,
   "metadata": {
    "collapsed": true,
    "hidden": true
   },
   "outputs": [],
   "source": [
    "joined_test[['LCLid','energy_sum']].to_csv(csv_fn, index=False)"
   ]
  },
  {
   "cell_type": "markdown",
   "metadata": {
    "hidden": true
   },
   "source": [
    "## Reality check"
   ]
  },
  {
   "cell_type": "markdown",
   "metadata": {},
   "source": [
    "We are not going to have 'energy_median','energy_mean','energy_max','energy_count', 'energy_std', 'energy_min' for day for the 7 day forecast - either feed in 7 day historal data for the attempted prediction of 'energy_sum' - or use the half hourly data - which we will do in notebook 4_6_c\n"
   ]
  },
  {
   "cell_type": "code",
   "execution_count": null,
   "metadata": {},
   "outputs": [],
   "source": []
  }
 ],
 "metadata": {
  "anaconda-cloud": {},
  "kernelspec": {
   "display_name": "Python 3",
   "language": "python",
   "name": "python3"
  },
  "language_info": {
   "codemirror_mode": {
    "name": "ipython",
    "version": 3
   },
   "file_extension": ".py",
   "mimetype": "text/x-python",
   "name": "python",
   "nbconvert_exporter": "python",
   "pygments_lexer": "ipython3",
   "version": "3.6.5"
  },
  "toc": {
   "colors": {
    "hover_highlight": "#DAA520",
    "navigate_num": "#000000",
    "navigate_text": "#333333",
    "running_highlight": "#FF0000",
    "selected_highlight": "#FFD700",
    "sidebar_border": "#EEEEEE",
    "wrapper_background": "#FFFFFF"
   },
   "moveMenuLeft": true,
   "nav_menu": {
    "height": "173px",
    "width": "251px"
   },
   "navigate_menu": true,
   "number_sections": true,
   "sideBar": true,
   "threshold": 4,
   "toc_cell": false,
   "toc_section_display": "block",
   "toc_window_display": false,
   "widenNotebook": false
  },
  "varInspector": {
   "cols": {
    "lenName": 16,
    "lenType": 16,
    "lenVar": 40
   },
   "kernels_config": {
    "python": {
     "delete_cmd_postfix": "",
     "delete_cmd_prefix": "del ",
     "library": "var_list.py",
     "varRefreshCmd": "print(var_dic_list())"
    },
    "r": {
     "delete_cmd_postfix": ") ",
     "delete_cmd_prefix": "rm(",
     "library": "var_list.r",
     "varRefreshCmd": "cat(var_dic_list()) "
    }
   },
   "types_to_exclude": [
    "module",
    "function",
    "builtin_function_or_method",
    "instance",
    "_Feature"
   ],
   "window_display": false
  }
 },
 "nbformat": 4,
 "nbformat_minor": 2
}
