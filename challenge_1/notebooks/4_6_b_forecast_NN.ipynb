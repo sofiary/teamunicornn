{
 "cells": [
  {
   "cell_type": "markdown",
   "metadata": {},
   "source": [
    "# Structured and time series data "
   ]
  },
  {
   "cell_type": "markdown",
   "metadata": {},
   "source": [
    "Based on the methodology taken by the third place result in the Rossman Kaggle competition as detailed in Guo/Berkhahn's [Entity Embeddings of Categorical Variables](https://arxiv.org/abs/1604.06737). See fastai rossman.ipynb\n",
    "\n",
    "The motivation behind exploring this architecture is it's relevance to real-world application. Most data used for decision making day-to-day in industry is structured and/or time-series data. Here we explore the end-to-end process of using neural networks with practical structured data problems.\n",
    "\n",
    "Here we will use a Root Mean Square Error loss function to be consistent with other forecasting models used for this project\n",
    "\n",
    "NB this notebook was divided into two parts\n",
    "\n",
    "In this part we create and train a Neural Network\n"
   ]
  },
  {
   "cell_type": "code",
   "execution_count": 90,
   "metadata": {},
   "outputs": [],
   "source": [
    "%matplotlib inline\n",
    "%reload_ext autoreload\n",
    "%autoreload 2"
   ]
  },
  {
   "cell_type": "code",
   "execution_count": 91,
   "metadata": {},
   "outputs": [],
   "source": [
    "from fastai.structured import *\n",
    "from fastai.column_data import *\n",
    "import feather as ftr\n"
   ]
  },
  {
   "cell_type": "code",
   "execution_count": 92,
   "metadata": {},
   "outputs": [],
   "source": [
    "pd.set_option('display.max_columns', None)\n",
    "pd.options.mode.chained_assignment = None  # default='warn'"
   ]
  },
  {
   "cell_type": "code",
   "execution_count": 93,
   "metadata": {},
   "outputs": [],
   "source": [
    "PATH='../input/merged_data/'"
   ]
  },
  {
   "cell_type": "code",
   "execution_count": 94,
   "metadata": {
    "hidden": true
   },
   "outputs": [],
   "source": [
    "from IPython.display import HTML, display"
   ]
  },
  {
   "cell_type": "markdown",
   "metadata": {},
   "source": [
    "### Read in pre proc data\n",
    "\n",
    "Pre-processed data generated in part a"
   ]
  },
  {
   "cell_type": "code",
   "execution_count": null,
   "metadata": {},
   "outputs": [],
   "source": [
    "DATDATAA_NAME = "
   ]
  },
  {
   "cell_type": "code",
   "execution_count": 95,
   "metadata": {},
   "outputs": [],
   "source": [
    "df = ftr.read_dataframe(f'{PATH}df_daily_cat_no_dates.feather')"
   ]
  },
  {
   "cell_type": "code",
   "execution_count": 96,
   "metadata": {},
   "outputs": [],
   "source": [
    "#df.dtypes"
   ]
  },
  {
   "cell_type": "markdown",
   "metadata": {},
   "source": [
    "We now have our final set of engineered features.\n",
    "\n",
    "While these steps were explicitly outlined in the paper, these are all fairly typical feature engineering steps for dealing with time series data and are practical in any similar setting."
   ]
  },
  {
   "cell_type": "markdown",
   "metadata": {
    "heading_collapsed": true
   },
   "source": [
    "## Create features"
   ]
  },
  {
   "cell_type": "code",
   "execution_count": 97,
   "metadata": {
    "hidden": true
   },
   "outputs": [],
   "source": [
    "#joined = pd.read_feather(f'{PATH}joined')\n",
    "#joined_test = pd.read_feather(f'{PATH}joined_test')"
   ]
  },
  {
   "cell_type": "code",
   "execution_count": 98,
   "metadata": {
    "hidden": true,
    "scrolled": true
   },
   "outputs": [],
   "source": [
    "#df.head().T.head(40)"
   ]
  },
  {
   "cell_type": "markdown",
   "metadata": {
    "hidden": true
   },
   "source": [
    "Now that we've engineered all our features, we need to convert to input compatible with a neural network.\n",
    "\n",
    "This includes converting categorical variables into contiguous integers or one-hot encodings, normalizing continuous features to standard normal, etc..."
   ]
  },
  {
   "cell_type": "markdown",
   "metadata": {},
   "source": [
    "### T/T split"
   ]
  },
  {
   "cell_type": "code",
   "execution_count": 99,
   "metadata": {},
   "outputs": [
    {
     "data": {
      "text/plain": [
       "Timestamp('2011-11-24 00:00:00')"
      ]
     },
     "execution_count": 99,
     "metadata": {},
     "output_type": "execute_result"
    }
   ],
   "source": [
    "df['day'].min()"
   ]
  },
  {
   "cell_type": "code",
   "execution_count": 100,
   "metadata": {},
   "outputs": [
    {
     "data": {
      "text/plain": [
       "Timestamp('2014-02-27 00:00:00')"
      ]
     },
     "execution_count": 100,
     "metadata": {},
     "output_type": "execute_result"
    }
   ],
   "source": [
    "df['day'].max()"
   ]
  },
  {
   "cell_type": "markdown",
   "metadata": {},
   "source": [
    "One issue with this dataset is that the household meter measurements dont all start and end on the same date\n",
    "\n",
    "Here we will use the period starting from 1/Feb/2014 as the test datset. Households which end memter measurements before the start of 1/Feb/2014 will be removed.\n",
    "\n",
    "We will then use the period 1/Jan/2014 to 1/Feb/2014 as a validation dataset"
   ]
  },
  {
   "cell_type": "code",
   "execution_count": 101,
   "metadata": {},
   "outputs": [],
   "source": [
    "split_date = pd.datetime(2014,2,1)\n",
    "\n",
    "joined_train = df.loc[df['day'] <= split_date]\n",
    "joined_test = df.loc[df['day'] > split_date]"
   ]
  },
  {
   "cell_type": "code",
   "execution_count": 102,
   "metadata": {},
   "outputs": [
    {
     "data": {
      "text/plain": [
       "(3469352, 3339707, 129645)"
      ]
     },
     "execution_count": 102,
     "metadata": {},
     "output_type": "execute_result"
    }
   ],
   "source": [
    "len(df), len(joined_train), len(joined_test)"
   ]
  },
  {
   "cell_type": "code",
   "execution_count": 103,
   "metadata": {},
   "outputs": [],
   "source": [
    "#df_train.head(n=2)"
   ]
  },
  {
   "cell_type": "code",
   "execution_count": 104,
   "metadata": {
    "ExecuteTime": {
     "end_time": "2018-10-20T14:35:28.686412Z",
     "start_time": "2018-10-20T14:35:28.676567Z"
    },
    "hidden": true
   },
   "outputs": [
    {
     "data": {
      "text/plain": [
       "3339707"
      ]
     },
     "execution_count": 104,
     "metadata": {},
     "output_type": "execute_result"
    }
   ],
   "source": [
    "cat_vars = ['dayWeek', 'dayYear', 'dayMonth', 'dayDay', 'dayDayofyear', 'stdorToU', 'Acorn', 'Acorn_grouped',\n",
    "            'icon', 'precipType', 'summary']\n",
    "\n",
    "contin_vars = ['energy_median','energy_mean','energy_max','energy_count',\n",
    "               'energy_std','energy_sum','energy_min','temperatureMax',\n",
    "               'windBearing','dewPoint','cloudCover','windSpeed','pressure',\n",
    "               'apparentTemperatureHigh','visibility','humidity','apparentTemperatureLow',\n",
    "               'apparentTemperatureMax','uvIndex','temperatureLow','temperatureMin',\n",
    "               'temperatureHigh','apparentTemperatureMin','moonPhase','dayElapsed','daylightMins']\n",
    "\n",
    "len(joined_train)"
   ]
  },
  {
   "cell_type": "markdown",
   "metadata": {},
   "source": [
    "Convert MAC codes to integer "
   ]
  },
  {
   "cell_type": "code",
   "execution_count": 105,
   "metadata": {},
   "outputs": [],
   "source": [
    "joined_train['LCLid'] = joined_train['LCLid'].map(lambda x: str(x)[3:]).astype('int32')\n",
    "joined_test['LCLid'] = joined_test['LCLid'].map(lambda x: str(x)[3:]).astype('int32')"
   ]
  },
  {
   "cell_type": "code",
   "execution_count": 106,
   "metadata": {
    "hidden": true
   },
   "outputs": [
    {
     "name": "stdout",
     "output_type": "stream",
     "text": [
      "post vals train dep: <class 'pandas.core.series.Series'>\n"
     ]
    }
   ],
   "source": [
    "energy_sum = joined_train['energy_sum'].values\n",
    "dep = 'energy_sum'\n",
    "#here 'energy_sum' becomes a df not a series - I use workaround below for\n",
    "joined_train = joined_train[cat_vars+contin_vars+[dep, 'day']].copy()\n",
    "joined_train.drop(columns=[dep],inplace=True)\n",
    "joined_train[dep]=energy_sum\n",
    "print(f\"post vals train dep: {type(joined_train[dep])}\")"
   ]
  },
  {
   "cell_type": "code",
   "execution_count": 107,
   "metadata": {
    "hidden": true
   },
   "outputs": [
    {
     "name": "stdout",
     "output_type": "stream",
     "text": [
      "post vals test dep: <class 'pandas.core.series.Series'>\n"
     ]
    }
   ],
   "source": [
    "#same for test\n",
    "joined_test = joined_test[cat_vars+contin_vars+[dep, 'day','LCLid']].copy()\n",
    "joined_test.drop(columns=[dep],inplace=True)\n",
    "joined_test[dep] = 0\n",
    "print(f\"post vals test dep: {type(joined_test[dep])}\")"
   ]
  },
  {
   "cell_type": "code",
   "execution_count": 108,
   "metadata": {},
   "outputs": [
    {
     "data": {
      "text/html": [
       "<div>\n",
       "<style scoped>\n",
       "    .dataframe tbody tr th:only-of-type {\n",
       "        vertical-align: middle;\n",
       "    }\n",
       "\n",
       "    .dataframe tbody tr th {\n",
       "        vertical-align: top;\n",
       "    }\n",
       "\n",
       "    .dataframe thead th {\n",
       "        text-align: right;\n",
       "    }\n",
       "</style>\n",
       "<table border=\"1\" class=\"dataframe\">\n",
       "  <thead>\n",
       "    <tr style=\"text-align: right;\">\n",
       "      <th></th>\n",
       "      <th>dayWeek</th>\n",
       "      <th>dayYear</th>\n",
       "      <th>dayMonth</th>\n",
       "      <th>dayDay</th>\n",
       "      <th>dayDayofyear</th>\n",
       "      <th>stdorToU</th>\n",
       "      <th>Acorn</th>\n",
       "      <th>Acorn_grouped</th>\n",
       "      <th>icon</th>\n",
       "      <th>precipType</th>\n",
       "      <th>summary</th>\n",
       "      <th>energy_median</th>\n",
       "      <th>energy_mean</th>\n",
       "      <th>energy_max</th>\n",
       "      <th>energy_count</th>\n",
       "      <th>energy_std</th>\n",
       "      <th>energy_min</th>\n",
       "      <th>temperatureMax</th>\n",
       "      <th>windBearing</th>\n",
       "      <th>dewPoint</th>\n",
       "      <th>cloudCover</th>\n",
       "      <th>windSpeed</th>\n",
       "      <th>pressure</th>\n",
       "      <th>apparentTemperatureHigh</th>\n",
       "      <th>visibility</th>\n",
       "      <th>humidity</th>\n",
       "      <th>apparentTemperatureLow</th>\n",
       "      <th>apparentTemperatureMax</th>\n",
       "      <th>uvIndex</th>\n",
       "      <th>temperatureLow</th>\n",
       "      <th>temperatureMin</th>\n",
       "      <th>temperatureHigh</th>\n",
       "      <th>apparentTemperatureMin</th>\n",
       "      <th>moonPhase</th>\n",
       "      <th>dayElapsed</th>\n",
       "      <th>daylightMins</th>\n",
       "      <th>energy_sum</th>\n",
       "    </tr>\n",
       "    <tr>\n",
       "      <th>day</th>\n",
       "      <th></th>\n",
       "      <th></th>\n",
       "      <th></th>\n",
       "      <th></th>\n",
       "      <th></th>\n",
       "      <th></th>\n",
       "      <th></th>\n",
       "      <th></th>\n",
       "      <th></th>\n",
       "      <th></th>\n",
       "      <th></th>\n",
       "      <th></th>\n",
       "      <th></th>\n",
       "      <th></th>\n",
       "      <th></th>\n",
       "      <th></th>\n",
       "      <th></th>\n",
       "      <th></th>\n",
       "      <th></th>\n",
       "      <th></th>\n",
       "      <th></th>\n",
       "      <th></th>\n",
       "      <th></th>\n",
       "      <th></th>\n",
       "      <th></th>\n",
       "      <th></th>\n",
       "      <th></th>\n",
       "      <th></th>\n",
       "      <th></th>\n",
       "      <th></th>\n",
       "      <th></th>\n",
       "      <th></th>\n",
       "      <th></th>\n",
       "      <th></th>\n",
       "      <th></th>\n",
       "      <th></th>\n",
       "      <th></th>\n",
       "    </tr>\n",
       "  </thead>\n",
       "  <tbody>\n",
       "    <tr>\n",
       "      <th>2014-02-27</th>\n",
       "      <td>9</td>\n",
       "      <td>4</td>\n",
       "      <td>2</td>\n",
       "      <td>27</td>\n",
       "      <td>58</td>\n",
       "      <td>1</td>\n",
       "      <td>2</td>\n",
       "      <td>4</td>\n",
       "      <td>4</td>\n",
       "      <td>1</td>\n",
       "      <td>81</td>\n",
       "      <td>0.355033</td>\n",
       "      <td>1.141710</td>\n",
       "      <td>0.774074</td>\n",
       "      <td>0.0</td>\n",
       "      <td>1.538902</td>\n",
       "      <td>0.246861</td>\n",
       "      <td>-0.603495</td>\n",
       "      <td>0.326482</td>\n",
       "      <td>-0.788821</td>\n",
       "      <td>-0.835758</td>\n",
       "      <td>0.374252</td>\n",
       "      <td>-0.637253</td>\n",
       "      <td>-0.394226</td>\n",
       "      <td>0.326835</td>\n",
       "      <td>-0.406223</td>\n",
       "      <td>-0.948208</td>\n",
       "      <td>-0.432674</td>\n",
       "      <td>-0.381864</td>\n",
       "      <td>-0.947106</td>\n",
       "      <td>-0.788642</td>\n",
       "      <td>-0.576037</td>\n",
       "      <td>-0.799583</td>\n",
       "      <td>1.48126</td>\n",
       "      <td>1.849755</td>\n",
       "      <td>-0.441059</td>\n",
       "      <td>20.793495</td>\n",
       "    </tr>\n",
       "    <tr>\n",
       "      <th>2014-02-26</th>\n",
       "      <td>9</td>\n",
       "      <td>4</td>\n",
       "      <td>2</td>\n",
       "      <td>26</td>\n",
       "      <td>57</td>\n",
       "      <td>1</td>\n",
       "      <td>2</td>\n",
       "      <td>4</td>\n",
       "      <td>4</td>\n",
       "      <td>1</td>\n",
       "      <td>71</td>\n",
       "      <td>-0.038792</td>\n",
       "      <td>0.241915</td>\n",
       "      <td>0.291049</td>\n",
       "      <td>0.0</td>\n",
       "      <td>0.158426</td>\n",
       "      <td>0.199564</td>\n",
       "      <td>-0.455166</td>\n",
       "      <td>0.359612</td>\n",
       "      <td>-0.856111</td>\n",
       "      <td>-1.147553</td>\n",
       "      <td>0.180086</td>\n",
       "      <td>-0.078074</td>\n",
       "      <td>-0.267837</td>\n",
       "      <td>0.733514</td>\n",
       "      <td>-0.507878</td>\n",
       "      <td>-0.599128</td>\n",
       "      <td>-0.303059</td>\n",
       "      <td>-0.381864</td>\n",
       "      <td>-0.441822</td>\n",
       "      <td>-0.741966</td>\n",
       "      <td>-0.429776</td>\n",
       "      <td>-0.758705</td>\n",
       "      <td>1.37717</td>\n",
       "      <td>1.844445</td>\n",
       "      <td>-0.462611</td>\n",
       "      <td>12.494639</td>\n",
       "    </tr>\n",
       "  </tbody>\n",
       "</table>\n",
       "</div>"
      ],
      "text/plain": [
       "            dayWeek  dayYear  dayMonth  dayDay  dayDayofyear  stdorToU  Acorn  \\\n",
       "day                                                                             \n",
       "2014-02-27        9        4         2      27            58         1      2   \n",
       "2014-02-26        9        4         2      26            57         1      2   \n",
       "\n",
       "            Acorn_grouped  icon  precipType  summary  energy_median  \\\n",
       "day                                                                   \n",
       "2014-02-27              4     4           1       81       0.355033   \n",
       "2014-02-26              4     4           1       71      -0.038792   \n",
       "\n",
       "            energy_mean  energy_max  energy_count  energy_std  energy_min  \\\n",
       "day                                                                         \n",
       "2014-02-27     1.141710    0.774074           0.0    1.538902    0.246861   \n",
       "2014-02-26     0.241915    0.291049           0.0    0.158426    0.199564   \n",
       "\n",
       "            temperatureMax  windBearing  dewPoint  cloudCover  windSpeed  \\\n",
       "day                                                                        \n",
       "2014-02-27       -0.603495     0.326482 -0.788821   -0.835758   0.374252   \n",
       "2014-02-26       -0.455166     0.359612 -0.856111   -1.147553   0.180086   \n",
       "\n",
       "            pressure  apparentTemperatureHigh  visibility  humidity  \\\n",
       "day                                                                   \n",
       "2014-02-27 -0.637253                -0.394226    0.326835 -0.406223   \n",
       "2014-02-26 -0.078074                -0.267837    0.733514 -0.507878   \n",
       "\n",
       "            apparentTemperatureLow  apparentTemperatureMax   uvIndex  \\\n",
       "day                                                                    \n",
       "2014-02-27               -0.948208               -0.432674 -0.381864   \n",
       "2014-02-26               -0.599128               -0.303059 -0.381864   \n",
       "\n",
       "            temperatureLow  temperatureMin  temperatureHigh  \\\n",
       "day                                                           \n",
       "2014-02-27       -0.947106       -0.788642        -0.576037   \n",
       "2014-02-26       -0.441822       -0.741966        -0.429776   \n",
       "\n",
       "            apparentTemperatureMin  moonPhase  dayElapsed  daylightMins  \\\n",
       "day                                                                       \n",
       "2014-02-27               -0.799583    1.48126    1.849755     -0.441059   \n",
       "2014-02-26               -0.758705    1.37717    1.844445     -0.462611   \n",
       "\n",
       "            energy_sum  \n",
       "day                     \n",
       "2014-02-27   20.793495  \n",
       "2014-02-26   12.494639  "
      ]
     },
     "execution_count": 108,
     "metadata": {},
     "output_type": "execute_result"
    }
   ],
   "source": [
    "df_test.head(n=2)"
   ]
  },
  {
   "cell_type": "code",
   "execution_count": 109,
   "metadata": {
    "hidden": true
   },
   "outputs": [
    {
     "name": "stdout",
     "output_type": "stream",
     "text": [
      "dayWeek\n",
      "dayYear\n",
      "dayMonth\n",
      "dayDay\n",
      "dayDayofyear\n",
      "stdorToU\n",
      "Acorn\n",
      "Acorn_grouped\n",
      "icon\n",
      "precipType\n",
      "summary\n"
     ]
    }
   ],
   "source": [
    "#for v in cat_vars: df_train[v] = df_train[v].astype('category').cat.as_ordered()\n",
    "for v in cat_vars: \n",
    "    print(v)\n",
    "    joined_train[v] = joined_train[v].astype('category').cat.as_ordered()"
   ]
  },
  {
   "cell_type": "code",
   "execution_count": 110,
   "metadata": {},
   "outputs": [
    {
     "data": {
      "text/html": [
       "<div>\n",
       "<style scoped>\n",
       "    .dataframe tbody tr th:only-of-type {\n",
       "        vertical-align: middle;\n",
       "    }\n",
       "\n",
       "    .dataframe tbody tr th {\n",
       "        vertical-align: top;\n",
       "    }\n",
       "\n",
       "    .dataframe thead th {\n",
       "        text-align: right;\n",
       "    }\n",
       "</style>\n",
       "<table border=\"1\" class=\"dataframe\">\n",
       "  <thead>\n",
       "    <tr style=\"text-align: right;\">\n",
       "      <th></th>\n",
       "      <th>dayWeek</th>\n",
       "      <th>dayYear</th>\n",
       "      <th>dayMonth</th>\n",
       "      <th>dayDay</th>\n",
       "      <th>dayDayofyear</th>\n",
       "      <th>stdorToU</th>\n",
       "      <th>Acorn</th>\n",
       "      <th>Acorn_grouped</th>\n",
       "      <th>icon</th>\n",
       "      <th>precipType</th>\n",
       "      <th>summary</th>\n",
       "      <th>energy_median</th>\n",
       "      <th>energy_mean</th>\n",
       "      <th>energy_max</th>\n",
       "      <th>energy_count</th>\n",
       "      <th>energy_std</th>\n",
       "      <th>energy_min</th>\n",
       "      <th>temperatureMax</th>\n",
       "      <th>windBearing</th>\n",
       "      <th>dewPoint</th>\n",
       "      <th>cloudCover</th>\n",
       "      <th>windSpeed</th>\n",
       "      <th>pressure</th>\n",
       "      <th>apparentTemperatureHigh</th>\n",
       "      <th>visibility</th>\n",
       "      <th>humidity</th>\n",
       "      <th>apparentTemperatureLow</th>\n",
       "      <th>apparentTemperatureMax</th>\n",
       "      <th>uvIndex</th>\n",
       "      <th>temperatureLow</th>\n",
       "      <th>temperatureMin</th>\n",
       "      <th>temperatureHigh</th>\n",
       "      <th>apparentTemperatureMin</th>\n",
       "      <th>moonPhase</th>\n",
       "      <th>dayElapsed</th>\n",
       "      <th>daylightMins</th>\n",
       "      <th>day</th>\n",
       "      <th>energy_sum</th>\n",
       "    </tr>\n",
       "  </thead>\n",
       "  <tbody>\n",
       "    <tr>\n",
       "      <th>26</th>\n",
       "      <td>5</td>\n",
       "      <td>2014</td>\n",
       "      <td>2</td>\n",
       "      <td>1</td>\n",
       "      <td>32</td>\n",
       "      <td>Std</td>\n",
       "      <td>ACORN-A</td>\n",
       "      <td>Affluent</td>\n",
       "      <td>wind</td>\n",
       "      <td>rain</td>\n",
       "      <td>Partly cloudy until evening and breezy overnight.</td>\n",
       "      <td>0.13</td>\n",
       "      <td>0.238021</td>\n",
       "      <td>0.799</td>\n",
       "      <td>48</td>\n",
       "      <td>0.195760</td>\n",
       "      <td>0.076</td>\n",
       "      <td>9.72</td>\n",
       "      <td>217</td>\n",
       "      <td>3.18</td>\n",
       "      <td>0.19</td>\n",
       "      <td>6.97</td>\n",
       "      <td>990.08</td>\n",
       "      <td>4.27</td>\n",
       "      <td>11.60</td>\n",
       "      <td>0.76</td>\n",
       "      <td>2.81</td>\n",
       "      <td>6.86</td>\n",
       "      <td>1.0</td>\n",
       "      <td>6.24</td>\n",
       "      <td>4.83</td>\n",
       "      <td>8.32</td>\n",
       "      <td>1.10</td>\n",
       "      <td>0.06</td>\n",
       "      <td>1391212800</td>\n",
       "      <td>549.0</td>\n",
       "      <td>2014-02-01</td>\n",
       "      <td>11.425</td>\n",
       "    </tr>\n",
       "    <tr>\n",
       "      <th>27</th>\n",
       "      <td>5</td>\n",
       "      <td>2014</td>\n",
       "      <td>1</td>\n",
       "      <td>31</td>\n",
       "      <td>31</td>\n",
       "      <td>Std</td>\n",
       "      <td>ACORN-A</td>\n",
       "      <td>Affluent</td>\n",
       "      <td>wind</td>\n",
       "      <td>rain</td>\n",
       "      <td>Overcast throughout the day and breezy startin...</td>\n",
       "      <td>0.39</td>\n",
       "      <td>0.449458</td>\n",
       "      <td>1.627</td>\n",
       "      <td>48</td>\n",
       "      <td>0.443706</td>\n",
       "      <td>0.075</td>\n",
       "      <td>8.83</td>\n",
       "      <td>177</td>\n",
       "      <td>3.93</td>\n",
       "      <td>0.73</td>\n",
       "      <td>4.74</td>\n",
       "      <td>998.51</td>\n",
       "      <td>3.13</td>\n",
       "      <td>7.08</td>\n",
       "      <td>0.91</td>\n",
       "      <td>1.10</td>\n",
       "      <td>5.27</td>\n",
       "      <td>1.0</td>\n",
       "      <td>4.83</td>\n",
       "      <td>1.97</td>\n",
       "      <td>7.08</td>\n",
       "      <td>0.29</td>\n",
       "      <td>0.03</td>\n",
       "      <td>1391126400</td>\n",
       "      <td>546.0</td>\n",
       "      <td>2014-01-31</td>\n",
       "      <td>21.574</td>\n",
       "    </tr>\n",
       "  </tbody>\n",
       "</table>\n",
       "</div>"
      ],
      "text/plain": [
       "   dayWeek dayYear dayMonth dayDay dayDayofyear stdorToU    Acorn  \\\n",
       "26       5    2014        2      1           32      Std  ACORN-A   \n",
       "27       5    2014        1     31           31      Std  ACORN-A   \n",
       "\n",
       "   Acorn_grouped  icon precipType  \\\n",
       "26      Affluent  wind       rain   \n",
       "27      Affluent  wind       rain   \n",
       "\n",
       "                                              summary  energy_median  \\\n",
       "26  Partly cloudy until evening and breezy overnight.           0.13   \n",
       "27  Overcast throughout the day and breezy startin...           0.39   \n",
       "\n",
       "    energy_mean  energy_max  energy_count  energy_std  energy_min  \\\n",
       "26     0.238021       0.799            48    0.195760       0.076   \n",
       "27     0.449458       1.627            48    0.443706       0.075   \n",
       "\n",
       "    temperatureMax  windBearing  dewPoint  cloudCover  windSpeed  pressure  \\\n",
       "26            9.72          217      3.18        0.19       6.97    990.08   \n",
       "27            8.83          177      3.93        0.73       4.74    998.51   \n",
       "\n",
       "    apparentTemperatureHigh  visibility  humidity  apparentTemperatureLow  \\\n",
       "26                     4.27       11.60      0.76                    2.81   \n",
       "27                     3.13        7.08      0.91                    1.10   \n",
       "\n",
       "    apparentTemperatureMax  uvIndex  temperatureLow  temperatureMin  \\\n",
       "26                    6.86      1.0            6.24            4.83   \n",
       "27                    5.27      1.0            4.83            1.97   \n",
       "\n",
       "    temperatureHigh  apparentTemperatureMin  moonPhase  dayElapsed  \\\n",
       "26             8.32                    1.10       0.06  1391212800   \n",
       "27             7.08                    0.29       0.03  1391126400   \n",
       "\n",
       "    daylightMins        day  energy_sum  \n",
       "26         549.0 2014-02-01      11.425  \n",
       "27         546.0 2014-01-31      21.574  "
      ]
     },
     "execution_count": 110,
     "metadata": {},
     "output_type": "execute_result"
    }
   ],
   "source": [
    "joined_train.head(n=2)"
   ]
  },
  {
   "cell_type": "code",
   "execution_count": 111,
   "metadata": {},
   "outputs": [],
   "source": [
    "#alternatively we could just add df_test to the category re-declaration loop above\n",
    "apply_cats(joined_test, joined_train)"
   ]
  },
  {
   "cell_type": "code",
   "execution_count": 112,
   "metadata": {
    "hidden": true
   },
   "outputs": [],
   "source": [
    "for v in contin_vars:\n",
    "    joined_train[v] = joined_train[v].fillna(0).astype('float32')\n",
    "    joined_test[v] = joined_test[v].fillna(0).astype('float32')"
   ]
  },
  {
   "cell_type": "markdown",
   "metadata": {
    "hidden": true
   },
   "source": [
    "We're going to run on a sample."
   ]
  },
  {
   "cell_type": "code",
   "execution_count": 113,
   "metadata": {
    "hidden": true
   },
   "outputs": [],
   "source": [
    "#idxs = get_cv_idxs(n, val_pct=150000/n)\n",
    "#df_samp = df_train.iloc[idxs].set_index(\"day\")\n",
    "#samp_size = len(df_samp); samp_size"
   ]
  },
  {
   "cell_type": "markdown",
   "metadata": {
    "hidden": true
   },
   "source": [
    "To run on the full dataset, use this instead:"
   ]
  },
  {
   "cell_type": "code",
   "execution_count": 114,
   "metadata": {
    "ExecuteTime": {
     "end_time": "2018-10-20T14:35:13.450024Z",
     "start_time": "2018-10-20T14:35:13.414478Z"
    },
    "hidden": true
   },
   "outputs": [],
   "source": [
    "#use this to create mapper - note we use the train df\n",
    "samp_size = len(joined_train)\n",
    "joined_samp = joined_train.set_index(\"day\")"
   ]
  },
  {
   "cell_type": "markdown",
   "metadata": {
    "hidden": true
   },
   "source": [
    "We can now process our data..."
   ]
  },
  {
   "cell_type": "code",
   "execution_count": 115,
   "metadata": {},
   "outputs": [],
   "source": [
    "#keep track of the mapper (44:15)\n",
    "#can set ignore_flds"
   ]
  },
  {
   "cell_type": "code",
   "execution_count": 116,
   "metadata": {
    "collapsed": true,
    "hidden": true
   },
   "outputs": [
    {
     "name": "stdout",
     "output_type": "stream",
     "text": [
      "ignore_flds: None\n",
      "skip_flds: None\n",
      "first n y for df_samp: [11.425 21.574 14.166 20.304 13.921 22.629 24.04  14.039 14.54  12.585]\n"
     ]
    }
   ],
   "source": [
    "df, y, nas, mapper = proc_df(joined_samp, 'energy_sum', do_scale=True)\n",
    "print(f'first n y for df_samp: {y[:10]}')"
   ]
  },
  {
   "cell_type": "code",
   "execution_count": 117,
   "metadata": {},
   "outputs": [
    {
     "data": {
      "text/html": [
       "<div>\n",
       "<style scoped>\n",
       "    .dataframe tbody tr th:only-of-type {\n",
       "        vertical-align: middle;\n",
       "    }\n",
       "\n",
       "    .dataframe tbody tr th {\n",
       "        vertical-align: top;\n",
       "    }\n",
       "\n",
       "    .dataframe thead th {\n",
       "        text-align: right;\n",
       "    }\n",
       "</style>\n",
       "<table border=\"1\" class=\"dataframe\">\n",
       "  <thead>\n",
       "    <tr style=\"text-align: right;\">\n",
       "      <th></th>\n",
       "      <th>dayWeek</th>\n",
       "      <th>dayYear</th>\n",
       "      <th>dayMonth</th>\n",
       "      <th>dayDay</th>\n",
       "      <th>dayDayofyear</th>\n",
       "      <th>stdorToU</th>\n",
       "      <th>Acorn</th>\n",
       "      <th>Acorn_grouped</th>\n",
       "      <th>icon</th>\n",
       "      <th>precipType</th>\n",
       "      <th>summary</th>\n",
       "      <th>energy_median</th>\n",
       "      <th>energy_mean</th>\n",
       "      <th>energy_max</th>\n",
       "      <th>energy_count</th>\n",
       "      <th>energy_std</th>\n",
       "      <th>energy_min</th>\n",
       "      <th>temperatureMax</th>\n",
       "      <th>windBearing</th>\n",
       "      <th>dewPoint</th>\n",
       "      <th>cloudCover</th>\n",
       "      <th>windSpeed</th>\n",
       "      <th>pressure</th>\n",
       "      <th>apparentTemperatureHigh</th>\n",
       "      <th>visibility</th>\n",
       "      <th>humidity</th>\n",
       "      <th>apparentTemperatureLow</th>\n",
       "      <th>apparentTemperatureMax</th>\n",
       "      <th>uvIndex</th>\n",
       "      <th>temperatureLow</th>\n",
       "      <th>temperatureMin</th>\n",
       "      <th>temperatureHigh</th>\n",
       "      <th>apparentTemperatureMin</th>\n",
       "      <th>moonPhase</th>\n",
       "      <th>dayElapsed</th>\n",
       "      <th>daylightMins</th>\n",
       "    </tr>\n",
       "    <tr>\n",
       "      <th>day</th>\n",
       "      <th></th>\n",
       "      <th></th>\n",
       "      <th></th>\n",
       "      <th></th>\n",
       "      <th></th>\n",
       "      <th></th>\n",
       "      <th></th>\n",
       "      <th></th>\n",
       "      <th></th>\n",
       "      <th></th>\n",
       "      <th></th>\n",
       "      <th></th>\n",
       "      <th></th>\n",
       "      <th></th>\n",
       "      <th></th>\n",
       "      <th></th>\n",
       "      <th></th>\n",
       "      <th></th>\n",
       "      <th></th>\n",
       "      <th></th>\n",
       "      <th></th>\n",
       "      <th></th>\n",
       "      <th></th>\n",
       "      <th></th>\n",
       "      <th></th>\n",
       "      <th></th>\n",
       "      <th></th>\n",
       "      <th></th>\n",
       "      <th></th>\n",
       "      <th></th>\n",
       "      <th></th>\n",
       "      <th></th>\n",
       "      <th></th>\n",
       "      <th></th>\n",
       "      <th></th>\n",
       "      <th></th>\n",
       "    </tr>\n",
       "  </thead>\n",
       "  <tbody>\n",
       "    <tr>\n",
       "      <th>2014-02-01</th>\n",
       "      <td>5</td>\n",
       "      <td>4</td>\n",
       "      <td>2</td>\n",
       "      <td>1</td>\n",
       "      <td>32</td>\n",
       "      <td>1</td>\n",
       "      <td>2</td>\n",
       "      <td>4</td>\n",
       "      <td>6</td>\n",
       "      <td>1</td>\n",
       "      <td>77</td>\n",
       "      <td>-0.166119</td>\n",
       "      <td>0.142706</td>\n",
       "      <td>-0.052468</td>\n",
       "      <td>0.0</td>\n",
       "      <td>0.156232</td>\n",
       "      <td>0.199564</td>\n",
       "      <td>-0.692796</td>\n",
       "      <td>0.249180</td>\n",
       "      <td>-0.769030</td>\n",
       "      <td>-1.511314</td>\n",
       "      <td>2.091405</td>\n",
       "      <td>-2.296195</td>\n",
       "      <td>-1.173198</td>\n",
       "      <td>0.140441</td>\n",
       "      <td>-0.202914</td>\n",
       "      <td>-0.633878</td>\n",
       "      <td>-0.888970</td>\n",
       "      <td>-0.907385</td>\n",
       "      <td>-0.396777</td>\n",
       "      <td>-0.613610</td>\n",
       "      <td>-0.873035</td>\n",
       "      <td>-0.848323</td>\n",
       "      <td>-1.537353</td>\n",
       "      <td>1.711714</td>\n",
       "      <td>-0.958303</td>\n",
       "    </tr>\n",
       "    <tr>\n",
       "      <th>2014-01-31</th>\n",
       "      <td>5</td>\n",
       "      <td>4</td>\n",
       "      <td>1</td>\n",
       "      <td>31</td>\n",
       "      <td>31</td>\n",
       "      <td>1</td>\n",
       "      <td>2</td>\n",
       "      <td>4</td>\n",
       "      <td>6</td>\n",
       "      <td>1</td>\n",
       "      <td>56</td>\n",
       "      <td>1.373648</td>\n",
       "      <td>1.257727</td>\n",
       "      <td>1.189595</td>\n",
       "      <td>0.0</td>\n",
       "      <td>1.781616</td>\n",
       "      <td>0.187740</td>\n",
       "      <td>-0.827503</td>\n",
       "      <td>-0.192546</td>\n",
       "      <td>-0.620598</td>\n",
       "      <td>1.294841</td>\n",
       "      <td>0.738313</td>\n",
       "      <td>-1.470642</td>\n",
       "      <td>-1.320222</td>\n",
       "      <td>-1.774337</td>\n",
       "      <td>1.321910</td>\n",
       "      <td>-0.903980</td>\n",
       "      <td>-1.099264</td>\n",
       "      <td>-0.907385</td>\n",
       "      <td>-0.672921</td>\n",
       "      <td>-1.169821</td>\n",
       "      <td>-1.058100</td>\n",
       "      <td>-0.975675</td>\n",
       "      <td>-1.641443</td>\n",
       "      <td>1.706405</td>\n",
       "      <td>-0.974467</td>\n",
       "    </tr>\n",
       "  </tbody>\n",
       "</table>\n",
       "</div>"
      ],
      "text/plain": [
       "            dayWeek  dayYear  dayMonth  dayDay  dayDayofyear  stdorToU  Acorn  \\\n",
       "day                                                                             \n",
       "2014-02-01        5        4         2       1            32         1      2   \n",
       "2014-01-31        5        4         1      31            31         1      2   \n",
       "\n",
       "            Acorn_grouped  icon  precipType  summary  energy_median  \\\n",
       "day                                                                   \n",
       "2014-02-01              4     6           1       77      -0.166119   \n",
       "2014-01-31              4     6           1       56       1.373648   \n",
       "\n",
       "            energy_mean  energy_max  energy_count  energy_std  energy_min  \\\n",
       "day                                                                         \n",
       "2014-02-01     0.142706   -0.052468           0.0    0.156232    0.199564   \n",
       "2014-01-31     1.257727    1.189595           0.0    1.781616    0.187740   \n",
       "\n",
       "            temperatureMax  windBearing  dewPoint  cloudCover  windSpeed  \\\n",
       "day                                                                        \n",
       "2014-02-01       -0.692796     0.249180 -0.769030   -1.511314   2.091405   \n",
       "2014-01-31       -0.827503    -0.192546 -0.620598    1.294841   0.738313   \n",
       "\n",
       "            pressure  apparentTemperatureHigh  visibility  humidity  \\\n",
       "day                                                                   \n",
       "2014-02-01 -2.296195                -1.173198    0.140441 -0.202914   \n",
       "2014-01-31 -1.470642                -1.320222   -1.774337  1.321910   \n",
       "\n",
       "            apparentTemperatureLow  apparentTemperatureMax   uvIndex  \\\n",
       "day                                                                    \n",
       "2014-02-01               -0.633878               -0.888970 -0.907385   \n",
       "2014-01-31               -0.903980               -1.099264 -0.907385   \n",
       "\n",
       "            temperatureLow  temperatureMin  temperatureHigh  \\\n",
       "day                                                           \n",
       "2014-02-01       -0.396777       -0.613610        -0.873035   \n",
       "2014-01-31       -0.672921       -1.169821        -1.058100   \n",
       "\n",
       "            apparentTemperatureMin  moonPhase  dayElapsed  daylightMins  \n",
       "day                                                                      \n",
       "2014-02-01               -0.848323  -1.537353    1.711714     -0.958303  \n",
       "2014-01-31               -0.975675  -1.641443    1.706405     -0.974467  "
      ]
     },
     "execution_count": 117,
     "metadata": {},
     "output_type": "execute_result"
    }
   ],
   "source": [
    "df.head(2)"
   ]
  },
  {
   "cell_type": "code",
   "execution_count": 118,
   "metadata": {
    "collapsed": true,
    "hidden": true
   },
   "outputs": [],
   "source": [
    "joined_test = joined_test.set_index(\"day\")"
   ]
  },
  {
   "cell_type": "code",
   "execution_count": 119,
   "metadata": {},
   "outputs": [],
   "source": [
    "#apply the same mapper to the test set"
   ]
  },
  {
   "cell_type": "code",
   "execution_count": 120,
   "metadata": {
    "collapsed": true,
    "hidden": true
   },
   "outputs": [
    {
     "name": "stdout",
     "output_type": "stream",
     "text": [
      "ignore_flds: None\n",
      "skip_flds: ['LCLid']\n"
     ]
    }
   ],
   "source": [
    "df_test, _, nas, mapper = proc_df(joined_test, 'energy_sum', do_scale=True, skip_flds=['LCLid'],\n",
    "                                  mapper=mapper, na_dict=nas)"
   ]
  },
  {
   "cell_type": "code",
   "execution_count": 121,
   "metadata": {
    "hidden": true
   },
   "outputs": [
    {
     "data": {
      "text/html": [
       "<div>\n",
       "<style scoped>\n",
       "    .dataframe tbody tr th:only-of-type {\n",
       "        vertical-align: middle;\n",
       "    }\n",
       "\n",
       "    .dataframe tbody tr th {\n",
       "        vertical-align: top;\n",
       "    }\n",
       "\n",
       "    .dataframe thead th {\n",
       "        text-align: right;\n",
       "    }\n",
       "</style>\n",
       "<table border=\"1\" class=\"dataframe\">\n",
       "  <thead>\n",
       "    <tr style=\"text-align: right;\">\n",
       "      <th></th>\n",
       "      <th>dayWeek</th>\n",
       "      <th>dayYear</th>\n",
       "      <th>dayMonth</th>\n",
       "      <th>dayDay</th>\n",
       "      <th>dayDayofyear</th>\n",
       "      <th>stdorToU</th>\n",
       "      <th>Acorn</th>\n",
       "      <th>Acorn_grouped</th>\n",
       "      <th>icon</th>\n",
       "      <th>precipType</th>\n",
       "      <th>summary</th>\n",
       "      <th>energy_median</th>\n",
       "      <th>energy_mean</th>\n",
       "      <th>energy_max</th>\n",
       "      <th>energy_count</th>\n",
       "      <th>energy_std</th>\n",
       "      <th>energy_min</th>\n",
       "      <th>temperatureMax</th>\n",
       "      <th>windBearing</th>\n",
       "      <th>dewPoint</th>\n",
       "      <th>cloudCover</th>\n",
       "      <th>windSpeed</th>\n",
       "      <th>pressure</th>\n",
       "      <th>apparentTemperatureHigh</th>\n",
       "      <th>visibility</th>\n",
       "      <th>humidity</th>\n",
       "      <th>apparentTemperatureLow</th>\n",
       "      <th>apparentTemperatureMax</th>\n",
       "      <th>uvIndex</th>\n",
       "      <th>temperatureLow</th>\n",
       "      <th>temperatureMin</th>\n",
       "      <th>temperatureHigh</th>\n",
       "      <th>apparentTemperatureMin</th>\n",
       "      <th>moonPhase</th>\n",
       "      <th>dayElapsed</th>\n",
       "      <th>daylightMins</th>\n",
       "    </tr>\n",
       "    <tr>\n",
       "      <th>day</th>\n",
       "      <th></th>\n",
       "      <th></th>\n",
       "      <th></th>\n",
       "      <th></th>\n",
       "      <th></th>\n",
       "      <th></th>\n",
       "      <th></th>\n",
       "      <th></th>\n",
       "      <th></th>\n",
       "      <th></th>\n",
       "      <th></th>\n",
       "      <th></th>\n",
       "      <th></th>\n",
       "      <th></th>\n",
       "      <th></th>\n",
       "      <th></th>\n",
       "      <th></th>\n",
       "      <th></th>\n",
       "      <th></th>\n",
       "      <th></th>\n",
       "      <th></th>\n",
       "      <th></th>\n",
       "      <th></th>\n",
       "      <th></th>\n",
       "      <th></th>\n",
       "      <th></th>\n",
       "      <th></th>\n",
       "      <th></th>\n",
       "      <th></th>\n",
       "      <th></th>\n",
       "      <th></th>\n",
       "      <th></th>\n",
       "      <th></th>\n",
       "      <th></th>\n",
       "      <th></th>\n",
       "      <th></th>\n",
       "    </tr>\n",
       "  </thead>\n",
       "  <tbody>\n",
       "    <tr>\n",
       "      <th>2014-02-01</th>\n",
       "      <td>5</td>\n",
       "      <td>4</td>\n",
       "      <td>2</td>\n",
       "      <td>1</td>\n",
       "      <td>32</td>\n",
       "      <td>1</td>\n",
       "      <td>2</td>\n",
       "      <td>4</td>\n",
       "      <td>6</td>\n",
       "      <td>1</td>\n",
       "      <td>77</td>\n",
       "      <td>-0.166119</td>\n",
       "      <td>0.142706</td>\n",
       "      <td>-0.052468</td>\n",
       "      <td>0.0</td>\n",
       "      <td>0.156232</td>\n",
       "      <td>0.199564</td>\n",
       "      <td>-0.692796</td>\n",
       "      <td>0.249180</td>\n",
       "      <td>-0.769030</td>\n",
       "      <td>-1.511314</td>\n",
       "      <td>2.091405</td>\n",
       "      <td>-2.296195</td>\n",
       "      <td>-1.173198</td>\n",
       "      <td>0.140441</td>\n",
       "      <td>-0.202914</td>\n",
       "      <td>-0.633878</td>\n",
       "      <td>-0.888970</td>\n",
       "      <td>-0.907385</td>\n",
       "      <td>-0.396777</td>\n",
       "      <td>-0.613610</td>\n",
       "      <td>-0.873035</td>\n",
       "      <td>-0.848323</td>\n",
       "      <td>-1.537353</td>\n",
       "      <td>1.711714</td>\n",
       "      <td>-0.958303</td>\n",
       "    </tr>\n",
       "    <tr>\n",
       "      <th>2014-01-31</th>\n",
       "      <td>5</td>\n",
       "      <td>4</td>\n",
       "      <td>1</td>\n",
       "      <td>31</td>\n",
       "      <td>31</td>\n",
       "      <td>1</td>\n",
       "      <td>2</td>\n",
       "      <td>4</td>\n",
       "      <td>6</td>\n",
       "      <td>1</td>\n",
       "      <td>56</td>\n",
       "      <td>1.373648</td>\n",
       "      <td>1.257727</td>\n",
       "      <td>1.189595</td>\n",
       "      <td>0.0</td>\n",
       "      <td>1.781616</td>\n",
       "      <td>0.187740</td>\n",
       "      <td>-0.827503</td>\n",
       "      <td>-0.192546</td>\n",
       "      <td>-0.620598</td>\n",
       "      <td>1.294841</td>\n",
       "      <td>0.738313</td>\n",
       "      <td>-1.470642</td>\n",
       "      <td>-1.320222</td>\n",
       "      <td>-1.774337</td>\n",
       "      <td>1.321910</td>\n",
       "      <td>-0.903980</td>\n",
       "      <td>-1.099264</td>\n",
       "      <td>-0.907385</td>\n",
       "      <td>-0.672921</td>\n",
       "      <td>-1.169821</td>\n",
       "      <td>-1.058100</td>\n",
       "      <td>-0.975675</td>\n",
       "      <td>-1.641443</td>\n",
       "      <td>1.706405</td>\n",
       "      <td>-0.974467</td>\n",
       "    </tr>\n",
       "  </tbody>\n",
       "</table>\n",
       "</div>"
      ],
      "text/plain": [
       "            dayWeek  dayYear  dayMonth  dayDay  dayDayofyear  stdorToU  Acorn  \\\n",
       "day                                                                             \n",
       "2014-02-01        5        4         2       1            32         1      2   \n",
       "2014-01-31        5        4         1      31            31         1      2   \n",
       "\n",
       "            Acorn_grouped  icon  precipType  summary  energy_median  \\\n",
       "day                                                                   \n",
       "2014-02-01              4     6           1       77      -0.166119   \n",
       "2014-01-31              4     6           1       56       1.373648   \n",
       "\n",
       "            energy_mean  energy_max  energy_count  energy_std  energy_min  \\\n",
       "day                                                                         \n",
       "2014-02-01     0.142706   -0.052468           0.0    0.156232    0.199564   \n",
       "2014-01-31     1.257727    1.189595           0.0    1.781616    0.187740   \n",
       "\n",
       "            temperatureMax  windBearing  dewPoint  cloudCover  windSpeed  \\\n",
       "day                                                                        \n",
       "2014-02-01       -0.692796     0.249180 -0.769030   -1.511314   2.091405   \n",
       "2014-01-31       -0.827503    -0.192546 -0.620598    1.294841   0.738313   \n",
       "\n",
       "            pressure  apparentTemperatureHigh  visibility  humidity  \\\n",
       "day                                                                   \n",
       "2014-02-01 -2.296195                -1.173198    0.140441 -0.202914   \n",
       "2014-01-31 -1.470642                -1.320222   -1.774337  1.321910   \n",
       "\n",
       "            apparentTemperatureLow  apparentTemperatureMax   uvIndex  \\\n",
       "day                                                                    \n",
       "2014-02-01               -0.633878               -0.888970 -0.907385   \n",
       "2014-01-31               -0.903980               -1.099264 -0.907385   \n",
       "\n",
       "            temperatureLow  temperatureMin  temperatureHigh  \\\n",
       "day                                                           \n",
       "2014-02-01       -0.396777       -0.613610        -0.873035   \n",
       "2014-01-31       -0.672921       -1.169821        -1.058100   \n",
       "\n",
       "            apparentTemperatureMin  moonPhase  dayElapsed  daylightMins  \n",
       "day                                                                      \n",
       "2014-02-01               -0.848323  -1.537353    1.711714     -0.958303  \n",
       "2014-01-31               -0.975675  -1.641443    1.706405     -0.974467  "
      ]
     },
     "execution_count": 121,
     "metadata": {},
     "output_type": "execute_result"
    }
   ],
   "source": [
    "df.head(n=2)"
   ]
  },
  {
   "cell_type": "markdown",
   "metadata": {
    "hidden": true
   },
   "source": [
    "In time series data, cross-validation is not random. Instead, our holdout data is generally the most recent data, as it would be in real application. This issue is discussed in detail in [this post](http://www.fast.ai/2017/11/13/validation-sets/) on the fastai web site.\n",
    "\n",
    "One approach is to take the last 25% of rows (sorted by date) as our validation set."
   ]
  },
  {
   "cell_type": "code",
   "execution_count": 122,
   "metadata": {
    "collapsed": true,
    "hidden": true
   },
   "outputs": [],
   "source": [
    "train_ratio = 0.75\n",
    "# train_ratio = 0.9\n",
    "train_size = int(samp_size * train_ratio)\n",
    "val_idx = list(range(train_size, len(df)))"
   ]
  },
  {
   "cell_type": "code",
   "execution_count": 123,
   "metadata": {},
   "outputs": [
    {
     "name": "stdout",
     "output_type": "stream",
     "text": [
      "samp_size: 3339707\n",
      "train_ratio: 0.75\n",
      "train_size: 2504780\n",
      "len(df): 3339707\n",
      "val_idx: 834927\n"
     ]
    }
   ],
   "source": [
    "print(f'samp_size: {samp_size}')\n",
    "print(f'train_ratio: {train_ratio}')\n",
    "print(f'train_size: {train_size}')\n",
    "print(f'len(df): {len(df)}')\n",
    "print(f'val_idx: {len(val_idx)}')"
   ]
  },
  {
   "cell_type": "code",
   "execution_count": 124,
   "metadata": {},
   "outputs": [
    {
     "data": {
      "text/plain": [
       "[2504780,\n",
       " 2504781,\n",
       " 2504782,\n",
       " 2504783,\n",
       " 2504784,\n",
       " 2504785,\n",
       " 2504786,\n",
       " 2504787,\n",
       " 2504788,\n",
       " 2504789]"
      ]
     },
     "execution_count": 124,
     "metadata": {},
     "output_type": "execute_result"
    }
   ],
   "source": [
    "val_idx[:10]"
   ]
  },
  {
   "cell_type": "markdown",
   "metadata": {
    "hidden": true
   },
   "source": [
    "An even better option for picking a validation set is using the exact same length of time period as the test set uses - this is implemented here:"
   ]
  },
  {
   "cell_type": "code",
   "execution_count": 125,
   "metadata": {
    "collapsed": true,
    "hidden": true
   },
   "outputs": [],
   "source": [
    "#val_idx = np.flatnonzero(\n",
    "#    (df.index<=datetime.datetime(2014,9,17)) & (df.index>=datetime.datetime(2014,8,1)))"
   ]
  },
  {
   "cell_type": "code",
   "execution_count": 126,
   "metadata": {
    "collapsed": true,
    "hidden": true
   },
   "outputs": [],
   "source": [
    "#val_idx=[0]"
   ]
  },
  {
   "cell_type": "markdown",
   "metadata": {},
   "source": [
    "## DL"
   ]
  },
  {
   "cell_type": "markdown",
   "metadata": {},
   "source": [
    "We're ready to put together our models.\n",
    "\n",
    "Root-mean-squared error is the metric we used for other forecast models."
   ]
  },
  {
   "cell_type": "code",
   "execution_count": 127,
   "metadata": {
    "collapsed": true
   },
   "outputs": [],
   "source": [
    "def rmse(y_pred, y_targ):\n",
    "    return np.sqrt(((y_targ - y_pred) ** 2).mean())\n",
    "\n",
    "#use 20% greater than biggest max seen in training data\n",
    "max_y = np.max(y)\n",
    "y_range = (0, max_y*1.2)"
   ]
  },
  {
   "cell_type": "markdown",
   "metadata": {},
   "source": [
    "We can create a ModelData object directly from out data frame.\n",
    "\n",
    "pass in the test dataframe in the usual way"
   ]
  },
  {
   "cell_type": "code",
   "execution_count": 128,
   "metadata": {},
   "outputs": [
    {
     "name": "stdout",
     "output_type": "stream",
     "text": [
      "pre cmd, val_idx: 834927\n",
      "df: 3339707\n",
      "y: 3339707\n",
      "cat_vars: 11\n",
      "df_test: 129645\n"
     ]
    }
   ],
   "source": [
    "print(f'pre cmd, val_idx: {len(val_idx)}')\n",
    "print(f'df: {len(df)}')\n",
    "print(f'y: {len(y)}')\n",
    "print(f'cat_vars: {len(cat_vars)}')\n",
    "print(f'df_test: {len(df_test)}')"
   ]
  },
  {
   "cell_type": "code",
   "execution_count": 129,
   "metadata": {
    "collapsed": true
   },
   "outputs": [],
   "source": [
    "md = ColumnarModelData.from_data_frame(PATH, val_idx, df, y.astype(np.float32), cat_flds=cat_vars, bs=128,\n",
    "                                       test_df=df_test)"
   ]
  },
  {
   "cell_type": "markdown",
   "metadata": {},
   "source": [
    "Check levels of categorical variables"
   ]
  },
  {
   "cell_type": "code",
   "execution_count": 130,
   "metadata": {
    "collapsed": true
   },
   "outputs": [],
   "source": [
    "cat_sz = [(c, len(df_samp[c].cat.categories)+1) for c in cat_vars]"
   ]
  },
  {
   "cell_type": "code",
   "execution_count": 131,
   "metadata": {
    "scrolled": true
   },
   "outputs": [
    {
     "data": {
      "text/plain": [
       "[('dayWeek', 53),\n",
       " ('dayYear', 5),\n",
       " ('dayMonth', 13),\n",
       " ('dayDay', 32),\n",
       " ('dayDayofyear', 367),\n",
       " ('stdorToU', 3),\n",
       " ('Acorn', 20),\n",
       " ('Acorn_grouped', 6),\n",
       " ('icon', 7),\n",
       " ('precipType', 3),\n",
       " ('summary', 83)]"
      ]
     },
     "execution_count": 131,
     "metadata": {},
     "output_type": "execute_result"
    }
   ],
   "source": [
    "cat_sz"
   ]
  },
  {
   "cell_type": "markdown",
   "metadata": {},
   "source": [
    "We use the *cardinality* of each variable (that is, its number of unique values) to decide how large to make its *embeddings*. Each level will be associated with a vector with length defined as below."
   ]
  },
  {
   "cell_type": "code",
   "execution_count": 132,
   "metadata": {
    "collapsed": true
   },
   "outputs": [],
   "source": [
    "emb_szs = [(c, min(50, (c+1)//2)) for _,c in cat_sz]"
   ]
  },
  {
   "cell_type": "code",
   "execution_count": 133,
   "metadata": {
    "scrolled": true
   },
   "outputs": [
    {
     "data": {
      "text/plain": [
       "[(53, 27),\n",
       " (5, 3),\n",
       " (13, 7),\n",
       " (32, 16),\n",
       " (367, 50),\n",
       " (3, 2),\n",
       " (20, 10),\n",
       " (6, 3),\n",
       " (7, 4),\n",
       " (3, 2),\n",
       " (83, 42)]"
      ]
     },
     "execution_count": 133,
     "metadata": {},
     "output_type": "execute_result"
    }
   ],
   "source": [
    "emb_szs"
   ]
  },
  {
   "cell_type": "code",
   "execution_count": 134,
   "metadata": {
    "collapsed": true
   },
   "outputs": [
    {
     "data": {
      "text/plain": [
       "OrderedDict([('Embedding-1',\n",
       "              OrderedDict([('input_shape', [-1]),\n",
       "                           ('output_shape', [-1, 27]),\n",
       "                           ('trainable', True),\n",
       "                           ('nb_params', 1431)])),\n",
       "             ('Embedding-2',\n",
       "              OrderedDict([('input_shape', [-1]),\n",
       "                           ('output_shape', [-1, 3]),\n",
       "                           ('trainable', True),\n",
       "                           ('nb_params', 15)])),\n",
       "             ('Embedding-3',\n",
       "              OrderedDict([('input_shape', [-1]),\n",
       "                           ('output_shape', [-1, 7]),\n",
       "                           ('trainable', True),\n",
       "                           ('nb_params', 91)])),\n",
       "             ('Embedding-4',\n",
       "              OrderedDict([('input_shape', [-1]),\n",
       "                           ('output_shape', [-1, 16]),\n",
       "                           ('trainable', True),\n",
       "                           ('nb_params', 512)])),\n",
       "             ('Embedding-5',\n",
       "              OrderedDict([('input_shape', [-1]),\n",
       "                           ('output_shape', [-1, 50]),\n",
       "                           ('trainable', True),\n",
       "                           ('nb_params', 18350)])),\n",
       "             ('Embedding-6',\n",
       "              OrderedDict([('input_shape', [-1]),\n",
       "                           ('output_shape', [-1, 2]),\n",
       "                           ('trainable', True),\n",
       "                           ('nb_params', 6)])),\n",
       "             ('Embedding-7',\n",
       "              OrderedDict([('input_shape', [-1]),\n",
       "                           ('output_shape', [-1, 10]),\n",
       "                           ('trainable', True),\n",
       "                           ('nb_params', 200)])),\n",
       "             ('Embedding-8',\n",
       "              OrderedDict([('input_shape', [-1]),\n",
       "                           ('output_shape', [-1, 3]),\n",
       "                           ('trainable', True),\n",
       "                           ('nb_params', 18)])),\n",
       "             ('Embedding-9',\n",
       "              OrderedDict([('input_shape', [-1]),\n",
       "                           ('output_shape', [-1, 4]),\n",
       "                           ('trainable', True),\n",
       "                           ('nb_params', 28)])),\n",
       "             ('Embedding-10',\n",
       "              OrderedDict([('input_shape', [-1]),\n",
       "                           ('output_shape', [-1, 2]),\n",
       "                           ('trainable', True),\n",
       "                           ('nb_params', 6)])),\n",
       "             ('Embedding-11',\n",
       "              OrderedDict([('input_shape', [-1]),\n",
       "                           ('output_shape', [-1, 42]),\n",
       "                           ('trainable', True),\n",
       "                           ('nb_params', 3486)])),\n",
       "             ('Dropout-12',\n",
       "              OrderedDict([('input_shape', [-1, 166]),\n",
       "                           ('output_shape', [-1, 166]),\n",
       "                           ('nb_params', 0)])),\n",
       "             ('BatchNorm1d-13',\n",
       "              OrderedDict([('input_shape', [-1, 25]),\n",
       "                           ('output_shape', [-1, 25]),\n",
       "                           ('trainable', True),\n",
       "                           ('nb_params', 50)])),\n",
       "             ('Linear-14',\n",
       "              OrderedDict([('input_shape', [-1, 191]),\n",
       "                           ('output_shape', [-1, 1000]),\n",
       "                           ('trainable', True),\n",
       "                           ('nb_params', 192000)])),\n",
       "             ('Dropout-15',\n",
       "              OrderedDict([('input_shape', [-1, 1000]),\n",
       "                           ('output_shape', [-1, 1000]),\n",
       "                           ('nb_params', 0)])),\n",
       "             ('Linear-16',\n",
       "              OrderedDict([('input_shape', [-1, 1000]),\n",
       "                           ('output_shape', [-1, 500]),\n",
       "                           ('trainable', True),\n",
       "                           ('nb_params', 500500)])),\n",
       "             ('Dropout-17',\n",
       "              OrderedDict([('input_shape', [-1, 500]),\n",
       "                           ('output_shape', [-1, 500]),\n",
       "                           ('nb_params', 0)])),\n",
       "             ('Linear-18',\n",
       "              OrderedDict([('input_shape', [-1, 500]),\n",
       "                           ('output_shape', [-1, 1]),\n",
       "                           ('trainable', True),\n",
       "                           ('nb_params', 501)]))])"
      ]
     },
     "execution_count": 134,
     "metadata": {},
     "output_type": "execute_result"
    }
   ],
   "source": [
    "m = md.get_learner(emb_szs, len(df.columns)-len(cat_vars),\n",
    "                   0.04, 1, [1000,500], [0.001,0.01], y_range=y_range)\n",
    "m.summary()"
   ]
  },
  {
   "cell_type": "code",
   "execution_count": 135,
   "metadata": {},
   "outputs": [
    {
     "data": {
      "application/vnd.jupyter.widget-view+json": {
       "model_id": "8903176448794d8385894c49abbd30c2",
       "version_major": 2,
       "version_minor": 0
      },
      "text/plain": [
       "HBox(children=(IntProgress(value=0, description='Epoch', max=1), HTML(value='')))"
      ]
     },
     "metadata": {},
     "output_type": "display_data"
    },
    {
     "name": "stdout",
     "output_type": "stream",
     "text": [
      " 23%|██▎       | 4452/19569 [00:14<00:50, 299.15it/s, loss=29.6]"
     ]
    }
   ],
   "source": [
    "#lr = 1e-3\n",
    "lr = 2e-5\n",
    "m.lr_find()"
   ]
  },
  {
   "cell_type": "code",
   "execution_count": 136,
   "metadata": {},
   "outputs": [
    {
     "data": {
      "image/png": "[encoded data removed]",
      "text/plain": [
       "<Figure size 432x288 with 1 Axes>"
      ]
     },
     "metadata": {
      "needs_background": "light"
     },
     "output_type": "display_data"
    }
   ],
   "source": [
    "m.sched.plot(100)"
   ]
  },
  {
   "cell_type": "markdown",
   "metadata": {
    "heading_collapsed": true
   },
   "source": [
    "### Sample"
   ]
  },
  {
   "cell_type": "code",
   "execution_count": 137,
   "metadata": {
    "collapsed": true,
    "hidden": true
   },
   "outputs": [],
   "source": [
    "#m = md.get_learner(emb_szs, len(df.columns)-len(cat_vars),\n",
    "#                   0.04, 1, [1000,500], [0.001,0.01], y_range=y_range)\n",
    "#lr = 1e-3"
   ]
  },
  {
   "cell_type": "code",
   "execution_count": 138,
   "metadata": {
    "hidden": true
   },
   "outputs": [],
   "source": [
    "#m.fit(lr, 3, metrics=[rmse])"
   ]
  },
  {
   "cell_type": "code",
   "execution_count": 139,
   "metadata": {
    "hidden": true
   },
   "outputs": [],
   "source": [
    "#m.fit(lr, 5, metrics=[rmse], cycle_len=1)"
   ]
  },
  {
   "cell_type": "code",
   "execution_count": 140,
   "metadata": {
    "hidden": true
   },
   "outputs": [],
   "source": [
    "#m.fit(lr, 2, metrics=[rmse], cycle_len=4)"
   ]
  },
  {
   "cell_type": "markdown",
   "metadata": {
    "heading_collapsed": true
   },
   "source": [
    "### All"
   ]
  },
  {
   "cell_type": "code",
   "execution_count": 141,
   "metadata": {
    "collapsed": true,
    "hidden": true
   },
   "outputs": [],
   "source": [
    "m = md.get_learner(emb_szs, len(df.columns)-len(cat_vars),\n",
    "                   0.04, 1, [1000,500], [0.001,0.01], y_range=y_range)\n",
    "#lr = 1e-3\n",
    "lr = 2e-5"
   ]
  },
  {
   "cell_type": "code",
   "execution_count": 142,
   "metadata": {
    "hidden": true
   },
   "outputs": [
    {
     "data": {
      "application/vnd.jupyter.widget-view+json": {
       "model_id": "dfff858091b7468a923a31542c47994f",
       "version_major": 2,
       "version_minor": 0
      },
      "text/plain": [
       "HBox(children=(IntProgress(value=0, description='Epoch', max=1), HTML(value='')))"
      ]
     },
     "metadata": {},
     "output_type": "display_data"
    },
    {
     "name": "stdout",
     "output_type": "stream",
     "text": [
      "epoch      trn_loss   val_loss   rmse       \n",
      "    0      1.216897   0.849272   0.736234  \n"
     ]
    },
    {
     "data": {
      "text/plain": [
       "[array([0.84927]), 0.7362343832147562]"
      ]
     },
     "execution_count": 142,
     "metadata": {},
     "output_type": "execute_result"
    }
   ],
   "source": [
    "m.fit(lr, 1, metrics=[rmse])"
   ]
  },
  {
   "cell_type": "code",
   "execution_count": 143,
   "metadata": {
    "hidden": true
   },
   "outputs": [
    {
     "data": {
      "application/vnd.jupyter.widget-view+json": {
       "model_id": "d1a38b51627b45108afc1743079ca649",
       "version_major": 2,
       "version_minor": 0
      },
      "text/plain": [
       "HBox(children=(IntProgress(value=0, description='Epoch', max=3), HTML(value='')))"
      ]
     },
     "metadata": {},
     "output_type": "display_data"
    },
    {
     "name": "stdout",
     "output_type": "stream",
     "text": [
      "epoch      trn_loss   val_loss   rmse       \n",
      "    0      0.920953   0.879158   0.64651   \n",
      "    1      0.460488   0.259606   0.375689  \n",
      "    2      0.384855   0.252784   0.326941  \n"
     ]
    },
    {
     "data": {
      "text/plain": [
       "[array([0.25278]), 0.32694136209124136]"
      ]
     },
     "execution_count": 143,
     "metadata": {},
     "output_type": "execute_result"
    }
   ],
   "source": [
    "m.fit(lr, 3, metrics=[rmse])"
   ]
  },
  {
   "cell_type": "code",
   "execution_count": 144,
   "metadata": {
    "hidden": true
   },
   "outputs": [
    {
     "data": {
      "application/vnd.jupyter.widget-view+json": {
       "model_id": "b66fdca91475464aae4d1a02bfa5266c",
       "version_major": 2,
       "version_minor": 0
      },
      "text/plain": [
       "HBox(children=(IntProgress(value=0, description='Epoch', max=3), HTML(value='')))"
      ]
     },
     "metadata": {},
     "output_type": "display_data"
    },
    {
     "name": "stdout",
     "output_type": "stream",
     "text": [
      "epoch      trn_loss   val_loss   rmse       \n",
      "    0      0.230658   0.135102   0.280448  \n",
      "    1      0.22529    0.11827    0.265385  \n",
      "    2      0.19886    0.104073   0.250058  \n"
     ]
    },
    {
     "data": {
      "text/plain": [
       "[array([0.10407]), 0.2500583929567404]"
      ]
     },
     "execution_count": 144,
     "metadata": {},
     "output_type": "execute_result"
    }
   ],
   "source": [
    "m.fit(lr, 3, metrics=[rmse], cycle_len=1)"
   ]
  },
  {
   "cell_type": "markdown",
   "metadata": {
    "heading_collapsed": true
   },
   "source": [
    "### Test"
   ]
  },
  {
   "cell_type": "code",
   "execution_count": 145,
   "metadata": {
    "collapsed": true,
    "hidden": true
   },
   "outputs": [],
   "source": [
    "m = md.get_learner(emb_szs, len(df.columns)-len(cat_vars),\n",
    "                   0.04, 1, [1000,500], [0.001,0.01], y_range=y_range)\n",
    "lr = 1e-3"
   ]
  },
  {
   "cell_type": "code",
   "execution_count": 146,
   "metadata": {
    "hidden": true
   },
   "outputs": [
    {
     "data": {
      "application/vnd.jupyter.widget-view+json": {
       "model_id": "99b5929a8b4a4ef9bc4cc34bf1968d28",
       "version_major": 2,
       "version_minor": 0
      },
      "text/plain": [
       "HBox(children=(IntProgress(value=0, description='Epoch', max=3), HTML(value='')))"
      ]
     },
     "metadata": {},
     "output_type": "display_data"
    },
    {
     "name": "stdout",
     "output_type": "stream",
     "text": [
      "epoch      trn_loss   val_loss   rmse       \n",
      "    0      0.321259   0.126623   0.277854  \n",
      "    1      0.183795   0.114978   0.265557  \n",
      "    2      0.207255   0.053408   0.192404  \n"
     ]
    },
    {
     "data": {
      "text/plain": [
       "[array([0.05341]), 0.19240429101470655]"
      ]
     },
     "execution_count": 146,
     "metadata": {},
     "output_type": "execute_result"
    }
   ],
   "source": [
    "m.fit(lr, 3, metrics=[rmse])"
   ]
  },
  {
   "cell_type": "code",
   "execution_count": 147,
   "metadata": {
    "hidden": true
   },
   "outputs": [
    {
     "data": {
      "application/vnd.jupyter.widget-view+json": {
       "model_id": "9e8b5ca60f60432188d0032f6c3f216b",
       "version_major": 2,
       "version_minor": 0
      },
      "text/plain": [
       "HBox(children=(IntProgress(value=0, description='Epoch', max=3), HTML(value='')))"
      ]
     },
     "metadata": {},
     "output_type": "display_data"
    },
    {
     "name": "stdout",
     "output_type": "stream",
     "text": [
      "epoch      trn_loss   val_loss   rmse       \n",
      "    0      0.095743   0.068023   0.225642  \n",
      "    1      0.090657   0.057396   0.207113  \n",
      "    2      0.10923    0.046791   0.187514  \n"
     ]
    },
    {
     "data": {
      "text/plain": [
       "[array([0.04679]), 0.18751387066589864]"
      ]
     },
     "execution_count": 147,
     "metadata": {},
     "output_type": "execute_result"
    }
   ],
   "source": [
    "m.fit(lr, 3, metrics=[rmse], cycle_len=1)"
   ]
  },
  {
   "cell_type": "code",
   "execution_count": 148,
   "metadata": {
    "collapsed": true,
    "hidden": true
   },
   "outputs": [],
   "source": [
    "m.save('val0')"
   ]
  },
  {
   "cell_type": "code",
   "execution_count": 149,
   "metadata": {
    "collapsed": true,
    "hidden": true
   },
   "outputs": [],
   "source": [
    "m.load('val0')"
   ]
  },
  {
   "cell_type": "code",
   "execution_count": 150,
   "metadata": {
    "collapsed": true,
    "hidden": true
   },
   "outputs": [],
   "source": [
    "x,y=m.predict_with_targs()"
   ]
  },
  {
   "cell_type": "code",
   "execution_count": 151,
   "metadata": {},
   "outputs": [
    {
     "data": {
      "text/plain": [
       "array([[9.13444],\n",
       "       [7.3088 ],\n",
       "       [5.78981],\n",
       "       [7.85394],\n",
       "       [7.72244],\n",
       "       [8.33723],\n",
       "       [6.00013],\n",
       "       [7.37278],\n",
       "       [5.65217],\n",
       "       [7.42396]], dtype=float32)"
      ]
     },
     "execution_count": 151,
     "metadata": {},
     "output_type": "execute_result"
    }
   ],
   "source": [
    "x[:10]"
   ]
  },
  {
   "cell_type": "code",
   "execution_count": 152,
   "metadata": {},
   "outputs": [
    {
     "data": {
      "text/plain": [
       "array([[8.994],\n",
       "       [7.112],\n",
       "       [5.68 ],\n",
       "       [7.685],\n",
       "       [7.547],\n",
       "       [8.206],\n",
       "       [5.911],\n",
       "       [7.161],\n",
       "       [5.544],\n",
       "       [7.204]], dtype=float32)"
      ]
     },
     "execution_count": 152,
     "metadata": {},
     "output_type": "execute_result"
    }
   ],
   "source": [
    "y[:10]"
   ]
  },
  {
   "cell_type": "code",
   "execution_count": 153,
   "metadata": {
    "hidden": true
   },
   "outputs": [
    {
     "data": {
      "text/plain": [
       "0.2163131"
      ]
     },
     "execution_count": 153,
     "metadata": {},
     "output_type": "execute_result"
    }
   ],
   "source": [
    "rmse(x,y)"
   ]
  },
  {
   "cell_type": "code",
   "execution_count": 154,
   "metadata": {
    "collapsed": true,
    "hidden": true
   },
   "outputs": [],
   "source": [
    "pred_test=m.predict(True)"
   ]
  },
  {
   "cell_type": "code",
   "execution_count": 155,
   "metadata": {},
   "outputs": [
    {
     "data": {
      "text/plain": [
       "array([[20.83766],\n",
       "       [12.64318],\n",
       "       [12.0788 ],\n",
       "       [12.82634],\n",
       "       [15.15753],\n",
       "       [13.05016],\n",
       "       [13.38988],\n",
       "       [12.10421],\n",
       "       [15.18754],\n",
       "       [17.38293]], dtype=float32)"
      ]
     },
     "execution_count": 155,
     "metadata": {},
     "output_type": "execute_result"
    }
   ],
   "source": [
    "pred_test[:10]"
   ]
  },
  {
   "cell_type": "code",
   "execution_count": 156,
   "metadata": {
    "collapsed": true,
    "hidden": true
   },
   "outputs": [],
   "source": [
    "joined_test['energy_sum']=pred_test"
   ]
  },
  {
   "cell_type": "code",
   "execution_count": 157,
   "metadata": {},
   "outputs": [
    {
     "data": {
      "text/html": [
       "<div>\n",
       "<style scoped>\n",
       "    .dataframe tbody tr th:only-of-type {\n",
       "        vertical-align: middle;\n",
       "    }\n",
       "\n",
       "    .dataframe tbody tr th {\n",
       "        vertical-align: top;\n",
       "    }\n",
       "\n",
       "    .dataframe thead th {\n",
       "        text-align: right;\n",
       "    }\n",
       "</style>\n",
       "<table border=\"1\" class=\"dataframe\">\n",
       "  <thead>\n",
       "    <tr style=\"text-align: right;\">\n",
       "      <th></th>\n",
       "      <th>dayWeek</th>\n",
       "      <th>dayYear</th>\n",
       "      <th>dayMonth</th>\n",
       "      <th>dayDay</th>\n",
       "      <th>dayDayofyear</th>\n",
       "      <th>stdorToU</th>\n",
       "      <th>Acorn</th>\n",
       "      <th>Acorn_grouped</th>\n",
       "      <th>icon</th>\n",
       "      <th>precipType</th>\n",
       "      <th>summary</th>\n",
       "      <th>energy_median</th>\n",
       "      <th>energy_mean</th>\n",
       "      <th>energy_max</th>\n",
       "      <th>energy_count</th>\n",
       "      <th>energy_std</th>\n",
       "      <th>energy_min</th>\n",
       "      <th>temperatureMax</th>\n",
       "      <th>windBearing</th>\n",
       "      <th>dewPoint</th>\n",
       "      <th>cloudCover</th>\n",
       "      <th>windSpeed</th>\n",
       "      <th>pressure</th>\n",
       "      <th>apparentTemperatureHigh</th>\n",
       "      <th>visibility</th>\n",
       "      <th>humidity</th>\n",
       "      <th>apparentTemperatureLow</th>\n",
       "      <th>apparentTemperatureMax</th>\n",
       "      <th>uvIndex</th>\n",
       "      <th>temperatureLow</th>\n",
       "      <th>temperatureMin</th>\n",
       "      <th>temperatureHigh</th>\n",
       "      <th>apparentTemperatureMin</th>\n",
       "      <th>moonPhase</th>\n",
       "      <th>dayElapsed</th>\n",
       "      <th>daylightMins</th>\n",
       "      <th>LCLid</th>\n",
       "      <th>energy_sum</th>\n",
       "    </tr>\n",
       "    <tr>\n",
       "      <th>day</th>\n",
       "      <th></th>\n",
       "      <th></th>\n",
       "      <th></th>\n",
       "      <th></th>\n",
       "      <th></th>\n",
       "      <th></th>\n",
       "      <th></th>\n",
       "      <th></th>\n",
       "      <th></th>\n",
       "      <th></th>\n",
       "      <th></th>\n",
       "      <th></th>\n",
       "      <th></th>\n",
       "      <th></th>\n",
       "      <th></th>\n",
       "      <th></th>\n",
       "      <th></th>\n",
       "      <th></th>\n",
       "      <th></th>\n",
       "      <th></th>\n",
       "      <th></th>\n",
       "      <th></th>\n",
       "      <th></th>\n",
       "      <th></th>\n",
       "      <th></th>\n",
       "      <th></th>\n",
       "      <th></th>\n",
       "      <th></th>\n",
       "      <th></th>\n",
       "      <th></th>\n",
       "      <th></th>\n",
       "      <th></th>\n",
       "      <th></th>\n",
       "      <th></th>\n",
       "      <th></th>\n",
       "      <th></th>\n",
       "      <th></th>\n",
       "      <th></th>\n",
       "    </tr>\n",
       "  </thead>\n",
       "  <tbody>\n",
       "    <tr>\n",
       "      <th>2014-02-27</th>\n",
       "      <td>9</td>\n",
       "      <td>2014</td>\n",
       "      <td>2</td>\n",
       "      <td>27</td>\n",
       "      <td>58</td>\n",
       "      <td>Std</td>\n",
       "      <td>ACORN-A</td>\n",
       "      <td>Affluent</td>\n",
       "      <td>partly-cloudy-day</td>\n",
       "      <td>rain</td>\n",
       "      <td>Partly cloudy until evening.</td>\n",
       "      <td>0.2180</td>\n",
       "      <td>0.427458</td>\n",
       "      <td>1.350</td>\n",
       "      <td>48.0</td>\n",
       "      <td>0.406681</td>\n",
       "      <td>0.080</td>\n",
       "      <td>10.31</td>\n",
       "      <td>224.0</td>\n",
       "      <td>3.08</td>\n",
       "      <td>0.32</td>\n",
       "      <td>4.14</td>\n",
       "      <td>1007.02002</td>\n",
       "      <td>10.31</td>\n",
       "      <td>12.04</td>\n",
       "      <td>0.74</td>\n",
       "      <td>0.82</td>\n",
       "      <td>10.31</td>\n",
       "      <td>2.0</td>\n",
       "      <td>3.43</td>\n",
       "      <td>3.93</td>\n",
       "      <td>10.31</td>\n",
       "      <td>1.41</td>\n",
       "      <td>0.93</td>\n",
       "      <td>1.393459e+09</td>\n",
       "      <td>645.0</td>\n",
       "      <td>2</td>\n",
       "      <td>20.837660</td>\n",
       "    </tr>\n",
       "    <tr>\n",
       "      <th>2014-02-26</th>\n",
       "      <td>9</td>\n",
       "      <td>2014</td>\n",
       "      <td>2</td>\n",
       "      <td>26</td>\n",
       "      <td>57</td>\n",
       "      <td>Std</td>\n",
       "      <td>ACORN-A</td>\n",
       "      <td>Affluent</td>\n",
       "      <td>partly-cloudy-day</td>\n",
       "      <td>rain</td>\n",
       "      <td>Partly cloudy throughout the day.</td>\n",
       "      <td>0.1515</td>\n",
       "      <td>0.256833</td>\n",
       "      <td>1.028</td>\n",
       "      <td>48.0</td>\n",
       "      <td>0.196095</td>\n",
       "      <td>0.076</td>\n",
       "      <td>11.29</td>\n",
       "      <td>227.0</td>\n",
       "      <td>2.74</td>\n",
       "      <td>0.26</td>\n",
       "      <td>3.82</td>\n",
       "      <td>1012.72998</td>\n",
       "      <td>11.29</td>\n",
       "      <td>13.00</td>\n",
       "      <td>0.73</td>\n",
       "      <td>3.03</td>\n",
       "      <td>11.29</td>\n",
       "      <td>2.0</td>\n",
       "      <td>6.01</td>\n",
       "      <td>4.17</td>\n",
       "      <td>11.29</td>\n",
       "      <td>1.67</td>\n",
       "      <td>0.90</td>\n",
       "      <td>1.393373e+09</td>\n",
       "      <td>641.0</td>\n",
       "      <td>2</td>\n",
       "      <td>12.643185</td>\n",
       "    </tr>\n",
       "  </tbody>\n",
       "</table>\n",
       "</div>"
      ],
      "text/plain": [
       "           dayWeek dayYear dayMonth dayDay dayDayofyear stdorToU    Acorn  \\\n",
       "day                                                                         \n",
       "2014-02-27       9    2014        2     27           58      Std  ACORN-A   \n",
       "2014-02-26       9    2014        2     26           57      Std  ACORN-A   \n",
       "\n",
       "           Acorn_grouped               icon precipType  \\\n",
       "day                                                      \n",
       "2014-02-27      Affluent  partly-cloudy-day       rain   \n",
       "2014-02-26      Affluent  partly-cloudy-day       rain   \n",
       "\n",
       "                                      summary  energy_median  energy_mean  \\\n",
       "day                                                                         \n",
       "2014-02-27       Partly cloudy until evening.         0.2180     0.427458   \n",
       "2014-02-26  Partly cloudy throughout the day.         0.1515     0.256833   \n",
       "\n",
       "            energy_max  energy_count  energy_std  energy_min  temperatureMax  \\\n",
       "day                                                                            \n",
       "2014-02-27       1.350          48.0    0.406681       0.080           10.31   \n",
       "2014-02-26       1.028          48.0    0.196095       0.076           11.29   \n",
       "\n",
       "            windBearing  dewPoint  cloudCover  windSpeed    pressure  \\\n",
       "day                                                                    \n",
       "2014-02-27        224.0      3.08        0.32       4.14  1007.02002   \n",
       "2014-02-26        227.0      2.74        0.26       3.82  1012.72998   \n",
       "\n",
       "            apparentTemperatureHigh  visibility  humidity  \\\n",
       "day                                                         \n",
       "2014-02-27                    10.31       12.04      0.74   \n",
       "2014-02-26                    11.29       13.00      0.73   \n",
       "\n",
       "            apparentTemperatureLow  apparentTemperatureMax  uvIndex  \\\n",
       "day                                                                   \n",
       "2014-02-27                    0.82                   10.31      2.0   \n",
       "2014-02-26                    3.03                   11.29      2.0   \n",
       "\n",
       "            temperatureLow  temperatureMin  temperatureHigh  \\\n",
       "day                                                           \n",
       "2014-02-27            3.43            3.93            10.31   \n",
       "2014-02-26            6.01            4.17            11.29   \n",
       "\n",
       "            apparentTemperatureMin  moonPhase    dayElapsed  daylightMins  \\\n",
       "day                                                                         \n",
       "2014-02-27                    1.41       0.93  1.393459e+09         645.0   \n",
       "2014-02-26                    1.67       0.90  1.393373e+09         641.0   \n",
       "\n",
       "            LCLid  energy_sum  \n",
       "day                            \n",
       "2014-02-27      2   20.837660  \n",
       "2014-02-26      2   12.643185  "
      ]
     },
     "execution_count": 157,
     "metadata": {},
     "output_type": "execute_result"
    }
   ],
   "source": [
    "joined_test.head(n=2)"
   ]
  },
  {
   "cell_type": "code",
   "execution_count": 158,
   "metadata": {
    "collapsed": true,
    "hidden": true
   },
   "outputs": [],
   "source": [
    "csv_fn=f'{PATH}tmp/4_6_forecast_NN_preds.csv'"
   ]
  },
  {
   "cell_type": "code",
   "execution_count": 159,
   "metadata": {
    "collapsed": true,
    "hidden": true
   },
   "outputs": [],
   "source": [
    "joined_test[['LCLid','energy_sum']].to_csv(csv_fn, index=False)"
   ]
  },
  {
   "cell_type": "markdown",
   "metadata": {
    "heading_collapsed": true
   },
   "source": [
    "## RF"
   ]
  },
  {
   "cell_type": "code",
   "execution_count": 160,
   "metadata": {
    "collapsed": true,
    "hidden": true
   },
   "outputs": [],
   "source": [
    "from sklearn.ensemble import RandomForestRegressor"
   ]
  },
  {
   "cell_type": "code",
   "execution_count": 161,
   "metadata": {
    "collapsed": true,
    "hidden": true
   },
   "outputs": [
    {
     "ename": "IndexError",
     "evalue": "boolean index did not match indexed array along dimension 0; dimension is 834927 but corresponding boolean dimension is 3339707",
     "output_type": "error",
     "traceback": [
      "\u001b[0;31m---------------------------------------------------------------------------\u001b[0m",
      "\u001b[0;31mIndexError\u001b[0m                                Traceback (most recent call last)",
      "\u001b[0;32m<ipython-input-161-0581da792b9f>\u001b[0m in \u001b[0;36m<module>\u001b[0;34m\u001b[0m\n\u001b[0;32m----> 1\u001b[0;31m \u001b[0;34m(\u001b[0m\u001b[0;34m(\u001b[0m\u001b[0mval\u001b[0m\u001b[0;34m,\u001b[0m\u001b[0mtrn\u001b[0m\u001b[0;34m)\u001b[0m\u001b[0;34m,\u001b[0m \u001b[0;34m(\u001b[0m\u001b[0my_val\u001b[0m\u001b[0;34m,\u001b[0m\u001b[0my_trn\u001b[0m\u001b[0;34m)\u001b[0m\u001b[0;34m)\u001b[0m \u001b[0;34m=\u001b[0m \u001b[0msplit_by_idx\u001b[0m\u001b[0;34m(\u001b[0m\u001b[0mval_idx\u001b[0m\u001b[0;34m,\u001b[0m \u001b[0mdf\u001b[0m\u001b[0;34m.\u001b[0m\u001b[0mvalues\u001b[0m\u001b[0;34m,\u001b[0m \u001b[0my\u001b[0m\u001b[0;34m)\u001b[0m\u001b[0;34m\u001b[0m\u001b[0m\n\u001b[0m",
      "\u001b[0;32m/mnt/963GB/Data/Python/Code/energy/teamunicornn/challenge_1/notebooks/fastai/dataset.py\u001b[0m in \u001b[0;36msplit_by_idx\u001b[0;34m(idxs, *a)\u001b[0m\n\u001b[1;32m    605\u001b[0m     \u001b[0mmask\u001b[0m \u001b[0;34m=\u001b[0m \u001b[0mnp\u001b[0m\u001b[0;34m.\u001b[0m\u001b[0mzeros\u001b[0m\u001b[0;34m(\u001b[0m\u001b[0mlen\u001b[0m\u001b[0;34m(\u001b[0m\u001b[0ma\u001b[0m\u001b[0;34m[\u001b[0m\u001b[0;36m0\u001b[0m\u001b[0;34m]\u001b[0m\u001b[0;34m)\u001b[0m\u001b[0;34m,\u001b[0m\u001b[0mdtype\u001b[0m\u001b[0;34m=\u001b[0m\u001b[0mbool\u001b[0m\u001b[0;34m)\u001b[0m\u001b[0;34m\u001b[0m\u001b[0m\n\u001b[1;32m    606\u001b[0m     \u001b[0mmask\u001b[0m\u001b[0;34m[\u001b[0m\u001b[0mnp\u001b[0m\u001b[0;34m.\u001b[0m\u001b[0marray\u001b[0m\u001b[0;34m(\u001b[0m\u001b[0midxs\u001b[0m\u001b[0;34m)\u001b[0m\u001b[0;34m]\u001b[0m \u001b[0;34m=\u001b[0m \u001b[0;32mTrue\u001b[0m\u001b[0;34m\u001b[0m\u001b[0m\n\u001b[0;32m--> 607\u001b[0;31m     \u001b[0;32mreturn\u001b[0m \u001b[0;34m[\u001b[0m\u001b[0;34m(\u001b[0m\u001b[0mo\u001b[0m\u001b[0;34m[\u001b[0m\u001b[0mmask\u001b[0m\u001b[0;34m]\u001b[0m\u001b[0;34m,\u001b[0m\u001b[0mo\u001b[0m\u001b[0;34m[\u001b[0m\u001b[0;34m~\u001b[0m\u001b[0mmask\u001b[0m\u001b[0;34m]\u001b[0m\u001b[0;34m)\u001b[0m \u001b[0;32mfor\u001b[0m \u001b[0mo\u001b[0m \u001b[0;32min\u001b[0m \u001b[0ma\u001b[0m\u001b[0;34m]\u001b[0m\u001b[0;34m\u001b[0m\u001b[0m\n\u001b[0m\u001b[1;32m    608\u001b[0m \u001b[0;34m\u001b[0m\u001b[0m\n",
      "\u001b[0;32m/mnt/963GB/Data/Python/Code/energy/teamunicornn/challenge_1/notebooks/fastai/dataset.py\u001b[0m in \u001b[0;36m<listcomp>\u001b[0;34m(.0)\u001b[0m\n\u001b[1;32m    605\u001b[0m     \u001b[0mmask\u001b[0m \u001b[0;34m=\u001b[0m \u001b[0mnp\u001b[0m\u001b[0;34m.\u001b[0m\u001b[0mzeros\u001b[0m\u001b[0;34m(\u001b[0m\u001b[0mlen\u001b[0m\u001b[0;34m(\u001b[0m\u001b[0ma\u001b[0m\u001b[0;34m[\u001b[0m\u001b[0;36m0\u001b[0m\u001b[0;34m]\u001b[0m\u001b[0;34m)\u001b[0m\u001b[0;34m,\u001b[0m\u001b[0mdtype\u001b[0m\u001b[0;34m=\u001b[0m\u001b[0mbool\u001b[0m\u001b[0;34m)\u001b[0m\u001b[0;34m\u001b[0m\u001b[0m\n\u001b[1;32m    606\u001b[0m     \u001b[0mmask\u001b[0m\u001b[0;34m[\u001b[0m\u001b[0mnp\u001b[0m\u001b[0;34m.\u001b[0m\u001b[0marray\u001b[0m\u001b[0;34m(\u001b[0m\u001b[0midxs\u001b[0m\u001b[0;34m)\u001b[0m\u001b[0;34m]\u001b[0m \u001b[0;34m=\u001b[0m \u001b[0;32mTrue\u001b[0m\u001b[0;34m\u001b[0m\u001b[0m\n\u001b[0;32m--> 607\u001b[0;31m     \u001b[0;32mreturn\u001b[0m \u001b[0;34m[\u001b[0m\u001b[0;34m(\u001b[0m\u001b[0mo\u001b[0m\u001b[0;34m[\u001b[0m\u001b[0mmask\u001b[0m\u001b[0;34m]\u001b[0m\u001b[0;34m,\u001b[0m\u001b[0mo\u001b[0m\u001b[0;34m[\u001b[0m\u001b[0;34m~\u001b[0m\u001b[0mmask\u001b[0m\u001b[0;34m]\u001b[0m\u001b[0;34m)\u001b[0m \u001b[0;32mfor\u001b[0m \u001b[0mo\u001b[0m \u001b[0;32min\u001b[0m \u001b[0ma\u001b[0m\u001b[0;34m]\u001b[0m\u001b[0;34m\u001b[0m\u001b[0m\n\u001b[0m\u001b[1;32m    608\u001b[0m \u001b[0;34m\u001b[0m\u001b[0m\n",
      "\u001b[0;31mIndexError\u001b[0m: boolean index did not match indexed array along dimension 0; dimension is 834927 but corresponding boolean dimension is 3339707"
     ]
    }
   ],
   "source": [
    "((val,trn), (y_val,y_trn)) = split_by_idx(val_idx, df.values, y)"
   ]
  },
  {
   "cell_type": "code",
   "execution_count": null,
   "metadata": {
    "collapsed": true,
    "hidden": true
   },
   "outputs": [],
   "source": [
    "m = RandomForestRegressor(n_estimators=40, max_features=0.99, min_samples_leaf=2,\n",
    "                          n_jobs=-1, oob_score=True)\n",
    "m.fit(trn, y_trn);"
   ]
  },
  {
   "cell_type": "code",
   "execution_count": null,
   "metadata": {
    "hidden": true
   },
   "outputs": [],
   "source": [
    "preds = m.predict(val)\n",
    "m.score(trn, y_trn), m.score(val, y_val), m.oob_score_, rmse(preds, y_val)"
   ]
  },
  {
   "cell_type": "markdown",
   "metadata": {
    "hidden": true
   },
   "source": [
    "## Reality check"
   ]
  },
  {
   "cell_type": "markdown",
   "metadata": {},
   "source": [
    "We are not going to have 'energy_median','energy_mean','energy_max','energy_count', 'energy_std', 'energy_min' for day for the 7 day forecast - lets feed in 7 day historal data for the attempted prediction of 'energy_sum'\n",
    "\n",
    "(we will have 7 day look ahead forecasts though so will leave in forecast data)"
   ]
  },
  {
   "cell_type": "code",
   "execution_count": null,
   "metadata": {},
   "outputs": [],
   "source": [
    "df = ftr.read_dataframe(f'{PATH}df_week_delayed_daily_cat_no_dates.feather')"
   ]
  }
 ],
 "metadata": {
  "anaconda-cloud": {},
  "kernelspec": {
   "display_name": "Python 3",
   "language": "python",
   "name": "python3"
  },
  "language_info": {
   "codemirror_mode": {
    "name": "ipython",
    "version": 3
   },
   "file_extension": ".py",
   "mimetype": "text/x-python",
   "name": "python",
   "nbconvert_exporter": "python",
   "pygments_lexer": "ipython3",
   "version": "3.6.6"
  },
  "toc": {
   "colors": {
    "hover_highlight": "#DAA520",
    "navigate_num": "#000000",
    "navigate_text": "#333333",
    "running_highlight": "#FF0000",
    "selected_highlight": "#FFD700",
    "sidebar_border": "#EEEEEE",
    "wrapper_background": "#FFFFFF"
   },
   "moveMenuLeft": true,
   "nav_menu": {
    "height": "173px",
    "width": "251px"
   },
   "navigate_menu": true,
   "number_sections": true,
   "sideBar": true,
   "threshold": 4,
   "toc_cell": false,
   "toc_section_display": "block",
   "toc_window_display": false,
   "widenNotebook": false
  },
  "varInspector": {
   "cols": {
    "lenName": 16,
    "lenType": 16,
    "lenVar": 40
   },
   "kernels_config": {
    "python": {
     "delete_cmd_postfix": "",
     "delete_cmd_prefix": "del ",
     "library": "var_list.py",
     "varRefreshCmd": "print(var_dic_list())"
    },
    "r": {
     "delete_cmd_postfix": ") ",
     "delete_cmd_prefix": "rm(",
     "library": "var_list.r",
     "varRefreshCmd": "cat(var_dic_list()) "
    }
   },
   "types_to_exclude": [
    "module",
    "function",
    "builtin_function_or_method",
    "instance",
    "_Feature"
   ],
   "window_display": false
  }
 },
 "nbformat": 4,
 "nbformat_minor": 2
}
