{
 "cells": [
  {
   "cell_type": "markdown",
   "metadata": {},
   "source": [
    "# Structured and time series data - half hourly dataset"
   ]
  },
  {
   "cell_type": "markdown",
   "metadata": {},
   "source": [
    "Based on the methodology taken by the third place result in the Rossman Kaggle competition as detailed in Guo/Berkhahn's [Entity Embeddings of Categorical Variables](https://arxiv.org/abs/1604.06737). See fastai rossman.ipynb\n",
    "\n",
    "The motivation behind exploring this architecture is it's relevance to real-world application. Most data used for decision making day-to-day in industry is structured and/or time-series data. Here we explore the end-to-end process of using neural networks with practical structured data problems.\n",
    "\n",
    "Here we will use a Root Mean Square Error loss function to be consistent with other forecasting models used for this project\n",
    "\n",
    "NB this notebook was divided into two parts thefirst involving a lot of data mungeing that only needs to be done once.\n",
    "\n",
    "In this part we build a deep learning model with Pytorch\n"
   ]
  },
  {
   "cell_type": "code",
   "execution_count": 144,
   "metadata": {},
   "outputs": [],
   "source": [
    "%matplotlib inline\n",
    "%reload_ext autoreload\n",
    "%autoreload 2"
   ]
  },
  {
   "cell_type": "code",
   "execution_count": 145,
   "metadata": {},
   "outputs": [],
   "source": [
    "from fastai.structured import *\n",
    "from fastai.column_data import *\n",
    "import feather as ftr\n",
    "from datetime import timedelta\n",
    "import random\n",
    "import heapq"
   ]
  },
  {
   "cell_type": "code",
   "execution_count": 146,
   "metadata": {},
   "outputs": [
    {
     "data": {
      "text/plain": [
       "0"
      ]
     },
     "execution_count": 146,
     "metadata": {},
     "output_type": "execute_result"
    }
   ],
   "source": [
    "torch.cuda.set_device(0)\n",
    "#torch.cuda.set_device(1)\n",
    "\n",
    "torch.cuda.current_device()"
   ]
  },
  {
   "cell_type": "code",
   "execution_count": 147,
   "metadata": {},
   "outputs": [],
   "source": [
    "pd.set_option('display.max_columns', None)\n",
    "pd.options.mode.chained_assignment = None  # default='warn'"
   ]
  },
  {
   "cell_type": "code",
   "execution_count": 148,
   "metadata": {},
   "outputs": [],
   "source": [
    "# These are the usual ipython objects\n",
    "ipython_vars = ['In', 'Out', 'exit', 'quit', 'get_ipython', 'ipython_vars']"
   ]
  },
  {
   "cell_type": "code",
   "execution_count": 149,
   "metadata": {},
   "outputs": [],
   "source": [
    "# Get a sorted list of the objects and their sizes\n",
    "#sorted([(x, sys.getsizeof(globals().get(x))) for x in dir() if not x.startswith('_') and x not in sys.modules and x not in ipython_vars], key=lambda x: x[1], reverse=True)"
   ]
  },
  {
   "cell_type": "code",
   "execution_count": 150,
   "metadata": {},
   "outputs": [],
   "source": [
    "PATH='../input/merged_data/'"
   ]
  },
  {
   "cell_type": "code",
   "execution_count": 151,
   "metadata": {
    "hidden": true
   },
   "outputs": [],
   "source": [
    "from IPython.display import HTML, display"
   ]
  },
  {
   "cell_type": "markdown",
   "metadata": {},
   "source": [
    "### Read in final pre-processed dataset"
   ]
  },
  {
   "cell_type": "code",
   "execution_count": 152,
   "metadata": {},
   "outputs": [],
   "source": [
    "df = pd.read_csv(f'{PATH}hh_final_544_ids_735_days.csv', low_memory=False)"
   ]
  },
  {
   "cell_type": "code",
   "execution_count": 153,
   "metadata": {},
   "outputs": [
    {
     "data": {
      "text/html": [
       "<div>\n",
       "<style scoped>\n",
       "    .dataframe tbody tr th:only-of-type {\n",
       "        vertical-align: middle;\n",
       "    }\n",
       "\n",
       "    .dataframe tbody tr th {\n",
       "        vertical-align: top;\n",
       "    }\n",
       "\n",
       "    .dataframe thead th {\n",
       "        text-align: right;\n",
       "    }\n",
       "</style>\n",
       "<table border=\"1\" class=\"dataframe\">\n",
       "  <thead>\n",
       "    <tr style=\"text-align: right;\">\n",
       "      <th></th>\n",
       "      <th>Unnamed: 0</th>\n",
       "      <th>index</th>\n",
       "      <th>LCLid</th>\n",
       "      <th>energy(kWh/hh)</th>\n",
       "      <th>dayYear</th>\n",
       "      <th>dayMonth</th>\n",
       "      <th>dayWeek</th>\n",
       "      <th>dayDay</th>\n",
       "      <th>dayDayofweek</th>\n",
       "      <th>dayDayofyear</th>\n",
       "      <th>dayIs_month_end</th>\n",
       "      <th>dayIs_month_start</th>\n",
       "      <th>dayIs_quarter_end</th>\n",
       "      <th>dayIs_quarter_start</th>\n",
       "      <th>dayIs_year_end</th>\n",
       "      <th>dayIs_year_start</th>\n",
       "      <th>dayElapsed</th>\n",
       "      <th>delta_minutes</th>\n",
       "      <th>visibility</th>\n",
       "      <th>windBearing</th>\n",
       "      <th>temperature</th>\n",
       "      <th>dewPoint</th>\n",
       "      <th>pressure</th>\n",
       "      <th>apparentTemperature</th>\n",
       "      <th>windSpeed</th>\n",
       "      <th>precipType</th>\n",
       "      <th>humidity</th>\n",
       "      <th>summary</th>\n",
       "      <th>is_bank_holiday</th>\n",
       "      <th>bank_holiday</th>\n",
       "      <th>day</th>\n",
       "      <th>cloudCover</th>\n",
       "      <th>uvIndex</th>\n",
       "      <th>moonPhase</th>\n",
       "      <th>from_sunrise</th>\n",
       "      <th>to_sunset</th>\n",
       "      <th>Afteris_bank_holiday</th>\n",
       "      <th>Beforeis_bank_holiday</th>\n",
       "      <th>stdorToU</th>\n",
       "      <th>Acorn</th>\n",
       "      <th>Acorn_grouped</th>\n",
       "    </tr>\n",
       "  </thead>\n",
       "  <tbody>\n",
       "    <tr>\n",
       "      <th>0</th>\n",
       "      <td>0</td>\n",
       "      <td>2012-02-05 00:00:00</td>\n",
       "      <td>MAC000006</td>\n",
       "      <td>0.042</td>\n",
       "      <td>2012</td>\n",
       "      <td>2</td>\n",
       "      <td>5</td>\n",
       "      <td>5</td>\n",
       "      <td>6</td>\n",
       "      <td>36</td>\n",
       "      <td>False</td>\n",
       "      <td>False</td>\n",
       "      <td>False</td>\n",
       "      <td>False</td>\n",
       "      <td>False</td>\n",
       "      <td>False</td>\n",
       "      <td>1328400000</td>\n",
       "      <td>-360000</td>\n",
       "      <td>1.32</td>\n",
       "      <td>160.0</td>\n",
       "      <td>-0.12</td>\n",
       "      <td>-0.22</td>\n",
       "      <td>1024.21</td>\n",
       "      <td>-4.68</td>\n",
       "      <td>4.35</td>\n",
       "      <td>snow</td>\n",
       "      <td>0.99</td>\n",
       "      <td>Foggy</td>\n",
       "      <td>False</td>\n",
       "      <td>NaN</td>\n",
       "      <td>2012-02-05</td>\n",
       "      <td>0.85</td>\n",
       "      <td>1.0</td>\n",
       "      <td>0.42</td>\n",
       "      <td>454.0</td>\n",
       "      <td>-1017.0</td>\n",
       "      <td>0</td>\n",
       "      <td>-87840</td>\n",
       "      <td>Std</td>\n",
       "      <td>ACORN-Q</td>\n",
       "      <td>Adversity</td>\n",
       "    </tr>\n",
       "    <tr>\n",
       "      <th>1</th>\n",
       "      <td>1</td>\n",
       "      <td>2012-02-05 00:00:00</td>\n",
       "      <td>MAC005178</td>\n",
       "      <td>0.561</td>\n",
       "      <td>2012</td>\n",
       "      <td>2</td>\n",
       "      <td>5</td>\n",
       "      <td>5</td>\n",
       "      <td>6</td>\n",
       "      <td>36</td>\n",
       "      <td>False</td>\n",
       "      <td>False</td>\n",
       "      <td>False</td>\n",
       "      <td>False</td>\n",
       "      <td>False</td>\n",
       "      <td>False</td>\n",
       "      <td>1328400000</td>\n",
       "      <td>-360000</td>\n",
       "      <td>1.32</td>\n",
       "      <td>160.0</td>\n",
       "      <td>-0.12</td>\n",
       "      <td>-0.22</td>\n",
       "      <td>1024.21</td>\n",
       "      <td>-4.68</td>\n",
       "      <td>4.35</td>\n",
       "      <td>snow</td>\n",
       "      <td>0.99</td>\n",
       "      <td>Foggy</td>\n",
       "      <td>False</td>\n",
       "      <td>NaN</td>\n",
       "      <td>2012-02-05</td>\n",
       "      <td>0.85</td>\n",
       "      <td>1.0</td>\n",
       "      <td>0.42</td>\n",
       "      <td>454.0</td>\n",
       "      <td>-1017.0</td>\n",
       "      <td>0</td>\n",
       "      <td>-87840</td>\n",
       "      <td>Std</td>\n",
       "      <td>ACORN-E</td>\n",
       "      <td>Affluent</td>\n",
       "    </tr>\n",
       "  </tbody>\n",
       "</table>\n",
       "</div>"
      ],
      "text/plain": [
       "   Unnamed: 0                index      LCLid  energy(kWh/hh)  dayYear  \\\n",
       "0           0  2012-02-05 00:00:00  MAC000006           0.042     2012   \n",
       "1           1  2012-02-05 00:00:00  MAC005178           0.561     2012   \n",
       "\n",
       "   dayMonth  dayWeek  dayDay  dayDayofweek  dayDayofyear  dayIs_month_end  \\\n",
       "0         2        5       5             6            36            False   \n",
       "1         2        5       5             6            36            False   \n",
       "\n",
       "   dayIs_month_start  dayIs_quarter_end  dayIs_quarter_start  dayIs_year_end  \\\n",
       "0              False              False                False           False   \n",
       "1              False              False                False           False   \n",
       "\n",
       "   dayIs_year_start  dayElapsed  delta_minutes  visibility  windBearing  \\\n",
       "0             False  1328400000        -360000        1.32        160.0   \n",
       "1             False  1328400000        -360000        1.32        160.0   \n",
       "\n",
       "   temperature  dewPoint  pressure  apparentTemperature  windSpeed precipType  \\\n",
       "0        -0.12     -0.22   1024.21                -4.68       4.35       snow   \n",
       "1        -0.12     -0.22   1024.21                -4.68       4.35       snow   \n",
       "\n",
       "   humidity summary  is_bank_holiday bank_holiday         day  cloudCover  \\\n",
       "0      0.99   Foggy            False          NaN  2012-02-05        0.85   \n",
       "1      0.99   Foggy            False          NaN  2012-02-05        0.85   \n",
       "\n",
       "   uvIndex  moonPhase  from_sunrise  to_sunset  Afteris_bank_holiday  \\\n",
       "0      1.0       0.42         454.0    -1017.0                     0   \n",
       "1      1.0       0.42         454.0    -1017.0                     0   \n",
       "\n",
       "   Beforeis_bank_holiday stdorToU    Acorn Acorn_grouped  \n",
       "0                 -87840      Std  ACORN-Q     Adversity  \n",
       "1                 -87840      Std  ACORN-E      Affluent  "
      ]
     },
     "execution_count": 153,
     "metadata": {},
     "output_type": "execute_result"
    }
   ],
   "source": [
    "df.head(n=2)"
   ]
  },
  {
   "cell_type": "code",
   "execution_count": 154,
   "metadata": {},
   "outputs": [],
   "source": [
    "df.rename(columns={'index': 'day_time'}, inplace=True)"
   ]
  },
  {
   "cell_type": "code",
   "execution_count": 155,
   "metadata": {},
   "outputs": [],
   "source": [
    "df.drop(columns=['Unnamed: 0'],inplace=True)"
   ]
  },
  {
   "cell_type": "code",
   "execution_count": 156,
   "metadata": {},
   "outputs": [],
   "source": [
    "df['day_time'] = pd.to_datetime(df['day_time'], format='%Y-%m-%d %H:%M:%S')"
   ]
  },
  {
   "cell_type": "markdown",
   "metadata": {},
   "source": [
    "Count NaNs in ouy target column"
   ]
  },
  {
   "cell_type": "code",
   "execution_count": 157,
   "metadata": {},
   "outputs": [
    {
     "data": {
      "text/plain": [
       "6207"
      ]
     },
     "execution_count": 157,
     "metadata": {},
     "output_type": "execute_result"
    }
   ],
   "source": [
    "df['energy(kWh/hh)'].isna().sum()"
   ]
  },
  {
   "cell_type": "code",
   "execution_count": 158,
   "metadata": {},
   "outputs": [
    {
     "data": {
      "text/plain": [
       "day_time                 False\n",
       "LCLid                    False\n",
       "energy(kWh/hh)            True\n",
       "dayYear                  False\n",
       "dayMonth                 False\n",
       "dayWeek                  False\n",
       "dayDay                   False\n",
       "dayDayofweek             False\n",
       "dayDayofyear             False\n",
       "dayIs_month_end          False\n",
       "dayIs_month_start        False\n",
       "dayIs_quarter_end        False\n",
       "dayIs_quarter_start      False\n",
       "dayIs_year_end           False\n",
       "dayIs_year_start         False\n",
       "dayElapsed               False\n",
       "delta_minutes            False\n",
       "visibility               False\n",
       "windBearing              False\n",
       "temperature              False\n",
       "dewPoint                 False\n",
       "pressure                 False\n",
       "apparentTemperature      False\n",
       "windSpeed                False\n",
       "precipType               False\n",
       "humidity                 False\n",
       "summary                  False\n",
       "is_bank_holiday          False\n",
       "bank_holiday              True\n",
       "day                      False\n",
       "cloudCover                True\n",
       "uvIndex                   True\n",
       "moonPhase                 True\n",
       "from_sunrise              True\n",
       "to_sunset                 True\n",
       "Afteris_bank_holiday     False\n",
       "Beforeis_bank_holiday    False\n",
       "stdorToU                 False\n",
       "Acorn                    False\n",
       "Acorn_grouped            False\n",
       "dtype: bool"
      ]
     },
     "execution_count": 158,
     "metadata": {},
     "output_type": "execute_result"
    }
   ],
   "source": [
    "#which columns have nan\n",
    "df.isna().any()"
   ]
  },
  {
   "cell_type": "code",
   "execution_count": 159,
   "metadata": {},
   "outputs": [],
   "source": [
    "nan_energy = df[df['energy(kWh/hh)'].isnull()]"
   ]
  },
  {
   "cell_type": "code",
   "execution_count": 160,
   "metadata": {},
   "outputs": [
    {
     "data": {
      "text/html": [
       "<div>\n",
       "<style scoped>\n",
       "    .dataframe tbody tr th:only-of-type {\n",
       "        vertical-align: middle;\n",
       "    }\n",
       "\n",
       "    .dataframe tbody tr th {\n",
       "        vertical-align: top;\n",
       "    }\n",
       "\n",
       "    .dataframe thead th {\n",
       "        text-align: right;\n",
       "    }\n",
       "</style>\n",
       "<table border=\"1\" class=\"dataframe\">\n",
       "  <thead>\n",
       "    <tr style=\"text-align: right;\">\n",
       "      <th></th>\n",
       "      <th>day_time</th>\n",
       "      <th>LCLid</th>\n",
       "      <th>energy(kWh/hh)</th>\n",
       "      <th>dayYear</th>\n",
       "      <th>dayMonth</th>\n",
       "      <th>dayWeek</th>\n",
       "      <th>dayDay</th>\n",
       "      <th>dayDayofweek</th>\n",
       "      <th>dayDayofyear</th>\n",
       "      <th>dayIs_month_end</th>\n",
       "      <th>dayIs_month_start</th>\n",
       "      <th>dayIs_quarter_end</th>\n",
       "      <th>dayIs_quarter_start</th>\n",
       "      <th>dayIs_year_end</th>\n",
       "      <th>dayIs_year_start</th>\n",
       "      <th>dayElapsed</th>\n",
       "      <th>delta_minutes</th>\n",
       "      <th>visibility</th>\n",
       "      <th>windBearing</th>\n",
       "      <th>temperature</th>\n",
       "      <th>dewPoint</th>\n",
       "      <th>pressure</th>\n",
       "      <th>apparentTemperature</th>\n",
       "      <th>windSpeed</th>\n",
       "      <th>precipType</th>\n",
       "      <th>humidity</th>\n",
       "      <th>summary</th>\n",
       "      <th>is_bank_holiday</th>\n",
       "      <th>bank_holiday</th>\n",
       "      <th>day</th>\n",
       "      <th>cloudCover</th>\n",
       "      <th>uvIndex</th>\n",
       "      <th>moonPhase</th>\n",
       "      <th>from_sunrise</th>\n",
       "      <th>to_sunset</th>\n",
       "      <th>Afteris_bank_holiday</th>\n",
       "      <th>Beforeis_bank_holiday</th>\n",
       "      <th>stdorToU</th>\n",
       "      <th>Acorn</th>\n",
       "      <th>Acorn_grouped</th>\n",
       "    </tr>\n",
       "  </thead>\n",
       "  <tbody>\n",
       "    <tr>\n",
       "      <th>289</th>\n",
       "      <td>2012-02-05 00:00:00</td>\n",
       "      <td>MAC004954</td>\n",
       "      <td>NaN</td>\n",
       "      <td>2012</td>\n",
       "      <td>2</td>\n",
       "      <td>5</td>\n",
       "      <td>5</td>\n",
       "      <td>6</td>\n",
       "      <td>36</td>\n",
       "      <td>False</td>\n",
       "      <td>False</td>\n",
       "      <td>False</td>\n",
       "      <td>False</td>\n",
       "      <td>False</td>\n",
       "      <td>False</td>\n",
       "      <td>1328400000</td>\n",
       "      <td>-360000</td>\n",
       "      <td>1.320</td>\n",
       "      <td>160.0</td>\n",
       "      <td>-0.12</td>\n",
       "      <td>-0.220</td>\n",
       "      <td>1024.21</td>\n",
       "      <td>-4.68</td>\n",
       "      <td>4.350</td>\n",
       "      <td>snow</td>\n",
       "      <td>0.990</td>\n",
       "      <td>Foggy</td>\n",
       "      <td>False</td>\n",
       "      <td>NaN</td>\n",
       "      <td>2012-02-05</td>\n",
       "      <td>NaN</td>\n",
       "      <td>NaN</td>\n",
       "      <td>NaN</td>\n",
       "      <td>NaN</td>\n",
       "      <td>NaN</td>\n",
       "      <td>0</td>\n",
       "      <td>-87840</td>\n",
       "      <td>Std</td>\n",
       "      <td>ACORN-E</td>\n",
       "      <td>Affluent</td>\n",
       "    </tr>\n",
       "    <tr>\n",
       "      <th>6100</th>\n",
       "      <td>2012-02-05 05:30:00</td>\n",
       "      <td>MAC000041</td>\n",
       "      <td>NaN</td>\n",
       "      <td>2012</td>\n",
       "      <td>2</td>\n",
       "      <td>5</td>\n",
       "      <td>5</td>\n",
       "      <td>6</td>\n",
       "      <td>36</td>\n",
       "      <td>False</td>\n",
       "      <td>False</td>\n",
       "      <td>False</td>\n",
       "      <td>False</td>\n",
       "      <td>False</td>\n",
       "      <td>False</td>\n",
       "      <td>1328400000</td>\n",
       "      <td>-359670</td>\n",
       "      <td>4.165</td>\n",
       "      <td>101.5</td>\n",
       "      <td>0.38</td>\n",
       "      <td>0.015</td>\n",
       "      <td>1023.81</td>\n",
       "      <td>-1.47</td>\n",
       "      <td>1.605</td>\n",
       "      <td>snow</td>\n",
       "      <td>0.975</td>\n",
       "      <td>Mostly Cloudy</td>\n",
       "      <td>False</td>\n",
       "      <td>NaN</td>\n",
       "      <td>2012-02-05</td>\n",
       "      <td>NaN</td>\n",
       "      <td>NaN</td>\n",
       "      <td>NaN</td>\n",
       "      <td>NaN</td>\n",
       "      <td>NaN</td>\n",
       "      <td>0</td>\n",
       "      <td>-87840</td>\n",
       "      <td>Std</td>\n",
       "      <td>ACORN-Q</td>\n",
       "      <td>Adversity</td>\n",
       "    </tr>\n",
       "  </tbody>\n",
       "</table>\n",
       "</div>"
      ],
      "text/plain": [
       "                day_time      LCLid  energy(kWh/hh)  dayYear  dayMonth  \\\n",
       "289  2012-02-05 00:00:00  MAC004954             NaN     2012         2   \n",
       "6100 2012-02-05 05:30:00  MAC000041             NaN     2012         2   \n",
       "\n",
       "      dayWeek  dayDay  dayDayofweek  dayDayofyear  dayIs_month_end  \\\n",
       "289         5       5             6            36            False   \n",
       "6100        5       5             6            36            False   \n",
       "\n",
       "      dayIs_month_start  dayIs_quarter_end  dayIs_quarter_start  \\\n",
       "289               False              False                False   \n",
       "6100              False              False                False   \n",
       "\n",
       "      dayIs_year_end  dayIs_year_start  dayElapsed  delta_minutes  visibility  \\\n",
       "289            False             False  1328400000        -360000       1.320   \n",
       "6100           False             False  1328400000        -359670       4.165   \n",
       "\n",
       "      windBearing  temperature  dewPoint  pressure  apparentTemperature  \\\n",
       "289         160.0        -0.12    -0.220   1024.21                -4.68   \n",
       "6100        101.5         0.38     0.015   1023.81                -1.47   \n",
       "\n",
       "      windSpeed precipType  humidity        summary  is_bank_holiday  \\\n",
       "289       4.350       snow     0.990          Foggy            False   \n",
       "6100      1.605       snow     0.975  Mostly Cloudy            False   \n",
       "\n",
       "     bank_holiday         day  cloudCover  uvIndex  moonPhase  from_sunrise  \\\n",
       "289           NaN  2012-02-05         NaN      NaN        NaN           NaN   \n",
       "6100          NaN  2012-02-05         NaN      NaN        NaN           NaN   \n",
       "\n",
       "      to_sunset  Afteris_bank_holiday  Beforeis_bank_holiday stdorToU  \\\n",
       "289         NaN                     0                 -87840      Std   \n",
       "6100        NaN                     0                 -87840      Std   \n",
       "\n",
       "        Acorn Acorn_grouped  \n",
       "289   ACORN-E      Affluent  \n",
       "6100  ACORN-Q     Adversity  "
      ]
     },
     "execution_count": 160,
     "metadata": {},
     "output_type": "execute_result"
    }
   ],
   "source": [
    "nan_energy.head(n=2)"
   ]
  },
  {
   "cell_type": "markdown",
   "metadata": {},
   "source": [
    "Ideally we would investigate further and better interpolate/subset to remove nan but dont have time se we just replace all nan with zero"
   ]
  },
  {
   "cell_type": "code",
   "execution_count": 161,
   "metadata": {},
   "outputs": [],
   "source": [
    "df.fillna(0,inplace=True)"
   ]
  },
  {
   "cell_type": "code",
   "execution_count": 162,
   "metadata": {},
   "outputs": [
    {
     "data": {
      "text/plain": [
       "day_time                 datetime64[ns]\n",
       "LCLid                            object\n",
       "energy(kWh/hh)                  float64\n",
       "dayYear                           int64\n",
       "dayMonth                          int64\n",
       "dayWeek                           int64\n",
       "dayDay                            int64\n",
       "dayDayofweek                      int64\n",
       "dayDayofyear                      int64\n",
       "dayIs_month_end                    bool\n",
       "dayIs_month_start                  bool\n",
       "dayIs_quarter_end                  bool\n",
       "dayIs_quarter_start                bool\n",
       "dayIs_year_end                     bool\n",
       "dayIs_year_start                   bool\n",
       "dayElapsed                        int64\n",
       "delta_minutes                     int64\n",
       "visibility                      float64\n",
       "windBearing                     float64\n",
       "temperature                     float64\n",
       "dewPoint                        float64\n",
       "pressure                        float64\n",
       "apparentTemperature             float64\n",
       "windSpeed                       float64\n",
       "precipType                       object\n",
       "humidity                        float64\n",
       "summary                          object\n",
       "is_bank_holiday                    bool\n",
       "bank_holiday                     object\n",
       "day                              object\n",
       "cloudCover                      float64\n",
       "uvIndex                         float64\n",
       "moonPhase                       float64\n",
       "from_sunrise                    float64\n",
       "to_sunset                       float64\n",
       "Afteris_bank_holiday              int64\n",
       "Beforeis_bank_holiday             int64\n",
       "stdorToU                         object\n",
       "Acorn                            object\n",
       "Acorn_grouped                    object\n",
       "dtype: object"
      ]
     },
     "execution_count": 162,
     "metadata": {},
     "output_type": "execute_result"
    }
   ],
   "source": [
    "df.dtypes"
   ]
  },
  {
   "cell_type": "markdown",
   "metadata": {},
   "source": [
    "These are our final set of engineered features."
   ]
  },
  {
   "cell_type": "markdown",
   "metadata": {
    "heading_collapsed": true
   },
   "source": [
    "## Create features"
   ]
  },
  {
   "cell_type": "code",
   "execution_count": 163,
   "metadata": {
    "hidden": true
   },
   "outputs": [],
   "source": [
    "#joined = pd.read_feather(f'{PATH}joined')\n",
    "#joined_test = pd.read_feather(f'{PATH}joined_test')"
   ]
  },
  {
   "cell_type": "code",
   "execution_count": 164,
   "metadata": {
    "hidden": true,
    "scrolled": true
   },
   "outputs": [
    {
     "data": {
      "text/html": [
       "<div>\n",
       "<style scoped>\n",
       "    .dataframe tbody tr th:only-of-type {\n",
       "        vertical-align: middle;\n",
       "    }\n",
       "\n",
       "    .dataframe tbody tr th {\n",
       "        vertical-align: top;\n",
       "    }\n",
       "\n",
       "    .dataframe thead th {\n",
       "        text-align: right;\n",
       "    }\n",
       "</style>\n",
       "<table border=\"1\" class=\"dataframe\">\n",
       "  <thead>\n",
       "    <tr style=\"text-align: right;\">\n",
       "      <th></th>\n",
       "      <th>0</th>\n",
       "      <th>1</th>\n",
       "      <th>2</th>\n",
       "      <th>3</th>\n",
       "      <th>4</th>\n",
       "    </tr>\n",
       "  </thead>\n",
       "  <tbody>\n",
       "    <tr>\n",
       "      <th>day_time</th>\n",
       "      <td>2012-02-05 00:00:00</td>\n",
       "      <td>2012-02-05 00:00:00</td>\n",
       "      <td>2012-02-05 00:00:00</td>\n",
       "      <td>2012-02-05 00:00:00</td>\n",
       "      <td>2012-02-05 00:00:00</td>\n",
       "    </tr>\n",
       "    <tr>\n",
       "      <th>LCLid</th>\n",
       "      <td>MAC000006</td>\n",
       "      <td>MAC005178</td>\n",
       "      <td>MAC000066</td>\n",
       "      <td>MAC004510</td>\n",
       "      <td>MAC004882</td>\n",
       "    </tr>\n",
       "    <tr>\n",
       "      <th>energy(kWh/hh)</th>\n",
       "      <td>0.042</td>\n",
       "      <td>0.561</td>\n",
       "      <td>0.037</td>\n",
       "      <td>0.254</td>\n",
       "      <td>0.426</td>\n",
       "    </tr>\n",
       "    <tr>\n",
       "      <th>dayYear</th>\n",
       "      <td>2012</td>\n",
       "      <td>2012</td>\n",
       "      <td>2012</td>\n",
       "      <td>2012</td>\n",
       "      <td>2012</td>\n",
       "    </tr>\n",
       "    <tr>\n",
       "      <th>dayMonth</th>\n",
       "      <td>2</td>\n",
       "      <td>2</td>\n",
       "      <td>2</td>\n",
       "      <td>2</td>\n",
       "      <td>2</td>\n",
       "    </tr>\n",
       "    <tr>\n",
       "      <th>dayWeek</th>\n",
       "      <td>5</td>\n",
       "      <td>5</td>\n",
       "      <td>5</td>\n",
       "      <td>5</td>\n",
       "      <td>5</td>\n",
       "    </tr>\n",
       "    <tr>\n",
       "      <th>dayDay</th>\n",
       "      <td>5</td>\n",
       "      <td>5</td>\n",
       "      <td>5</td>\n",
       "      <td>5</td>\n",
       "      <td>5</td>\n",
       "    </tr>\n",
       "    <tr>\n",
       "      <th>dayDayofweek</th>\n",
       "      <td>6</td>\n",
       "      <td>6</td>\n",
       "      <td>6</td>\n",
       "      <td>6</td>\n",
       "      <td>6</td>\n",
       "    </tr>\n",
       "    <tr>\n",
       "      <th>dayDayofyear</th>\n",
       "      <td>36</td>\n",
       "      <td>36</td>\n",
       "      <td>36</td>\n",
       "      <td>36</td>\n",
       "      <td>36</td>\n",
       "    </tr>\n",
       "    <tr>\n",
       "      <th>dayIs_month_end</th>\n",
       "      <td>False</td>\n",
       "      <td>False</td>\n",
       "      <td>False</td>\n",
       "      <td>False</td>\n",
       "      <td>False</td>\n",
       "    </tr>\n",
       "    <tr>\n",
       "      <th>dayIs_month_start</th>\n",
       "      <td>False</td>\n",
       "      <td>False</td>\n",
       "      <td>False</td>\n",
       "      <td>False</td>\n",
       "      <td>False</td>\n",
       "    </tr>\n",
       "    <tr>\n",
       "      <th>dayIs_quarter_end</th>\n",
       "      <td>False</td>\n",
       "      <td>False</td>\n",
       "      <td>False</td>\n",
       "      <td>False</td>\n",
       "      <td>False</td>\n",
       "    </tr>\n",
       "    <tr>\n",
       "      <th>dayIs_quarter_start</th>\n",
       "      <td>False</td>\n",
       "      <td>False</td>\n",
       "      <td>False</td>\n",
       "      <td>False</td>\n",
       "      <td>False</td>\n",
       "    </tr>\n",
       "    <tr>\n",
       "      <th>dayIs_year_end</th>\n",
       "      <td>False</td>\n",
       "      <td>False</td>\n",
       "      <td>False</td>\n",
       "      <td>False</td>\n",
       "      <td>False</td>\n",
       "    </tr>\n",
       "    <tr>\n",
       "      <th>dayIs_year_start</th>\n",
       "      <td>False</td>\n",
       "      <td>False</td>\n",
       "      <td>False</td>\n",
       "      <td>False</td>\n",
       "      <td>False</td>\n",
       "    </tr>\n",
       "    <tr>\n",
       "      <th>dayElapsed</th>\n",
       "      <td>1328400000</td>\n",
       "      <td>1328400000</td>\n",
       "      <td>1328400000</td>\n",
       "      <td>1328400000</td>\n",
       "      <td>1328400000</td>\n",
       "    </tr>\n",
       "    <tr>\n",
       "      <th>delta_minutes</th>\n",
       "      <td>-360000</td>\n",
       "      <td>-360000</td>\n",
       "      <td>-360000</td>\n",
       "      <td>-360000</td>\n",
       "      <td>-360000</td>\n",
       "    </tr>\n",
       "    <tr>\n",
       "      <th>visibility</th>\n",
       "      <td>1.32</td>\n",
       "      <td>1.32</td>\n",
       "      <td>1.32</td>\n",
       "      <td>1.32</td>\n",
       "      <td>1.32</td>\n",
       "    </tr>\n",
       "    <tr>\n",
       "      <th>windBearing</th>\n",
       "      <td>160</td>\n",
       "      <td>160</td>\n",
       "      <td>160</td>\n",
       "      <td>160</td>\n",
       "      <td>160</td>\n",
       "    </tr>\n",
       "    <tr>\n",
       "      <th>temperature</th>\n",
       "      <td>-0.12</td>\n",
       "      <td>-0.12</td>\n",
       "      <td>-0.12</td>\n",
       "      <td>-0.12</td>\n",
       "      <td>-0.12</td>\n",
       "    </tr>\n",
       "    <tr>\n",
       "      <th>dewPoint</th>\n",
       "      <td>-0.22</td>\n",
       "      <td>-0.22</td>\n",
       "      <td>-0.22</td>\n",
       "      <td>-0.22</td>\n",
       "      <td>-0.22</td>\n",
       "    </tr>\n",
       "    <tr>\n",
       "      <th>pressure</th>\n",
       "      <td>1024.21</td>\n",
       "      <td>1024.21</td>\n",
       "      <td>1024.21</td>\n",
       "      <td>1024.21</td>\n",
       "      <td>1024.21</td>\n",
       "    </tr>\n",
       "    <tr>\n",
       "      <th>apparentTemperature</th>\n",
       "      <td>-4.68</td>\n",
       "      <td>-4.68</td>\n",
       "      <td>-4.68</td>\n",
       "      <td>-4.68</td>\n",
       "      <td>-4.68</td>\n",
       "    </tr>\n",
       "    <tr>\n",
       "      <th>windSpeed</th>\n",
       "      <td>4.35</td>\n",
       "      <td>4.35</td>\n",
       "      <td>4.35</td>\n",
       "      <td>4.35</td>\n",
       "      <td>4.35</td>\n",
       "    </tr>\n",
       "    <tr>\n",
       "      <th>precipType</th>\n",
       "      <td>snow</td>\n",
       "      <td>snow</td>\n",
       "      <td>snow</td>\n",
       "      <td>snow</td>\n",
       "      <td>snow</td>\n",
       "    </tr>\n",
       "    <tr>\n",
       "      <th>humidity</th>\n",
       "      <td>0.99</td>\n",
       "      <td>0.99</td>\n",
       "      <td>0.99</td>\n",
       "      <td>0.99</td>\n",
       "      <td>0.99</td>\n",
       "    </tr>\n",
       "    <tr>\n",
       "      <th>summary</th>\n",
       "      <td>Foggy</td>\n",
       "      <td>Foggy</td>\n",
       "      <td>Foggy</td>\n",
       "      <td>Foggy</td>\n",
       "      <td>Foggy</td>\n",
       "    </tr>\n",
       "    <tr>\n",
       "      <th>is_bank_holiday</th>\n",
       "      <td>False</td>\n",
       "      <td>False</td>\n",
       "      <td>False</td>\n",
       "      <td>False</td>\n",
       "      <td>False</td>\n",
       "    </tr>\n",
       "    <tr>\n",
       "      <th>bank_holiday</th>\n",
       "      <td>0</td>\n",
       "      <td>0</td>\n",
       "      <td>0</td>\n",
       "      <td>0</td>\n",
       "      <td>0</td>\n",
       "    </tr>\n",
       "    <tr>\n",
       "      <th>day</th>\n",
       "      <td>2012-02-05</td>\n",
       "      <td>2012-02-05</td>\n",
       "      <td>2012-02-05</td>\n",
       "      <td>2012-02-05</td>\n",
       "      <td>2012-02-05</td>\n",
       "    </tr>\n",
       "    <tr>\n",
       "      <th>cloudCover</th>\n",
       "      <td>0.85</td>\n",
       "      <td>0.85</td>\n",
       "      <td>0.85</td>\n",
       "      <td>0.85</td>\n",
       "      <td>0.85</td>\n",
       "    </tr>\n",
       "    <tr>\n",
       "      <th>uvIndex</th>\n",
       "      <td>1</td>\n",
       "      <td>1</td>\n",
       "      <td>1</td>\n",
       "      <td>1</td>\n",
       "      <td>1</td>\n",
       "    </tr>\n",
       "    <tr>\n",
       "      <th>moonPhase</th>\n",
       "      <td>0.42</td>\n",
       "      <td>0.42</td>\n",
       "      <td>0.42</td>\n",
       "      <td>0.42</td>\n",
       "      <td>0.42</td>\n",
       "    </tr>\n",
       "    <tr>\n",
       "      <th>from_sunrise</th>\n",
       "      <td>454</td>\n",
       "      <td>454</td>\n",
       "      <td>454</td>\n",
       "      <td>454</td>\n",
       "      <td>454</td>\n",
       "    </tr>\n",
       "    <tr>\n",
       "      <th>to_sunset</th>\n",
       "      <td>-1017</td>\n",
       "      <td>-1017</td>\n",
       "      <td>-1017</td>\n",
       "      <td>-1017</td>\n",
       "      <td>-1017</td>\n",
       "    </tr>\n",
       "    <tr>\n",
       "      <th>Afteris_bank_holiday</th>\n",
       "      <td>0</td>\n",
       "      <td>0</td>\n",
       "      <td>0</td>\n",
       "      <td>0</td>\n",
       "      <td>0</td>\n",
       "    </tr>\n",
       "    <tr>\n",
       "      <th>Beforeis_bank_holiday</th>\n",
       "      <td>-87840</td>\n",
       "      <td>-87840</td>\n",
       "      <td>-87840</td>\n",
       "      <td>-87840</td>\n",
       "      <td>-87840</td>\n",
       "    </tr>\n",
       "    <tr>\n",
       "      <th>stdorToU</th>\n",
       "      <td>Std</td>\n",
       "      <td>Std</td>\n",
       "      <td>Std</td>\n",
       "      <td>Std</td>\n",
       "      <td>Std</td>\n",
       "    </tr>\n",
       "    <tr>\n",
       "      <th>Acorn</th>\n",
       "      <td>ACORN-Q</td>\n",
       "      <td>ACORN-E</td>\n",
       "      <td>ACORN-E</td>\n",
       "      <td>ACORN-E</td>\n",
       "      <td>ACORN-F</td>\n",
       "    </tr>\n",
       "    <tr>\n",
       "      <th>Acorn_grouped</th>\n",
       "      <td>Adversity</td>\n",
       "      <td>Affluent</td>\n",
       "      <td>Affluent</td>\n",
       "      <td>Affluent</td>\n",
       "      <td>Comfortable</td>\n",
       "    </tr>\n",
       "  </tbody>\n",
       "</table>\n",
       "</div>"
      ],
      "text/plain": [
       "                                         0                    1  \\\n",
       "day_time               2012-02-05 00:00:00  2012-02-05 00:00:00   \n",
       "LCLid                            MAC000006            MAC005178   \n",
       "energy(kWh/hh)                       0.042                0.561   \n",
       "dayYear                               2012                 2012   \n",
       "dayMonth                                 2                    2   \n",
       "dayWeek                                  5                    5   \n",
       "dayDay                                   5                    5   \n",
       "dayDayofweek                             6                    6   \n",
       "dayDayofyear                            36                   36   \n",
       "dayIs_month_end                      False                False   \n",
       "dayIs_month_start                    False                False   \n",
       "dayIs_quarter_end                    False                False   \n",
       "dayIs_quarter_start                  False                False   \n",
       "dayIs_year_end                       False                False   \n",
       "dayIs_year_start                     False                False   \n",
       "dayElapsed                      1328400000           1328400000   \n",
       "delta_minutes                      -360000              -360000   \n",
       "visibility                            1.32                 1.32   \n",
       "windBearing                            160                  160   \n",
       "temperature                          -0.12                -0.12   \n",
       "dewPoint                             -0.22                -0.22   \n",
       "pressure                           1024.21              1024.21   \n",
       "apparentTemperature                  -4.68                -4.68   \n",
       "windSpeed                             4.35                 4.35   \n",
       "precipType                            snow                 snow   \n",
       "humidity                              0.99                 0.99   \n",
       "summary                              Foggy                Foggy   \n",
       "is_bank_holiday                      False                False   \n",
       "bank_holiday                             0                    0   \n",
       "day                             2012-02-05           2012-02-05   \n",
       "cloudCover                            0.85                 0.85   \n",
       "uvIndex                                  1                    1   \n",
       "moonPhase                             0.42                 0.42   \n",
       "from_sunrise                           454                  454   \n",
       "to_sunset                            -1017                -1017   \n",
       "Afteris_bank_holiday                     0                    0   \n",
       "Beforeis_bank_holiday               -87840               -87840   \n",
       "stdorToU                               Std                  Std   \n",
       "Acorn                              ACORN-Q              ACORN-E   \n",
       "Acorn_grouped                    Adversity             Affluent   \n",
       "\n",
       "                                         2                    3  \\\n",
       "day_time               2012-02-05 00:00:00  2012-02-05 00:00:00   \n",
       "LCLid                            MAC000066            MAC004510   \n",
       "energy(kWh/hh)                       0.037                0.254   \n",
       "dayYear                               2012                 2012   \n",
       "dayMonth                                 2                    2   \n",
       "dayWeek                                  5                    5   \n",
       "dayDay                                   5                    5   \n",
       "dayDayofweek                             6                    6   \n",
       "dayDayofyear                            36                   36   \n",
       "dayIs_month_end                      False                False   \n",
       "dayIs_month_start                    False                False   \n",
       "dayIs_quarter_end                    False                False   \n",
       "dayIs_quarter_start                  False                False   \n",
       "dayIs_year_end                       False                False   \n",
       "dayIs_year_start                     False                False   \n",
       "dayElapsed                      1328400000           1328400000   \n",
       "delta_minutes                      -360000              -360000   \n",
       "visibility                            1.32                 1.32   \n",
       "windBearing                            160                  160   \n",
       "temperature                          -0.12                -0.12   \n",
       "dewPoint                             -0.22                -0.22   \n",
       "pressure                           1024.21              1024.21   \n",
       "apparentTemperature                  -4.68                -4.68   \n",
       "windSpeed                             4.35                 4.35   \n",
       "precipType                            snow                 snow   \n",
       "humidity                              0.99                 0.99   \n",
       "summary                              Foggy                Foggy   \n",
       "is_bank_holiday                      False                False   \n",
       "bank_holiday                             0                    0   \n",
       "day                             2012-02-05           2012-02-05   \n",
       "cloudCover                            0.85                 0.85   \n",
       "uvIndex                                  1                    1   \n",
       "moonPhase                             0.42                 0.42   \n",
       "from_sunrise                           454                  454   \n",
       "to_sunset                            -1017                -1017   \n",
       "Afteris_bank_holiday                     0                    0   \n",
       "Beforeis_bank_holiday               -87840               -87840   \n",
       "stdorToU                               Std                  Std   \n",
       "Acorn                              ACORN-E              ACORN-E   \n",
       "Acorn_grouped                     Affluent             Affluent   \n",
       "\n",
       "                                         4  \n",
       "day_time               2012-02-05 00:00:00  \n",
       "LCLid                            MAC004882  \n",
       "energy(kWh/hh)                       0.426  \n",
       "dayYear                               2012  \n",
       "dayMonth                                 2  \n",
       "dayWeek                                  5  \n",
       "dayDay                                   5  \n",
       "dayDayofweek                             6  \n",
       "dayDayofyear                            36  \n",
       "dayIs_month_end                      False  \n",
       "dayIs_month_start                    False  \n",
       "dayIs_quarter_end                    False  \n",
       "dayIs_quarter_start                  False  \n",
       "dayIs_year_end                       False  \n",
       "dayIs_year_start                     False  \n",
       "dayElapsed                      1328400000  \n",
       "delta_minutes                      -360000  \n",
       "visibility                            1.32  \n",
       "windBearing                            160  \n",
       "temperature                          -0.12  \n",
       "dewPoint                             -0.22  \n",
       "pressure                           1024.21  \n",
       "apparentTemperature                  -4.68  \n",
       "windSpeed                             4.35  \n",
       "precipType                            snow  \n",
       "humidity                              0.99  \n",
       "summary                              Foggy  \n",
       "is_bank_holiday                      False  \n",
       "bank_holiday                             0  \n",
       "day                             2012-02-05  \n",
       "cloudCover                            0.85  \n",
       "uvIndex                                  1  \n",
       "moonPhase                             0.42  \n",
       "from_sunrise                           454  \n",
       "to_sunset                            -1017  \n",
       "Afteris_bank_holiday                     0  \n",
       "Beforeis_bank_holiday               -87840  \n",
       "stdorToU                               Std  \n",
       "Acorn                              ACORN-F  \n",
       "Acorn_grouped                  Comfortable  "
      ]
     },
     "execution_count": 164,
     "metadata": {},
     "output_type": "execute_result"
    }
   ],
   "source": [
    "df.head().T.head(len(list(df)))"
   ]
  },
  {
   "cell_type": "markdown",
   "metadata": {
    "hidden": true
   },
   "source": [
    "Now that we've engineered all our features, we need to convert to input compatible with a neural network.\n",
    "\n",
    "This includes converting categorical variables into contiguous integers or one-hot encodings, normalizing continuous features to standard normal, etc..."
   ]
  },
  {
   "cell_type": "markdown",
   "metadata": {},
   "source": [
    "### T/T split"
   ]
  },
  {
   "cell_type": "code",
   "execution_count": 165,
   "metadata": {},
   "outputs": [
    {
     "data": {
      "text/plain": [
       "['day_time',\n",
       " 'LCLid',\n",
       " 'energy(kWh/hh)',\n",
       " 'dayYear',\n",
       " 'dayMonth',\n",
       " 'dayWeek',\n",
       " 'dayDay',\n",
       " 'dayDayofweek',\n",
       " 'dayDayofyear',\n",
       " 'dayIs_month_end',\n",
       " 'dayIs_month_start',\n",
       " 'dayIs_quarter_end',\n",
       " 'dayIs_quarter_start',\n",
       " 'dayIs_year_end',\n",
       " 'dayIs_year_start',\n",
       " 'dayElapsed',\n",
       " 'delta_minutes',\n",
       " 'visibility',\n",
       " 'windBearing',\n",
       " 'temperature',\n",
       " 'dewPoint',\n",
       " 'pressure',\n",
       " 'apparentTemperature',\n",
       " 'windSpeed',\n",
       " 'precipType',\n",
       " 'humidity',\n",
       " 'summary',\n",
       " 'is_bank_holiday',\n",
       " 'bank_holiday',\n",
       " 'day',\n",
       " 'cloudCover',\n",
       " 'uvIndex',\n",
       " 'moonPhase',\n",
       " 'from_sunrise',\n",
       " 'to_sunset',\n",
       " 'Afteris_bank_holiday',\n",
       " 'Beforeis_bank_holiday',\n",
       " 'stdorToU',\n",
       " 'Acorn',\n",
       " 'Acorn_grouped']"
      ]
     },
     "execution_count": 165,
     "metadata": {},
     "output_type": "execute_result"
    }
   ],
   "source": [
    "list(df)"
   ]
  },
  {
   "cell_type": "code",
   "execution_count": 166,
   "metadata": {},
   "outputs": [
    {
     "data": {
      "text/plain": [
       "(Timestamp('2012-02-05 00:00:00'), '2012-02-05')"
      ]
     },
     "execution_count": 166,
     "metadata": {},
     "output_type": "execute_result"
    }
   ],
   "source": [
    "df['day_time'].min(), df['day'].min()"
   ]
  },
  {
   "cell_type": "code",
   "execution_count": 167,
   "metadata": {},
   "outputs": [
    {
     "data": {
      "text/plain": [
       "(Timestamp('2014-02-08 23:30:00'), '2014-02-08')"
      ]
     },
     "execution_count": 167,
     "metadata": {},
     "output_type": "execute_result"
    }
   ],
   "source": [
    "df['day_time'].max(), df['day'].max()"
   ]
  },
  {
   "cell_type": "markdown",
   "metadata": {},
   "source": [
    "Lets keep last 2 weeks for test and 2 weeks for validation data\n"
   ]
  },
  {
   "cell_type": "code",
   "execution_count": 168,
   "metadata": {},
   "outputs": [],
   "source": [
    "#val_date = pd.datetime(2014,1,26)\n",
    "#test data - last week of data\n",
    "split_date = pd.datetime(2014,2,2)"
   ]
  },
  {
   "cell_type": "code",
   "execution_count": 169,
   "metadata": {},
   "outputs": [
    {
     "data": {
      "text/plain": [
       "datetime.datetime(2014, 2, 2, 0, 0)"
      ]
     },
     "execution_count": 169,
     "metadata": {},
     "output_type": "execute_result"
    }
   ],
   "source": [
    "split_date"
   ]
  },
  {
   "cell_type": "code",
   "execution_count": 170,
   "metadata": {},
   "outputs": [],
   "source": [
    "joined_train = df.loc[df['day_time'] < split_date]\n",
    "joined_test = df.loc[df['day_time'] >= split_date]"
   ]
  },
  {
   "cell_type": "code",
   "execution_count": 171,
   "metadata": {},
   "outputs": [
    {
     "data": {
      "text/plain": [
       "(19192320, 19009536, 182784)"
      ]
     },
     "execution_count": 171,
     "metadata": {},
     "output_type": "execute_result"
    }
   ],
   "source": [
    "len(df), len(joined_train), len(joined_test)"
   ]
  },
  {
   "cell_type": "code",
   "execution_count": 172,
   "metadata": {},
   "outputs": [
    {
     "data": {
      "text/html": [
       "<div>\n",
       "<style scoped>\n",
       "    .dataframe tbody tr th:only-of-type {\n",
       "        vertical-align: middle;\n",
       "    }\n",
       "\n",
       "    .dataframe tbody tr th {\n",
       "        vertical-align: top;\n",
       "    }\n",
       "\n",
       "    .dataframe thead th {\n",
       "        text-align: right;\n",
       "    }\n",
       "</style>\n",
       "<table border=\"1\" class=\"dataframe\">\n",
       "  <thead>\n",
       "    <tr style=\"text-align: right;\">\n",
       "      <th></th>\n",
       "      <th>day_time</th>\n",
       "      <th>LCLid</th>\n",
       "      <th>energy(kWh/hh)</th>\n",
       "      <th>dayYear</th>\n",
       "      <th>dayMonth</th>\n",
       "      <th>dayWeek</th>\n",
       "      <th>dayDay</th>\n",
       "      <th>dayDayofweek</th>\n",
       "      <th>dayDayofyear</th>\n",
       "      <th>dayIs_month_end</th>\n",
       "      <th>dayIs_month_start</th>\n",
       "      <th>dayIs_quarter_end</th>\n",
       "      <th>dayIs_quarter_start</th>\n",
       "      <th>dayIs_year_end</th>\n",
       "      <th>dayIs_year_start</th>\n",
       "      <th>dayElapsed</th>\n",
       "      <th>delta_minutes</th>\n",
       "      <th>visibility</th>\n",
       "      <th>windBearing</th>\n",
       "      <th>temperature</th>\n",
       "      <th>dewPoint</th>\n",
       "      <th>pressure</th>\n",
       "      <th>apparentTemperature</th>\n",
       "      <th>windSpeed</th>\n",
       "      <th>precipType</th>\n",
       "      <th>humidity</th>\n",
       "      <th>summary</th>\n",
       "      <th>is_bank_holiday</th>\n",
       "      <th>bank_holiday</th>\n",
       "      <th>day</th>\n",
       "      <th>cloudCover</th>\n",
       "      <th>uvIndex</th>\n",
       "      <th>moonPhase</th>\n",
       "      <th>from_sunrise</th>\n",
       "      <th>to_sunset</th>\n",
       "      <th>Afteris_bank_holiday</th>\n",
       "      <th>Beforeis_bank_holiday</th>\n",
       "      <th>stdorToU</th>\n",
       "      <th>Acorn</th>\n",
       "      <th>Acorn_grouped</th>\n",
       "    </tr>\n",
       "  </thead>\n",
       "  <tbody>\n",
       "    <tr>\n",
       "      <th>0</th>\n",
       "      <td>2012-02-05</td>\n",
       "      <td>MAC000006</td>\n",
       "      <td>0.042</td>\n",
       "      <td>2012</td>\n",
       "      <td>2</td>\n",
       "      <td>5</td>\n",
       "      <td>5</td>\n",
       "      <td>6</td>\n",
       "      <td>36</td>\n",
       "      <td>False</td>\n",
       "      <td>False</td>\n",
       "      <td>False</td>\n",
       "      <td>False</td>\n",
       "      <td>False</td>\n",
       "      <td>False</td>\n",
       "      <td>1328400000</td>\n",
       "      <td>-360000</td>\n",
       "      <td>1.32</td>\n",
       "      <td>160.0</td>\n",
       "      <td>-0.12</td>\n",
       "      <td>-0.22</td>\n",
       "      <td>1024.21</td>\n",
       "      <td>-4.68</td>\n",
       "      <td>4.35</td>\n",
       "      <td>snow</td>\n",
       "      <td>0.99</td>\n",
       "      <td>Foggy</td>\n",
       "      <td>False</td>\n",
       "      <td>0</td>\n",
       "      <td>2012-02-05</td>\n",
       "      <td>0.85</td>\n",
       "      <td>1.0</td>\n",
       "      <td>0.42</td>\n",
       "      <td>454.0</td>\n",
       "      <td>-1017.0</td>\n",
       "      <td>0</td>\n",
       "      <td>-87840</td>\n",
       "      <td>Std</td>\n",
       "      <td>ACORN-Q</td>\n",
       "      <td>Adversity</td>\n",
       "    </tr>\n",
       "    <tr>\n",
       "      <th>1</th>\n",
       "      <td>2012-02-05</td>\n",
       "      <td>MAC005178</td>\n",
       "      <td>0.561</td>\n",
       "      <td>2012</td>\n",
       "      <td>2</td>\n",
       "      <td>5</td>\n",
       "      <td>5</td>\n",
       "      <td>6</td>\n",
       "      <td>36</td>\n",
       "      <td>False</td>\n",
       "      <td>False</td>\n",
       "      <td>False</td>\n",
       "      <td>False</td>\n",
       "      <td>False</td>\n",
       "      <td>False</td>\n",
       "      <td>1328400000</td>\n",
       "      <td>-360000</td>\n",
       "      <td>1.32</td>\n",
       "      <td>160.0</td>\n",
       "      <td>-0.12</td>\n",
       "      <td>-0.22</td>\n",
       "      <td>1024.21</td>\n",
       "      <td>-4.68</td>\n",
       "      <td>4.35</td>\n",
       "      <td>snow</td>\n",
       "      <td>0.99</td>\n",
       "      <td>Foggy</td>\n",
       "      <td>False</td>\n",
       "      <td>0</td>\n",
       "      <td>2012-02-05</td>\n",
       "      <td>0.85</td>\n",
       "      <td>1.0</td>\n",
       "      <td>0.42</td>\n",
       "      <td>454.0</td>\n",
       "      <td>-1017.0</td>\n",
       "      <td>0</td>\n",
       "      <td>-87840</td>\n",
       "      <td>Std</td>\n",
       "      <td>ACORN-E</td>\n",
       "      <td>Affluent</td>\n",
       "    </tr>\n",
       "  </tbody>\n",
       "</table>\n",
       "</div>"
      ],
      "text/plain": [
       "    day_time      LCLid  energy(kWh/hh)  dayYear  dayMonth  dayWeek  dayDay  \\\n",
       "0 2012-02-05  MAC000006           0.042     2012         2        5       5   \n",
       "1 2012-02-05  MAC005178           0.561     2012         2        5       5   \n",
       "\n",
       "   dayDayofweek  dayDayofyear  dayIs_month_end  dayIs_month_start  \\\n",
       "0             6            36            False              False   \n",
       "1             6            36            False              False   \n",
       "\n",
       "   dayIs_quarter_end  dayIs_quarter_start  dayIs_year_end  dayIs_year_start  \\\n",
       "0              False                False           False             False   \n",
       "1              False                False           False             False   \n",
       "\n",
       "   dayElapsed  delta_minutes  visibility  windBearing  temperature  dewPoint  \\\n",
       "0  1328400000        -360000        1.32        160.0        -0.12     -0.22   \n",
       "1  1328400000        -360000        1.32        160.0        -0.12     -0.22   \n",
       "\n",
       "   pressure  apparentTemperature  windSpeed precipType  humidity summary  \\\n",
       "0   1024.21                -4.68       4.35       snow      0.99   Foggy   \n",
       "1   1024.21                -4.68       4.35       snow      0.99   Foggy   \n",
       "\n",
       "   is_bank_holiday bank_holiday         day  cloudCover  uvIndex  moonPhase  \\\n",
       "0            False            0  2012-02-05        0.85      1.0       0.42   \n",
       "1            False            0  2012-02-05        0.85      1.0       0.42   \n",
       "\n",
       "   from_sunrise  to_sunset  Afteris_bank_holiday  Beforeis_bank_holiday  \\\n",
       "0         454.0    -1017.0                     0                 -87840   \n",
       "1         454.0    -1017.0                     0                 -87840   \n",
       "\n",
       "  stdorToU    Acorn Acorn_grouped  \n",
       "0      Std  ACORN-Q     Adversity  \n",
       "1      Std  ACORN-E      Affluent  "
      ]
     },
     "execution_count": 172,
     "metadata": {},
     "output_type": "execute_result"
    }
   ],
   "source": [
    "joined_train.head(n=2)"
   ]
  },
  {
   "cell_type": "code",
   "execution_count": 173,
   "metadata": {
    "ExecuteTime": {
     "end_time": "2018-10-20T14:35:28.686412Z",
     "start_time": "2018-10-20T14:35:28.676567Z"
    },
    "hidden": true
   },
   "outputs": [
    {
     "data": {
      "text/plain": [
       "19009536"
      ]
     },
     "execution_count": 173,
     "metadata": {},
     "output_type": "execute_result"
    }
   ],
   "source": [
    "cat_vars = ['dayYear', 'dayMonth', 'dayWeek', 'dayDay', 'dayDayofweek', 'dayDayofyear', 'precipType', 'summary','bank_holiday', 'stdorToU', 'Acorn', 'Acorn_grouped']\n",
    "\n",
    "#leaving out delta_minutes, looks anomalous\n",
    "contin_vars = ['dayElapsed', 'visibility','windBearing','temperature',\n",
    "               'dewPoint','pressure','apparentTemperature','windSpeed','humidity','cloudCover','uvIndex','moonPhase',\n",
    "               'from_sunrise','to_sunset','Afteris_bank_holiday','Beforeis_bank_holiday']\n",
    "\n",
    "len(joined_train)"
   ]
  },
  {
   "cell_type": "markdown",
   "metadata": {},
   "source": [
    "Convert MAC codes to integer "
   ]
  },
  {
   "cell_type": "code",
   "execution_count": 174,
   "metadata": {},
   "outputs": [],
   "source": [
    "#joined_train['LCLid'] = joined_train['LCLid'].map(lambda x: str(x)[3:]).astype('int32')\n",
    "#joined_test['LCLid'] = joined_test['LCLid'].map(lambda x: str(x)[3:]).astype('int32')"
   ]
  },
  {
   "cell_type": "code",
   "execution_count": 175,
   "metadata": {
    "hidden": true
   },
   "outputs": [
    {
     "name": "stdout",
     "output_type": "stream",
     "text": [
      "post vals train dep: <class 'pandas.core.series.Series'>\n"
     ]
    }
   ],
   "source": [
    "energy = joined_train['energy(kWh/hh)'].values\n",
    "dep = 'energy(kWh/hh)'\n",
    "#here 'energy_sum' becomes a df not a series - I use workaround below for\n",
    "joined_train = joined_train[cat_vars+contin_vars+[dep, 'day_time']].copy()\n",
    "joined_train.drop(columns=[dep],inplace=True)\n",
    "joined_train[dep]=energy\n",
    "print(f\"post vals train dep: {type(joined_train[dep])}\")"
   ]
  },
  {
   "cell_type": "code",
   "execution_count": 176,
   "metadata": {},
   "outputs": [
    {
     "data": {
      "text/html": [
       "<div>\n",
       "<style scoped>\n",
       "    .dataframe tbody tr th:only-of-type {\n",
       "        vertical-align: middle;\n",
       "    }\n",
       "\n",
       "    .dataframe tbody tr th {\n",
       "        vertical-align: top;\n",
       "    }\n",
       "\n",
       "    .dataframe thead th {\n",
       "        text-align: right;\n",
       "    }\n",
       "</style>\n",
       "<table border=\"1\" class=\"dataframe\">\n",
       "  <thead>\n",
       "    <tr style=\"text-align: right;\">\n",
       "      <th></th>\n",
       "      <th>dayYear</th>\n",
       "      <th>dayMonth</th>\n",
       "      <th>dayWeek</th>\n",
       "      <th>dayDay</th>\n",
       "      <th>dayDayofweek</th>\n",
       "      <th>dayDayofyear</th>\n",
       "      <th>precipType</th>\n",
       "      <th>summary</th>\n",
       "      <th>bank_holiday</th>\n",
       "      <th>stdorToU</th>\n",
       "      <th>Acorn</th>\n",
       "      <th>Acorn_grouped</th>\n",
       "      <th>dayElapsed</th>\n",
       "      <th>visibility</th>\n",
       "      <th>windBearing</th>\n",
       "      <th>temperature</th>\n",
       "      <th>dewPoint</th>\n",
       "      <th>pressure</th>\n",
       "      <th>apparentTemperature</th>\n",
       "      <th>windSpeed</th>\n",
       "      <th>humidity</th>\n",
       "      <th>cloudCover</th>\n",
       "      <th>uvIndex</th>\n",
       "      <th>moonPhase</th>\n",
       "      <th>from_sunrise</th>\n",
       "      <th>to_sunset</th>\n",
       "      <th>Afteris_bank_holiday</th>\n",
       "      <th>Beforeis_bank_holiday</th>\n",
       "      <th>day_time</th>\n",
       "      <th>energy(kWh/hh)</th>\n",
       "    </tr>\n",
       "  </thead>\n",
       "  <tbody>\n",
       "    <tr>\n",
       "      <th>0</th>\n",
       "      <td>2012</td>\n",
       "      <td>2</td>\n",
       "      <td>5</td>\n",
       "      <td>5</td>\n",
       "      <td>6</td>\n",
       "      <td>36</td>\n",
       "      <td>snow</td>\n",
       "      <td>Foggy</td>\n",
       "      <td>0</td>\n",
       "      <td>Std</td>\n",
       "      <td>ACORN-Q</td>\n",
       "      <td>Adversity</td>\n",
       "      <td>1328400000</td>\n",
       "      <td>1.32</td>\n",
       "      <td>160.0</td>\n",
       "      <td>-0.12</td>\n",
       "      <td>-0.22</td>\n",
       "      <td>1024.21</td>\n",
       "      <td>-4.68</td>\n",
       "      <td>4.35</td>\n",
       "      <td>0.99</td>\n",
       "      <td>0.85</td>\n",
       "      <td>1.0</td>\n",
       "      <td>0.42</td>\n",
       "      <td>454.0</td>\n",
       "      <td>-1017.0</td>\n",
       "      <td>0</td>\n",
       "      <td>-87840</td>\n",
       "      <td>2012-02-05</td>\n",
       "      <td>0.042</td>\n",
       "    </tr>\n",
       "    <tr>\n",
       "      <th>1</th>\n",
       "      <td>2012</td>\n",
       "      <td>2</td>\n",
       "      <td>5</td>\n",
       "      <td>5</td>\n",
       "      <td>6</td>\n",
       "      <td>36</td>\n",
       "      <td>snow</td>\n",
       "      <td>Foggy</td>\n",
       "      <td>0</td>\n",
       "      <td>Std</td>\n",
       "      <td>ACORN-E</td>\n",
       "      <td>Affluent</td>\n",
       "      <td>1328400000</td>\n",
       "      <td>1.32</td>\n",
       "      <td>160.0</td>\n",
       "      <td>-0.12</td>\n",
       "      <td>-0.22</td>\n",
       "      <td>1024.21</td>\n",
       "      <td>-4.68</td>\n",
       "      <td>4.35</td>\n",
       "      <td>0.99</td>\n",
       "      <td>0.85</td>\n",
       "      <td>1.0</td>\n",
       "      <td>0.42</td>\n",
       "      <td>454.0</td>\n",
       "      <td>-1017.0</td>\n",
       "      <td>0</td>\n",
       "      <td>-87840</td>\n",
       "      <td>2012-02-05</td>\n",
       "      <td>0.561</td>\n",
       "    </tr>\n",
       "  </tbody>\n",
       "</table>\n",
       "</div>"
      ],
      "text/plain": [
       "   dayYear  dayMonth  dayWeek  dayDay  dayDayofweek  dayDayofyear precipType  \\\n",
       "0     2012         2        5       5             6            36       snow   \n",
       "1     2012         2        5       5             6            36       snow   \n",
       "\n",
       "  summary bank_holiday stdorToU    Acorn Acorn_grouped  dayElapsed  \\\n",
       "0   Foggy            0      Std  ACORN-Q     Adversity  1328400000   \n",
       "1   Foggy            0      Std  ACORN-E      Affluent  1328400000   \n",
       "\n",
       "   visibility  windBearing  temperature  dewPoint  pressure  \\\n",
       "0        1.32        160.0        -0.12     -0.22   1024.21   \n",
       "1        1.32        160.0        -0.12     -0.22   1024.21   \n",
       "\n",
       "   apparentTemperature  windSpeed  humidity  cloudCover  uvIndex  moonPhase  \\\n",
       "0                -4.68       4.35      0.99        0.85      1.0       0.42   \n",
       "1                -4.68       4.35      0.99        0.85      1.0       0.42   \n",
       "\n",
       "   from_sunrise  to_sunset  Afteris_bank_holiday  Beforeis_bank_holiday  \\\n",
       "0         454.0    -1017.0                     0                 -87840   \n",
       "1         454.0    -1017.0                     0                 -87840   \n",
       "\n",
       "    day_time  energy(kWh/hh)  \n",
       "0 2012-02-05           0.042  \n",
       "1 2012-02-05           0.561  "
      ]
     },
     "execution_count": 176,
     "metadata": {},
     "output_type": "execute_result"
    }
   ],
   "source": [
    "joined_train.head(n=2)"
   ]
  },
  {
   "cell_type": "code",
   "execution_count": 177,
   "metadata": {
    "hidden": true
   },
   "outputs": [
    {
     "name": "stdout",
     "output_type": "stream",
     "text": [
      "post vals test dep: <class 'pandas.core.series.Series'>\n"
     ]
    }
   ],
   "source": [
    "#same for test\n",
    "joined_test = joined_test[cat_vars+contin_vars+[dep, 'day_time','LCLid']].copy()\n",
    "joined_test.drop(columns=[dep],inplace=True)\n",
    "joined_test[dep] = 0\n",
    "print(f\"post vals test dep: {type(joined_test[dep])}\")"
   ]
  },
  {
   "cell_type": "code",
   "execution_count": 178,
   "metadata": {},
   "outputs": [
    {
     "data": {
      "text/html": [
       "<div>\n",
       "<style scoped>\n",
       "    .dataframe tbody tr th:only-of-type {\n",
       "        vertical-align: middle;\n",
       "    }\n",
       "\n",
       "    .dataframe tbody tr th {\n",
       "        vertical-align: top;\n",
       "    }\n",
       "\n",
       "    .dataframe thead th {\n",
       "        text-align: right;\n",
       "    }\n",
       "</style>\n",
       "<table border=\"1\" class=\"dataframe\">\n",
       "  <thead>\n",
       "    <tr style=\"text-align: right;\">\n",
       "      <th></th>\n",
       "      <th>dayYear</th>\n",
       "      <th>dayMonth</th>\n",
       "      <th>dayWeek</th>\n",
       "      <th>dayDay</th>\n",
       "      <th>dayDayofweek</th>\n",
       "      <th>dayDayofyear</th>\n",
       "      <th>precipType</th>\n",
       "      <th>summary</th>\n",
       "      <th>bank_holiday</th>\n",
       "      <th>stdorToU</th>\n",
       "      <th>Acorn</th>\n",
       "      <th>Acorn_grouped</th>\n",
       "      <th>dayElapsed</th>\n",
       "      <th>visibility</th>\n",
       "      <th>windBearing</th>\n",
       "      <th>temperature</th>\n",
       "      <th>dewPoint</th>\n",
       "      <th>pressure</th>\n",
       "      <th>apparentTemperature</th>\n",
       "      <th>windSpeed</th>\n",
       "      <th>humidity</th>\n",
       "      <th>cloudCover</th>\n",
       "      <th>uvIndex</th>\n",
       "      <th>moonPhase</th>\n",
       "      <th>from_sunrise</th>\n",
       "      <th>to_sunset</th>\n",
       "      <th>Afteris_bank_holiday</th>\n",
       "      <th>Beforeis_bank_holiday</th>\n",
       "      <th>day_time</th>\n",
       "      <th>LCLid</th>\n",
       "      <th>energy(kWh/hh)</th>\n",
       "    </tr>\n",
       "  </thead>\n",
       "  <tbody>\n",
       "    <tr>\n",
       "      <th>19009536</th>\n",
       "      <td>2014</td>\n",
       "      <td>2</td>\n",
       "      <td>5</td>\n",
       "      <td>2</td>\n",
       "      <td>6</td>\n",
       "      <td>33</td>\n",
       "      <td>rain</td>\n",
       "      <td>Breezy</td>\n",
       "      <td>0</td>\n",
       "      <td>Std</td>\n",
       "      <td>ACORN-A</td>\n",
       "      <td>Affluent</td>\n",
       "      <td>1391299200</td>\n",
       "      <td>12.49</td>\n",
       "      <td>218.0</td>\n",
       "      <td>7.54</td>\n",
       "      <td>2.82</td>\n",
       "      <td>996.84</td>\n",
       "      <td>3.56</td>\n",
       "      <td>7.75</td>\n",
       "      <td>0.72</td>\n",
       "      <td>0.22</td>\n",
       "      <td>1.0</td>\n",
       "      <td>0.1</td>\n",
       "      <td>458.0</td>\n",
       "      <td>-1013.0</td>\n",
       "      <td>44640</td>\n",
       "      <td>0</td>\n",
       "      <td>2014-02-02</td>\n",
       "      <td>MAC005042</td>\n",
       "      <td>0</td>\n",
       "    </tr>\n",
       "    <tr>\n",
       "      <th>19009537</th>\n",
       "      <td>2014</td>\n",
       "      <td>2</td>\n",
       "      <td>5</td>\n",
       "      <td>2</td>\n",
       "      <td>6</td>\n",
       "      <td>33</td>\n",
       "      <td>rain</td>\n",
       "      <td>Breezy</td>\n",
       "      <td>0</td>\n",
       "      <td>Std</td>\n",
       "      <td>ACORN-F</td>\n",
       "      <td>Comfortable</td>\n",
       "      <td>1391299200</td>\n",
       "      <td>12.49</td>\n",
       "      <td>218.0</td>\n",
       "      <td>7.54</td>\n",
       "      <td>2.82</td>\n",
       "      <td>996.84</td>\n",
       "      <td>3.56</td>\n",
       "      <td>7.75</td>\n",
       "      <td>0.72</td>\n",
       "      <td>0.22</td>\n",
       "      <td>1.0</td>\n",
       "      <td>0.1</td>\n",
       "      <td>458.0</td>\n",
       "      <td>-1013.0</td>\n",
       "      <td>44640</td>\n",
       "      <td>0</td>\n",
       "      <td>2014-02-02</td>\n",
       "      <td>MAC000201</td>\n",
       "      <td>0</td>\n",
       "    </tr>\n",
       "  </tbody>\n",
       "</table>\n",
       "</div>"
      ],
      "text/plain": [
       "          dayYear  dayMonth  dayWeek  dayDay  dayDayofweek  dayDayofyear  \\\n",
       "19009536     2014         2        5       2             6            33   \n",
       "19009537     2014         2        5       2             6            33   \n",
       "\n",
       "         precipType summary bank_holiday stdorToU    Acorn Acorn_grouped  \\\n",
       "19009536       rain  Breezy            0      Std  ACORN-A      Affluent   \n",
       "19009537       rain  Breezy            0      Std  ACORN-F   Comfortable   \n",
       "\n",
       "          dayElapsed  visibility  windBearing  temperature  dewPoint  \\\n",
       "19009536  1391299200       12.49        218.0         7.54      2.82   \n",
       "19009537  1391299200       12.49        218.0         7.54      2.82   \n",
       "\n",
       "          pressure  apparentTemperature  windSpeed  humidity  cloudCover  \\\n",
       "19009536    996.84                 3.56       7.75      0.72        0.22   \n",
       "19009537    996.84                 3.56       7.75      0.72        0.22   \n",
       "\n",
       "          uvIndex  moonPhase  from_sunrise  to_sunset  Afteris_bank_holiday  \\\n",
       "19009536      1.0        0.1         458.0    -1013.0                 44640   \n",
       "19009537      1.0        0.1         458.0    -1013.0                 44640   \n",
       "\n",
       "          Beforeis_bank_holiday   day_time      LCLid  energy(kWh/hh)  \n",
       "19009536                      0 2014-02-02  MAC005042               0  \n",
       "19009537                      0 2014-02-02  MAC000201               0  "
      ]
     },
     "execution_count": 178,
     "metadata": {},
     "output_type": "execute_result"
    }
   ],
   "source": [
    "joined_test.head(n=2)"
   ]
  },
  {
   "cell_type": "code",
   "execution_count": 179,
   "metadata": {
    "hidden": true
   },
   "outputs": [
    {
     "name": "stdout",
     "output_type": "stream",
     "text": [
      "dayYear\n",
      "dayMonth\n",
      "dayWeek\n",
      "dayDay\n",
      "dayDayofweek\n",
      "dayDayofyear\n",
      "precipType\n",
      "summary\n",
      "bank_holiday\n",
      "stdorToU\n",
      "Acorn\n",
      "Acorn_grouped\n"
     ]
    }
   ],
   "source": [
    "#for v in cat_vars: df_train[v] = df_train[v].astype('category').cat.as_ordered()\n",
    "for v in cat_vars: \n",
    "    print(v)\n",
    "    joined_train[v] = joined_train[v].astype('category').cat.as_ordered()"
   ]
  },
  {
   "cell_type": "code",
   "execution_count": 180,
   "metadata": {},
   "outputs": [],
   "source": [
    "#alternatively we could just add df_test to the category re-declaration loop above\n",
    "apply_cats(joined_test, joined_train)"
   ]
  },
  {
   "cell_type": "code",
   "execution_count": 181,
   "metadata": {
    "hidden": true
   },
   "outputs": [],
   "source": [
    "for v in contin_vars:\n",
    "    joined_train[v] = joined_train[v].fillna(0).astype('float32')\n",
    "    joined_test[v] = joined_test[v].fillna(0).astype('float32')"
   ]
  },
  {
   "cell_type": "markdown",
   "metadata": {
    "hidden": true
   },
   "source": [
    "To run on a sample:"
   ]
  },
  {
   "cell_type": "code",
   "execution_count": 182,
   "metadata": {
    "hidden": true
   },
   "outputs": [],
   "source": [
    "#idxs = get_cv_idxs(n, val_pct=150000/n)\n",
    "#df_samp = df_train.iloc[idxs].set_index(\"day\")\n",
    "#samp_size = len(df_samp); samp_size"
   ]
  },
  {
   "cell_type": "markdown",
   "metadata": {
    "hidden": true
   },
   "source": [
    "To run on the full dataset:"
   ]
  },
  {
   "cell_type": "code",
   "execution_count": 183,
   "metadata": {
    "ExecuteTime": {
     "end_time": "2018-10-20T14:35:13.450024Z",
     "start_time": "2018-10-20T14:35:13.414478Z"
    },
    "hidden": true
   },
   "outputs": [],
   "source": [
    "#use this to create mapper - note we use the train df\n",
    "samp_size = len(joined_train)\n",
    "joined_samp = joined_train.set_index(\"day_time\")"
   ]
  },
  {
   "cell_type": "markdown",
   "metadata": {
    "hidden": true
   },
   "source": [
    "We can now process our data..."
   ]
  },
  {
   "cell_type": "code",
   "execution_count": 184,
   "metadata": {},
   "outputs": [],
   "source": [
    "#keep track of the mapper (44:15)\n",
    "#can set ignore_flds"
   ]
  },
  {
   "cell_type": "code",
   "execution_count": 185,
   "metadata": {
    "collapsed": true,
    "hidden": true
   },
   "outputs": [
    {
     "name": "stdout",
     "output_type": "stream",
     "text": [
      "first n y for df_samp: [0.042 0.561 0.037 0.254 0.426 0.196 0.2   0.052 0.97  0.034]\n"
     ]
    }
   ],
   "source": [
    "df, y, nas, mapper = proc_df(joined_samp, 'energy(kWh/hh)', do_scale=True)\n",
    "print(f'first n y for df_samp: {y[:10]}')"
   ]
  },
  {
   "cell_type": "code",
   "execution_count": 186,
   "metadata": {},
   "outputs": [
    {
     "data": {
      "text/html": [
       "<div>\n",
       "<style scoped>\n",
       "    .dataframe tbody tr th:only-of-type {\n",
       "        vertical-align: middle;\n",
       "    }\n",
       "\n",
       "    .dataframe tbody tr th {\n",
       "        vertical-align: top;\n",
       "    }\n",
       "\n",
       "    .dataframe thead th {\n",
       "        text-align: right;\n",
       "    }\n",
       "</style>\n",
       "<table border=\"1\" class=\"dataframe\">\n",
       "  <thead>\n",
       "    <tr style=\"text-align: right;\">\n",
       "      <th></th>\n",
       "      <th>dayYear</th>\n",
       "      <th>dayMonth</th>\n",
       "      <th>dayWeek</th>\n",
       "      <th>dayDay</th>\n",
       "      <th>dayDayofweek</th>\n",
       "      <th>dayDayofyear</th>\n",
       "      <th>precipType</th>\n",
       "      <th>summary</th>\n",
       "      <th>bank_holiday</th>\n",
       "      <th>stdorToU</th>\n",
       "      <th>Acorn</th>\n",
       "      <th>Acorn_grouped</th>\n",
       "      <th>dayElapsed</th>\n",
       "      <th>visibility</th>\n",
       "      <th>windBearing</th>\n",
       "      <th>temperature</th>\n",
       "      <th>dewPoint</th>\n",
       "      <th>pressure</th>\n",
       "      <th>apparentTemperature</th>\n",
       "      <th>windSpeed</th>\n",
       "      <th>humidity</th>\n",
       "      <th>cloudCover</th>\n",
       "      <th>uvIndex</th>\n",
       "      <th>moonPhase</th>\n",
       "      <th>from_sunrise</th>\n",
       "      <th>to_sunset</th>\n",
       "      <th>Afteris_bank_holiday</th>\n",
       "      <th>Beforeis_bank_holiday</th>\n",
       "    </tr>\n",
       "    <tr>\n",
       "      <th>day_time</th>\n",
       "      <th></th>\n",
       "      <th></th>\n",
       "      <th></th>\n",
       "      <th></th>\n",
       "      <th></th>\n",
       "      <th></th>\n",
       "      <th></th>\n",
       "      <th></th>\n",
       "      <th></th>\n",
       "      <th></th>\n",
       "      <th></th>\n",
       "      <th></th>\n",
       "      <th></th>\n",
       "      <th></th>\n",
       "      <th></th>\n",
       "      <th></th>\n",
       "      <th></th>\n",
       "      <th></th>\n",
       "      <th></th>\n",
       "      <th></th>\n",
       "      <th></th>\n",
       "      <th></th>\n",
       "      <th></th>\n",
       "      <th></th>\n",
       "      <th></th>\n",
       "      <th></th>\n",
       "      <th></th>\n",
       "      <th></th>\n",
       "    </tr>\n",
       "  </thead>\n",
       "  <tbody>\n",
       "    <tr>\n",
       "      <th>2012-02-05</th>\n",
       "      <td>1</td>\n",
       "      <td>2</td>\n",
       "      <td>5</td>\n",
       "      <td>5</td>\n",
       "      <td>7</td>\n",
       "      <td>36</td>\n",
       "      <td>2</td>\n",
       "      <td>6</td>\n",
       "      <td>1</td>\n",
       "      <td>1</td>\n",
       "      <td>17</td>\n",
       "      <td>2</td>\n",
       "      <td>-1.729636</td>\n",
       "      <td>-3.283805</td>\n",
       "      <td>-0.381482</td>\n",
       "      <td>-1.859926</td>\n",
       "      <td>-1.39234</td>\n",
       "      <td>0.914874</td>\n",
       "      <td>-2.05021</td>\n",
       "      <td>0.28566</td>\n",
       "      <td>1.484661</td>\n",
       "      <td>1.894545</td>\n",
       "      <td>-0.948735</td>\n",
       "      <td>-0.282941</td>\n",
       "      <td>1.893683</td>\n",
       "      <td>-1.489647</td>\n",
       "      <td>-1.100034</td>\n",
       "      <td>-0.808363</td>\n",
       "    </tr>\n",
       "    <tr>\n",
       "      <th>2012-02-05</th>\n",
       "      <td>1</td>\n",
       "      <td>2</td>\n",
       "      <td>5</td>\n",
       "      <td>5</td>\n",
       "      <td>7</td>\n",
       "      <td>36</td>\n",
       "      <td>2</td>\n",
       "      <td>6</td>\n",
       "      <td>1</td>\n",
       "      <td>1</td>\n",
       "      <td>5</td>\n",
       "      <td>3</td>\n",
       "      <td>-1.729636</td>\n",
       "      <td>-3.283805</td>\n",
       "      <td>-0.381482</td>\n",
       "      <td>-1.859926</td>\n",
       "      <td>-1.39234</td>\n",
       "      <td>0.914874</td>\n",
       "      <td>-2.05021</td>\n",
       "      <td>0.28566</td>\n",
       "      <td>1.484661</td>\n",
       "      <td>1.894545</td>\n",
       "      <td>-0.948735</td>\n",
       "      <td>-0.282941</td>\n",
       "      <td>1.893683</td>\n",
       "      <td>-1.489647</td>\n",
       "      <td>-1.100034</td>\n",
       "      <td>-0.808363</td>\n",
       "    </tr>\n",
       "  </tbody>\n",
       "</table>\n",
       "</div>"
      ],
      "text/plain": [
       "            dayYear  dayMonth  dayWeek  dayDay  dayDayofweek  dayDayofyear  \\\n",
       "day_time                                                                     \n",
       "2012-02-05        1         2        5       5             7            36   \n",
       "2012-02-05        1         2        5       5             7            36   \n",
       "\n",
       "            precipType  summary  bank_holiday  stdorToU  Acorn  Acorn_grouped  \\\n",
       "day_time                                                                        \n",
       "2012-02-05           2        6             1         1     17              2   \n",
       "2012-02-05           2        6             1         1      5              3   \n",
       "\n",
       "            dayElapsed  visibility  windBearing  temperature  dewPoint  \\\n",
       "day_time                                                                 \n",
       "2012-02-05   -1.729636   -3.283805    -0.381482    -1.859926  -1.39234   \n",
       "2012-02-05   -1.729636   -3.283805    -0.381482    -1.859926  -1.39234   \n",
       "\n",
       "            pressure  apparentTemperature  windSpeed  humidity  cloudCover  \\\n",
       "day_time                                                                     \n",
       "2012-02-05  0.914874             -2.05021    0.28566  1.484661    1.894545   \n",
       "2012-02-05  0.914874             -2.05021    0.28566  1.484661    1.894545   \n",
       "\n",
       "             uvIndex  moonPhase  from_sunrise  to_sunset  \\\n",
       "day_time                                                   \n",
       "2012-02-05 -0.948735  -0.282941      1.893683  -1.489647   \n",
       "2012-02-05 -0.948735  -0.282941      1.893683  -1.489647   \n",
       "\n",
       "            Afteris_bank_holiday  Beforeis_bank_holiday  \n",
       "day_time                                                 \n",
       "2012-02-05             -1.100034              -0.808363  \n",
       "2012-02-05             -1.100034              -0.808363  "
      ]
     },
     "execution_count": 186,
     "metadata": {},
     "output_type": "execute_result"
    }
   ],
   "source": [
    "df.head(2)"
   ]
  },
  {
   "cell_type": "code",
   "execution_count": 187,
   "metadata": {
    "collapsed": true,
    "hidden": true
   },
   "outputs": [],
   "source": [
    "joined_test = joined_test.set_index(\"day_time\")"
   ]
  },
  {
   "cell_type": "code",
   "execution_count": 188,
   "metadata": {},
   "outputs": [],
   "source": [
    "#apply the same mapper to the test set"
   ]
  },
  {
   "cell_type": "code",
   "execution_count": 189,
   "metadata": {
    "collapsed": true,
    "hidden": true
   },
   "outputs": [],
   "source": [
    "df_test, _, nas, mapper = proc_df(joined_test, 'energy(kWh/hh)', do_scale=True, skip_flds=['LCLid'],\n",
    "                                  mapper=mapper, na_dict=nas)"
   ]
  },
  {
   "cell_type": "code",
   "execution_count": 190,
   "metadata": {
    "hidden": true
   },
   "outputs": [
    {
     "data": {
      "text/html": [
       "<div>\n",
       "<style scoped>\n",
       "    .dataframe tbody tr th:only-of-type {\n",
       "        vertical-align: middle;\n",
       "    }\n",
       "\n",
       "    .dataframe tbody tr th {\n",
       "        vertical-align: top;\n",
       "    }\n",
       "\n",
       "    .dataframe thead th {\n",
       "        text-align: right;\n",
       "    }\n",
       "</style>\n",
       "<table border=\"1\" class=\"dataframe\">\n",
       "  <thead>\n",
       "    <tr style=\"text-align: right;\">\n",
       "      <th></th>\n",
       "      <th>dayYear</th>\n",
       "      <th>dayMonth</th>\n",
       "      <th>dayWeek</th>\n",
       "      <th>dayDay</th>\n",
       "      <th>dayDayofweek</th>\n",
       "      <th>dayDayofyear</th>\n",
       "      <th>precipType</th>\n",
       "      <th>summary</th>\n",
       "      <th>bank_holiday</th>\n",
       "      <th>stdorToU</th>\n",
       "      <th>Acorn</th>\n",
       "      <th>Acorn_grouped</th>\n",
       "      <th>dayElapsed</th>\n",
       "      <th>visibility</th>\n",
       "      <th>windBearing</th>\n",
       "      <th>temperature</th>\n",
       "      <th>dewPoint</th>\n",
       "      <th>pressure</th>\n",
       "      <th>apparentTemperature</th>\n",
       "      <th>windSpeed</th>\n",
       "      <th>humidity</th>\n",
       "      <th>cloudCover</th>\n",
       "      <th>uvIndex</th>\n",
       "      <th>moonPhase</th>\n",
       "      <th>from_sunrise</th>\n",
       "      <th>to_sunset</th>\n",
       "      <th>Afteris_bank_holiday</th>\n",
       "      <th>Beforeis_bank_holiday</th>\n",
       "    </tr>\n",
       "    <tr>\n",
       "      <th>day_time</th>\n",
       "      <th></th>\n",
       "      <th></th>\n",
       "      <th></th>\n",
       "      <th></th>\n",
       "      <th></th>\n",
       "      <th></th>\n",
       "      <th></th>\n",
       "      <th></th>\n",
       "      <th></th>\n",
       "      <th></th>\n",
       "      <th></th>\n",
       "      <th></th>\n",
       "      <th></th>\n",
       "      <th></th>\n",
       "      <th></th>\n",
       "      <th></th>\n",
       "      <th></th>\n",
       "      <th></th>\n",
       "      <th></th>\n",
       "      <th></th>\n",
       "      <th></th>\n",
       "      <th></th>\n",
       "      <th></th>\n",
       "      <th></th>\n",
       "      <th></th>\n",
       "      <th></th>\n",
       "      <th></th>\n",
       "      <th></th>\n",
       "    </tr>\n",
       "  </thead>\n",
       "  <tbody>\n",
       "    <tr>\n",
       "      <th>2014-02-02</th>\n",
       "      <td>3</td>\n",
       "      <td>2</td>\n",
       "      <td>5</td>\n",
       "      <td>2</td>\n",
       "      <td>7</td>\n",
       "      <td>33</td>\n",
       "      <td>1</td>\n",
       "      <td>1</td>\n",
       "      <td>1</td>\n",
       "      <td>1</td>\n",
       "      <td>1</td>\n",
       "      <td>3</td>\n",
       "      <td>1.734469</td>\n",
       "      <td>0.426079</td>\n",
       "      <td>0.25514</td>\n",
       "      <td>-0.578577</td>\n",
       "      <td>-0.80148</td>\n",
       "      <td>-1.581845</td>\n",
       "      <td>-0.891065</td>\n",
       "      <td>2.025947</td>\n",
       "      <td>-0.404563</td>\n",
       "      <td>-1.299904</td>\n",
       "      <td>-0.948735</td>\n",
       "      <td>-1.385401</td>\n",
       "      <td>1.903102</td>\n",
       "      <td>-1.480244</td>\n",
       "      <td>-0.092277</td>\n",
       "      <td>1.214971</td>\n",
       "    </tr>\n",
       "    <tr>\n",
       "      <th>2014-02-02</th>\n",
       "      <td>3</td>\n",
       "      <td>2</td>\n",
       "      <td>5</td>\n",
       "      <td>2</td>\n",
       "      <td>7</td>\n",
       "      <td>33</td>\n",
       "      <td>1</td>\n",
       "      <td>1</td>\n",
       "      <td>1</td>\n",
       "      <td>1</td>\n",
       "      <td>6</td>\n",
       "      <td>4</td>\n",
       "      <td>1.734469</td>\n",
       "      <td>0.426079</td>\n",
       "      <td>0.25514</td>\n",
       "      <td>-0.578577</td>\n",
       "      <td>-0.80148</td>\n",
       "      <td>-1.581845</td>\n",
       "      <td>-0.891065</td>\n",
       "      <td>2.025947</td>\n",
       "      <td>-0.404563</td>\n",
       "      <td>-1.299904</td>\n",
       "      <td>-0.948735</td>\n",
       "      <td>-1.385401</td>\n",
       "      <td>1.903102</td>\n",
       "      <td>-1.480244</td>\n",
       "      <td>-0.092277</td>\n",
       "      <td>1.214971</td>\n",
       "    </tr>\n",
       "  </tbody>\n",
       "</table>\n",
       "</div>"
      ],
      "text/plain": [
       "            dayYear  dayMonth  dayWeek  dayDay  dayDayofweek  dayDayofyear  \\\n",
       "day_time                                                                     \n",
       "2014-02-02        3         2        5       2             7            33   \n",
       "2014-02-02        3         2        5       2             7            33   \n",
       "\n",
       "            precipType  summary  bank_holiday  stdorToU  Acorn  Acorn_grouped  \\\n",
       "day_time                                                                        \n",
       "2014-02-02           1        1             1         1      1              3   \n",
       "2014-02-02           1        1             1         1      6              4   \n",
       "\n",
       "            dayElapsed  visibility  windBearing  temperature  dewPoint  \\\n",
       "day_time                                                                 \n",
       "2014-02-02    1.734469    0.426079      0.25514    -0.578577  -0.80148   \n",
       "2014-02-02    1.734469    0.426079      0.25514    -0.578577  -0.80148   \n",
       "\n",
       "            pressure  apparentTemperature  windSpeed  humidity  cloudCover  \\\n",
       "day_time                                                                     \n",
       "2014-02-02 -1.581845            -0.891065   2.025947 -0.404563   -1.299904   \n",
       "2014-02-02 -1.581845            -0.891065   2.025947 -0.404563   -1.299904   \n",
       "\n",
       "             uvIndex  moonPhase  from_sunrise  to_sunset  \\\n",
       "day_time                                                   \n",
       "2014-02-02 -0.948735  -1.385401      1.903102  -1.480244   \n",
       "2014-02-02 -0.948735  -1.385401      1.903102  -1.480244   \n",
       "\n",
       "            Afteris_bank_holiday  Beforeis_bank_holiday  \n",
       "day_time                                                 \n",
       "2014-02-02             -0.092277               1.214971  \n",
       "2014-02-02             -0.092277               1.214971  "
      ]
     },
     "execution_count": 190,
     "metadata": {},
     "output_type": "execute_result"
    }
   ],
   "source": [
    "df_test.head(n=2)"
   ]
  },
  {
   "cell_type": "markdown",
   "metadata": {
    "hidden": true
   },
   "source": [
    "In time series data, cross-validation is not random. Instead, our holdout data is generally the most recent data, as it would be in real application. This issue is discussed in detail in [this post](http://www.fast.ai/2017/11/13/validation-sets/) on the fastai web site.\n",
    "\n",
    "One approach is to take the last 10% of rows (sorted by date) as our validation set."
   ]
  },
  {
   "cell_type": "code",
   "execution_count": 191,
   "metadata": {
    "collapsed": true,
    "hidden": true
   },
   "outputs": [],
   "source": [
    "#train_ratio = 0.75\n",
    "#train_ratio = 0.9\n",
    "#train_size = int(samp_size * train_ratio)\n",
    "#val_idx = list(range(train_size, len(df)))"
   ]
  },
  {
   "cell_type": "code",
   "execution_count": 194,
   "metadata": {},
   "outputs": [],
   "source": [
    "val_date = pd.datetime(2014,1,26)\n",
    "#test data - last week of data\n",
    "split_date = pd.datetime(2014,2,2)\n",
    "\n",
    "val_idx = np.flatnonzero((df.index<split_date) & (df.index>=val_date))"
   ]
  },
  {
   "cell_type": "code",
   "execution_count": 195,
   "metadata": {},
   "outputs": [
    {
     "name": "stdout",
     "output_type": "stream",
     "text": [
      "samp_size: 19009536\n",
      "train_ratio: 0.9\n",
      "train_size: 16944076\n",
      "len(df): 19009536\n",
      "val_idx: 182784\n"
     ]
    }
   ],
   "source": [
    "print(f'samp_size: {samp_size}')\n",
    "print(f'train_ratio: {train_ratio}')\n",
    "print(f'train_size: {train_size}')\n",
    "print(f'len(df): {len(df)}')\n",
    "print(f'val_idx: {len(val_idx)}')"
   ]
  },
  {
   "cell_type": "code",
   "execution_count": 196,
   "metadata": {},
   "outputs": [
    {
     "data": {
      "text/plain": [
       "array([18826752, 18826753, 18826754, 18826755, 18826756, 18826757, 18826758, 18826759, 18826760, 18826761])"
      ]
     },
     "execution_count": 196,
     "metadata": {},
     "output_type": "execute_result"
    }
   ],
   "source": [
    "val_idx[:10]"
   ]
  },
  {
   "cell_type": "markdown",
   "metadata": {
    "hidden": true
   },
   "source": [
    "We use a validation set is using the exact same length of time period as the test set uses "
   ]
  },
  {
   "cell_type": "markdown",
   "metadata": {},
   "source": [
    "## DL"
   ]
  },
  {
   "cell_type": "markdown",
   "metadata": {},
   "source": [
    "We're ready to put together our models.\n",
    "\n",
    "Root-mean-squared error is the metric we used for other forecast models."
   ]
  },
  {
   "cell_type": "code",
   "execution_count": 199,
   "metadata": {
    "collapsed": true
   },
   "outputs": [],
   "source": [
    "def rmse(y_pred, y_targ):\n",
    "    return np.sqrt(((y_targ - y_pred) ** 2).mean())\n",
    "\n",
    "#use 20% greater than biggest max seen in training data\n",
    "max_y = np.max(y)\n",
    "y_range = (0, max_y*1.2)"
   ]
  },
  {
   "cell_type": "code",
   "execution_count": 200,
   "metadata": {},
   "outputs": [
    {
     "data": {
      "text/plain": [
       "numpy.float64"
      ]
     },
     "execution_count": 200,
     "metadata": {},
     "output_type": "execute_result"
    }
   ],
   "source": [
    "type(y[0])"
   ]
  },
  {
   "cell_type": "markdown",
   "metadata": {},
   "source": [
    "We can create a ModelData object directly from out data frame.\n",
    "\n",
    "pass in the test dataframe in the usual way"
   ]
  },
  {
   "cell_type": "code",
   "execution_count": 201,
   "metadata": {},
   "outputs": [
    {
     "name": "stdout",
     "output_type": "stream",
     "text": [
      "pre cmd, val_idx: 182784\n",
      "df: 19009536\n",
      "y: 19009536\n",
      "cat_vars: 12\n",
      "df_test: 182784\n"
     ]
    }
   ],
   "source": [
    "print(f'pre cmd, val_idx: {len(val_idx)}')\n",
    "print(f'df: {len(df)}')\n",
    "print(f'y: {len(y)}')\n",
    "print(f'cat_vars: {len(cat_vars)}')\n",
    "print(f'df_test: {len(df_test)}')"
   ]
  },
  {
   "cell_type": "code",
   "execution_count": 202,
   "metadata": {
    "collapsed": true
   },
   "outputs": [],
   "source": [
    "md = ColumnarModelData.from_data_frame(PATH, val_idx, df, y.astype(np.float32), cat_flds=cat_vars, bs=128,\n",
    "                                       test_df=df_test)"
   ]
  },
  {
   "cell_type": "markdown",
   "metadata": {},
   "source": [
    "Check levels of categorical variables"
   ]
  },
  {
   "cell_type": "code",
   "execution_count": 203,
   "metadata": {
    "collapsed": true
   },
   "outputs": [],
   "source": [
    "cat_sz = [(c, len(joined_samp[c].cat.categories)+1) for c in cat_vars]"
   ]
  },
  {
   "cell_type": "code",
   "execution_count": 204,
   "metadata": {
    "scrolled": true
   },
   "outputs": [
    {
     "data": {
      "text/plain": [
       "[('dayYear', 4),\n",
       " ('dayMonth', 13),\n",
       " ('dayWeek', 53),\n",
       " ('dayDay', 32),\n",
       " ('dayDayofweek', 8),\n",
       " ('dayDayofyear', 367),\n",
       " ('precipType', 3),\n",
       " ('summary', 13),\n",
       " ('bank_holiday', 6),\n",
       " ('stdorToU', 3),\n",
       " ('Acorn', 19),\n",
       " ('Acorn_grouped', 5)]"
      ]
     },
     "execution_count": 204,
     "metadata": {},
     "output_type": "execute_result"
    }
   ],
   "source": [
    "cat_sz"
   ]
  },
  {
   "cell_type": "markdown",
   "metadata": {},
   "source": [
    "We use the *cardinality* of each variable (that is, its number of unique values) to decide how large to make its *embeddings*. Each level will be associated with a vector with length defined as below."
   ]
  },
  {
   "cell_type": "code",
   "execution_count": 205,
   "metadata": {
    "collapsed": true
   },
   "outputs": [],
   "source": [
    "emb_szs = [(c, min(50, (c+1)//2)) for _,c in cat_sz]"
   ]
  },
  {
   "cell_type": "code",
   "execution_count": 206,
   "metadata": {
    "scrolled": true
   },
   "outputs": [
    {
     "data": {
      "text/plain": [
       "[(4, 2),\n",
       " (13, 7),\n",
       " (53, 27),\n",
       " (32, 16),\n",
       " (8, 4),\n",
       " (367, 50),\n",
       " (3, 2),\n",
       " (13, 7),\n",
       " (6, 3),\n",
       " (3, 2),\n",
       " (19, 10),\n",
       " (5, 3)]"
      ]
     },
     "execution_count": 206,
     "metadata": {},
     "output_type": "execute_result"
    }
   ],
   "source": [
    "emb_szs"
   ]
  },
  {
   "cell_type": "code",
   "execution_count": 207,
   "metadata": {
    "collapsed": true
   },
   "outputs": [
    {
     "data": {
      "text/plain": [
       "OrderedDict([('Embedding-1',\n",
       "              OrderedDict([('input_shape', [-1]),\n",
       "                           ('output_shape', [-1, 2]),\n",
       "                           ('trainable', True),\n",
       "                           ('nb_params', 8)])),\n",
       "             ('Embedding-2',\n",
       "              OrderedDict([('input_shape', [-1]),\n",
       "                           ('output_shape', [-1, 7]),\n",
       "                           ('trainable', True),\n",
       "                           ('nb_params', 91)])),\n",
       "             ('Embedding-3',\n",
       "              OrderedDict([('input_shape', [-1]),\n",
       "                           ('output_shape', [-1, 27]),\n",
       "                           ('trainable', True),\n",
       "                           ('nb_params', 1431)])),\n",
       "             ('Embedding-4',\n",
       "              OrderedDict([('input_shape', [-1]),\n",
       "                           ('output_shape', [-1, 16]),\n",
       "                           ('trainable', True),\n",
       "                           ('nb_params', 512)])),\n",
       "             ('Embedding-5',\n",
       "              OrderedDict([('input_shape', [-1]),\n",
       "                           ('output_shape', [-1, 4]),\n",
       "                           ('trainable', True),\n",
       "                           ('nb_params', 32)])),\n",
       "             ('Embedding-6',\n",
       "              OrderedDict([('input_shape', [-1]),\n",
       "                           ('output_shape', [-1, 50]),\n",
       "                           ('trainable', True),\n",
       "                           ('nb_params', 18350)])),\n",
       "             ('Embedding-7',\n",
       "              OrderedDict([('input_shape', [-1]),\n",
       "                           ('output_shape', [-1, 2]),\n",
       "                           ('trainable', True),\n",
       "                           ('nb_params', 6)])),\n",
       "             ('Embedding-8',\n",
       "              OrderedDict([('input_shape', [-1]),\n",
       "                           ('output_shape', [-1, 7]),\n",
       "                           ('trainable', True),\n",
       "                           ('nb_params', 91)])),\n",
       "             ('Embedding-9',\n",
       "              OrderedDict([('input_shape', [-1]),\n",
       "                           ('output_shape', [-1, 3]),\n",
       "                           ('trainable', True),\n",
       "                           ('nb_params', 18)])),\n",
       "             ('Embedding-10',\n",
       "              OrderedDict([('input_shape', [-1]),\n",
       "                           ('output_shape', [-1, 2]),\n",
       "                           ('trainable', True),\n",
       "                           ('nb_params', 6)])),\n",
       "             ('Embedding-11',\n",
       "              OrderedDict([('input_shape', [-1]),\n",
       "                           ('output_shape', [-1, 10]),\n",
       "                           ('trainable', True),\n",
       "                           ('nb_params', 190)])),\n",
       "             ('Embedding-12',\n",
       "              OrderedDict([('input_shape', [-1]),\n",
       "                           ('output_shape', [-1, 3]),\n",
       "                           ('trainable', True),\n",
       "                           ('nb_params', 15)])),\n",
       "             ('Dropout-13',\n",
       "              OrderedDict([('input_shape', [-1, 133]),\n",
       "                           ('output_shape', [-1, 133]),\n",
       "                           ('nb_params', 0)])),\n",
       "             ('BatchNorm1d-14',\n",
       "              OrderedDict([('input_shape', [-1, 16]),\n",
       "                           ('output_shape', [-1, 16]),\n",
       "                           ('trainable', True),\n",
       "                           ('nb_params', 32)])),\n",
       "             ('Linear-15',\n",
       "              OrderedDict([('input_shape', [-1, 149]),\n",
       "                           ('output_shape', [-1, 1000]),\n",
       "                           ('trainable', True),\n",
       "                           ('nb_params', 150000)])),\n",
       "             ('Dropout-16',\n",
       "              OrderedDict([('input_shape', [-1, 1000]),\n",
       "                           ('output_shape', [-1, 1000]),\n",
       "                           ('nb_params', 0)])),\n",
       "             ('Linear-17',\n",
       "              OrderedDict([('input_shape', [-1, 1000]),\n",
       "                           ('output_shape', [-1, 500]),\n",
       "                           ('trainable', True),\n",
       "                           ('nb_params', 500500)])),\n",
       "             ('Dropout-18',\n",
       "              OrderedDict([('input_shape', [-1, 500]),\n",
       "                           ('output_shape', [-1, 500]),\n",
       "                           ('nb_params', 0)])),\n",
       "             ('Linear-19',\n",
       "              OrderedDict([('input_shape', [-1, 500]),\n",
       "                           ('output_shape', [-1, 1]),\n",
       "                           ('trainable', True),\n",
       "                           ('nb_params', 501)]))])"
      ]
     },
     "execution_count": 207,
     "metadata": {},
     "output_type": "execute_result"
    }
   ],
   "source": [
    "m = md.get_learner(emb_szs, len(df.columns)-len(cat_vars),\n",
    "                   0.04, 1, [1000,500], [0.001,0.01], y_range=y_range)\n",
    "m.summary()"
   ]
  },
  {
   "cell_type": "code",
   "execution_count": 208,
   "metadata": {},
   "outputs": [
    {
     "data": {
      "application/vnd.jupyter.widget-view+json": {
       "model_id": "743c7c77d01048c8a179dbf41893b2d3",
       "version_major": 2,
       "version_minor": 0
      },
      "text/plain": [
       "HBox(children=(IntProgress(value=0, description='Epoch', max=1), HTML(value='')))"
      ]
     },
     "metadata": {},
     "output_type": "display_data"
    },
    {
     "name": "stdout",
     "output_type": "stream",
     "text": [
      "epoch      trn_loss   val_loss   \n",
      "    0      0.155309   0.239693  \n"
     ]
    }
   ],
   "source": [
    "lr = 1e-3\n",
    "#lr = 2e-5\n",
    "m.lr_find()"
   ]
  },
  {
   "cell_type": "code",
   "execution_count": 209,
   "metadata": {},
   "outputs": [
    {
     "data": {
      "image/png": "[encoded data removed]",
      "text/plain": [
       "<Figure size 432x288 with 1 Axes>"
      ]
     },
     "metadata": {},
     "output_type": "display_data"
    }
   ],
   "source": [
    "m.sched.plot(100)"
   ]
  },
  {
   "cell_type": "markdown",
   "metadata": {
    "heading_collapsed": true
   },
   "source": [
    "### Sample"
   ]
  },
  {
   "cell_type": "code",
   "execution_count": 210,
   "metadata": {
    "collapsed": true,
    "hidden": true
   },
   "outputs": [],
   "source": [
    "#m = md.get_learner(emb_szs, len(df.columns)-len(cat_vars),\n",
    "#                   0.04, 1, [1000,500], [0.001,0.01], y_range=y_range)\n",
    "#lr = 1e-3"
   ]
  },
  {
   "cell_type": "code",
   "execution_count": 211,
   "metadata": {
    "hidden": true
   },
   "outputs": [],
   "source": [
    "#m.fit(lr, 3, metrics=[rmse])"
   ]
  },
  {
   "cell_type": "code",
   "execution_count": 212,
   "metadata": {
    "hidden": true
   },
   "outputs": [],
   "source": [
    "#m.fit(lr, 5, metrics=[rmse], cycle_len=1)"
   ]
  },
  {
   "cell_type": "code",
   "execution_count": 213,
   "metadata": {
    "hidden": true
   },
   "outputs": [],
   "source": [
    "#m.fit(lr, 2, metrics=[rmse], cycle_len=4)"
   ]
  },
  {
   "cell_type": "markdown",
   "metadata": {
    "heading_collapsed": true
   },
   "source": [
    "### All"
   ]
  },
  {
   "cell_type": "code",
   "execution_count": 214,
   "metadata": {
    "collapsed": true,
    "hidden": true
   },
   "outputs": [],
   "source": [
    "m = md.get_learner(emb_szs, len(df.columns)-len(cat_vars),\n",
    "                   0.04, 1, [1000,500], [0.001,0.01], y_range=y_range)\n",
    "lr = 2e-5"
   ]
  },
  {
   "cell_type": "code",
   "execution_count": 215,
   "metadata": {
    "hidden": true
   },
   "outputs": [
    {
     "data": {
      "application/vnd.jupyter.widget-view+json": {
       "model_id": "080b083e2c734906b8b1b3472693a5bb",
       "version_major": 2,
       "version_minor": 0
      },
      "text/plain": [
       "HBox(children=(IntProgress(value=0, description='Epoch', max=1), HTML(value='')))"
      ]
     },
     "metadata": {},
     "output_type": "display_data"
    },
    {
     "name": "stdout",
     "output_type": "stream",
     "text": [
      "epoch      trn_loss   val_loss   rmse       \n",
      "    0      0.100634   0.157171   0.378328  \n"
     ]
    },
    {
     "data": {
      "text/plain": [
       "[array([0.15717]), 0.37832775120254225]"
      ]
     },
     "execution_count": 215,
     "metadata": {},
     "output_type": "execute_result"
    }
   ],
   "source": [
    "m.fit(lr, 1, metrics=[rmse])"
   ]
  },
  {
   "cell_type": "code",
   "execution_count": 216,
   "metadata": {
    "hidden": true
   },
   "outputs": [
    {
     "data": {
      "application/vnd.jupyter.widget-view+json": {
       "model_id": "5159a54290dc45fe9945b74996d01043",
       "version_major": 2,
       "version_minor": 0
      },
      "text/plain": [
       "HBox(children=(IntProgress(value=0, description='Epoch', max=3), HTML(value='')))"
      ]
     },
     "metadata": {},
     "output_type": "display_data"
    },
    {
     "name": "stdout",
     "output_type": "stream",
     "text": [
      "epoch      trn_loss   val_loss   rmse       \n",
      "    0      0.09863    0.158371   0.378838  \n",
      "    1      0.094995   0.15593    0.377084  \n",
      "    2      0.105984   0.156022   0.377016  \n"
     ]
    },
    {
     "data": {
      "text/plain": [
       "[array([0.15602]), 0.3770157867542073]"
      ]
     },
     "execution_count": 216,
     "metadata": {},
     "output_type": "execute_result"
    }
   ],
   "source": [
    "m.fit(lr, 3, metrics=[rmse])"
   ]
  },
  {
   "cell_type": "code",
   "execution_count": 217,
   "metadata": {
    "hidden": true
   },
   "outputs": [
    {
     "data": {
      "application/vnd.jupyter.widget-view+json": {
       "model_id": "0c5abab38b004de38e1674430d6b7135",
       "version_major": 2,
       "version_minor": 0
      },
      "text/plain": [
       "HBox(children=(IntProgress(value=0, description='Epoch', max=3), HTML(value='')))"
      ]
     },
     "metadata": {},
     "output_type": "display_data"
    },
    {
     "name": "stdout",
     "output_type": "stream",
     "text": [
      "epoch      trn_loss   val_loss   rmse       \n",
      "    0      0.100901   0.155446   0.376431  \n",
      "    1      0.104432   0.155405   0.376407  \n",
      "    2      0.09195    0.155258   0.376308  \n"
     ]
    },
    {
     "data": {
      "text/plain": [
       "[array([0.15526]), 0.3763079823424793]"
      ]
     },
     "execution_count": 217,
     "metadata": {},
     "output_type": "execute_result"
    }
   ],
   "source": [
    "m.fit(lr, 3, metrics=[rmse], cycle_len=1)"
   ]
  },
  {
   "cell_type": "markdown",
   "metadata": {
    "heading_collapsed": true
   },
   "source": [
    "### Test"
   ]
  },
  {
   "cell_type": "code",
   "execution_count": 218,
   "metadata": {
    "collapsed": true,
    "hidden": true
   },
   "outputs": [],
   "source": [
    "m = md.get_learner(emb_szs, len(df.columns)-len(cat_vars),\n",
    "                   0.04, 1, [1000,500], [0.001,0.01], y_range=y_range)\n",
    "lr = 2e-5"
   ]
  },
  {
   "cell_type": "code",
   "execution_count": null,
   "metadata": {
    "hidden": true
   },
   "outputs": [
    {
     "data": {
      "application/vnd.jupyter.widget-view+json": {
       "model_id": "48938c540a6644b0ba4358bbc32123e6",
       "version_major": 2,
       "version_minor": 0
      },
      "text/plain": [
       "HBox(children=(IntProgress(value=0, description='Epoch', max=3), HTML(value='')))"
      ]
     },
     "metadata": {},
     "output_type": "display_data"
    },
    {
     "name": "stdout",
     "output_type": "stream",
     "text": [
      "epoch      trn_loss   val_loss   rmse       \n",
      "    0      0.092207   0.157164   0.378365  \n",
      " 18%|█▊        | 26785/147084 [03:28<15:37, 128.26it/s, loss=0.0989]"
     ]
    }
   ],
   "source": [
    "m.fit(lr, 3, metrics=[rmse])"
   ]
  },
  {
   "cell_type": "code",
   "execution_count": null,
   "metadata": {
    "hidden": true
   },
   "outputs": [],
   "source": [
    "m.fit(lr, 3, metrics=[rmse], cycle_len=1)"
   ]
  },
  {
   "cell_type": "code",
   "execution_count": null,
   "metadata": {
    "collapsed": true,
    "hidden": true
   },
   "outputs": [],
   "source": [
    "m.save('val0')"
   ]
  },
  {
   "cell_type": "code",
   "execution_count": null,
   "metadata": {
    "collapsed": true,
    "hidden": true
   },
   "outputs": [],
   "source": [
    "m.load('val0')"
   ]
  },
  {
   "cell_type": "code",
   "execution_count": null,
   "metadata": {
    "collapsed": true,
    "hidden": true
   },
   "outputs": [],
   "source": [
    "x,y=m.predict_with_targs()"
   ]
  },
  {
   "cell_type": "code",
   "execution_count": null,
   "metadata": {
    "hidden": true
   },
   "outputs": [],
   "source": [
    "rmse(x,y)"
   ]
  },
  {
   "cell_type": "code",
   "execution_count": null,
   "metadata": {
    "collapsed": true,
    "hidden": true
   },
   "outputs": [],
   "source": [
    "pred_test=m.predict(True)"
   ]
  },
  {
   "cell_type": "code",
   "execution_count": null,
   "metadata": {
    "collapsed": true,
    "hidden": true
   },
   "outputs": [],
   "source": [
    "joined_test['energy(kWh/hh)']=pred_test"
   ]
  },
  {
   "cell_type": "code",
   "execution_count": null,
   "metadata": {},
   "outputs": [],
   "source": [
    "joined_test.head(n=2)"
   ]
  },
  {
   "cell_type": "code",
   "execution_count": null,
   "metadata": {
    "collapsed": true,
    "hidden": true
   },
   "outputs": [],
   "source": [
    "csv_fn=f'{PATH}tmp/4_6_d_forecast_NN_hh_preds.csv'"
   ]
  },
  {
   "cell_type": "code",
   "execution_count": null,
   "metadata": {
    "collapsed": true,
    "hidden": true
   },
   "outputs": [],
   "source": [
    "joined_test[['LCLid','energy(kWh/hh)']].to_csv(csv_fn, index=False)"
   ]
  },
  {
   "cell_type": "code",
   "execution_count": null,
   "metadata": {},
   "outputs": [],
   "source": []
  }
 ],
 "metadata": {
  "anaconda-cloud": {},
  "kernelspec": {
   "display_name": "Python 3",
   "language": "python",
   "name": "python3"
  },
  "language_info": {
   "codemirror_mode": {
    "name": "ipython",
    "version": 3
   },
   "file_extension": ".py",
   "mimetype": "text/x-python",
   "name": "python",
   "nbconvert_exporter": "python",
   "pygments_lexer": "ipython3",
   "version": "3.6.5"
  },
  "toc": {
   "colors": {
    "hover_highlight": "#DAA520",
    "navigate_num": "#000000",
    "navigate_text": "#333333",
    "running_highlight": "#FF0000",
    "selected_highlight": "#FFD700",
    "sidebar_border": "#EEEEEE",
    "wrapper_background": "#FFFFFF"
   },
   "moveMenuLeft": true,
   "nav_menu": {
    "height": "173px",
    "width": "251px"
   },
   "navigate_menu": true,
   "number_sections": true,
   "sideBar": true,
   "threshold": 4,
   "toc_cell": false,
   "toc_section_display": "block",
   "toc_window_display": false,
   "widenNotebook": false
  },
  "varInspector": {
   "cols": {
    "lenName": 16,
    "lenType": 16,
    "lenVar": 40
   },
   "kernels_config": {
    "python": {
     "delete_cmd_postfix": "",
     "delete_cmd_prefix": "del ",
     "library": "var_list.py",
     "varRefreshCmd": "print(var_dic_list())"
    },
    "r": {
     "delete_cmd_postfix": ") ",
     "delete_cmd_prefix": "rm(",
     "library": "var_list.r",
     "varRefreshCmd": "cat(var_dic_list()) "
    }
   },
   "types_to_exclude": [
    "module",
    "function",
    "builtin_function_or_method",
    "instance",
    "_Feature"
   ],
   "window_display": false
  }
 },
 "nbformat": 4,
 "nbformat_minor": 2
}
