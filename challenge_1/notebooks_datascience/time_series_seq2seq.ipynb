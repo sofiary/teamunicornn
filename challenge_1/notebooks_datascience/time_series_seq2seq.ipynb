{
 "cells": [
  {
   "cell_type": "markdown",
   "metadata": {},
   "source": [
    "## Multivariate Time Series forecast using seq2seq in TensorFlow\n",
    "\n",
    "Based on \n",
    "\n",
    "weiminwang.blog/2017/09/29/multivariate-time-series-forecast-using-seq2seq-in-tensorflow/\n",
    "\n",
    "Note use of Tensorflow - created a new virtualenv for this folder\n"
   ]
  },
  {
   "cell_type": "code",
   "execution_count": 1,
   "metadata": {
    "collapsed": true
   },
   "outputs": [
    {
     "ename": "ImportError",
     "evalue": "Traceback (most recent call last):\n  File \"/home/walle/.virtualenvs/tf_py36/lib/python3.6/site-packages/tensorflow/python/pywrap_tensorflow.py\", line 58, in <module>\n    from tensorflow.python.pywrap_tensorflow_internal import *\n  File \"/home/walle/.virtualenvs/tf_py36/lib/python3.6/site-packages/tensorflow/python/pywrap_tensorflow_internal.py\", line 28, in <module>\n    _pywrap_tensorflow_internal = swig_import_helper()\n  File \"/home/walle/.virtualenvs/tf_py36/lib/python3.6/site-packages/tensorflow/python/pywrap_tensorflow_internal.py\", line 24, in swig_import_helper\n    _mod = imp.load_module('_pywrap_tensorflow_internal', fp, pathname, description)\n  File \"/home/walle/.virtualenvs/tf_py36/lib/python3.6/imp.py\", line 243, in load_module\n    return load_dynamic(name, filename, file)\n  File \"/home/walle/.virtualenvs/tf_py36/lib/python3.6/imp.py\", line 343, in load_dynamic\n    return _load(spec)\nImportError: libcudnn.so.7: cannot open shared object file: No such file or directory\n\n\nFailed to load the native TensorFlow runtime.\n\nSee https://www.tensorflow.org/install/install_sources#common_installation_problems\n\nfor some common reasons and solutions.  Include the entire stack trace\nabove this error message when asking for help.",
     "output_type": "error",
     "traceback": [
      "\u001b[0;31m---------------------------------------------------------------------------\u001b[0m",
      "\u001b[0;31mImportError\u001b[0m                               Traceback (most recent call last)",
      "\u001b[0;32m~/.virtualenvs/tf_py36/lib/python3.6/site-packages/tensorflow/python/pywrap_tensorflow.py\u001b[0m in \u001b[0;36m<module>\u001b[0;34m\u001b[0m\n\u001b[1;32m     57\u001b[0m \u001b[0;34m\u001b[0m\u001b[0m\n\u001b[0;32m---> 58\u001b[0;31m   \u001b[0;32mfrom\u001b[0m \u001b[0mtensorflow\u001b[0m\u001b[0;34m.\u001b[0m\u001b[0mpython\u001b[0m\u001b[0;34m.\u001b[0m\u001b[0mpywrap_tensorflow_internal\u001b[0m \u001b[0;32mimport\u001b[0m \u001b[0;34m*\u001b[0m\u001b[0;34m\u001b[0m\u001b[0m\n\u001b[0m\u001b[1;32m     59\u001b[0m   \u001b[0;32mfrom\u001b[0m \u001b[0mtensorflow\u001b[0m\u001b[0;34m.\u001b[0m\u001b[0mpython\u001b[0m\u001b[0;34m.\u001b[0m\u001b[0mpywrap_tensorflow_internal\u001b[0m \u001b[0;32mimport\u001b[0m \u001b[0m__version__\u001b[0m\u001b[0;34m\u001b[0m\u001b[0m\n",
      "\u001b[0;32m~/.virtualenvs/tf_py36/lib/python3.6/site-packages/tensorflow/python/pywrap_tensorflow_internal.py\u001b[0m in \u001b[0;36m<module>\u001b[0;34m\u001b[0m\n\u001b[1;32m     27\u001b[0m             \u001b[0;32mreturn\u001b[0m \u001b[0m_mod\u001b[0m\u001b[0;34m\u001b[0m\u001b[0m\n\u001b[0;32m---> 28\u001b[0;31m     \u001b[0m_pywrap_tensorflow_internal\u001b[0m \u001b[0;34m=\u001b[0m \u001b[0mswig_import_helper\u001b[0m\u001b[0;34m(\u001b[0m\u001b[0;34m)\u001b[0m\u001b[0;34m\u001b[0m\u001b[0m\n\u001b[0m\u001b[1;32m     29\u001b[0m     \u001b[0;32mdel\u001b[0m \u001b[0mswig_import_helper\u001b[0m\u001b[0;34m\u001b[0m\u001b[0m\n",
      "\u001b[0;32m~/.virtualenvs/tf_py36/lib/python3.6/site-packages/tensorflow/python/pywrap_tensorflow_internal.py\u001b[0m in \u001b[0;36mswig_import_helper\u001b[0;34m()\u001b[0m\n\u001b[1;32m     23\u001b[0m             \u001b[0;32mtry\u001b[0m\u001b[0;34m:\u001b[0m\u001b[0;34m\u001b[0m\u001b[0m\n\u001b[0;32m---> 24\u001b[0;31m                 \u001b[0m_mod\u001b[0m \u001b[0;34m=\u001b[0m \u001b[0mimp\u001b[0m\u001b[0;34m.\u001b[0m\u001b[0mload_module\u001b[0m\u001b[0;34m(\u001b[0m\u001b[0;34m'_pywrap_tensorflow_internal'\u001b[0m\u001b[0;34m,\u001b[0m \u001b[0mfp\u001b[0m\u001b[0;34m,\u001b[0m \u001b[0mpathname\u001b[0m\u001b[0;34m,\u001b[0m \u001b[0mdescription\u001b[0m\u001b[0;34m)\u001b[0m\u001b[0;34m\u001b[0m\u001b[0m\n\u001b[0m\u001b[1;32m     25\u001b[0m             \u001b[0;32mfinally\u001b[0m\u001b[0;34m:\u001b[0m\u001b[0;34m\u001b[0m\u001b[0m\n",
      "\u001b[0;32m~/.virtualenvs/tf_py36/lib/python3.6/imp.py\u001b[0m in \u001b[0;36mload_module\u001b[0;34m(name, file, filename, details)\u001b[0m\n\u001b[1;32m    242\u001b[0m         \u001b[0;32melse\u001b[0m\u001b[0;34m:\u001b[0m\u001b[0;34m\u001b[0m\u001b[0m\n\u001b[0;32m--> 243\u001b[0;31m             \u001b[0;32mreturn\u001b[0m \u001b[0mload_dynamic\u001b[0m\u001b[0;34m(\u001b[0m\u001b[0mname\u001b[0m\u001b[0;34m,\u001b[0m \u001b[0mfilename\u001b[0m\u001b[0;34m,\u001b[0m \u001b[0mfile\u001b[0m\u001b[0;34m)\u001b[0m\u001b[0;34m\u001b[0m\u001b[0m\n\u001b[0m\u001b[1;32m    244\u001b[0m     \u001b[0;32melif\u001b[0m \u001b[0mtype_\u001b[0m \u001b[0;34m==\u001b[0m \u001b[0mPKG_DIRECTORY\u001b[0m\u001b[0;34m:\u001b[0m\u001b[0;34m\u001b[0m\u001b[0m\n",
      "\u001b[0;32m~/.virtualenvs/tf_py36/lib/python3.6/imp.py\u001b[0m in \u001b[0;36mload_dynamic\u001b[0;34m(name, path, file)\u001b[0m\n\u001b[1;32m    342\u001b[0m             name=name, loader=loader, origin=path)\n\u001b[0;32m--> 343\u001b[0;31m         \u001b[0;32mreturn\u001b[0m \u001b[0m_load\u001b[0m\u001b[0;34m(\u001b[0m\u001b[0mspec\u001b[0m\u001b[0;34m)\u001b[0m\u001b[0;34m\u001b[0m\u001b[0m\n\u001b[0m\u001b[1;32m    344\u001b[0m \u001b[0;34m\u001b[0m\u001b[0m\n",
      "\u001b[0;31mImportError\u001b[0m: libcudnn.so.7: cannot open shared object file: No such file or directory",
      "\nDuring handling of the above exception, another exception occurred:\n",
      "\u001b[0;31mImportError\u001b[0m                               Traceback (most recent call last)",
      "\u001b[0;32m<ipython-input-1-a8444ee20829>\u001b[0m in \u001b[0;36m<module>\u001b[0;34m\u001b[0m\n\u001b[1;32m      5\u001b[0m \u001b[0;34m\u001b[0m\u001b[0m\n\u001b[1;32m      6\u001b[0m \u001b[0;32mimport\u001b[0m \u001b[0mnumpy\u001b[0m \u001b[0;32mas\u001b[0m \u001b[0mnp\u001b[0m\u001b[0;34m\u001b[0m\u001b[0m\n\u001b[0;32m----> 7\u001b[0;31m \u001b[0;32mimport\u001b[0m \u001b[0mtensorflow\u001b[0m \u001b[0;32mas\u001b[0m \u001b[0mtf\u001b[0m\u001b[0;34m\u001b[0m\u001b[0m\n\u001b[0m\u001b[1;32m      8\u001b[0m \u001b[0;32mfrom\u001b[0m \u001b[0mmatplotlib\u001b[0m \u001b[0;32mimport\u001b[0m \u001b[0mpyplot\u001b[0m \u001b[0;32mas\u001b[0m \u001b[0mplt\u001b[0m\u001b[0;34m\u001b[0m\u001b[0m\n\u001b[1;32m      9\u001b[0m \u001b[0;32mimport\u001b[0m \u001b[0mseaborn\u001b[0m \u001b[0;32mas\u001b[0m \u001b[0msns\u001b[0m\u001b[0;34m\u001b[0m\u001b[0m\n",
      "\u001b[0;32m~/.virtualenvs/tf_py36/lib/python3.6/site-packages/tensorflow/__init__.py\u001b[0m in \u001b[0;36m<module>\u001b[0;34m\u001b[0m\n\u001b[1;32m     22\u001b[0m \u001b[0;34m\u001b[0m\u001b[0m\n\u001b[1;32m     23\u001b[0m \u001b[0;31m# pylint: disable=g-bad-import-order\u001b[0m\u001b[0;34m\u001b[0m\u001b[0;34m\u001b[0m\u001b[0m\n\u001b[0;32m---> 24\u001b[0;31m \u001b[0;32mfrom\u001b[0m \u001b[0mtensorflow\u001b[0m\u001b[0;34m.\u001b[0m\u001b[0mpython\u001b[0m \u001b[0;32mimport\u001b[0m \u001b[0mpywrap_tensorflow\u001b[0m  \u001b[0;31m# pylint: disable=unused-import\u001b[0m\u001b[0;34m\u001b[0m\u001b[0m\n\u001b[0m\u001b[1;32m     25\u001b[0m \u001b[0;31m# pylint: disable=wildcard-import\u001b[0m\u001b[0;34m\u001b[0m\u001b[0;34m\u001b[0m\u001b[0m\n\u001b[1;32m     26\u001b[0m \u001b[0;32mfrom\u001b[0m \u001b[0mtensorflow\u001b[0m\u001b[0;34m.\u001b[0m\u001b[0mtools\u001b[0m\u001b[0;34m.\u001b[0m\u001b[0mapi\u001b[0m\u001b[0;34m.\u001b[0m\u001b[0mgenerator\u001b[0m\u001b[0;34m.\u001b[0m\u001b[0mapi\u001b[0m \u001b[0;32mimport\u001b[0m \u001b[0;34m*\u001b[0m  \u001b[0;31m# pylint: disable=redefined-builtin\u001b[0m\u001b[0;34m\u001b[0m\u001b[0m\n",
      "\u001b[0;32m~/.virtualenvs/tf_py36/lib/python3.6/site-packages/tensorflow/python/__init__.py\u001b[0m in \u001b[0;36m<module>\u001b[0;34m\u001b[0m\n\u001b[1;32m     47\u001b[0m \u001b[0;32mimport\u001b[0m \u001b[0mnumpy\u001b[0m \u001b[0;32mas\u001b[0m \u001b[0mnp\u001b[0m\u001b[0;34m\u001b[0m\u001b[0m\n\u001b[1;32m     48\u001b[0m \u001b[0;34m\u001b[0m\u001b[0m\n\u001b[0;32m---> 49\u001b[0;31m \u001b[0;32mfrom\u001b[0m \u001b[0mtensorflow\u001b[0m\u001b[0;34m.\u001b[0m\u001b[0mpython\u001b[0m \u001b[0;32mimport\u001b[0m \u001b[0mpywrap_tensorflow\u001b[0m\u001b[0;34m\u001b[0m\u001b[0m\n\u001b[0m\u001b[1;32m     50\u001b[0m \u001b[0;34m\u001b[0m\u001b[0m\n\u001b[1;32m     51\u001b[0m \u001b[0;31m# Protocol buffers\u001b[0m\u001b[0;34m\u001b[0m\u001b[0;34m\u001b[0m\u001b[0m\n",
      "\u001b[0;32m~/.virtualenvs/tf_py36/lib/python3.6/site-packages/tensorflow/python/pywrap_tensorflow.py\u001b[0m in \u001b[0;36m<module>\u001b[0;34m\u001b[0m\n\u001b[1;32m     72\u001b[0m \u001b[0;32mfor\u001b[0m \u001b[0msome\u001b[0m \u001b[0mcommon\u001b[0m \u001b[0mreasons\u001b[0m \u001b[0;32mand\u001b[0m \u001b[0msolutions\u001b[0m\u001b[0;34m.\u001b[0m  \u001b[0mInclude\u001b[0m \u001b[0mthe\u001b[0m \u001b[0mentire\u001b[0m \u001b[0mstack\u001b[0m \u001b[0mtrace\u001b[0m\u001b[0;34m\u001b[0m\u001b[0m\n\u001b[1;32m     73\u001b[0m above this error message when asking for help.\"\"\" % traceback.format_exc()\n\u001b[0;32m---> 74\u001b[0;31m   \u001b[0;32mraise\u001b[0m \u001b[0mImportError\u001b[0m\u001b[0;34m(\u001b[0m\u001b[0mmsg\u001b[0m\u001b[0;34m)\u001b[0m\u001b[0;34m\u001b[0m\u001b[0m\n\u001b[0m\u001b[1;32m     75\u001b[0m \u001b[0;34m\u001b[0m\u001b[0m\n\u001b[1;32m     76\u001b[0m \u001b[0;31m# pylint: enable=wildcard-import,g-import-not-at-top,unused-import,line-too-long\u001b[0m\u001b[0;34m\u001b[0m\u001b[0;34m\u001b[0m\u001b[0m\n",
      "\u001b[0;31mImportError\u001b[0m: Traceback (most recent call last):\n  File \"/home/walle/.virtualenvs/tf_py36/lib/python3.6/site-packages/tensorflow/python/pywrap_tensorflow.py\", line 58, in <module>\n    from tensorflow.python.pywrap_tensorflow_internal import *\n  File \"/home/walle/.virtualenvs/tf_py36/lib/python3.6/site-packages/tensorflow/python/pywrap_tensorflow_internal.py\", line 28, in <module>\n    _pywrap_tensorflow_internal = swig_import_helper()\n  File \"/home/walle/.virtualenvs/tf_py36/lib/python3.6/site-packages/tensorflow/python/pywrap_tensorflow_internal.py\", line 24, in swig_import_helper\n    _mod = imp.load_module('_pywrap_tensorflow_internal', fp, pathname, description)\n  File \"/home/walle/.virtualenvs/tf_py36/lib/python3.6/imp.py\", line 243, in load_module\n    return load_dynamic(name, filename, file)\n  File \"/home/walle/.virtualenvs/tf_py36/lib/python3.6/imp.py\", line 343, in load_dynamic\n    return _load(spec)\nImportError: libcudnn.so.7: cannot open shared object file: No such file or directory\n\n\nFailed to load the native TensorFlow runtime.\n\nSee https://www.tensorflow.org/install/install_sources#common_installation_problems\n\nfor some common reasons and solutions.  Include the entire stack trace\nabove this error message when asking for help."
     ]
    }
   ],
   "source": [
    "import os\n",
    "import copy\n",
    "import random\n",
    "import math\n",
    "\n",
    "import numpy as np \n",
    "import tensorflow as tf\n",
    "from matplotlib import pyplot as plt\n",
    "import seaborn as sns\n",
    "import pandas as pd"
   ]
  },
  {
   "cell_type": "markdown",
   "metadata": {},
   "source": [
    "## Data exploration"
   ]
  },
  {
   "cell_type": "code",
   "execution_count": null,
   "metadata": {},
   "outputs": [],
   "source": [
    "df = pd.read_csv(f'../input/merged_data/hh_melted_date_all_deltas.csv')\n",
    "\n",
    "print(df.head())\n",
    "\n"
   ]
  },
  {
   "cell_type": "code",
   "execution_count": null,
   "metadata": {},
   "outputs": [],
   "source": [
    "cols_to_plot = [\"pm2.5\", \"DEWP\", \"TEMP\", \"PRES\", \"Iws\", \"Is\", \"Ir\"]\n",
    "i = 1\n",
    "# plot each column\n",
    "plt.figure(figsize = (10,12))\n",
    "for col in cols_to_plot:\n",
    "    plt.subplot(len(cols_to_plot), 1, i)\n",
    "    plt.plot(df[col])\n",
    "    plt.title(col, y=0.5, loc='left')\n",
    "    i += 1\n",
    "plt.show()"
   ]
  },
  {
   "cell_type": "markdown",
   "metadata": {},
   "source": [
    "## Preprocessing - there are many other ways"
   ]
  },
  {
   "cell_type": "code",
   "execution_count": 238,
   "metadata": {
    "scrolled": true
   },
   "outputs": [],
   "source": [
    "## Fill NA with 0 \n",
    "#print(df.isnull().sum())\n",
    "df.fillna(0, inplace = True)\n",
    "\n",
    "## One-hot encode 'cbwd'\n",
    "temp = pd.get_dummies(df['cbwd'], prefix='cbwd')\n",
    "df = pd.concat([df, temp], axis = 1)\n",
    "del df['cbwd'], temp\n",
    "\n",
    "## Split into train and test - I used the last 1 month data as test, but it's up to you to decide the ratio\n",
    "df_train = df.iloc[:(-31*24), :].copy()\n",
    "df_test = df.iloc[-31*24:, :].copy()\n",
    "\n",
    "## take out the useful columns for modeling - you may also keep 'hour', 'day' or 'month' and to see if that will improve your accuracy\n",
    "X_train = df_train.loc[:, ['pm2.5', 'DEWP', 'TEMP', 'PRES', 'Iws', 'Is', 'Ir', 'cbwd_NE', 'cbwd_NW', 'cbwd_SE', 'cbwd_cv']].values.copy()\n",
    "X_test = df_test.loc[:, ['pm2.5', 'DEWP', 'TEMP', 'PRES', 'Iws', 'Is', 'Ir', 'cbwd_NE', 'cbwd_NW', 'cbwd_SE', 'cbwd_cv']].values.copy()\n",
    "y_train = df_train['pm2.5'].values.copy().reshape(-1, 1)\n",
    "y_test = df_test['pm2.5'].values.copy().reshape(-1, 1)\n",
    "\n",
    "## z-score transform x - not including those one-how columns!\n",
    "for i in range(X_train.shape[1]-4):\n",
    "    temp_mean = X_train[:, i].mean()\n",
    "    temp_std = X_train[:, i].std()\n",
    "    X_train[:, i] = (X_train[:, i] - temp_mean) / temp_std\n",
    "    X_test[:, i] = (X_test[:, i] - temp_mean) / temp_std\n",
    "    \n",
    "## z-score transform y\n",
    "y_mean = y_train.mean()\n",
    "y_std = y_train.std()\n",
    "y_train = (y_train - y_mean) / y_std\n",
    "y_test = (y_test - y_mean) / y_std"
   ]
  },
  {
   "cell_type": "markdown",
   "metadata": {},
   "source": [
    "## Prepare training and test datasets in 3-D format - (batch_size, time_step, feature_dim)"
   ]
  },
  {
   "cell_type": "code",
   "execution_count": 243,
   "metadata": {},
   "outputs": [],
   "source": [
    "input_seq_len = 30\n",
    "output_seq_len = 5\n",
    "\n",
    "def generate_train_samples(x = X_train, y = y_train, batch_size = 10, input_seq_len = input_seq_len, output_seq_len = output_seq_len):\n",
    "\n",
    "    total_start_points = len(x) - input_seq_len - output_seq_len\n",
    "    start_x_idx = np.random.choice(range(total_start_points), batch_size, replace = False)\n",
    "    \n",
    "    input_batch_idxs = [list(range(i, i+input_seq_len)) for i in start_x_idx]\n",
    "    input_seq = np.take(x, input_batch_idxs, axis = 0)\n",
    "    \n",
    "    output_batch_idxs = [list(range(i+input_seq_len, i+input_seq_len+output_seq_len)) for i in start_x_idx]\n",
    "    output_seq = np.take(y, output_batch_idxs, axis = 0)\n",
    "    \n",
    "    return input_seq, output_seq # in shape: (batch_size, time_steps, feature_dim)\n",
    "\n",
    "def generate_test_samples(x = X_test, y = y_test, input_seq_len = input_seq_len, output_seq_len = output_seq_len):\n",
    "    \n",
    "    total_samples = x.shape[0]\n",
    "    \n",
    "    input_batch_idxs = [list(range(i, i+input_seq_len)) for i in range((total_samples-input_seq_len-output_seq_len))]\n",
    "    input_seq = np.take(x, input_batch_idxs, axis = 0)\n",
    "    \n",
    "    output_batch_idxs = [list(range(i+input_seq_len, i+input_seq_len+output_seq_len)) for i in range((total_samples-input_seq_len-output_seq_len))]\n",
    "    output_seq = np.take(y, output_batch_idxs, axis = 0)\n",
    "    \n",
    "    return input_seq, output_seq"
   ]
  },
  {
   "cell_type": "code",
   "execution_count": 244,
   "metadata": {},
   "outputs": [
    {
     "name": "stdout",
     "output_type": "stream",
     "text": [
      "(10, 30, 11) (10, 5, 1)\n"
     ]
    }
   ],
   "source": [
    "x, y = generate_train_samples()\n",
    "print(x.shape, y.shape)"
   ]
  },
  {
   "cell_type": "code",
   "execution_count": 245,
   "metadata": {},
   "outputs": [
    {
     "name": "stdout",
     "output_type": "stream",
     "text": [
      "(709, 30, 11) (709, 5, 1)\n"
     ]
    }
   ],
   "source": [
    "test_x, test_y = generate_test_samples()\n",
    "print(test_x.shape, test_y.shape)"
   ]
  },
  {
   "cell_type": "markdown",
   "metadata": {},
   "source": [
    "## Building the model - same multi-variate graph"
   ]
  },
  {
   "cell_type": "code",
   "execution_count": 246,
   "metadata": {
    "collapsed": true
   },
   "outputs": [],
   "source": [
    "from tensorflow.contrib import rnn\n",
    "from tensorflow.python.ops import variable_scope\n",
    "from tensorflow.python.framework import dtypes\n",
    "import tensorflow as tf\n",
    "import copy\n",
    "import os\n",
    "\n",
    "## Parameters\n",
    "learning_rate = 0.01\n",
    "lambda_l2_reg = 0.003  \n",
    "\n",
    "## Network Parameters\n",
    "# length of input signals\n",
    "input_seq_len = input_seq_len\n",
    "# length of output signals\n",
    "output_seq_len = output_seq_len\n",
    "# size of LSTM Cell\n",
    "hidden_dim = 64 \n",
    "# num of input signals\n",
    "input_dim = X_train.shape[1]\n",
    "# num of output signals\n",
    "output_dim = y_train.shape[1]\n",
    "# num of stacked lstm layers \n",
    "num_stacked_layers = 2 \n",
    "# gradient clipping - to avoid gradient exploding\n",
    "GRADIENT_CLIPPING = 2.5 \n",
    "\n",
    "def build_graph(feed_previous = False):\n",
    "    \n",
    "    tf.reset_default_graph()\n",
    "    \n",
    "    global_step = tf.Variable(\n",
    "                  initial_value=0,\n",
    "                  name=\"global_step\",\n",
    "                  trainable=False,\n",
    "                  collections=[tf.GraphKeys.GLOBAL_STEP, tf.GraphKeys.GLOBAL_VARIABLES])\n",
    "    \n",
    "    weights = {\n",
    "        'out': tf.get_variable('Weights_out', \\\n",
    "                               shape = [hidden_dim, output_dim], \\\n",
    "                               dtype = tf.float32, \\\n",
    "                               initializer = tf.truncated_normal_initializer()),\n",
    "    }\n",
    "    biases = {\n",
    "        'out': tf.get_variable('Biases_out', \\\n",
    "                               shape = [output_dim], \\\n",
    "                               dtype = tf.float32, \\\n",
    "                               initializer = tf.constant_initializer(0.)),\n",
    "    }\n",
    "                                          \n",
    "    with tf.variable_scope('Seq2seq'):\n",
    "        # Encoder: inputs\n",
    "        enc_inp = [\n",
    "            tf.placeholder(tf.float32, shape=(None, input_dim), name=\"inp_{}\".format(t))\n",
    "               for t in range(input_seq_len)\n",
    "        ]\n",
    "\n",
    "        # Decoder: target outputs\n",
    "        target_seq = [\n",
    "            tf.placeholder(tf.float32, shape=(None, output_dim), name=\"y\".format(t))\n",
    "              for t in range(output_seq_len)\n",
    "        ]\n",
    "\n",
    "        # Give a \"GO\" token to the decoder. \n",
    "        # If dec_inp are fed into decoder as inputs, this is 'guided' training; otherwise only the \n",
    "        # first element will be fed as decoder input which is then 'un-guided'\n",
    "        dec_inp = [ tf.zeros_like(target_seq[0], dtype=tf.float32, name=\"GO\") ] + target_seq[:-1]\n",
    "\n",
    "        with tf.variable_scope('LSTMCell'): \n",
    "            cells = []\n",
    "            for i in range(num_stacked_layers):\n",
    "                with tf.variable_scope('RNN_{}'.format(i)):\n",
    "                    cells.append(tf.contrib.rnn.LSTMCell(hidden_dim))\n",
    "            cell = tf.contrib.rnn.MultiRNNCell(cells)\n",
    "         \n",
    "        def _rnn_decoder(decoder_inputs,\n",
    "                        initial_state,\n",
    "                        cell,\n",
    "                        loop_function=None,\n",
    "                        scope=None):\n",
    "          \"\"\"RNN decoder for the sequence-to-sequence model.\n",
    "          Args:\n",
    "            decoder_inputs: A list of 2D Tensors [batch_size x input_size].\n",
    "            initial_state: 2D Tensor with shape [batch_size x cell.state_size].\n",
    "            cell: rnn_cell.RNNCell defining the cell function and size.\n",
    "            loop_function: If not None, this function will be applied to the i-th output\n",
    "              in order to generate the i+1-st input, and decoder_inputs will be ignored,\n",
    "              except for the first element (\"GO\" symbol). This can be used for decoding,\n",
    "              but also for training to emulate http://arxiv.org/abs/1506.03099.\n",
    "              Signature -- loop_function(prev, i) = next\n",
    "                * prev is a 2D Tensor of shape [batch_size x output_size],\n",
    "                * i is an integer, the step number (when advanced control is needed),\n",
    "                * next is a 2D Tensor of shape [batch_size x input_size].\n",
    "            scope: VariableScope for the created subgraph; defaults to \"rnn_decoder\".\n",
    "          Returns:\n",
    "            A tuple of the form (outputs, state), where:\n",
    "              outputs: A list of the same length as decoder_inputs of 2D Tensors with\n",
    "                shape [batch_size x output_size] containing generated outputs.\n",
    "              state: The state of each cell at the final time-step.\n",
    "                It is a 2D Tensor of shape [batch_size x cell.state_size].\n",
    "                (Note that in some cases, like basic RNN cell or GRU cell, outputs and\n",
    "                 states can be the same. They are different for LSTM cells though.)\n",
    "          \"\"\"\n",
    "          with variable_scope.variable_scope(scope or \"rnn_decoder\"):\n",
    "            state = initial_state\n",
    "            outputs = []\n",
    "            prev = None\n",
    "            for i, inp in enumerate(decoder_inputs):\n",
    "              if loop_function is not None and prev is not None:\n",
    "                with variable_scope.variable_scope(\"loop_function\", reuse=True):\n",
    "                  inp = loop_function(prev, i)\n",
    "              if i > 0:\n",
    "                variable_scope.get_variable_scope().reuse_variables()\n",
    "              output, state = cell(inp, state)\n",
    "              outputs.append(output)\n",
    "              if loop_function is not None:\n",
    "                prev = output\n",
    "          return outputs, state\n",
    "\n",
    "        def _basic_rnn_seq2seq(encoder_inputs,\n",
    "                              decoder_inputs,\n",
    "                              cell,\n",
    "                              feed_previous,\n",
    "                              dtype=dtypes.float32,\n",
    "                              scope=None):\n",
    "          \"\"\"Basic RNN sequence-to-sequence model.\n",
    "          This model first runs an RNN to encode encoder_inputs into a state vector,\n",
    "          then runs decoder, initialized with the last encoder state, on decoder_inputs.\n",
    "          Encoder and decoder use the same RNN cell type, but don't share parameters.\n",
    "          Args:\n",
    "            encoder_inputs: A list of 2D Tensors [batch_size x input_size].\n",
    "            decoder_inputs: A list of 2D Tensors [batch_size x input_size].\n",
    "            feed_previous: Boolean; if True, only the first of decoder_inputs will be\n",
    "              used (the \"GO\" symbol), all other inputs will be generated by the previous \n",
    "              decoder output using _loop_function below. If False, decoder_inputs are used \n",
    "              as given (the standard decoder case).\n",
    "            dtype: The dtype of the initial state of the RNN cell (default: tf.float32).\n",
    "            scope: VariableScope for the created subgraph; default: \"basic_rnn_seq2seq\".\n",
    "          Returns:\n",
    "            A tuple of the form (outputs, state), where:\n",
    "              outputs: A list of the same length as decoder_inputs of 2D Tensors with\n",
    "                shape [batch_size x output_size] containing the generated outputs.\n",
    "              state: The state of each decoder cell in the final time-step.\n",
    "                It is a 2D Tensor of shape [batch_size x cell.state_size].\n",
    "          \"\"\"\n",
    "          with variable_scope.variable_scope(scope or \"basic_rnn_seq2seq\"):\n",
    "            enc_cell = copy.deepcopy(cell)\n",
    "            _, enc_state = rnn.static_rnn(enc_cell, encoder_inputs, dtype=dtype)\n",
    "            if feed_previous:\n",
    "                return _rnn_decoder(decoder_inputs, enc_state, cell, _loop_function)\n",
    "            else:\n",
    "                return _rnn_decoder(decoder_inputs, enc_state, cell)\n",
    "\n",
    "        def _loop_function(prev, _):\n",
    "          '''Naive implementation of loop function for _rnn_decoder. Transform prev from \n",
    "          dimension [batch_size x hidden_dim] to [batch_size x output_dim], which will be\n",
    "          used as decoder input of next time step '''\n",
    "          return tf.matmul(prev, weights['out']) + biases['out']\n",
    "        \n",
    "        dec_outputs, dec_memory = _basic_rnn_seq2seq(\n",
    "            enc_inp, \n",
    "            dec_inp, \n",
    "            cell, \n",
    "            feed_previous = feed_previous\n",
    "        )\n",
    "\n",
    "        reshaped_outputs = [tf.matmul(i, weights['out']) + biases['out'] for i in dec_outputs]\n",
    "        \n",
    "    # Training loss and optimizer\n",
    "    with tf.variable_scope('Loss'):\n",
    "        # L2 loss\n",
    "        output_loss = 0\n",
    "        for _y, _Y in zip(reshaped_outputs, target_seq):\n",
    "            output_loss += tf.reduce_mean(tf.pow(_y - _Y, 2))\n",
    "\n",
    "        # L2 regularization for weights and biases\n",
    "        reg_loss = 0\n",
    "        for tf_var in tf.trainable_variables():\n",
    "            if 'Biases_' in tf_var.name or 'Weights_' in tf_var.name:\n",
    "                reg_loss += tf.reduce_mean(tf.nn.l2_loss(tf_var))\n",
    "\n",
    "        loss = output_loss + lambda_l2_reg * reg_loss\n",
    "\n",
    "    with tf.variable_scope('Optimizer'):\n",
    "        optimizer = tf.contrib.layers.optimize_loss(\n",
    "                loss=loss,\n",
    "                learning_rate=learning_rate,\n",
    "                global_step=global_step,\n",
    "                optimizer='Adam',\n",
    "                clip_gradients=GRADIENT_CLIPPING)\n",
    "        \n",
    "    saver = tf.train.Saver\n",
    "    \n",
    "    return dict(\n",
    "        enc_inp = enc_inp, \n",
    "        target_seq = target_seq, \n",
    "        train_op = optimizer, \n",
    "        loss=loss,\n",
    "        saver = saver, \n",
    "        reshaped_outputs = reshaped_outputs,\n",
    "        )"
   ]
  },
  {
   "cell_type": "markdown",
   "metadata": {},
   "source": [
    "## Train the model "
   ]
  },
  {
   "cell_type": "code",
   "execution_count": 247,
   "metadata": {
    "scrolled": true
   },
   "outputs": [
    {
     "name": "stdout",
     "output_type": "stream",
     "text": [
      "Training losses: \n",
      "12.7415\n",
      "49.3645\n",
      "11.9952\n",
      "19.3026\n",
      "2.27891\n",
      "10.0695\n",
      "6.88179\n",
      "1.61318\n",
      "3.43801\n",
      "1.48012\n",
      "2.08897\n",
      "2.23086\n",
      "1.14729\n",
      "1.24911\n",
      "1.19186\n",
      "0.825225\n",
      "1.39854\n",
      "0.83422\n",
      "0.993482\n",
      "1.15438\n",
      "0.91724\n",
      "0.449349\n",
      "0.342243\n",
      "0.773666\n",
      "3.1517\n",
      "0.742146\n",
      "0.726734\n",
      "0.693751\n",
      "0.72849\n",
      "3.75605\n",
      "0.781623\n",
      "0.435807\n",
      "0.638508\n",
      "0.323507\n",
      "0.731374\n",
      "5.73397\n",
      "0.957414\n",
      "0.566127\n",
      "1.117\n",
      "1.61221\n",
      "1.45885\n",
      "0.476478\n",
      "0.395423\n",
      "0.386837\n",
      "0.668713\n",
      "0.498765\n",
      "0.371423\n",
      "0.292672\n",
      "0.759234\n",
      "1.33207\n",
      "0.278139\n",
      "0.709335\n",
      "2.95788\n",
      "0.376149\n",
      "0.526011\n",
      "0.525355\n",
      "0.908295\n",
      "0.91461\n",
      "0.275369\n",
      "0.94319\n",
      "0.355082\n",
      "0.270793\n",
      "3.21877\n",
      "0.470822\n",
      "0.27784\n",
      "0.51771\n",
      "0.296252\n",
      "0.485652\n",
      "0.387177\n",
      "0.234737\n",
      "0.528883\n",
      "0.464315\n",
      "0.873771\n",
      "0.320562\n",
      "0.398915\n",
      "0.18107\n",
      "0.317256\n",
      "0.642497\n",
      "0.332196\n",
      "0.340152\n",
      "0.374909\n",
      "0.248349\n",
      "0.421241\n",
      "0.195085\n",
      "0.984978\n",
      "0.277065\n",
      "0.240515\n",
      "0.463023\n",
      "0.624892\n",
      "0.475202\n",
      "0.643531\n",
      "0.551283\n",
      "0.176235\n",
      "0.770045\n",
      "0.35904\n",
      "0.224581\n",
      "0.498367\n",
      "0.342903\n",
      "0.263045\n",
      "0.169285\n",
      "Checkpoint saved at:  ./multivariate_ts_pollution_case\n"
     ]
    }
   ],
   "source": [
    "total_iteractions = 100\n",
    "batch_size = 16\n",
    "KEEP_RATE = 0.5\n",
    "train_losses = []\n",
    "val_losses = []\n",
    "\n",
    "x = np.linspace(0, 40, 130)\n",
    "train_data_x = x[:110]\n",
    "\n",
    "rnn_model = build_graph(feed_previous=False)\n",
    "\n",
    "saver = tf.train.Saver()\n",
    "\n",
    "init = tf.global_variables_initializer()\n",
    "with tf.Session() as sess:\n",
    "\n",
    "    sess.run(init)\n",
    "    \n",
    "    print(\"Training losses: \")\n",
    "    for i in range(total_iteractions):\n",
    "        batch_input, batch_output = generate_train_samples(batch_size=batch_size)\n",
    "        \n",
    "        feed_dict = {rnn_model['enc_inp'][t]: batch_input[:,t] for t in range(input_seq_len)}\n",
    "        feed_dict.update({rnn_model['target_seq'][t]: batch_output[:,t] for t in range(output_seq_len)})\n",
    "        _, loss_t = sess.run([rnn_model['train_op'], rnn_model['loss']], feed_dict)\n",
    "        print(loss_t)\n",
    "        \n",
    "    temp_saver = rnn_model['saver']()\n",
    "    save_path = temp_saver.save(sess, os.path.join('./', 'multivariate_ts_pollution_case'))\n",
    "        \n",
    "print(\"Checkpoint saved at: \", save_path)\n"
   ]
  },
  {
   "cell_type": "markdown",
   "metadata": {},
   "source": [
    "## Inference on test \n",
    "Notice the batch prediction which is different to previous"
   ]
  },
  {
   "cell_type": "code",
   "execution_count": 248,
   "metadata": {},
   "outputs": [
    {
     "name": "stdout",
     "output_type": "stream",
     "text": [
      "INFO:tensorflow:Restoring parameters from ./multivariate_ts_pollution_case\n",
      "Test mse is:  0.336378205965\n"
     ]
    }
   ],
   "source": [
    "rnn_model = build_graph(feed_previous=True)\n",
    "\n",
    "init = tf.global_variables_initializer()\n",
    "with tf.Session() as sess:\n",
    "\n",
    "    sess.run(init)\n",
    "    \n",
    "    saver = rnn_model['saver']().restore(sess,  os.path.join('./', 'multivariate_ts_pollution_case'))\n",
    "    \n",
    "    feed_dict = {rnn_model['enc_inp'][t]: test_x[:, t, :] for t in range(input_seq_len)} # batch prediction\n",
    "    feed_dict.update({rnn_model['target_seq'][t]: np.zeros([test_x.shape[0], output_dim], dtype=np.float32) for t in range(output_seq_len)})\n",
    "    final_preds = sess.run(rnn_model['reshaped_outputs'], feed_dict)\n",
    "    \n",
    "    final_preds = [np.expand_dims(pred, 1) for pred in final_preds]\n",
    "    final_preds = np.concatenate(final_preds, axis = 1)\n",
    "    print(\"Test mse is: \", np.mean((final_preds - test_y)**2))"
   ]
  },
  {
   "cell_type": "code",
   "execution_count": 312,
   "metadata": {
    "collapsed": true
   },
   "outputs": [],
   "source": [
    "## remove duplicate hours and concatenate into one long array\n",
    "test_y_expand = np.concatenate([test_y[i].reshape(-1) for i in range(0, test_y.shape[0], 5)], axis = 0)\n",
    "final_preds_expand = np.concatenate([final_preds[i].reshape(-1) for i in range(0, final_preds.shape[0], 5)], axis = 0)"
   ]
  },
  {
   "cell_type": "code",
   "execution_count": 258,
   "metadata": {},
   "outputs": [
    {
     "data": {
      "image/png": "[encoded data removed]",
      "text/plain": [
       "<matplotlib.figure.Figure at 0x1c2b9dc2b0>"
      ]
     },
     "metadata": {},
     "output_type": "display_data"
    }
   ],
   "source": [
    "plt.plot(final_preds_expand, color = 'orange', label = 'predicted')\n",
    "plt.plot(test_y_expand, color = 'blue', label = 'actual')\n",
    "plt.title(\"test data - one month\")\n",
    "plt.legend(loc=\"upper left\")\n",
    "plt.show()"
   ]
  },
  {
   "cell_type": "code",
   "execution_count": null,
   "metadata": {
    "collapsed": true
   },
   "outputs": [],
   "source": []
  },
  {
   "cell_type": "code",
   "execution_count": null,
   "metadata": {
    "collapsed": true
   },
   "outputs": [],
   "source": []
  },
  {
   "cell_type": "code",
   "execution_count": null,
   "metadata": {
    "collapsed": true
   },
   "outputs": [],
   "source": []
  }
 ],
 "metadata": {
  "kernelspec": {
   "display_name": "Python 3",
   "language": "python",
   "name": "python3"
  },
  "language_info": {
   "codemirror_mode": {
    "name": "ipython",
    "version": 3
   },
   "file_extension": ".py",
   "mimetype": "text/x-python",
   "name": "python",
   "nbconvert_exporter": "python",
   "pygments_lexer": "ipython3",
   "version": "3.6.5"
  }
 },
 "nbformat": 4,
 "nbformat_minor": 2
}
