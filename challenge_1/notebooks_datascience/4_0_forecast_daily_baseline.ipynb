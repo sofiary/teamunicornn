{
 "cells": [
  {
   "cell_type": "markdown",
   "metadata": {},
   "source": [
    "### Baseline forecast for total daily consumption per household"
   ]
  },
  {
   "cell_type": "markdown",
   "metadata": {},
   "source": [
    "Select n households from the total\n",
    "\n",
    "Forecast total consumption for each household using daily totals as dataset\n",
    "\n",
    "'datascience' virtualenv (tensorflow, sklearn pandas etc...)"
   ]
  },
  {
   "cell_type": "code",
   "execution_count": 2,
   "metadata": {},
   "outputs": [],
   "source": [
    "from datetime import date, datetime, timedelta\n",
    "from dateutil.relativedelta import relativedelta\n",
    "from math import sqrt"
   ]
  },
  {
   "cell_type": "code",
   "execution_count": 3,
   "metadata": {},
   "outputs": [],
   "source": [
    "from numpy import split\n",
    "from numpy import array\n",
    "import numpy as np\n",
    "from pandas import read_csv\n",
    "from sklearn.metrics import mean_squared_error\n",
    "from matplotlib import pyplot as plt\n",
    "import pandas as pd\n",
    "import dask\n",
    "import dask.dataframe as dd"
   ]
  },
  {
   "cell_type": "code",
   "execution_count": 4,
   "metadata": {},
   "outputs": [],
   "source": [
    "PATH = '../input/merged_data/'"
   ]
  },
  {
   "cell_type": "code",
   "execution_count": 5,
   "metadata": {},
   "outputs": [],
   "source": [
    "pd.set_option('display.max_columns', None)"
   ]
  },
  {
   "cell_type": "markdown",
   "metadata": {},
   "source": [
    "### Read in data"
   ]
  },
  {
   "cell_type": "markdown",
   "metadata": {},
   "source": [
    "We are just picking one of the larger files at random here (8.9MB)"
   ]
  },
  {
   "cell_type": "code",
   "execution_count": 187,
   "metadata": {},
   "outputs": [],
   "source": [
    "dateparse = lambda x: pd.datetime.strptime(x, '%Y-%m-%d %H:%M:%S')\n",
    "\n",
    "mac = pd.read_csv('{0}LCLid/mac000230.csv'.format(PATH), parse_dates=['day_time'], date_parser=dateparse)"
   ]
  },
  {
   "cell_type": "code",
   "execution_count": 188,
   "metadata": {},
   "outputs": [],
   "source": [
    "mac.sort_values(by=['day_time'], inplace=True)"
   ]
  },
  {
   "cell_type": "code",
   "execution_count": 189,
   "metadata": {},
   "outputs": [
    {
     "data": {
      "text/html": [
       "<div>\n",
       "<style scoped>\n",
       "    .dataframe tbody tr th:only-of-type {\n",
       "        vertical-align: middle;\n",
       "    }\n",
       "\n",
       "    .dataframe tbody tr th {\n",
       "        vertical-align: top;\n",
       "    }\n",
       "\n",
       "    .dataframe thead th {\n",
       "        text-align: right;\n",
       "    }\n",
       "</style>\n",
       "<table border=\"1\" class=\"dataframe\">\n",
       "  <thead>\n",
       "    <tr style=\"text-align: right;\">\n",
       "      <th></th>\n",
       "      <th>LCLid</th>\n",
       "      <th>energy(kWh/hh)</th>\n",
       "      <th>dayYear</th>\n",
       "      <th>dayMonth</th>\n",
       "      <th>dayWeek</th>\n",
       "      <th>dayDay</th>\n",
       "      <th>dayDayofweek</th>\n",
       "      <th>dayDayofyear</th>\n",
       "      <th>dayIs_month_end</th>\n",
       "      <th>dayIs_month_start</th>\n",
       "      <th>dayIs_quarter_end</th>\n",
       "      <th>dayIs_quarter_start</th>\n",
       "      <th>dayIs_year_end</th>\n",
       "      <th>dayIs_year_start</th>\n",
       "      <th>dayElapsed</th>\n",
       "      <th>delta_minutes</th>\n",
       "      <th>visibility</th>\n",
       "      <th>windBearing</th>\n",
       "      <th>temperature</th>\n",
       "      <th>dewPoint</th>\n",
       "      <th>pressure</th>\n",
       "      <th>apparentTemperature</th>\n",
       "      <th>windSpeed</th>\n",
       "      <th>precipType</th>\n",
       "      <th>humidity</th>\n",
       "      <th>summary</th>\n",
       "      <th>day_time</th>\n",
       "      <th>is_bank_holiday</th>\n",
       "      <th>Bank_holiday_Boxing_Day</th>\n",
       "      <th>Bank_holiday_Christmas_Day</th>\n",
       "      <th>Bank_holiday_Early_May_bank_holiday</th>\n",
       "      <th>Bank_holiday_Easter_Monday</th>\n",
       "      <th>Bank_holiday_Good_Friday</th>\n",
       "      <th>Bank_holiday_New_Years_Day</th>\n",
       "      <th>Bank_holiday_New_Years_Day_substitute_day</th>\n",
       "      <th>Bank_holiday_Queens_Diamond_Jubilee_extra_bank_holiday</th>\n",
       "      <th>Bank_holiday_Spring_bank_holiday</th>\n",
       "      <th>Bank_holiday_Spring_bank_holiday_substitute_day</th>\n",
       "      <th>Bank_holiday_Summer_bank_holiday</th>\n",
       "      <th>energy_csum</th>\n",
       "    </tr>\n",
       "  </thead>\n",
       "  <tbody>\n",
       "    <tr>\n",
       "      <th>39164</th>\n",
       "      <td>MAC000230</td>\n",
       "      <td>NaN</td>\n",
       "      <td>2011</td>\n",
       "      <td>12</td>\n",
       "      <td>48</td>\n",
       "      <td>1</td>\n",
       "      <td>3</td>\n",
       "      <td>335</td>\n",
       "      <td>False</td>\n",
       "      <td>True</td>\n",
       "      <td>False</td>\n",
       "      <td>False</td>\n",
       "      <td>False</td>\n",
       "      <td>False</td>\n",
       "      <td>1322697600</td>\n",
       "      <td>-455040</td>\n",
       "      <td>7.890</td>\n",
       "      <td>178.0</td>\n",
       "      <td>9.44</td>\n",
       "      <td>8.110</td>\n",
       "      <td>1009.980</td>\n",
       "      <td>6.230</td>\n",
       "      <td>6.97</td>\n",
       "      <td>rain</td>\n",
       "      <td>0.910</td>\n",
       "      <td>Mostly Cloudy</td>\n",
       "      <td>2011-12-01 00:00:00</td>\n",
       "      <td>False</td>\n",
       "      <td>0</td>\n",
       "      <td>0</td>\n",
       "      <td>0</td>\n",
       "      <td>0</td>\n",
       "      <td>0</td>\n",
       "      <td>0</td>\n",
       "      <td>0</td>\n",
       "      <td>0</td>\n",
       "      <td>0</td>\n",
       "      <td>0</td>\n",
       "      <td>0</td>\n",
       "      <td>NaN</td>\n",
       "    </tr>\n",
       "    <tr>\n",
       "      <th>39165</th>\n",
       "      <td>MAC000230</td>\n",
       "      <td>NaN</td>\n",
       "      <td>2011</td>\n",
       "      <td>12</td>\n",
       "      <td>48</td>\n",
       "      <td>1</td>\n",
       "      <td>3</td>\n",
       "      <td>335</td>\n",
       "      <td>False</td>\n",
       "      <td>True</td>\n",
       "      <td>False</td>\n",
       "      <td>False</td>\n",
       "      <td>False</td>\n",
       "      <td>False</td>\n",
       "      <td>1322697600</td>\n",
       "      <td>-455010</td>\n",
       "      <td>9.375</td>\n",
       "      <td>182.5</td>\n",
       "      <td>9.91</td>\n",
       "      <td>8.625</td>\n",
       "      <td>1009.125</td>\n",
       "      <td>8.305</td>\n",
       "      <td>7.31</td>\n",
       "      <td>rain</td>\n",
       "      <td>0.915</td>\n",
       "      <td>Mostly Cloudy</td>\n",
       "      <td>2011-12-01 00:30:00</td>\n",
       "      <td>False</td>\n",
       "      <td>0</td>\n",
       "      <td>0</td>\n",
       "      <td>0</td>\n",
       "      <td>0</td>\n",
       "      <td>0</td>\n",
       "      <td>0</td>\n",
       "      <td>0</td>\n",
       "      <td>0</td>\n",
       "      <td>0</td>\n",
       "      <td>0</td>\n",
       "      <td>0</td>\n",
       "      <td>NaN</td>\n",
       "    </tr>\n",
       "  </tbody>\n",
       "</table>\n",
       "</div>"
      ],
      "text/plain": [
       "           LCLid  energy(kWh/hh)  dayYear  dayMonth  dayWeek  dayDay  \\\n",
       "39164  MAC000230             NaN     2011        12       48       1   \n",
       "39165  MAC000230             NaN     2011        12       48       1   \n",
       "\n",
       "       dayDayofweek  dayDayofyear  dayIs_month_end  dayIs_month_start  \\\n",
       "39164             3           335            False               True   \n",
       "39165             3           335            False               True   \n",
       "\n",
       "       dayIs_quarter_end  dayIs_quarter_start  dayIs_year_end  \\\n",
       "39164              False                False           False   \n",
       "39165              False                False           False   \n",
       "\n",
       "       dayIs_year_start  dayElapsed  delta_minutes  visibility  windBearing  \\\n",
       "39164             False  1322697600        -455040       7.890        178.0   \n",
       "39165             False  1322697600        -455010       9.375        182.5   \n",
       "\n",
       "       temperature  dewPoint  pressure  apparentTemperature  windSpeed  \\\n",
       "39164         9.44     8.110  1009.980                6.230       6.97   \n",
       "39165         9.91     8.625  1009.125                8.305       7.31   \n",
       "\n",
       "      precipType  humidity        summary            day_time  \\\n",
       "39164       rain     0.910  Mostly Cloudy 2011-12-01 00:00:00   \n",
       "39165       rain     0.915  Mostly Cloudy 2011-12-01 00:30:00   \n",
       "\n",
       "       is_bank_holiday  Bank_holiday_Boxing_Day  Bank_holiday_Christmas_Day  \\\n",
       "39164            False                        0                           0   \n",
       "39165            False                        0                           0   \n",
       "\n",
       "       Bank_holiday_Early_May_bank_holiday  Bank_holiday_Easter_Monday  \\\n",
       "39164                                    0                           0   \n",
       "39165                                    0                           0   \n",
       "\n",
       "       Bank_holiday_Good_Friday  Bank_holiday_New_Years_Day  \\\n",
       "39164                         0                           0   \n",
       "39165                         0                           0   \n",
       "\n",
       "       Bank_holiday_New_Years_Day_substitute_day  \\\n",
       "39164                                          0   \n",
       "39165                                          0   \n",
       "\n",
       "       Bank_holiday_Queens_Diamond_Jubilee_extra_bank_holiday  \\\n",
       "39164                                                  0        \n",
       "39165                                                  0        \n",
       "\n",
       "       Bank_holiday_Spring_bank_holiday  \\\n",
       "39164                                 0   \n",
       "39165                                 0   \n",
       "\n",
       "       Bank_holiday_Spring_bank_holiday_substitute_day  \\\n",
       "39164                                                0   \n",
       "39165                                                0   \n",
       "\n",
       "       Bank_holiday_Summer_bank_holiday  energy_csum  \n",
       "39164                                 0          NaN  \n",
       "39165                                 0          NaN  "
      ]
     },
     "execution_count": 189,
     "metadata": {},
     "output_type": "execute_result"
    }
   ],
   "source": [
    "mac.head(n=2)"
   ]
  },
  {
   "cell_type": "code",
   "execution_count": 190,
   "metadata": {},
   "outputs": [
    {
     "data": {
      "text/html": [
       "<div>\n",
       "<style scoped>\n",
       "    .dataframe tbody tr th:only-of-type {\n",
       "        vertical-align: middle;\n",
       "    }\n",
       "\n",
       "    .dataframe tbody tr th {\n",
       "        vertical-align: top;\n",
       "    }\n",
       "\n",
       "    .dataframe thead th {\n",
       "        text-align: right;\n",
       "    }\n",
       "</style>\n",
       "<table border=\"1\" class=\"dataframe\">\n",
       "  <thead>\n",
       "    <tr style=\"text-align: right;\">\n",
       "      <th></th>\n",
       "      <th>LCLid</th>\n",
       "      <th>energy(kWh/hh)</th>\n",
       "      <th>dayYear</th>\n",
       "      <th>dayMonth</th>\n",
       "      <th>dayWeek</th>\n",
       "      <th>dayDay</th>\n",
       "      <th>dayDayofweek</th>\n",
       "      <th>dayDayofyear</th>\n",
       "      <th>dayIs_month_end</th>\n",
       "      <th>dayIs_month_start</th>\n",
       "      <th>dayIs_quarter_end</th>\n",
       "      <th>dayIs_quarter_start</th>\n",
       "      <th>dayIs_year_end</th>\n",
       "      <th>dayIs_year_start</th>\n",
       "      <th>dayElapsed</th>\n",
       "      <th>delta_minutes</th>\n",
       "      <th>visibility</th>\n",
       "      <th>windBearing</th>\n",
       "      <th>temperature</th>\n",
       "      <th>dewPoint</th>\n",
       "      <th>pressure</th>\n",
       "      <th>apparentTemperature</th>\n",
       "      <th>windSpeed</th>\n",
       "      <th>precipType</th>\n",
       "      <th>humidity</th>\n",
       "      <th>summary</th>\n",
       "      <th>day_time</th>\n",
       "      <th>is_bank_holiday</th>\n",
       "      <th>Bank_holiday_Boxing_Day</th>\n",
       "      <th>Bank_holiday_Christmas_Day</th>\n",
       "      <th>Bank_holiday_Early_May_bank_holiday</th>\n",
       "      <th>Bank_holiday_Easter_Monday</th>\n",
       "      <th>Bank_holiday_Good_Friday</th>\n",
       "      <th>Bank_holiday_New_Years_Day</th>\n",
       "      <th>Bank_holiday_New_Years_Day_substitute_day</th>\n",
       "      <th>Bank_holiday_Queens_Diamond_Jubilee_extra_bank_holiday</th>\n",
       "      <th>Bank_holiday_Spring_bank_holiday</th>\n",
       "      <th>Bank_holiday_Spring_bank_holiday_substitute_day</th>\n",
       "      <th>Bank_holiday_Summer_bank_holiday</th>\n",
       "      <th>energy_csum</th>\n",
       "    </tr>\n",
       "  </thead>\n",
       "  <tbody>\n",
       "    <tr>\n",
       "      <th>24234</th>\n",
       "      <td>MAC000230</td>\n",
       "      <td>NaN</td>\n",
       "      <td>2014</td>\n",
       "      <td>2</td>\n",
       "      <td>9</td>\n",
       "      <td>28</td>\n",
       "      <td>4</td>\n",
       "      <td>59</td>\n",
       "      <td>True</td>\n",
       "      <td>False</td>\n",
       "      <td>False</td>\n",
       "      <td>False</td>\n",
       "      <td>False</td>\n",
       "      <td>False</td>\n",
       "      <td>1393545600</td>\n",
       "      <td>727140</td>\n",
       "      <td>7.130</td>\n",
       "      <td>333.0</td>\n",
       "      <td>5.170</td>\n",
       "      <td>3.43</td>\n",
       "      <td>1003.420</td>\n",
       "      <td>2.870</td>\n",
       "      <td>2.79</td>\n",
       "      <td>rain</td>\n",
       "      <td>0.89</td>\n",
       "      <td>Clear</td>\n",
       "      <td>2014-02-28 23:00:00</td>\n",
       "      <td>False</td>\n",
       "      <td>0</td>\n",
       "      <td>0</td>\n",
       "      <td>0</td>\n",
       "      <td>0</td>\n",
       "      <td>0</td>\n",
       "      <td>0</td>\n",
       "      <td>0</td>\n",
       "      <td>0</td>\n",
       "      <td>0</td>\n",
       "      <td>0</td>\n",
       "      <td>0</td>\n",
       "      <td>NaN</td>\n",
       "    </tr>\n",
       "    <tr>\n",
       "      <th>24235</th>\n",
       "      <td>MAC000230</td>\n",
       "      <td>NaN</td>\n",
       "      <td>2014</td>\n",
       "      <td>2</td>\n",
       "      <td>9</td>\n",
       "      <td>28</td>\n",
       "      <td>4</td>\n",
       "      <td>59</td>\n",
       "      <td>True</td>\n",
       "      <td>False</td>\n",
       "      <td>False</td>\n",
       "      <td>False</td>\n",
       "      <td>False</td>\n",
       "      <td>False</td>\n",
       "      <td>1393545600</td>\n",
       "      <td>727170</td>\n",
       "      <td>10.165</td>\n",
       "      <td>285.0</td>\n",
       "      <td>5.655</td>\n",
       "      <td>3.29</td>\n",
       "      <td>1002.305</td>\n",
       "      <td>3.345</td>\n",
       "      <td>2.93</td>\n",
       "      <td>rain</td>\n",
       "      <td>0.85</td>\n",
       "      <td>Clear</td>\n",
       "      <td>2014-02-28 23:30:00</td>\n",
       "      <td>False</td>\n",
       "      <td>0</td>\n",
       "      <td>0</td>\n",
       "      <td>0</td>\n",
       "      <td>0</td>\n",
       "      <td>0</td>\n",
       "      <td>0</td>\n",
       "      <td>0</td>\n",
       "      <td>0</td>\n",
       "      <td>0</td>\n",
       "      <td>0</td>\n",
       "      <td>0</td>\n",
       "      <td>NaN</td>\n",
       "    </tr>\n",
       "  </tbody>\n",
       "</table>\n",
       "</div>"
      ],
      "text/plain": [
       "           LCLid  energy(kWh/hh)  dayYear  dayMonth  dayWeek  dayDay  \\\n",
       "24234  MAC000230             NaN     2014         2        9      28   \n",
       "24235  MAC000230             NaN     2014         2        9      28   \n",
       "\n",
       "       dayDayofweek  dayDayofyear  dayIs_month_end  dayIs_month_start  \\\n",
       "24234             4            59             True              False   \n",
       "24235             4            59             True              False   \n",
       "\n",
       "       dayIs_quarter_end  dayIs_quarter_start  dayIs_year_end  \\\n",
       "24234              False                False           False   \n",
       "24235              False                False           False   \n",
       "\n",
       "       dayIs_year_start  dayElapsed  delta_minutes  visibility  windBearing  \\\n",
       "24234             False  1393545600         727140       7.130        333.0   \n",
       "24235             False  1393545600         727170      10.165        285.0   \n",
       "\n",
       "       temperature  dewPoint  pressure  apparentTemperature  windSpeed  \\\n",
       "24234        5.170      3.43  1003.420                2.870       2.79   \n",
       "24235        5.655      3.29  1002.305                3.345       2.93   \n",
       "\n",
       "      precipType  humidity summary            day_time  is_bank_holiday  \\\n",
       "24234       rain      0.89   Clear 2014-02-28 23:00:00            False   \n",
       "24235       rain      0.85   Clear 2014-02-28 23:30:00            False   \n",
       "\n",
       "       Bank_holiday_Boxing_Day  Bank_holiday_Christmas_Day  \\\n",
       "24234                        0                           0   \n",
       "24235                        0                           0   \n",
       "\n",
       "       Bank_holiday_Early_May_bank_holiday  Bank_holiday_Easter_Monday  \\\n",
       "24234                                    0                           0   \n",
       "24235                                    0                           0   \n",
       "\n",
       "       Bank_holiday_Good_Friday  Bank_holiday_New_Years_Day  \\\n",
       "24234                         0                           0   \n",
       "24235                         0                           0   \n",
       "\n",
       "       Bank_holiday_New_Years_Day_substitute_day  \\\n",
       "24234                                          0   \n",
       "24235                                          0   \n",
       "\n",
       "       Bank_holiday_Queens_Diamond_Jubilee_extra_bank_holiday  \\\n",
       "24234                                                  0        \n",
       "24235                                                  0        \n",
       "\n",
       "       Bank_holiday_Spring_bank_holiday  \\\n",
       "24234                                 0   \n",
       "24235                                 0   \n",
       "\n",
       "       Bank_holiday_Spring_bank_holiday_substitute_day  \\\n",
       "24234                                                0   \n",
       "24235                                                0   \n",
       "\n",
       "       Bank_holiday_Summer_bank_holiday  energy_csum  \n",
       "24234                                 0          NaN  \n",
       "24235                                 0          NaN  "
      ]
     },
     "execution_count": 190,
     "metadata": {},
     "output_type": "execute_result"
    }
   ],
   "source": [
    "mac.tail(n=2)"
   ]
  },
  {
   "cell_type": "code",
   "execution_count": 191,
   "metadata": {},
   "outputs": [],
   "source": [
    "mac.set_index(['day_time'],inplace=True)"
   ]
  },
  {
   "cell_type": "code",
   "execution_count": 192,
   "metadata": {},
   "outputs": [],
   "source": [
    "#convert to time series:\n",
    "ts_raw = mac['energy(kWh/hh)']"
   ]
  },
  {
   "cell_type": "code",
   "execution_count": 193,
   "metadata": {},
   "outputs": [],
   "source": [
    "plt.rcParams[\"figure.figsize\"] = (18,4)"
   ]
  },
  {
   "cell_type": "code",
   "execution_count": 194,
   "metadata": {},
   "outputs": [
    {
     "data": {
      "text/plain": [
       "[<matplotlib.lines.Line2D at 0x7efffb2adb70>]"
      ]
     },
     "execution_count": 194,
     "metadata": {},
     "output_type": "execute_result"
    },
    {
     "data": {
      "image/png": "[encoded data removed]",
      "text/plain": [
       "<matplotlib.figure.Figure at 0x7efffb9f9ba8>"
      ]
     },
     "metadata": {},
     "output_type": "display_data"
    }
   ],
   "source": [
    "plt.plot(ts_raw)"
   ]
  },
  {
   "cell_type": "code",
   "execution_count": 195,
   "metadata": {},
   "outputs": [],
   "source": [
    "mac['energy_csum'] = mac['energy(kWh/hh)'].cumsum()"
   ]
  },
  {
   "cell_type": "code",
   "execution_count": 196,
   "metadata": {},
   "outputs": [
    {
     "data": {
      "text/plain": [
       "[<matplotlib.lines.Line2D at 0x7efff6019898>]"
      ]
     },
     "execution_count": 196,
     "metadata": {},
     "output_type": "execute_result"
    },
    {
     "data": {
      "image/png": "[encoded data removed]",
      "text/plain": [
       "<matplotlib.figure.Figure at 0x7efff584a780>"
      ]
     },
     "metadata": {},
     "output_type": "display_data"
    }
   ],
   "source": [
    "ts_csum = mac['energy_csum']\n",
    "#plt.yscale('log')\n",
    "plt.plot(ts_csum)"
   ]
  },
  {
   "cell_type": "code",
   "execution_count": 197,
   "metadata": {},
   "outputs": [],
   "source": [
    "mac['energy_week_rolling'] = mac['energy(kWh/hh)'].rolling(window=2, win_type='hamming').mean()"
   ]
  },
  {
   "cell_type": "code",
   "execution_count": 198,
   "metadata": {},
   "outputs": [],
   "source": [
    "#convert energy_week_rolling to time series:\n",
    "ts = mac['energy_week_rolling']"
   ]
  },
  {
   "cell_type": "code",
   "execution_count": 199,
   "metadata": {},
   "outputs": [
    {
     "data": {
      "text/plain": [
       "[<matplotlib.lines.Line2D at 0x7efff61586d8>]"
      ]
     },
     "execution_count": 199,
     "metadata": {},
     "output_type": "execute_result"
    },
    {
     "data": {
      "image/png": "[encoded data removed]",
      "text/plain": [
       "<matplotlib.figure.Figure at 0x7efff6029860>"
      ]
     },
     "metadata": {},
     "output_type": "display_data"
    }
   ],
   "source": [
    "plt.plot(ts)"
   ]
  },
  {
   "cell_type": "code",
   "execution_count": 200,
   "metadata": {},
   "outputs": [
    {
     "data": {
      "text/html": [
       "<div>\n",
       "<style scoped>\n",
       "    .dataframe tbody tr th:only-of-type {\n",
       "        vertical-align: middle;\n",
       "    }\n",
       "\n",
       "    .dataframe tbody tr th {\n",
       "        vertical-align: top;\n",
       "    }\n",
       "\n",
       "    .dataframe thead th {\n",
       "        text-align: right;\n",
       "    }\n",
       "</style>\n",
       "<table border=\"1\" class=\"dataframe\">\n",
       "  <thead>\n",
       "    <tr style=\"text-align: right;\">\n",
       "      <th></th>\n",
       "      <th>LCLid</th>\n",
       "      <th>energy(kWh/hh)</th>\n",
       "      <th>dayYear</th>\n",
       "      <th>dayMonth</th>\n",
       "      <th>dayWeek</th>\n",
       "      <th>dayDay</th>\n",
       "      <th>dayDayofweek</th>\n",
       "      <th>dayDayofyear</th>\n",
       "      <th>dayIs_month_end</th>\n",
       "      <th>dayIs_month_start</th>\n",
       "      <th>dayIs_quarter_end</th>\n",
       "      <th>dayIs_quarter_start</th>\n",
       "      <th>dayIs_year_end</th>\n",
       "      <th>dayIs_year_start</th>\n",
       "      <th>dayElapsed</th>\n",
       "      <th>delta_minutes</th>\n",
       "      <th>visibility</th>\n",
       "      <th>windBearing</th>\n",
       "      <th>temperature</th>\n",
       "      <th>dewPoint</th>\n",
       "      <th>pressure</th>\n",
       "      <th>apparentTemperature</th>\n",
       "      <th>windSpeed</th>\n",
       "      <th>precipType</th>\n",
       "      <th>humidity</th>\n",
       "      <th>summary</th>\n",
       "      <th>is_bank_holiday</th>\n",
       "      <th>Bank_holiday_Boxing_Day</th>\n",
       "      <th>Bank_holiday_Christmas_Day</th>\n",
       "      <th>Bank_holiday_Early_May_bank_holiday</th>\n",
       "      <th>Bank_holiday_Easter_Monday</th>\n",
       "      <th>Bank_holiday_Good_Friday</th>\n",
       "      <th>Bank_holiday_New_Years_Day</th>\n",
       "      <th>Bank_holiday_New_Years_Day_substitute_day</th>\n",
       "      <th>Bank_holiday_Queens_Diamond_Jubilee_extra_bank_holiday</th>\n",
       "      <th>Bank_holiday_Spring_bank_holiday</th>\n",
       "      <th>Bank_holiday_Spring_bank_holiday_substitute_day</th>\n",
       "      <th>Bank_holiday_Summer_bank_holiday</th>\n",
       "      <th>energy_csum</th>\n",
       "      <th>energy_week_rolling</th>\n",
       "    </tr>\n",
       "    <tr>\n",
       "      <th>day_time</th>\n",
       "      <th></th>\n",
       "      <th></th>\n",
       "      <th></th>\n",
       "      <th></th>\n",
       "      <th></th>\n",
       "      <th></th>\n",
       "      <th></th>\n",
       "      <th></th>\n",
       "      <th></th>\n",
       "      <th></th>\n",
       "      <th></th>\n",
       "      <th></th>\n",
       "      <th></th>\n",
       "      <th></th>\n",
       "      <th></th>\n",
       "      <th></th>\n",
       "      <th></th>\n",
       "      <th></th>\n",
       "      <th></th>\n",
       "      <th></th>\n",
       "      <th></th>\n",
       "      <th></th>\n",
       "      <th></th>\n",
       "      <th></th>\n",
       "      <th></th>\n",
       "      <th></th>\n",
       "      <th></th>\n",
       "      <th></th>\n",
       "      <th></th>\n",
       "      <th></th>\n",
       "      <th></th>\n",
       "      <th></th>\n",
       "      <th></th>\n",
       "      <th></th>\n",
       "      <th></th>\n",
       "      <th></th>\n",
       "      <th></th>\n",
       "      <th></th>\n",
       "      <th></th>\n",
       "      <th></th>\n",
       "    </tr>\n",
       "  </thead>\n",
       "  <tbody>\n",
       "    <tr>\n",
       "      <th>2011-12-11 10:00:00</th>\n",
       "      <td>MAC000230</td>\n",
       "      <td>0.049</td>\n",
       "      <td>2011</td>\n",
       "      <td>12</td>\n",
       "      <td>49</td>\n",
       "      <td>11</td>\n",
       "      <td>6</td>\n",
       "      <td>345</td>\n",
       "      <td>False</td>\n",
       "      <td>False</td>\n",
       "      <td>False</td>\n",
       "      <td>False</td>\n",
       "      <td>False</td>\n",
       "      <td>False</td>\n",
       "      <td>1323561600</td>\n",
       "      <td>-440040</td>\n",
       "      <td>12.540</td>\n",
       "      <td>195.0</td>\n",
       "      <td>7.050</td>\n",
       "      <td>5.44</td>\n",
       "      <td>1009.820</td>\n",
       "      <td>4.100</td>\n",
       "      <td>4.550</td>\n",
       "      <td>rain</td>\n",
       "      <td>0.900</td>\n",
       "      <td>Partly Cloudy</td>\n",
       "      <td>False</td>\n",
       "      <td>0</td>\n",
       "      <td>0</td>\n",
       "      <td>0</td>\n",
       "      <td>0</td>\n",
       "      <td>0</td>\n",
       "      <td>0</td>\n",
       "      <td>0</td>\n",
       "      <td>0</td>\n",
       "      <td>0</td>\n",
       "      <td>0</td>\n",
       "      <td>0</td>\n",
       "      <td>101.861</td>\n",
       "      <td>0.0430</td>\n",
       "    </tr>\n",
       "    <tr>\n",
       "      <th>2011-12-11 10:30:00</th>\n",
       "      <td>MAC000230</td>\n",
       "      <td>0.480</td>\n",
       "      <td>2011</td>\n",
       "      <td>12</td>\n",
       "      <td>49</td>\n",
       "      <td>11</td>\n",
       "      <td>6</td>\n",
       "      <td>345</td>\n",
       "      <td>False</td>\n",
       "      <td>False</td>\n",
       "      <td>False</td>\n",
       "      <td>False</td>\n",
       "      <td>False</td>\n",
       "      <td>False</td>\n",
       "      <td>1323561600</td>\n",
       "      <td>-440010</td>\n",
       "      <td>12.635</td>\n",
       "      <td>196.0</td>\n",
       "      <td>7.510</td>\n",
       "      <td>5.73</td>\n",
       "      <td>1009.475</td>\n",
       "      <td>4.525</td>\n",
       "      <td>4.890</td>\n",
       "      <td>rain</td>\n",
       "      <td>0.890</td>\n",
       "      <td>Partly Cloudy</td>\n",
       "      <td>False</td>\n",
       "      <td>0</td>\n",
       "      <td>0</td>\n",
       "      <td>0</td>\n",
       "      <td>0</td>\n",
       "      <td>0</td>\n",
       "      <td>0</td>\n",
       "      <td>0</td>\n",
       "      <td>0</td>\n",
       "      <td>0</td>\n",
       "      <td>0</td>\n",
       "      <td>0</td>\n",
       "      <td>102.341</td>\n",
       "      <td>0.2645</td>\n",
       "    </tr>\n",
       "    <tr>\n",
       "      <th>2011-12-11 11:00:00</th>\n",
       "      <td>MAC000230</td>\n",
       "      <td>0.226</td>\n",
       "      <td>2011</td>\n",
       "      <td>12</td>\n",
       "      <td>49</td>\n",
       "      <td>11</td>\n",
       "      <td>6</td>\n",
       "      <td>345</td>\n",
       "      <td>False</td>\n",
       "      <td>False</td>\n",
       "      <td>False</td>\n",
       "      <td>False</td>\n",
       "      <td>False</td>\n",
       "      <td>False</td>\n",
       "      <td>1323561600</td>\n",
       "      <td>-439980</td>\n",
       "      <td>12.730</td>\n",
       "      <td>197.0</td>\n",
       "      <td>7.970</td>\n",
       "      <td>6.02</td>\n",
       "      <td>1009.130</td>\n",
       "      <td>4.950</td>\n",
       "      <td>5.230</td>\n",
       "      <td>rain</td>\n",
       "      <td>0.880</td>\n",
       "      <td>Mostly Cloudy</td>\n",
       "      <td>False</td>\n",
       "      <td>0</td>\n",
       "      <td>0</td>\n",
       "      <td>0</td>\n",
       "      <td>0</td>\n",
       "      <td>0</td>\n",
       "      <td>0</td>\n",
       "      <td>0</td>\n",
       "      <td>0</td>\n",
       "      <td>0</td>\n",
       "      <td>0</td>\n",
       "      <td>0</td>\n",
       "      <td>102.567</td>\n",
       "      <td>0.3530</td>\n",
       "    </tr>\n",
       "    <tr>\n",
       "      <th>2011-12-11 11:30:00</th>\n",
       "      <td>MAC000230</td>\n",
       "      <td>0.234</td>\n",
       "      <td>2011</td>\n",
       "      <td>12</td>\n",
       "      <td>49</td>\n",
       "      <td>11</td>\n",
       "      <td>6</td>\n",
       "      <td>345</td>\n",
       "      <td>False</td>\n",
       "      <td>False</td>\n",
       "      <td>False</td>\n",
       "      <td>False</td>\n",
       "      <td>False</td>\n",
       "      <td>False</td>\n",
       "      <td>1323561600</td>\n",
       "      <td>-439950</td>\n",
       "      <td>12.215</td>\n",
       "      <td>197.0</td>\n",
       "      <td>8.015</td>\n",
       "      <td>6.03</td>\n",
       "      <td>1008.560</td>\n",
       "      <td>4.865</td>\n",
       "      <td>5.625</td>\n",
       "      <td>rain</td>\n",
       "      <td>0.875</td>\n",
       "      <td>Mostly Cloudy</td>\n",
       "      <td>False</td>\n",
       "      <td>0</td>\n",
       "      <td>0</td>\n",
       "      <td>0</td>\n",
       "      <td>0</td>\n",
       "      <td>0</td>\n",
       "      <td>0</td>\n",
       "      <td>0</td>\n",
       "      <td>0</td>\n",
       "      <td>0</td>\n",
       "      <td>0</td>\n",
       "      <td>0</td>\n",
       "      <td>102.801</td>\n",
       "      <td>0.2300</td>\n",
       "    </tr>\n",
       "    <tr>\n",
       "      <th>2011-12-11 12:00:00</th>\n",
       "      <td>MAC000230</td>\n",
       "      <td>0.158</td>\n",
       "      <td>2011</td>\n",
       "      <td>12</td>\n",
       "      <td>49</td>\n",
       "      <td>11</td>\n",
       "      <td>6</td>\n",
       "      <td>345</td>\n",
       "      <td>False</td>\n",
       "      <td>False</td>\n",
       "      <td>False</td>\n",
       "      <td>False</td>\n",
       "      <td>False</td>\n",
       "      <td>False</td>\n",
       "      <td>1323561600</td>\n",
       "      <td>-439920</td>\n",
       "      <td>11.700</td>\n",
       "      <td>197.0</td>\n",
       "      <td>8.060</td>\n",
       "      <td>6.04</td>\n",
       "      <td>1007.990</td>\n",
       "      <td>4.780</td>\n",
       "      <td>6.020</td>\n",
       "      <td>rain</td>\n",
       "      <td>0.870</td>\n",
       "      <td>Mostly Cloudy</td>\n",
       "      <td>False</td>\n",
       "      <td>0</td>\n",
       "      <td>0</td>\n",
       "      <td>0</td>\n",
       "      <td>0</td>\n",
       "      <td>0</td>\n",
       "      <td>0</td>\n",
       "      <td>0</td>\n",
       "      <td>0</td>\n",
       "      <td>0</td>\n",
       "      <td>0</td>\n",
       "      <td>0</td>\n",
       "      <td>102.959</td>\n",
       "      <td>0.1960</td>\n",
       "    </tr>\n",
       "  </tbody>\n",
       "</table>\n",
       "</div>"
      ],
      "text/plain": [
       "                         LCLid  energy(kWh/hh)  dayYear  dayMonth  dayWeek  \\\n",
       "day_time                                                                     \n",
       "2011-12-11 10:00:00  MAC000230           0.049     2011        12       49   \n",
       "2011-12-11 10:30:00  MAC000230           0.480     2011        12       49   \n",
       "2011-12-11 11:00:00  MAC000230           0.226     2011        12       49   \n",
       "2011-12-11 11:30:00  MAC000230           0.234     2011        12       49   \n",
       "2011-12-11 12:00:00  MAC000230           0.158     2011        12       49   \n",
       "\n",
       "                     dayDay  dayDayofweek  dayDayofyear  dayIs_month_end  \\\n",
       "day_time                                                                   \n",
       "2011-12-11 10:00:00      11             6           345            False   \n",
       "2011-12-11 10:30:00      11             6           345            False   \n",
       "2011-12-11 11:00:00      11             6           345            False   \n",
       "2011-12-11 11:30:00      11             6           345            False   \n",
       "2011-12-11 12:00:00      11             6           345            False   \n",
       "\n",
       "                     dayIs_month_start  dayIs_quarter_end  \\\n",
       "day_time                                                    \n",
       "2011-12-11 10:00:00              False              False   \n",
       "2011-12-11 10:30:00              False              False   \n",
       "2011-12-11 11:00:00              False              False   \n",
       "2011-12-11 11:30:00              False              False   \n",
       "2011-12-11 12:00:00              False              False   \n",
       "\n",
       "                     dayIs_quarter_start  dayIs_year_end  dayIs_year_start  \\\n",
       "day_time                                                                     \n",
       "2011-12-11 10:00:00                False           False             False   \n",
       "2011-12-11 10:30:00                False           False             False   \n",
       "2011-12-11 11:00:00                False           False             False   \n",
       "2011-12-11 11:30:00                False           False             False   \n",
       "2011-12-11 12:00:00                False           False             False   \n",
       "\n",
       "                     dayElapsed  delta_minutes  visibility  windBearing  \\\n",
       "day_time                                                                  \n",
       "2011-12-11 10:00:00  1323561600        -440040      12.540        195.0   \n",
       "2011-12-11 10:30:00  1323561600        -440010      12.635        196.0   \n",
       "2011-12-11 11:00:00  1323561600        -439980      12.730        197.0   \n",
       "2011-12-11 11:30:00  1323561600        -439950      12.215        197.0   \n",
       "2011-12-11 12:00:00  1323561600        -439920      11.700        197.0   \n",
       "\n",
       "                     temperature  dewPoint  pressure  apparentTemperature  \\\n",
       "day_time                                                                    \n",
       "2011-12-11 10:00:00        7.050      5.44  1009.820                4.100   \n",
       "2011-12-11 10:30:00        7.510      5.73  1009.475                4.525   \n",
       "2011-12-11 11:00:00        7.970      6.02  1009.130                4.950   \n",
       "2011-12-11 11:30:00        8.015      6.03  1008.560                4.865   \n",
       "2011-12-11 12:00:00        8.060      6.04  1007.990                4.780   \n",
       "\n",
       "                     windSpeed precipType  humidity        summary  \\\n",
       "day_time                                                             \n",
       "2011-12-11 10:00:00      4.550       rain     0.900  Partly Cloudy   \n",
       "2011-12-11 10:30:00      4.890       rain     0.890  Partly Cloudy   \n",
       "2011-12-11 11:00:00      5.230       rain     0.880  Mostly Cloudy   \n",
       "2011-12-11 11:30:00      5.625       rain     0.875  Mostly Cloudy   \n",
       "2011-12-11 12:00:00      6.020       rain     0.870  Mostly Cloudy   \n",
       "\n",
       "                     is_bank_holiday  Bank_holiday_Boxing_Day  \\\n",
       "day_time                                                        \n",
       "2011-12-11 10:00:00            False                        0   \n",
       "2011-12-11 10:30:00            False                        0   \n",
       "2011-12-11 11:00:00            False                        0   \n",
       "2011-12-11 11:30:00            False                        0   \n",
       "2011-12-11 12:00:00            False                        0   \n",
       "\n",
       "                     Bank_holiday_Christmas_Day  \\\n",
       "day_time                                          \n",
       "2011-12-11 10:00:00                           0   \n",
       "2011-12-11 10:30:00                           0   \n",
       "2011-12-11 11:00:00                           0   \n",
       "2011-12-11 11:30:00                           0   \n",
       "2011-12-11 12:00:00                           0   \n",
       "\n",
       "                     Bank_holiday_Early_May_bank_holiday  \\\n",
       "day_time                                                   \n",
       "2011-12-11 10:00:00                                    0   \n",
       "2011-12-11 10:30:00                                    0   \n",
       "2011-12-11 11:00:00                                    0   \n",
       "2011-12-11 11:30:00                                    0   \n",
       "2011-12-11 12:00:00                                    0   \n",
       "\n",
       "                     Bank_holiday_Easter_Monday  Bank_holiday_Good_Friday  \\\n",
       "day_time                                                                    \n",
       "2011-12-11 10:00:00                           0                         0   \n",
       "2011-12-11 10:30:00                           0                         0   \n",
       "2011-12-11 11:00:00                           0                         0   \n",
       "2011-12-11 11:30:00                           0                         0   \n",
       "2011-12-11 12:00:00                           0                         0   \n",
       "\n",
       "                     Bank_holiday_New_Years_Day  \\\n",
       "day_time                                          \n",
       "2011-12-11 10:00:00                           0   \n",
       "2011-12-11 10:30:00                           0   \n",
       "2011-12-11 11:00:00                           0   \n",
       "2011-12-11 11:30:00                           0   \n",
       "2011-12-11 12:00:00                           0   \n",
       "\n",
       "                     Bank_holiday_New_Years_Day_substitute_day  \\\n",
       "day_time                                                         \n",
       "2011-12-11 10:00:00                                          0   \n",
       "2011-12-11 10:30:00                                          0   \n",
       "2011-12-11 11:00:00                                          0   \n",
       "2011-12-11 11:30:00                                          0   \n",
       "2011-12-11 12:00:00                                          0   \n",
       "\n",
       "                     Bank_holiday_Queens_Diamond_Jubilee_extra_bank_holiday  \\\n",
       "day_time                                                                      \n",
       "2011-12-11 10:00:00                                                  0        \n",
       "2011-12-11 10:30:00                                                  0        \n",
       "2011-12-11 11:00:00                                                  0        \n",
       "2011-12-11 11:30:00                                                  0        \n",
       "2011-12-11 12:00:00                                                  0        \n",
       "\n",
       "                     Bank_holiday_Spring_bank_holiday  \\\n",
       "day_time                                                \n",
       "2011-12-11 10:00:00                                 0   \n",
       "2011-12-11 10:30:00                                 0   \n",
       "2011-12-11 11:00:00                                 0   \n",
       "2011-12-11 11:30:00                                 0   \n",
       "2011-12-11 12:00:00                                 0   \n",
       "\n",
       "                     Bank_holiday_Spring_bank_holiday_substitute_day  \\\n",
       "day_time                                                               \n",
       "2011-12-11 10:00:00                                                0   \n",
       "2011-12-11 10:30:00                                                0   \n",
       "2011-12-11 11:00:00                                                0   \n",
       "2011-12-11 11:30:00                                                0   \n",
       "2011-12-11 12:00:00                                                0   \n",
       "\n",
       "                     Bank_holiday_Summer_bank_holiday  energy_csum  \\\n",
       "day_time                                                             \n",
       "2011-12-11 10:00:00                                 0      101.861   \n",
       "2011-12-11 10:30:00                                 0      102.341   \n",
       "2011-12-11 11:00:00                                 0      102.567   \n",
       "2011-12-11 11:30:00                                 0      102.801   \n",
       "2011-12-11 12:00:00                                 0      102.959   \n",
       "\n",
       "                     energy_week_rolling  \n",
       "day_time                                  \n",
       "2011-12-11 10:00:00               0.0430  \n",
       "2011-12-11 10:30:00               0.2645  \n",
       "2011-12-11 11:00:00               0.3530  \n",
       "2011-12-11 11:30:00               0.2300  \n",
       "2011-12-11 12:00:00               0.1960  "
      ]
     },
     "execution_count": 200,
     "metadata": {},
     "output_type": "execute_result"
    }
   ],
   "source": [
    "mac[500:505]"
   ]
  },
  {
   "cell_type": "code",
   "execution_count": 201,
   "metadata": {},
   "outputs": [],
   "source": [
    "mac['energy_rolling_30'] = mac['energy(kWh/hh)'].rolling(window=30).mean()"
   ]
  },
  {
   "cell_type": "code",
   "execution_count": 202,
   "metadata": {},
   "outputs": [
    {
     "data": {
      "text/plain": [
       "[<matplotlib.lines.Line2D at 0x7efff7a1df28>]"
      ]
     },
     "execution_count": 202,
     "metadata": {},
     "output_type": "execute_result"
    },
    {
     "data": {
      "image/png": "[encoded data removed]",
      "text/plain": [
       "<matplotlib.figure.Figure at 0x7efff7a0ad68>"
      ]
     },
     "metadata": {},
     "output_type": "display_data"
    }
   ],
   "source": [
    "ts = mac['energy_rolling_30']\n",
    "plt.plot(ts)"
   ]
  },
  {
   "cell_type": "markdown",
   "metadata": {},
   "source": [
    "NB 2012 was a leap year"
   ]
  },
  {
   "cell_type": "markdown",
   "metadata": {},
   "source": [
    "### Check dates\n",
    "\n",
    "First check for any gaps in the half hourly data"
   ]
  },
  {
   "cell_type": "code",
   "execution_count": 203,
   "metadata": {},
   "outputs": [
    {
     "data": {
      "text/plain": [
       "Timestamp('2011-12-01 11:00:00')"
      ]
     },
     "execution_count": 203,
     "metadata": {},
     "output_type": "execute_result"
    }
   ],
   "source": [
    "#find the first valid value\n",
    "mac['energy(kWh/hh)'].first_valid_index()"
   ]
  },
  {
   "cell_type": "code",
   "execution_count": 204,
   "metadata": {},
   "outputs": [
    {
     "data": {
      "text/plain": [
       "Timestamp('2014-02-28 00:00:00')"
      ]
     },
     "execution_count": 204,
     "metadata": {},
     "output_type": "execute_result"
    }
   ],
   "source": [
    "#find the last valid value\n",
    "mac['energy(kWh/hh)'].last_valid_index()"
   ]
  },
  {
   "cell_type": "markdown",
   "metadata": {},
   "source": [
    "Lets start on the first Sunday morning after first valid data\n",
    "\n",
    "And end on Last Sunday morning before last valid point"
   ]
  },
  {
   "cell_type": "code",
   "execution_count": 205,
   "metadata": {},
   "outputs": [],
   "source": [
    "#start at start of Sunday\n",
    "start = datetime(2011,12,4)\n",
    "#End at start of Sunday\n",
    "end = datetime(2014,2,23)"
   ]
  },
  {
   "cell_type": "code",
   "execution_count": 206,
   "metadata": {},
   "outputs": [],
   "source": [
    "delta = relativedelta(end, start)"
   ]
  },
  {
   "cell_type": "code",
   "execution_count": 207,
   "metadata": {},
   "outputs": [
    {
     "data": {
      "text/plain": [
       "relativedelta(years=+2, months=+2, days=+19)"
      ]
     },
     "execution_count": 207,
     "metadata": {},
     "output_type": "execute_result"
    }
   ],
   "source": [
    "delta"
   ]
  },
  {
   "cell_type": "code",
   "execution_count": 208,
   "metadata": {},
   "outputs": [
    {
     "data": {
      "text/plain": [
       "812"
      ]
     },
     "execution_count": 208,
     "metadata": {},
     "output_type": "execute_result"
    }
   ],
   "source": [
    "(end - start).days"
   ]
  },
  {
   "cell_type": "code",
   "execution_count": 209,
   "metadata": {},
   "outputs": [],
   "source": [
    "# Clip the data to the required range\n",
    "mac['day'] = mac.index\n",
    "mask= (mac['day'] >= start) & (mac['day'] < end)\n",
    "mac = mac.loc[mask]"
   ]
  },
  {
   "cell_type": "markdown",
   "metadata": {},
   "source": [
    "Note date_range is inclusive of the end date"
   ]
  },
  {
   "cell_type": "code",
   "execution_count": 210,
   "metadata": {},
   "outputs": [
    {
     "name": "stdout",
     "output_type": "stream",
     "text": [
      "1.0\n"
     ]
    },
    {
     "data": {
      "text/plain": [
       "(Timestamp('2011-12-04 00:00:00', freq='30T'),\n",
       " Timestamp('2011-12-04 23:30:00', freq='30T'))"
      ]
     },
     "execution_count": 210,
     "metadata": {},
     "output_type": "execute_result"
    }
   ],
   "source": [
    "#Test date range will give us correct values for a single day\n",
    "test_date_range = pd.date_range('2011-12-4 00:00:00', '2011-12-4 23:30:00', freq='30Min')\n",
    "print(len(test_date_range)/48)\n",
    "test_date_range[0], test_date_range[-1]"
   ]
  },
  {
   "cell_type": "code",
   "execution_count": 215,
   "metadata": {},
   "outputs": [],
   "source": [
    "ref_date_range = pd.date_range('2011-12-4 00:00:00', '2014-2-22 23:30:00', freq='30Min')"
   ]
  },
  {
   "cell_type": "code",
   "execution_count": 216,
   "metadata": {},
   "outputs": [],
   "source": [
    "ref_df = pd.DataFrame(np.random.randint(1, 20, (ref_date_range.shape[0], 1)))\n",
    "ref_df.index = ref_date_range  # set index"
   ]
  },
  {
   "cell_type": "code",
   "execution_count": 217,
   "metadata": {},
   "outputs": [],
   "source": [
    "#check for missing datetimeindex values based on reference index (with all values) \n",
    "missing_dates = ref_df.index[~ref_df.index.isin(mac.index)]\n",
    "\n",
    "#print('frac missing: {0}'.format(len(missing_dates)/len(mac)))"
   ]
  },
  {
   "cell_type": "code",
   "execution_count": 218,
   "metadata": {},
   "outputs": [
    {
     "data": {
      "text/plain": [
       "(4, 38972, DatetimeIndex(['2013-09-09 23:00:00', '2013-09-09 23:30:00',\n",
       "                '2013-09-10 00:00:00', '2013-09-10 00:30:00'],\n",
       "               dtype='datetime64[ns]', freq='30T'))"
      ]
     },
     "execution_count": 218,
     "metadata": {},
     "output_type": "execute_result"
    }
   ],
   "source": [
    "len(missing_dates), len(mac), missing_dates"
   ]
  },
  {
   "cell_type": "markdown",
   "metadata": {},
   "source": [
    "### Individual household associated"
   ]
  },
  {
   "cell_type": "markdown",
   "metadata": {},
   "source": [
    "Add these back in - here we just use previous and following values - but could use null or average\n",
    "\n",
    "TODO some columns need to be adjusted (eg sum)\n",
    "\n",
    "TODO check if these are missing from the entire dataset"
   ]
  },
  {
   "cell_type": "code",
   "execution_count": 219,
   "metadata": {},
   "outputs": [],
   "source": [
    "prev_row = mac.loc['2013-09-09 22:30:00']\n",
    "post_row = mac.loc['2013-09-10 01:00:00']"
   ]
  },
  {
   "cell_type": "markdown",
   "metadata": {},
   "source": [
    "As a quick hack we are just going to duplicate the prev row 2x and post row 2x to fill in the gaps"
   ]
  },
  {
   "cell_type": "code",
   "execution_count": 220,
   "metadata": {},
   "outputs": [],
   "source": [
    "# DatetimeIndex.insert(loc, item)[source]\n",
    "mac.loc[pd.to_datetime('2013-09-09 23:00:00')] = prev_row\n",
    "mac.loc[pd.to_datetime('2013-09-09 23:30:00')] = prev_row\n",
    "mac.loc[pd.to_datetime('2013-09-10 00:00:00')] = post_row\n",
    "mac.loc[pd.to_datetime('2013-09-10 00:30:00')] = post_row"
   ]
  },
  {
   "cell_type": "code",
   "execution_count": 221,
   "metadata": {},
   "outputs": [],
   "source": [
    "mac = mac.sort_index()"
   ]
  },
  {
   "cell_type": "code",
   "execution_count": 222,
   "metadata": {},
   "outputs": [
    {
     "name": "stdout",
     "output_type": "stream",
     "text": [
      "frac missing: 0.0, total: 38976, total days: 812.0\n"
     ]
    }
   ],
   "source": [
    "#double check missing dates were fixed\n",
    "missing_dates = ref_df.index[~ref_df.index.isin(mac.index)]\n",
    "\n",
    "print('frac missing: {0}, total: {1}, total days: {2}'.format(len(missing_dates)/len(mac), len(mac), len(mac)/48))"
   ]
  },
  {
   "cell_type": "code",
   "execution_count": 223,
   "metadata": {},
   "outputs": [
    {
     "name": "stdout",
     "output_type": "stream",
     "text": [
      "frac missing: 0.0, inv_missing_dates: DatetimeIndex([], dtype='datetime64[ns]', name='day_time', freq=None)\n"
     ]
    }
   ],
   "source": [
    "#check if more than necessary in data\n",
    "inv_missing_dates = mac.index[~mac.index.isin(ref_df.index)]\n",
    "print('frac missing: {0}, inv_missing_dates: {1}'.format(len(inv_missing_dates)/len(mac), inv_missing_dates))"
   ]
  },
  {
   "cell_type": "code",
   "execution_count": 224,
   "metadata": {},
   "outputs": [
    {
     "data": {
      "text/plain": [
       "(38976, 812.0, 38976, 812.0)"
      ]
     },
     "execution_count": 224,
     "metadata": {},
     "output_type": "execute_result"
    }
   ],
   "source": [
    "len(ref_df), len(ref_df)/48, len(mac), len(mac)/48"
   ]
  },
  {
   "cell_type": "code",
   "execution_count": 225,
   "metadata": {},
   "outputs": [],
   "source": [
    "import calendar"
   ]
  },
  {
   "cell_type": "code",
   "execution_count": 226,
   "metadata": {},
   "outputs": [
    {
     "data": {
      "text/plain": [
       "'Sunday'"
      ]
     },
     "execution_count": 226,
     "metadata": {},
     "output_type": "execute_result"
    }
   ],
   "source": [
    "calendar.day_name[mac['day'][0].weekday()]"
   ]
  },
  {
   "cell_type": "code",
   "execution_count": 227,
   "metadata": {},
   "outputs": [
    {
     "data": {
      "text/html": [
       "<div>\n",
       "<style scoped>\n",
       "    .dataframe tbody tr th:only-of-type {\n",
       "        vertical-align: middle;\n",
       "    }\n",
       "\n",
       "    .dataframe tbody tr th {\n",
       "        vertical-align: top;\n",
       "    }\n",
       "\n",
       "    .dataframe thead th {\n",
       "        text-align: right;\n",
       "    }\n",
       "</style>\n",
       "<table border=\"1\" class=\"dataframe\">\n",
       "  <thead>\n",
       "    <tr style=\"text-align: right;\">\n",
       "      <th></th>\n",
       "      <th>LCLid</th>\n",
       "      <th>energy(kWh/hh)</th>\n",
       "      <th>dayYear</th>\n",
       "      <th>dayMonth</th>\n",
       "      <th>dayWeek</th>\n",
       "      <th>dayDay</th>\n",
       "      <th>dayDayofweek</th>\n",
       "      <th>dayDayofyear</th>\n",
       "      <th>dayIs_month_end</th>\n",
       "      <th>dayIs_month_start</th>\n",
       "      <th>dayIs_quarter_end</th>\n",
       "      <th>dayIs_quarter_start</th>\n",
       "      <th>dayIs_year_end</th>\n",
       "      <th>dayIs_year_start</th>\n",
       "      <th>dayElapsed</th>\n",
       "      <th>delta_minutes</th>\n",
       "      <th>visibility</th>\n",
       "      <th>windBearing</th>\n",
       "      <th>temperature</th>\n",
       "      <th>dewPoint</th>\n",
       "      <th>pressure</th>\n",
       "      <th>apparentTemperature</th>\n",
       "      <th>windSpeed</th>\n",
       "      <th>precipType</th>\n",
       "      <th>humidity</th>\n",
       "      <th>summary</th>\n",
       "      <th>is_bank_holiday</th>\n",
       "      <th>Bank_holiday_Boxing_Day</th>\n",
       "      <th>Bank_holiday_Christmas_Day</th>\n",
       "      <th>Bank_holiday_Early_May_bank_holiday</th>\n",
       "      <th>Bank_holiday_Easter_Monday</th>\n",
       "      <th>Bank_holiday_Good_Friday</th>\n",
       "      <th>Bank_holiday_New_Years_Day</th>\n",
       "      <th>Bank_holiday_New_Years_Day_substitute_day</th>\n",
       "      <th>Bank_holiday_Queens_Diamond_Jubilee_extra_bank_holiday</th>\n",
       "      <th>Bank_holiday_Spring_bank_holiday</th>\n",
       "      <th>Bank_holiday_Spring_bank_holiday_substitute_day</th>\n",
       "      <th>Bank_holiday_Summer_bank_holiday</th>\n",
       "      <th>energy_csum</th>\n",
       "      <th>energy_week_rolling</th>\n",
       "      <th>energy_rolling_30</th>\n",
       "      <th>day</th>\n",
       "    </tr>\n",
       "    <tr>\n",
       "      <th>day_time</th>\n",
       "      <th></th>\n",
       "      <th></th>\n",
       "      <th></th>\n",
       "      <th></th>\n",
       "      <th></th>\n",
       "      <th></th>\n",
       "      <th></th>\n",
       "      <th></th>\n",
       "      <th></th>\n",
       "      <th></th>\n",
       "      <th></th>\n",
       "      <th></th>\n",
       "      <th></th>\n",
       "      <th></th>\n",
       "      <th></th>\n",
       "      <th></th>\n",
       "      <th></th>\n",
       "      <th></th>\n",
       "      <th></th>\n",
       "      <th></th>\n",
       "      <th></th>\n",
       "      <th></th>\n",
       "      <th></th>\n",
       "      <th></th>\n",
       "      <th></th>\n",
       "      <th></th>\n",
       "      <th></th>\n",
       "      <th></th>\n",
       "      <th></th>\n",
       "      <th></th>\n",
       "      <th></th>\n",
       "      <th></th>\n",
       "      <th></th>\n",
       "      <th></th>\n",
       "      <th></th>\n",
       "      <th></th>\n",
       "      <th></th>\n",
       "      <th></th>\n",
       "      <th></th>\n",
       "      <th></th>\n",
       "      <th></th>\n",
       "      <th></th>\n",
       "    </tr>\n",
       "  </thead>\n",
       "  <tbody>\n",
       "    <tr>\n",
       "      <th>2011-12-04 00:00:00</th>\n",
       "      <td>MAC000230</td>\n",
       "      <td>0.075</td>\n",
       "      <td>2011</td>\n",
       "      <td>12</td>\n",
       "      <td>48</td>\n",
       "      <td>4</td>\n",
       "      <td>6</td>\n",
       "      <td>338</td>\n",
       "      <td>False</td>\n",
       "      <td>False</td>\n",
       "      <td>False</td>\n",
       "      <td>False</td>\n",
       "      <td>False</td>\n",
       "      <td>False</td>\n",
       "      <td>1322956800</td>\n",
       "      <td>-450720</td>\n",
       "      <td>13.070</td>\n",
       "      <td>243.0</td>\n",
       "      <td>8.60</td>\n",
       "      <td>6.330</td>\n",
       "      <td>1003.92</td>\n",
       "      <td>6.130</td>\n",
       "      <td>4.310</td>\n",
       "      <td>rain</td>\n",
       "      <td>0.86</td>\n",
       "      <td>Mostly Cloudy</td>\n",
       "      <td>False</td>\n",
       "      <td>0</td>\n",
       "      <td>0</td>\n",
       "      <td>0</td>\n",
       "      <td>0</td>\n",
       "      <td>0</td>\n",
       "      <td>0</td>\n",
       "      <td>0</td>\n",
       "      <td>0</td>\n",
       "      <td>0</td>\n",
       "      <td>0</td>\n",
       "      <td>0</td>\n",
       "      <td>32.549</td>\n",
       "      <td>0.0690</td>\n",
       "      <td>0.427233</td>\n",
       "      <td>2011-12-04 00:00:00</td>\n",
       "    </tr>\n",
       "    <tr>\n",
       "      <th>2011-12-04 00:30:00</th>\n",
       "      <td>MAC000230</td>\n",
       "      <td>0.048</td>\n",
       "      <td>2011</td>\n",
       "      <td>12</td>\n",
       "      <td>48</td>\n",
       "      <td>4</td>\n",
       "      <td>6</td>\n",
       "      <td>338</td>\n",
       "      <td>False</td>\n",
       "      <td>False</td>\n",
       "      <td>False</td>\n",
       "      <td>False</td>\n",
       "      <td>False</td>\n",
       "      <td>False</td>\n",
       "      <td>1322956800</td>\n",
       "      <td>-450690</td>\n",
       "      <td>13.125</td>\n",
       "      <td>248.0</td>\n",
       "      <td>8.62</td>\n",
       "      <td>6.375</td>\n",
       "      <td>1003.81</td>\n",
       "      <td>6.185</td>\n",
       "      <td>4.255</td>\n",
       "      <td>rain</td>\n",
       "      <td>0.86</td>\n",
       "      <td>Mostly Cloudy</td>\n",
       "      <td>False</td>\n",
       "      <td>0</td>\n",
       "      <td>0</td>\n",
       "      <td>0</td>\n",
       "      <td>0</td>\n",
       "      <td>0</td>\n",
       "      <td>0</td>\n",
       "      <td>0</td>\n",
       "      <td>0</td>\n",
       "      <td>0</td>\n",
       "      <td>0</td>\n",
       "      <td>0</td>\n",
       "      <td>32.597</td>\n",
       "      <td>0.0615</td>\n",
       "      <td>0.420667</td>\n",
       "      <td>2011-12-04 00:30:00</td>\n",
       "    </tr>\n",
       "  </tbody>\n",
       "</table>\n",
       "</div>"
      ],
      "text/plain": [
       "                         LCLid  energy(kWh/hh)  dayYear  dayMonth  dayWeek  \\\n",
       "day_time                                                                     \n",
       "2011-12-04 00:00:00  MAC000230           0.075     2011        12       48   \n",
       "2011-12-04 00:30:00  MAC000230           0.048     2011        12       48   \n",
       "\n",
       "                     dayDay  dayDayofweek  dayDayofyear  dayIs_month_end  \\\n",
       "day_time                                                                   \n",
       "2011-12-04 00:00:00       4             6           338            False   \n",
       "2011-12-04 00:30:00       4             6           338            False   \n",
       "\n",
       "                     dayIs_month_start  dayIs_quarter_end  \\\n",
       "day_time                                                    \n",
       "2011-12-04 00:00:00              False              False   \n",
       "2011-12-04 00:30:00              False              False   \n",
       "\n",
       "                     dayIs_quarter_start  dayIs_year_end  dayIs_year_start  \\\n",
       "day_time                                                                     \n",
       "2011-12-04 00:00:00                False           False             False   \n",
       "2011-12-04 00:30:00                False           False             False   \n",
       "\n",
       "                     dayElapsed  delta_minutes  visibility  windBearing  \\\n",
       "day_time                                                                  \n",
       "2011-12-04 00:00:00  1322956800        -450720      13.070        243.0   \n",
       "2011-12-04 00:30:00  1322956800        -450690      13.125        248.0   \n",
       "\n",
       "                     temperature  dewPoint  pressure  apparentTemperature  \\\n",
       "day_time                                                                    \n",
       "2011-12-04 00:00:00         8.60     6.330   1003.92                6.130   \n",
       "2011-12-04 00:30:00         8.62     6.375   1003.81                6.185   \n",
       "\n",
       "                     windSpeed precipType  humidity        summary  \\\n",
       "day_time                                                             \n",
       "2011-12-04 00:00:00      4.310       rain      0.86  Mostly Cloudy   \n",
       "2011-12-04 00:30:00      4.255       rain      0.86  Mostly Cloudy   \n",
       "\n",
       "                     is_bank_holiday  Bank_holiday_Boxing_Day  \\\n",
       "day_time                                                        \n",
       "2011-12-04 00:00:00            False                        0   \n",
       "2011-12-04 00:30:00            False                        0   \n",
       "\n",
       "                     Bank_holiday_Christmas_Day  \\\n",
       "day_time                                          \n",
       "2011-12-04 00:00:00                           0   \n",
       "2011-12-04 00:30:00                           0   \n",
       "\n",
       "                     Bank_holiday_Early_May_bank_holiday  \\\n",
       "day_time                                                   \n",
       "2011-12-04 00:00:00                                    0   \n",
       "2011-12-04 00:30:00                                    0   \n",
       "\n",
       "                     Bank_holiday_Easter_Monday  Bank_holiday_Good_Friday  \\\n",
       "day_time                                                                    \n",
       "2011-12-04 00:00:00                           0                         0   \n",
       "2011-12-04 00:30:00                           0                         0   \n",
       "\n",
       "                     Bank_holiday_New_Years_Day  \\\n",
       "day_time                                          \n",
       "2011-12-04 00:00:00                           0   \n",
       "2011-12-04 00:30:00                           0   \n",
       "\n",
       "                     Bank_holiday_New_Years_Day_substitute_day  \\\n",
       "day_time                                                         \n",
       "2011-12-04 00:00:00                                          0   \n",
       "2011-12-04 00:30:00                                          0   \n",
       "\n",
       "                     Bank_holiday_Queens_Diamond_Jubilee_extra_bank_holiday  \\\n",
       "day_time                                                                      \n",
       "2011-12-04 00:00:00                                                  0        \n",
       "2011-12-04 00:30:00                                                  0        \n",
       "\n",
       "                     Bank_holiday_Spring_bank_holiday  \\\n",
       "day_time                                                \n",
       "2011-12-04 00:00:00                                 0   \n",
       "2011-12-04 00:30:00                                 0   \n",
       "\n",
       "                     Bank_holiday_Spring_bank_holiday_substitute_day  \\\n",
       "day_time                                                               \n",
       "2011-12-04 00:00:00                                                0   \n",
       "2011-12-04 00:30:00                                                0   \n",
       "\n",
       "                     Bank_holiday_Summer_bank_holiday  energy_csum  \\\n",
       "day_time                                                             \n",
       "2011-12-04 00:00:00                                 0       32.549   \n",
       "2011-12-04 00:30:00                                 0       32.597   \n",
       "\n",
       "                     energy_week_rolling  energy_rolling_30  \\\n",
       "day_time                                                      \n",
       "2011-12-04 00:00:00               0.0690           0.427233   \n",
       "2011-12-04 00:30:00               0.0615           0.420667   \n",
       "\n",
       "                                    day  \n",
       "day_time                                 \n",
       "2011-12-04 00:00:00 2011-12-04 00:00:00  \n",
       "2011-12-04 00:30:00 2011-12-04 00:30:00  "
      ]
     },
     "execution_count": 227,
     "metadata": {},
     "output_type": "execute_result"
    }
   ],
   "source": [
    "mac.head(n=2)"
   ]
  },
  {
   "cell_type": "code",
   "execution_count": 228,
   "metadata": {},
   "outputs": [
    {
     "data": {
      "text/html": [
       "<div>\n",
       "<style scoped>\n",
       "    .dataframe tbody tr th:only-of-type {\n",
       "        vertical-align: middle;\n",
       "    }\n",
       "\n",
       "    .dataframe tbody tr th {\n",
       "        vertical-align: top;\n",
       "    }\n",
       "\n",
       "    .dataframe thead th {\n",
       "        text-align: right;\n",
       "    }\n",
       "</style>\n",
       "<table border=\"1\" class=\"dataframe\">\n",
       "  <thead>\n",
       "    <tr style=\"text-align: right;\">\n",
       "      <th></th>\n",
       "      <th>LCLid</th>\n",
       "      <th>energy(kWh/hh)</th>\n",
       "      <th>dayYear</th>\n",
       "      <th>dayMonth</th>\n",
       "      <th>dayWeek</th>\n",
       "      <th>dayDay</th>\n",
       "      <th>dayDayofweek</th>\n",
       "      <th>dayDayofyear</th>\n",
       "      <th>dayIs_month_end</th>\n",
       "      <th>dayIs_month_start</th>\n",
       "      <th>dayIs_quarter_end</th>\n",
       "      <th>dayIs_quarter_start</th>\n",
       "      <th>dayIs_year_end</th>\n",
       "      <th>dayIs_year_start</th>\n",
       "      <th>dayElapsed</th>\n",
       "      <th>delta_minutes</th>\n",
       "      <th>visibility</th>\n",
       "      <th>windBearing</th>\n",
       "      <th>temperature</th>\n",
       "      <th>dewPoint</th>\n",
       "      <th>pressure</th>\n",
       "      <th>apparentTemperature</th>\n",
       "      <th>windSpeed</th>\n",
       "      <th>precipType</th>\n",
       "      <th>humidity</th>\n",
       "      <th>summary</th>\n",
       "      <th>is_bank_holiday</th>\n",
       "      <th>Bank_holiday_Boxing_Day</th>\n",
       "      <th>Bank_holiday_Christmas_Day</th>\n",
       "      <th>Bank_holiday_Early_May_bank_holiday</th>\n",
       "      <th>Bank_holiday_Easter_Monday</th>\n",
       "      <th>Bank_holiday_Good_Friday</th>\n",
       "      <th>Bank_holiday_New_Years_Day</th>\n",
       "      <th>Bank_holiday_New_Years_Day_substitute_day</th>\n",
       "      <th>Bank_holiday_Queens_Diamond_Jubilee_extra_bank_holiday</th>\n",
       "      <th>Bank_holiday_Spring_bank_holiday</th>\n",
       "      <th>Bank_holiday_Spring_bank_holiday_substitute_day</th>\n",
       "      <th>Bank_holiday_Summer_bank_holiday</th>\n",
       "      <th>energy_csum</th>\n",
       "      <th>energy_week_rolling</th>\n",
       "      <th>energy_rolling_30</th>\n",
       "      <th>day</th>\n",
       "    </tr>\n",
       "    <tr>\n",
       "      <th>day_time</th>\n",
       "      <th></th>\n",
       "      <th></th>\n",
       "      <th></th>\n",
       "      <th></th>\n",
       "      <th></th>\n",
       "      <th></th>\n",
       "      <th></th>\n",
       "      <th></th>\n",
       "      <th></th>\n",
       "      <th></th>\n",
       "      <th></th>\n",
       "      <th></th>\n",
       "      <th></th>\n",
       "      <th></th>\n",
       "      <th></th>\n",
       "      <th></th>\n",
       "      <th></th>\n",
       "      <th></th>\n",
       "      <th></th>\n",
       "      <th></th>\n",
       "      <th></th>\n",
       "      <th></th>\n",
       "      <th></th>\n",
       "      <th></th>\n",
       "      <th></th>\n",
       "      <th></th>\n",
       "      <th></th>\n",
       "      <th></th>\n",
       "      <th></th>\n",
       "      <th></th>\n",
       "      <th></th>\n",
       "      <th></th>\n",
       "      <th></th>\n",
       "      <th></th>\n",
       "      <th></th>\n",
       "      <th></th>\n",
       "      <th></th>\n",
       "      <th></th>\n",
       "      <th></th>\n",
       "      <th></th>\n",
       "      <th></th>\n",
       "      <th></th>\n",
       "    </tr>\n",
       "  </thead>\n",
       "  <tbody>\n",
       "    <tr>\n",
       "      <th>2014-02-22 23:30:00</th>\n",
       "      <td>MAC000230</td>\n",
       "      <td>0.079</td>\n",
       "      <td>2014</td>\n",
       "      <td>2</td>\n",
       "      <td>8</td>\n",
       "      <td>22</td>\n",
       "      <td>5</td>\n",
       "      <td>53</td>\n",
       "      <td>False</td>\n",
       "      <td>False</td>\n",
       "      <td>False</td>\n",
       "      <td>False</td>\n",
       "      <td>False</td>\n",
       "      <td>False</td>\n",
       "      <td>1393027200</td>\n",
       "      <td>718530</td>\n",
       "      <td>13.195</td>\n",
       "      <td>225.5</td>\n",
       "      <td>5.905</td>\n",
       "      <td>2.21</td>\n",
       "      <td>1002.84</td>\n",
       "      <td>2.125</td>\n",
       "      <td>5.755</td>\n",
       "      <td>rain</td>\n",
       "      <td>0.77</td>\n",
       "      <td>Clear</td>\n",
       "      <td>False</td>\n",
       "      <td>0</td>\n",
       "      <td>0</td>\n",
       "      <td>0</td>\n",
       "      <td>0</td>\n",
       "      <td>0</td>\n",
       "      <td>0</td>\n",
       "      <td>0</td>\n",
       "      <td>0</td>\n",
       "      <td>0</td>\n",
       "      <td>0</td>\n",
       "      <td>0</td>\n",
       "      <td>8854.124</td>\n",
       "      <td>0.2955</td>\n",
       "      <td>0.488233</td>\n",
       "      <td>2014-02-22 23:30:00</td>\n",
       "    </tr>\n",
       "  </tbody>\n",
       "</table>\n",
       "</div>"
      ],
      "text/plain": [
       "                         LCLid  energy(kWh/hh)  dayYear  dayMonth  dayWeek  \\\n",
       "day_time                                                                     \n",
       "2014-02-22 23:30:00  MAC000230           0.079     2014         2        8   \n",
       "\n",
       "                     dayDay  dayDayofweek  dayDayofyear  dayIs_month_end  \\\n",
       "day_time                                                                   \n",
       "2014-02-22 23:30:00      22             5            53            False   \n",
       "\n",
       "                     dayIs_month_start  dayIs_quarter_end  \\\n",
       "day_time                                                    \n",
       "2014-02-22 23:30:00              False              False   \n",
       "\n",
       "                     dayIs_quarter_start  dayIs_year_end  dayIs_year_start  \\\n",
       "day_time                                                                     \n",
       "2014-02-22 23:30:00                False           False             False   \n",
       "\n",
       "                     dayElapsed  delta_minutes  visibility  windBearing  \\\n",
       "day_time                                                                  \n",
       "2014-02-22 23:30:00  1393027200         718530      13.195        225.5   \n",
       "\n",
       "                     temperature  dewPoint  pressure  apparentTemperature  \\\n",
       "day_time                                                                    \n",
       "2014-02-22 23:30:00        5.905      2.21   1002.84                2.125   \n",
       "\n",
       "                     windSpeed precipType  humidity summary  is_bank_holiday  \\\n",
       "day_time                                                                       \n",
       "2014-02-22 23:30:00      5.755       rain      0.77   Clear            False   \n",
       "\n",
       "                     Bank_holiday_Boxing_Day  Bank_holiday_Christmas_Day  \\\n",
       "day_time                                                                   \n",
       "2014-02-22 23:30:00                        0                           0   \n",
       "\n",
       "                     Bank_holiday_Early_May_bank_holiday  \\\n",
       "day_time                                                   \n",
       "2014-02-22 23:30:00                                    0   \n",
       "\n",
       "                     Bank_holiday_Easter_Monday  Bank_holiday_Good_Friday  \\\n",
       "day_time                                                                    \n",
       "2014-02-22 23:30:00                           0                         0   \n",
       "\n",
       "                     Bank_holiday_New_Years_Day  \\\n",
       "day_time                                          \n",
       "2014-02-22 23:30:00                           0   \n",
       "\n",
       "                     Bank_holiday_New_Years_Day_substitute_day  \\\n",
       "day_time                                                         \n",
       "2014-02-22 23:30:00                                          0   \n",
       "\n",
       "                     Bank_holiday_Queens_Diamond_Jubilee_extra_bank_holiday  \\\n",
       "day_time                                                                      \n",
       "2014-02-22 23:30:00                                                  0        \n",
       "\n",
       "                     Bank_holiday_Spring_bank_holiday  \\\n",
       "day_time                                                \n",
       "2014-02-22 23:30:00                                 0   \n",
       "\n",
       "                     Bank_holiday_Spring_bank_holiday_substitute_day  \\\n",
       "day_time                                                               \n",
       "2014-02-22 23:30:00                                                0   \n",
       "\n",
       "                     Bank_holiday_Summer_bank_holiday  energy_csum  \\\n",
       "day_time                                                             \n",
       "2014-02-22 23:30:00                                 0     8854.124   \n",
       "\n",
       "                     energy_week_rolling  energy_rolling_30  \\\n",
       "day_time                                                      \n",
       "2014-02-22 23:30:00               0.2955           0.488233   \n",
       "\n",
       "                                    day  \n",
       "day_time                                 \n",
       "2014-02-22 23:30:00 2014-02-22 23:30:00  "
      ]
     },
     "execution_count": 228,
     "metadata": {},
     "output_type": "execute_result"
    }
   ],
   "source": [
    "mac.tail(n=1)"
   ]
  },
  {
   "cell_type": "markdown",
   "metadata": {},
   "source": [
    "Lets looks at weekly energy use"
   ]
  },
  {
   "cell_type": "code",
   "execution_count": 230,
   "metadata": {},
   "outputs": [],
   "source": [
    "weeks = mac.groupby(pd.Grouper(freq='W', key='day'))['energy(kWh/hh)'].agg(['max','last', 'mean'])"
   ]
  },
  {
   "cell_type": "code",
   "execution_count": 231,
   "metadata": {},
   "outputs": [
    {
     "data": {
      "text/html": [
       "<div>\n",
       "<style scoped>\n",
       "    .dataframe tbody tr th:only-of-type {\n",
       "        vertical-align: middle;\n",
       "    }\n",
       "\n",
       "    .dataframe tbody tr th {\n",
       "        vertical-align: top;\n",
       "    }\n",
       "\n",
       "    .dataframe thead th {\n",
       "        text-align: right;\n",
       "    }\n",
       "</style>\n",
       "<table border=\"1\" class=\"dataframe\">\n",
       "  <thead>\n",
       "    <tr style=\"text-align: right;\">\n",
       "      <th></th>\n",
       "      <th>max</th>\n",
       "      <th>last</th>\n",
       "      <th>mean</th>\n",
       "    </tr>\n",
       "    <tr>\n",
       "      <th>day</th>\n",
       "      <th></th>\n",
       "      <th></th>\n",
       "      <th></th>\n",
       "    </tr>\n",
       "  </thead>\n",
       "  <tbody>\n",
       "    <tr>\n",
       "      <th>2014-01-26</th>\n",
       "      <td>1.807</td>\n",
       "      <td>0.284</td>\n",
       "      <td>0.224595</td>\n",
       "    </tr>\n",
       "    <tr>\n",
       "      <th>2014-02-02</th>\n",
       "      <td>2.234</td>\n",
       "      <td>0.126</td>\n",
       "      <td>0.247518</td>\n",
       "    </tr>\n",
       "    <tr>\n",
       "      <th>2014-02-09</th>\n",
       "      <td>1.868</td>\n",
       "      <td>0.092</td>\n",
       "      <td>0.231202</td>\n",
       "    </tr>\n",
       "    <tr>\n",
       "      <th>2014-02-16</th>\n",
       "      <td>1.364</td>\n",
       "      <td>0.066</td>\n",
       "      <td>0.201265</td>\n",
       "    </tr>\n",
       "    <tr>\n",
       "      <th>2014-02-23</th>\n",
       "      <td>1.738</td>\n",
       "      <td>0.079</td>\n",
       "      <td>0.281701</td>\n",
       "    </tr>\n",
       "  </tbody>\n",
       "</table>\n",
       "</div>"
      ],
      "text/plain": [
       "              max   last      mean\n",
       "day                               \n",
       "2014-01-26  1.807  0.284  0.224595\n",
       "2014-02-02  2.234  0.126  0.247518\n",
       "2014-02-09  1.868  0.092  0.231202\n",
       "2014-02-16  1.364  0.066  0.201265\n",
       "2014-02-23  1.738  0.079  0.281701"
      ]
     },
     "execution_count": 231,
     "metadata": {},
     "output_type": "execute_result"
    }
   ],
   "source": [
    "weeks.tail()"
   ]
  },
  {
   "cell_type": "markdown",
   "metadata": {},
   "source": [
    "### Create Forecast"
   ]
  },
  {
   "cell_type": "code",
   "execution_count": 255,
   "metadata": {},
   "outputs": [],
   "source": [
    "# split a univariate dataset into train/test sets\n",
    "def split_dataset(data):\n",
    "    # split into weeks \n",
    "    #use last 8 weeks for test (enough for validation and test)\n",
    "    week_hh = 7*24*2\n",
    "    test_days = 8*week_hh\n",
    "    train, test = data[:-(test_days)], data[test_days:]\n",
    "    print('train: {0}, split weeks: {1}'.format(len(train), len(train)/week_hh))\n",
    "    print('test: {0}, split weeks: {1}'.format(len(test), len(test)/week_hh))\n",
    "    # restructure into windows of weekly data\n",
    "    train = array(split(train, len(train)/week_hh))\n",
    "    test = array(split(test, len(test)/week_hh))\n",
    "    return train, test"
   ]
  },
  {
   "cell_type": "code",
   "execution_count": 240,
   "metadata": {},
   "outputs": [],
   "source": [
    "# evaluate one or more weekly forecasts against expected values\n",
    "def evaluate_forecasts(actual, predicted):\n",
    "    scores = list()\n",
    "    # calculate an RMSE score for each day\n",
    "    for i in range(actual.shape[1]):\n",
    "        # calculate mse\n",
    "        mse = mean_squared_error(actual[:, i], predicted[:, i])\n",
    "        # calculate rmse\n",
    "        rmse = sqrt(mse)\n",
    "        # store\n",
    "        scores.append(rmse)\n",
    "    # calculate overall RMSE\n",
    "    s = 0\n",
    "    for row in range(actual.shape[0]):\n",
    "        for col in range(actual.shape[1]):\n",
    "            s += (actual[row, col] - predicted[row, col])**2\n",
    "    score = sqrt(s / (actual.shape[0] * actual.shape[1]))\n",
    "    return score, scores"
   ]
  },
  {
   "cell_type": "code",
   "execution_count": 281,
   "metadata": {},
   "outputs": [],
   "source": [
    "# summarize scores\n",
    "def summarize_scores(name, score, scores):\n",
    "    s_scores = ', '.join(['%.1f' % s for s in scores])\n",
    "    print('%s: [%.3f] %s' % (name, score, s_scores))\n",
    " \n",
    "# evaluate a single model\n",
    "def evaluate_model(model_func, train, test):\n",
    "    # history is a list of weekly data\n",
    "    history = [x for x in train]\n",
    "    # walk-forward validation over each week\n",
    "    #print('history[0]: {0}'.format(history[0]))\n",
    "    predictions = list()\n",
    "    for i in range(len(test)):\n",
    "        # predict the week\n",
    "        yhat_sequence = model_func(history)\n",
    "        # store the predictions\n",
    "        predictions.append(yhat_sequence)\n",
    "        # get real observation and add to history for predicting the next week\n",
    "        history.append(test[i, :])\n",
    "    predictions = array(predictions)\n",
    "    # evaluate predictions days for each week\n",
    "    score, scores = evaluate_forecasts(test[:, :, 0], predictions)\n",
    "    return score, scores"
   ]
  },
  {
   "cell_type": "code",
   "execution_count": 282,
   "metadata": {},
   "outputs": [],
   "source": [
    "# daily persistence model\n",
    "def daily_persistence(history):\n",
    "    # get the data for the prior week\n",
    "    #print('len(history): {0}'.format(len(history)))\n",
    "    last_week = history[-1]\n",
    "    #print('last_week.shape: {0}'.format(last_week.shape))\n",
    "    #print('first_week.shape: {0}'.format(history[0].shape))\n",
    "    # get the total active power for the last day\n",
    "    value = last_week[-1, 0]\n",
    "    # prepare 7 day forecast\n",
    "    forecast = [value for _ in range(7)]\n",
    "    return forecast\n",
    " \n",
    "# weekly persistence model\n",
    "def weekly_persistence(history):\n",
    "    # get the data for the prior week\n",
    "    last_week = history[-1]\n",
    "    return last_week[:, 0]\n",
    " \n",
    "# week one year ago persistence model\n",
    "def week_one_year_ago_persistence(history):\n",
    "    # get the data for the prior week\n",
    "    last_week = history[-52]\n",
    "    return last_week[:, 0]"
   ]
  },
  {
   "cell_type": "code",
   "execution_count": 283,
   "metadata": {},
   "outputs": [],
   "source": [
    "mac_df =  mac[['energy(kWh/hh)', 'temperature', 'humidity']]"
   ]
  },
  {
   "cell_type": "code",
   "execution_count": 284,
   "metadata": {},
   "outputs": [
    {
     "name": "stdout",
     "output_type": "stream",
     "text": [
      "train: 36288, split weeks: 108.0\n",
      "test: 36288, split weeks: 108.0\n"
     ]
    }
   ],
   "source": [
    "# split into train and test\n",
    "train, test = split_dataset(mac_df.values)"
   ]
  },
  {
   "cell_type": "code",
   "execution_count": 285,
   "metadata": {},
   "outputs": [
    {
     "data": {
      "text/plain": [
       "array([[0.075, 8.6  , 0.86 ],\n",
       "       [0.048, 8.62 , 0.86 ],\n",
       "       [0.056, 8.64 , 0.86 ],\n",
       "       [0.04 , 8.635, 0.86 ],\n",
       "       [0.058, 8.63 , 0.86 ],\n",
       "       [0.041, 8.595, 0.85 ]])"
      ]
     },
     "execution_count": 285,
     "metadata": {},
     "output_type": "execute_result"
    }
   ],
   "source": [
    "train[0][:6]"
   ]
  },
  {
   "cell_type": "code",
   "execution_count": 286,
   "metadata": {},
   "outputs": [],
   "source": [
    "# define the names and functions for the models we wish to evaluate\n",
    "models = dict()\n",
    "models['daily'] = daily_persistence\n",
    "models['weekly'] = weekly_persistence\n",
    "models['week-one_year_ago'] = week_one_year_ago_persistence"
   ]
  },
  {
   "cell_type": "code",
   "execution_count": 287,
   "metadata": {},
   "outputs": [
    {
     "data": {
      "text/plain": [
       "function"
      ]
     },
     "execution_count": 287,
     "metadata": {},
     "output_type": "execute_result"
    }
   ],
   "source": [
    "type(models['daily'])"
   ]
  },
  {
   "cell_type": "code",
   "execution_count": 288,
   "metadata": {},
   "outputs": [
    {
     "ename": "IndexError",
     "evalue": "index 7 is out of bounds for axis 1 with size 7",
     "output_type": "error",
     "traceback": [
      "\u001b[0;31m---------------------------------------------------------------------------\u001b[0m",
      "\u001b[0;31mIndexError\u001b[0m                                Traceback (most recent call last)",
      "\u001b[0;32m<ipython-input-288-d4b85f990bf1>\u001b[0m in \u001b[0;36m<module>\u001b[0;34m()\u001b[0m\n\u001b[1;32m      3\u001b[0m \u001b[0;32mfor\u001b[0m \u001b[0mname\u001b[0m\u001b[0;34m,\u001b[0m \u001b[0mfunc\u001b[0m \u001b[0;32min\u001b[0m \u001b[0mmodels\u001b[0m\u001b[0;34m.\u001b[0m\u001b[0mitems\u001b[0m\u001b[0;34m(\u001b[0m\u001b[0;34m)\u001b[0m\u001b[0;34m:\u001b[0m\u001b[0;34m\u001b[0m\u001b[0m\n\u001b[1;32m      4\u001b[0m     \u001b[0;31m# evaluate and get scores\u001b[0m\u001b[0;34m\u001b[0m\u001b[0;34m\u001b[0m\u001b[0m\n\u001b[0;32m----> 5\u001b[0;31m     \u001b[0mscore\u001b[0m\u001b[0;34m,\u001b[0m \u001b[0mscores\u001b[0m \u001b[0;34m=\u001b[0m \u001b[0mevaluate_model\u001b[0m\u001b[0;34m(\u001b[0m\u001b[0mfunc\u001b[0m\u001b[0;34m,\u001b[0m \u001b[0mtrain\u001b[0m\u001b[0;34m,\u001b[0m \u001b[0mtest\u001b[0m\u001b[0;34m)\u001b[0m\u001b[0;34m\u001b[0m\u001b[0m\n\u001b[0m\u001b[1;32m      6\u001b[0m     \u001b[0;31m# summarize scores\u001b[0m\u001b[0;34m\u001b[0m\u001b[0;34m\u001b[0m\u001b[0m\n\u001b[1;32m      7\u001b[0m     \u001b[0msummarize_scores\u001b[0m\u001b[0;34m(\u001b[0m\u001b[0mname\u001b[0m\u001b[0;34m,\u001b[0m \u001b[0mscore\u001b[0m\u001b[0;34m,\u001b[0m \u001b[0mscores\u001b[0m\u001b[0;34m)\u001b[0m\u001b[0;34m\u001b[0m\u001b[0m\n",
      "\u001b[0;32m<ipython-input-281-665728f8d871>\u001b[0m in \u001b[0;36mevaluate_model\u001b[0;34m(model_func, train, test)\u001b[0m\n\u001b[1;32m     20\u001b[0m     \u001b[0mpredictions\u001b[0m \u001b[0;34m=\u001b[0m \u001b[0marray\u001b[0m\u001b[0;34m(\u001b[0m\u001b[0mpredictions\u001b[0m\u001b[0;34m)\u001b[0m\u001b[0;34m\u001b[0m\u001b[0m\n\u001b[1;32m     21\u001b[0m     \u001b[0;31m# evaluate predictions days for each week\u001b[0m\u001b[0;34m\u001b[0m\u001b[0;34m\u001b[0m\u001b[0m\n\u001b[0;32m---> 22\u001b[0;31m     \u001b[0mscore\u001b[0m\u001b[0;34m,\u001b[0m \u001b[0mscores\u001b[0m \u001b[0;34m=\u001b[0m \u001b[0mevaluate_forecasts\u001b[0m\u001b[0;34m(\u001b[0m\u001b[0mtest\u001b[0m\u001b[0;34m[\u001b[0m\u001b[0;34m:\u001b[0m\u001b[0;34m,\u001b[0m \u001b[0;34m:\u001b[0m\u001b[0;34m,\u001b[0m \u001b[0;36m0\u001b[0m\u001b[0;34m]\u001b[0m\u001b[0;34m,\u001b[0m \u001b[0mpredictions\u001b[0m\u001b[0;34m)\u001b[0m\u001b[0;34m\u001b[0m\u001b[0m\n\u001b[0m\u001b[1;32m     23\u001b[0m     \u001b[0;32mreturn\u001b[0m \u001b[0mscore\u001b[0m\u001b[0;34m,\u001b[0m \u001b[0mscores\u001b[0m\u001b[0;34m\u001b[0m\u001b[0m\n",
      "\u001b[0;32m<ipython-input-240-3ffb8b473397>\u001b[0m in \u001b[0;36mevaluate_forecasts\u001b[0;34m(actual, predicted)\u001b[0m\n\u001b[1;32m      5\u001b[0m     \u001b[0;32mfor\u001b[0m \u001b[0mi\u001b[0m \u001b[0;32min\u001b[0m \u001b[0mrange\u001b[0m\u001b[0;34m(\u001b[0m\u001b[0mactual\u001b[0m\u001b[0;34m.\u001b[0m\u001b[0mshape\u001b[0m\u001b[0;34m[\u001b[0m\u001b[0;36m1\u001b[0m\u001b[0;34m]\u001b[0m\u001b[0;34m)\u001b[0m\u001b[0;34m:\u001b[0m\u001b[0;34m\u001b[0m\u001b[0m\n\u001b[1;32m      6\u001b[0m         \u001b[0;31m# calculate mse\u001b[0m\u001b[0;34m\u001b[0m\u001b[0;34m\u001b[0m\u001b[0m\n\u001b[0;32m----> 7\u001b[0;31m         \u001b[0mmse\u001b[0m \u001b[0;34m=\u001b[0m \u001b[0mmean_squared_error\u001b[0m\u001b[0;34m(\u001b[0m\u001b[0mactual\u001b[0m\u001b[0;34m[\u001b[0m\u001b[0;34m:\u001b[0m\u001b[0;34m,\u001b[0m \u001b[0mi\u001b[0m\u001b[0;34m]\u001b[0m\u001b[0;34m,\u001b[0m \u001b[0mpredicted\u001b[0m\u001b[0;34m[\u001b[0m\u001b[0;34m:\u001b[0m\u001b[0;34m,\u001b[0m \u001b[0mi\u001b[0m\u001b[0;34m]\u001b[0m\u001b[0;34m)\u001b[0m\u001b[0;34m\u001b[0m\u001b[0m\n\u001b[0m\u001b[1;32m      8\u001b[0m         \u001b[0;31m# calculate rmse\u001b[0m\u001b[0;34m\u001b[0m\u001b[0;34m\u001b[0m\u001b[0m\n\u001b[1;32m      9\u001b[0m         \u001b[0mrmse\u001b[0m \u001b[0;34m=\u001b[0m \u001b[0msqrt\u001b[0m\u001b[0;34m(\u001b[0m\u001b[0mmse\u001b[0m\u001b[0;34m)\u001b[0m\u001b[0;34m\u001b[0m\u001b[0m\n",
      "\u001b[0;31mIndexError\u001b[0m: index 7 is out of bounds for axis 1 with size 7"
     ]
    }
   ],
   "source": [
    "# evaluate each model\n",
    "days = ['sun', 'mon', 'tue', 'wed', 'thr', 'fri', 'sat']\n",
    "for name, func in models.items():\n",
    "    # evaluate and get scores\n",
    "    score, scores = evaluate_model(func, train, test)\n",
    "    # summarize scores\n",
    "    summarize_scores(name, score, scores)\n",
    "    # plot scores\n",
    "    pyplot.scatter(days, scores, marker='o', label=name)\n",
    "# show plot\n",
    "pyplot.legend()\n",
    "pyplot.show()"
   ]
  },
  {
   "cell_type": "code",
   "execution_count": null,
   "metadata": {},
   "outputs": [],
   "source": []
  },
  {
   "cell_type": "code",
   "execution_count": null,
   "metadata": {},
   "outputs": [],
   "source": []
  }
 ],
 "metadata": {
  "kernelspec": {
   "display_name": "Python 3",
   "language": "python",
   "name": "python3"
  },
  "language_info": {
   "codemirror_mode": {
    "name": "ipython",
    "version": 3
   },
   "file_extension": ".py",
   "mimetype": "text/x-python",
   "name": "python",
   "nbconvert_exporter": "python",
   "pygments_lexer": "ipython3",
   "version": "3.5.2"
  }
 },
 "nbformat": 4,
 "nbformat_minor": 2
}
